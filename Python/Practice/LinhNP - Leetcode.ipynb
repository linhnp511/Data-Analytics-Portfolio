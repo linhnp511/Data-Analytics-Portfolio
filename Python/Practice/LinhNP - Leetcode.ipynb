{
 "cells": [
  {
   "cell_type": "markdown",
   "id": "a1e7d932",
   "metadata": {},
   "source": [
    "# 1. Two Sum\n",
    "Given an array of integers nums and an integer target, return indices of the two numbers such that they add up to target.\n",
    "\n",
    "You may assume that each input would have exactly one solution, and you may not use the same element twice.\n",
    "\n",
    "You can return the answer in any order.\n",
    "\n",
    "Example 1:\n",
    "\n",
    "Input: nums = [2,7,11,15], target = 9\n",
    "\n",
    "Output: [0,1]\n",
    "\n",
    "Explanation: Because nums[0] + nums[1] == 9, we return [0, 1]."
   ]
  },
  {
   "cell_type": "code",
   "execution_count": 84,
   "id": "c6e1cb4f",
   "metadata": {},
   "outputs": [
    {
     "data": {
      "text/plain": [
       "(0, 1)"
      ]
     },
     "execution_count": 84,
     "metadata": {},
     "output_type": "execute_result"
    }
   ],
   "source": [
    "# O(n2)\n",
    "\n",
    "nums = [2,7,11,15]\n",
    "target=9\n",
    "\n",
    "def two_sum(nums, target):\n",
    "    for i in range(len(nums)-1):\n",
    "        for j in range(i+1,len(nums)):\n",
    "            if nums[i]+nums[j]== target:\n",
    "                return (i,j)\n",
    "two_sum(nums, target)"
   ]
  },
  {
   "cell_type": "markdown",
   "id": "194a62cf",
   "metadata": {},
   "source": [
    "# 9. Palindrome Number\n",
    "Given an integer x, return true if x is a palindrome, and false otherwise.\n",
    "\n",
    "Example 1:\n",
    "\n",
    "Input: x = 121\n",
    "\n",
    "Output: true\n",
    "\n",
    "Explanation: 121 reads as 121 from left to right and from right to left."
   ]
  },
  {
   "cell_type": "code",
   "execution_count": 22,
   "id": "b68a035a",
   "metadata": {},
   "outputs": [],
   "source": [
    "import math"
   ]
  },
  {
   "cell_type": "code",
   "execution_count": 31,
   "id": "01cb9439",
   "metadata": {},
   "outputs": [
    {
     "data": {
      "text/plain": [
       "[1, 9, 2, 0, 0, 0]"
      ]
     },
     "execution_count": 31,
     "metadata": {},
     "output_type": "execute_result"
    }
   ],
   "source": [
    "def to_digit(n):\n",
    "    digit_list = []\n",
    "    while n>10:\n",
    "        digit_list.append(n%10)\n",
    "        n = n//10\n",
    "    else:\n",
    "        digit_list.append(n)\n",
    "    return digit_list[::-1]\n",
    "\n",
    "to_digit(192000) #test"
   ]
  },
  {
   "cell_type": "code",
   "execution_count": 37,
   "id": "9f7c6548",
   "metadata": {},
   "outputs": [
    {
     "name": "stdout",
     "output_type": "stream",
     "text": [
      "[1, 2, 3, 5, 3, 2, 1]\n"
     ]
    },
    {
     "data": {
      "text/plain": [
       "True"
      ]
     },
     "execution_count": 37,
     "metadata": {},
     "output_type": "execute_result"
    }
   ],
   "source": [
    "def is_palindrome(n):\n",
    "    digit_list = to_digit(n)\n",
    "    print(digit_list)\n",
    "    for i in range(0,math.floor(len(digit_list)/2)):\n",
    "        if digit_list[i] != digit_list[(len(digit_list)-1-i)]:\n",
    "            return False\n",
    "            break\n",
    "        return True\n",
    "            \n",
    "is_palindrome(1235321)    "
   ]
  },
  {
   "cell_type": "markdown",
   "id": "dd81f238",
   "metadata": {},
   "source": [
    "# 13. Roman to Integer\n",
    "Roman numerals are represented by seven different symbols: I, V, X, L, C, D and M.\n",
    "\n",
    "Symbol,Value: \n",
    "I=1\n",
    "\n",
    "V=5\n",
    "\n",
    "X=10\n",
    "\n",
    "L=50\n",
    "\n",
    "C=100\n",
    "\n",
    "D=500\n",
    "\n",
    "M=1000\n",
    "\n",
    "For example, 2 is written as II in Roman numeral, just two ones added together. 12 is written as XII, which is simply X + II. The number 27 is written as XXVII, which is XX + V + II.\n",
    "\n",
    "Roman numerals are usually written largest to smallest from left to right. However, the numeral for four is not IIII. Instead, the number four is written as IV. Because the one is before the five we subtract it making four. The same principle applies to the number nine, which is written as IX. There are six instances where subtraction is used:\n",
    "\n",
    "I can be placed before V (5) and X (10) to make 4 and 9. \n",
    "\n",
    "X can be placed before L (50) and C (100) to make 40 and 90. \n",
    "\n",
    "C can be placed before D (500) and M (1000) to make 400 and 900.\n",
    "\n",
    "Given a roman numeral, convert it to an integer.\n"
   ]
  },
  {
   "cell_type": "code",
   "execution_count": 41,
   "id": "e1458ea5",
   "metadata": {},
   "outputs": [
    {
     "data": {
      "text/plain": [
       "['X', 'V', 'I', 'I']"
      ]
     },
     "execution_count": 41,
     "metadata": {},
     "output_type": "execute_result"
    }
   ],
   "source": [
    "def to_letter(roman_number):\n",
    "    letter_list = []\n",
    "    for i in range(len(roman_number)):\n",
    "        letter_list.append(roman_number[i])\n",
    "    return letter_list\n",
    "    \n",
    "to_letter('XVII') #test"
   ]
  },
  {
   "cell_type": "code",
   "execution_count": 65,
   "id": "fcf9b120",
   "metadata": {},
   "outputs": [
    {
     "data": {
      "text/plain": [
       "31"
      ]
     },
     "execution_count": 65,
     "metadata": {},
     "output_type": "execute_result"
    }
   ],
   "source": [
    "roman_dict = {\n",
    "    'I': 1,\n",
    "    'V': 5,\n",
    "    'X': 10,\n",
    "    'L': 50,\n",
    "    'C': 100,\n",
    "    'D': 500,\n",
    "    'M': 1000\n",
    "}\n",
    "\n",
    "def roman_to_int(n):\n",
    "    sum = 0\n",
    "    letters = to_letter(n)\n",
    "    for i in range(len(letters)-1):\n",
    "        if roman_dict[letters[i]] >= roman_dict[letters[i+1]]:\n",
    "            sum += roman_dict[letters[i]]\n",
    "        else:\n",
    "            sum -= roman_dict[letters[i]]\n",
    "    sum += roman_dict[letters[i+1]]\n",
    "    return sum\n",
    "                \n",
    "roman_to_int('XXXI')"
   ]
  },
  {
   "cell_type": "markdown",
   "id": "1ec8e599",
   "metadata": {},
   "source": [
    "# 14. Longest Common Prefix\n",
    "Write a function to find the longest common prefix string amongst an array of strings.\n",
    "\n",
    "If there is no common prefix, return an empty string \"\".\n",
    "\n",
    "Example 1:\n",
    "\n",
    "Input: strs = [\"flower\",\"flow\",\"flight\"]\n",
    "Output: \"fl\"\n",
    "\n",
    "Example 2:\n",
    "\n",
    "Input: strs = [\"dog\",\"racecar\",\"car\"]\n",
    "Output: \"\"\n",
    "Explanation: There is no common prefix among the input strings.\n"
   ]
  },
  {
   "cell_type": "code",
   "execution_count": 17,
   "id": "10a00c7a",
   "metadata": {},
   "outputs": [
    {
     "data": {
      "text/plain": [
       "['f', 'l']"
      ]
     },
     "execution_count": 17,
     "metadata": {},
     "output_type": "execute_result"
    }
   ],
   "source": [
    "strs = ['flower','flow','flight']\n",
    "\n",
    "def longestPrefix(strs):\n",
    "    pref = []\n",
    "    for i in range(len(strs[0])):\n",
    "        for j in range(1, len(strs)):\n",
    "            if strs[0][i] != strs[j][i]:\n",
    "                return pref\n",
    "        pref += strs[0][i]\n",
    "\n",
    "longestPrefix(strs)"
   ]
  },
  {
   "cell_type": "markdown",
   "id": "b9af6638",
   "metadata": {},
   "source": [
    "# 20. Valid Parentheses\n",
    "Given a string s containing just the characters '(', ')', '{', '}', '[' and ']', determine if the input string is valid.\n",
    "\n",
    "An input string is valid if:\n",
    "\n",
    "Open brackets must be closed by the same type of brackets.\n",
    "\n",
    "Open brackets must be closed in the correct order.\n",
    "\n",
    "Every close bracket has a corresponding open bracket of the same type.\n",
    " \n",
    "\n",
    "Example 1:\n",
    "\n",
    "Input: s = \"()\"\n",
    "\n",
    "Output: true\n",
    "\n",
    "Example 2:\n",
    "\n",
    "Input: s = \"()[]{}\"\n",
    "\n",
    "Output: true\n",
    "\n",
    "Example 3:\n",
    "\n",
    "Input: s = \"(]\"\n",
    "\n",
    "Output: false\n",
    "\n"
   ]
  },
  {
   "cell_type": "code",
   "execution_count": 81,
   "id": "8227c2af",
   "metadata": {},
   "outputs": [
    {
     "data": {
      "text/plain": [
       "False"
      ]
     },
     "execution_count": 81,
     "metadata": {},
     "output_type": "execute_result"
    }
   ],
   "source": [
    "s = \"))()]{}\"\n",
    "\n",
    "def is_valid_parentheses(s):\n",
    "    valid_characters = ['()','{}','[]']\n",
    "    if len(s) %2 != 0:\n",
    "        return False\n",
    "    else:\n",
    "        for i in range(0,len(s),2):\n",
    "            if (s[i] + s[i+1]) in valid_characters:\n",
    "                return True\n",
    "\n",
    "is_valid_parentheses(s)"
   ]
  },
  {
   "cell_type": "markdown",
   "id": "85b027c0",
   "metadata": {},
   "source": [
    "# 21. Merge Two Sorted Lists\n",
    "You are given the heads of two sorted linked lists list1 and list2.\n",
    "\n",
    "Merge the two lists into one sorted list. The list should be made by splicing together the nodes of the first two lists.\n",
    "\n",
    "Return the head of the merged linked list.\n",
    "\n",
    "Example 1:\n",
    "\n",
    "Input: list1 = [1,2,4], list2 = [1,3,4]\n",
    "Output: [1,1,2,3,4,4]\n",
    "\n",
    "Example 2:\n",
    "\n",
    "Input: list1 = [], list2 = []\n",
    "Output: []\n",
    "\n",
    "Example 3:\n",
    "\n",
    "Input: list1 = [], list2 = [0]\n",
    "Output: [0]\n"
   ]
  },
  {
   "cell_type": "code",
   "execution_count": 100,
   "id": "5b97cadd",
   "metadata": {},
   "outputs": [],
   "source": [
    "list1 = [1,2,4]\n",
    "list2 = [1,3,4]"
   ]
  },
  {
   "cell_type": "code",
   "execution_count": 101,
   "id": "01d02e7b",
   "metadata": {},
   "outputs": [
    {
     "name": "stdout",
     "output_type": "stream",
     "text": [
      "[1, 2, 4, 1, 3, 4]\n"
     ]
    },
    {
     "data": {
      "text/plain": [
       "[1, 1, 2, 3, 4, 4]"
      ]
     },
     "execution_count": 101,
     "metadata": {},
     "output_type": "execute_result"
    }
   ],
   "source": [
    "#O(n2)\n",
    "\n",
    "def selection_merge_two_sorted_list():\n",
    "    list = list1+list2\n",
    "    x = 'NaN'\n",
    "    print(list)\n",
    "    for i in range(len(list)-1):\n",
    "        for j in range(i+1,len(list)):\n",
    "            if list[i] > list[j]:\n",
    "                x = list[j]\n",
    "                list[j] = list[i]\n",
    "                list[i] = x             \n",
    "    return list\n",
    "\n",
    "selection_merge_two_sorted_list()"
   ]
  },
  {
   "cell_type": "markdown",
   "id": "13a82629",
   "metadata": {},
   "source": [
    "# 26. Remove Duplicates from Sorted Array\n",
    "Given an integer array nums sorted in non-decreasing order, remove the duplicates in-place such that each unique element appears only once. The relative order of the elements should be kept the same. Then return the number of unique elements in nums.\n",
    "\n",
    "Consider the number of unique elements of nums to be k, to get accepted, you need to do the following things:\n",
    "\n",
    "Change the array nums such that the first k elements of nums contain the unique elements in the order they were present in nums initially. The remaining elements of nums are not important as well as the size of nums.\n",
    "\n",
    "Return k.\n",
    "\n",
    "Example 1:\n",
    "\n",
    "Input: nums = [1,1,2]\n",
    "\n",
    "Output: 2, nums = [1,2,_]\n",
    "\n",
    "Explanation: Your function should return k = 2, with the first two elements of nums being 1 and 2 respectively.\n",
    "\n",
    "It does not matter what you leave beyond the returned k (hence they are underscores).\n",
    "\n",
    "Example 2:\n",
    "\n",
    "Input: nums = [0,0,1,1,1,2,2,3,3,4]\n",
    "\n",
    "Output: 5, nums = [0,1,2,3,4,_,_,_,_,_]\n",
    "\n",
    "Explanation: Your function should return k = 5, with the first five elements of nums being 0, 1, 2, \n",
    "3, and 4 respectively.\n",
    "\n",
    "It does not matter what you leave beyond the returned k (hence they are underscores)."
   ]
  },
  {
   "cell_type": "code",
   "execution_count": 33,
   "id": "3a485692",
   "metadata": {},
   "outputs": [
    {
     "data": {
      "text/plain": [
       "(5, [0, 1, 2, 3, 4])"
      ]
     },
     "execution_count": 33,
     "metadata": {},
     "output_type": "execute_result"
    }
   ],
   "source": [
    "nums = [0,0,1,1,1,2,2,3,3,4]\n",
    "\n",
    "def removeDupsSorted(n):\n",
    "    new_nums = [n[0]]\n",
    "    for i in range(1,len(n)):\n",
    "        if n[i] != n[i-1]:\n",
    "            new_nums.append(n[i])\n",
    "    k = len(new_nums)\n",
    "    return (k, new_nums)\n",
    "\n",
    "removeDupsSorted(nums)"
   ]
  },
  {
   "cell_type": "markdown",
   "id": "bd8b7ad7",
   "metadata": {},
   "source": [
    "# 27. Remove Element\n",
    "Given an integer array nums and an integer val, remove all occurrences of val in nums in-place. The order of the elements may be changed. Then return the number of elements in nums which are not equal to val.\n",
    "\n",
    "Consider the number of elements in nums which are not equal to val be k, to get accepted, you need to do the following things:\n",
    "\n",
    "Change the array nums such that the first k elements of nums contain the elements which are not equal to val. The remaining elements of nums are not important as well as the size of nums.\n",
    "Return k.\n",
    "\n",
    "Example 1:\n",
    "\n",
    "Input: nums = [3,2,2,3], val = 3\n",
    "\n",
    "Output: 2, nums = [2,2,_,_]\n",
    "\n",
    "Explanation: Your function should return k = 2, with the first two elements of nums being 2.\n",
    "It does not matter what you leave beyond the returned k (hence they are underscores).\n",
    "\n",
    "Example 2:\n",
    "\n",
    "Input: nums = [0,1,2,2,3,0,4,2], val = 2\n",
    "\n",
    "Output: 5, nums = [0,1,4,0,3,_,_,_]\n",
    "\n",
    "Explanation: Your function should return k = 5, with the first five elements of nums containing 0, 0, 1, 3, and 4.\n",
    "\n",
    "Note that the five elements can be returned in any order.\n",
    "It does not matter what you leave beyond the returned k (hence they are underscores)."
   ]
  },
  {
   "cell_type": "code",
   "execution_count": 35,
   "id": "e0b929f0",
   "metadata": {},
   "outputs": [
    {
     "data": {
      "text/plain": [
       "(5, [0, 1, 3, 0, 4])"
      ]
     },
     "execution_count": 35,
     "metadata": {},
     "output_type": "execute_result"
    }
   ],
   "source": [
    "nums = [0,1,2,2,3,0,4,2]\n",
    "val = 2\n",
    "\n",
    "def removeElement(n,v):\n",
    "    new_nums = []\n",
    "    for i in range(len(n)):\n",
    "        if n[i] != v:\n",
    "            new_nums.append(n[i])\n",
    "    k = len(new_nums)\n",
    "    return (k, new_nums)\n",
    "\n",
    "removeElement(nums,val)"
   ]
  },
  {
   "cell_type": "markdown",
   "id": "0bacb105",
   "metadata": {},
   "source": [
    "# 28. Find the Index of the First Occurrence in a String\n",
    "Given two strings needle and haystack, return the index of the first occurrence of needle in haystack, or -1 if needle is not part of haystack.\n",
    "\n",
    "Example 1:\n",
    "\n",
    "Input: haystack = \"sadbutsad\", needle = \"sad\"\n",
    "\n",
    "Output: 0\n",
    "\n",
    "Explanation: \"sad\" occurs at index 0 and 6.\n",
    "\n",
    "The first occurrence is at index 0, so we return 0.\n",
    "Example 2:\n",
    "\n",
    "Input: haystack = \"leetcode\", needle = \"leeto\"\n",
    "\n",
    "Output: -1\n",
    "\n",
    "Explanation: \"leeto\" did not occur in \"leetcode\", so we return -1.\n",
    " "
   ]
  },
  {
   "cell_type": "code",
   "execution_count": 37,
   "id": "9385fa76",
   "metadata": {},
   "outputs": [
    {
     "data": {
      "text/plain": [
       "0"
      ]
     },
     "execution_count": 37,
     "metadata": {},
     "output_type": "execute_result"
    }
   ],
   "source": [
    "haystack = 'sadbutsad'\n",
    "needle = 'sad'\n",
    "\n",
    "haystack[0:3]\n",
    "\n",
    "\n",
    "def indexOfFirstOccurence(h,n):\n",
    "    for i in range(len(h)-3):\n",
    "        if n == h[i:i+len(n)]:\n",
    "            return i\n",
    "        else:\n",
    "            return -1\n",
    "        \n",
    "indexOfFirstOccurence(haystack,needle)\n"
   ]
  },
  {
   "cell_type": "markdown",
   "id": "b4ce16fb",
   "metadata": {},
   "source": [
    "# 35. Search Insert Position\n",
    "Given a sorted array of distinct integers and a target value, return the index if the target is found. If not, return the index where it would be if it were inserted in order.\n",
    "\n",
    "You must write an algorithm with O(log n) runtime complexity.\n",
    "\n",
    "Example 1:\n",
    "\n",
    "Input: nums = [1,3,5,6], target = 5\n",
    "\n",
    "Output: 2\n",
    "\n",
    "Example 2:\n",
    "\n",
    "Input: nums = [1,3,5,6], target = 2\n",
    "\n",
    "Output: 1\n",
    "\n",
    "Example 3:\n",
    "\n",
    "Input: nums = [1,3,5,6], target = 7\n",
    "\n",
    "Output: 4\n"
   ]
  },
  {
   "cell_type": "code",
   "execution_count": 54,
   "id": "63697197",
   "metadata": {},
   "outputs": [
    {
     "data": {
      "text/plain": [
       "3"
      ]
     },
     "execution_count": 54,
     "metadata": {},
     "output_type": "execute_result"
    }
   ],
   "source": [
    "nums = [1,3,5,7]\n",
    "target = 6\n",
    "\n",
    "def searchInsertPosition(n,t):\n",
    "    for i in range(len(n)):\n",
    "        if (t < n[0]):\n",
    "            return 0\n",
    "        elif (t > n[-1]):\n",
    "            return len(n)\n",
    "        elif (t <= n[i]):\n",
    "            return i\n",
    "\n",
    "searchInsertPosition(nums, target)"
   ]
  },
  {
   "cell_type": "markdown",
   "id": "0f430e8a",
   "metadata": {},
   "source": [
    "# 58. Length of Last Word\n",
    "Given a string s consisting of words and spaces, return the length of the last word in the string.\n",
    "\n",
    "A word is a maximal substring consisting of non-space characters only.\n",
    "\n",
    "\n",
    "Example 1:\n",
    "\n",
    "Input: s = \"Hello World\"\n",
    "\n",
    "Output: 5\n",
    "\n",
    "Explanation: The last word is \"World\" with length 5.\n",
    "\n",
    "Example 2:\n",
    "\n",
    "Input: s = \"   fly me   to   the moon  \"\n",
    "\n",
    "Output: 4\n",
    "\n",
    "Explanation: The last word is \"moon\" with length 4.\n",
    "\n",
    "Example 3:\n",
    "\n",
    "Input: s = \"luffy is still joyboy\"\n",
    "\n",
    "Output: 6\n",
    "\n",
    "Explanation: The last word is \"joyboy\" with length 6."
   ]
  },
  {
   "cell_type": "code",
   "execution_count": null,
   "id": "68b3bd58",
   "metadata": {},
   "outputs": [],
   "source": [
    "s = 'luffy is still joyboy'\n",
    "\n"
   ]
  },
  {
   "cell_type": "markdown",
   "id": "a220cf46",
   "metadata": {},
   "source": []
  }
 ],
 "metadata": {
  "kernelspec": {
   "display_name": "Python 3 (ipykernel)",
   "language": "python",
   "name": "python3"
  },
  "language_info": {
   "codemirror_mode": {
    "name": "ipython",
    "version": 3
   },
   "file_extension": ".py",
   "mimetype": "text/x-python",
   "name": "python",
   "nbconvert_exporter": "python",
   "pygments_lexer": "ipython3",
   "version": "3.9.7"
  }
 },
 "nbformat": 4,
 "nbformat_minor": 5
}
