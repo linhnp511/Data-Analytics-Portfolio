{
 "cells": [
  {
   "cell_type": "markdown",
   "id": "a1e7d932",
   "metadata": {},
   "source": [
    "# 1. Two Sum\n",
    "Given an array of integers nums and an integer target, return indices of the two numbers such that they add up to target.\n",
    "\n",
    "You may assume that each input would have exactly one solution, and you may not use the same element twice.\n",
    "\n",
    "You can return the answer in any order.\n",
    "\n",
    "Example 1:\n",
    "\n",
    "Input: nums = [2,7,11,15], target = 9\n",
    "\n",
    "Output: [0,1]\n",
    "\n",
    "Explanation: Because nums[0] + nums[1] == 9, we return [0, 1]."
   ]
  },
  {
   "cell_type": "code",
   "execution_count": 84,
   "id": "c6e1cb4f",
   "metadata": {},
   "outputs": [
    {
     "data": {
      "text/plain": [
       "(0, 1)"
      ]
     },
     "execution_count": 84,
     "metadata": {},
     "output_type": "execute_result"
    }
   ],
   "source": [
    "# O(n2)\n",
    "\n",
    "nums = [2,7,11,15]\n",
    "target=9\n",
    "\n",
    "def two_sum(nums, target):\n",
    "    for i in range(len(nums)-1):\n",
    "        for j in range(i+1,len(nums)):\n",
    "            if nums[i]+nums[j]== target:\n",
    "                return (i,j)\n",
    "two_sum(nums, target)"
   ]
  },
  {
   "cell_type": "markdown",
   "id": "194a62cf",
   "metadata": {},
   "source": [
    "# 9. Palindrome Number\n",
    "Given an integer x, return true if x is a palindrome, and false otherwise.\n",
    "\n",
    "Example 1:\n",
    "\n",
    "Input: x = 121\n",
    "\n",
    "Output: true\n",
    "\n",
    "Explanation: 121 reads as 121 from left to right and from right to left."
   ]
  },
  {
   "cell_type": "code",
   "execution_count": 22,
   "id": "b68a035a",
   "metadata": {},
   "outputs": [],
   "source": [
    "import math"
   ]
  },
  {
   "cell_type": "code",
   "execution_count": 31,
   "id": "01cb9439",
   "metadata": {},
   "outputs": [
    {
     "data": {
      "text/plain": [
       "[1, 9, 2, 0, 0, 0]"
      ]
     },
     "execution_count": 31,
     "metadata": {},
     "output_type": "execute_result"
    }
   ],
   "source": [
    "def to_digit(n):\n",
    "    digit_list = []\n",
    "    while n>10:\n",
    "        digit_list.append(n%10)\n",
    "        n = n//10\n",
    "    else:\n",
    "        digit_list.append(n)\n",
    "    return digit_list[::-1]\n",
    "\n",
    "to_digit(192000) #test"
   ]
  },
  {
   "cell_type": "code",
   "execution_count": 37,
   "id": "9f7c6548",
   "metadata": {},
   "outputs": [
    {
     "name": "stdout",
     "output_type": "stream",
     "text": [
      "[1, 2, 3, 5, 3, 2, 1]\n"
     ]
    },
    {
     "data": {
      "text/plain": [
       "True"
      ]
     },
     "execution_count": 37,
     "metadata": {},
     "output_type": "execute_result"
    }
   ],
   "source": [
    "def is_palindrome(n):\n",
    "    digit_list = to_digit(n)\n",
    "    print(digit_list)\n",
    "    for i in range(0,math.floor(len(digit_list)/2)):\n",
    "        if digit_list[i] != digit_list[(len(digit_list)-1-i)]:\n",
    "            return False\n",
    "            break\n",
    "        return True\n",
    "            \n",
    "is_palindrome(1235321)    "
   ]
  },
  {
   "cell_type": "markdown",
   "id": "dd81f238",
   "metadata": {},
   "source": [
    "# 13. Roman to Integer\n",
    "Roman numerals are represented by seven different symbols: I, V, X, L, C, D and M.\n",
    "\n",
    "Symbol,Value: \n",
    "I=1\n",
    "\n",
    "V=5\n",
    "\n",
    "X=10\n",
    "\n",
    "L=50\n",
    "\n",
    "C=100\n",
    "\n",
    "D=500\n",
    "\n",
    "M=1000\n",
    "\n",
    "For example, 2 is written as II in Roman numeral, just two ones added together. 12 is written as XII, which is simply X + II. The number 27 is written as XXVII, which is XX + V + II.\n",
    "\n",
    "Roman numerals are usually written largest to smallest from left to right. However, the numeral for four is not IIII. Instead, the number four is written as IV. Because the one is before the five we subtract it making four. The same principle applies to the number nine, which is written as IX. There are six instances where subtraction is used:\n",
    "\n",
    "I can be placed before V (5) and X (10) to make 4 and 9. \n",
    "\n",
    "X can be placed before L (50) and C (100) to make 40 and 90. \n",
    "\n",
    "C can be placed before D (500) and M (1000) to make 400 and 900.\n",
    "\n",
    "Given a roman numeral, convert it to an integer.\n"
   ]
  },
  {
   "cell_type": "code",
   "execution_count": 41,
   "id": "e1458ea5",
   "metadata": {},
   "outputs": [
    {
     "data": {
      "text/plain": [
       "['X', 'V', 'I', 'I']"
      ]
     },
     "execution_count": 41,
     "metadata": {},
     "output_type": "execute_result"
    }
   ],
   "source": [
    "def to_letter(roman_number):\n",
    "    letter_list = []\n",
    "    for i in range(len(roman_number)):\n",
    "        letter_list.append(roman_number[i])\n",
    "    return letter_list\n",
    "    \n",
    "to_letter('XVII') #test"
   ]
  },
  {
   "cell_type": "code",
   "execution_count": 65,
   "id": "fcf9b120",
   "metadata": {},
   "outputs": [
    {
     "data": {
      "text/plain": [
       "31"
      ]
     },
     "execution_count": 65,
     "metadata": {},
     "output_type": "execute_result"
    }
   ],
   "source": [
    "roman_dict = {\n",
    "    'I': 1,\n",
    "    'V': 5,\n",
    "    'X': 10,\n",
    "    'L': 50,\n",
    "    'C': 100,\n",
    "    'D': 500,\n",
    "    'M': 1000\n",
    "}\n",
    "\n",
    "def roman_to_int(n):\n",
    "    sum = 0\n",
    "    letters = to_letter(n)\n",
    "    for i in range(len(letters)-1):\n",
    "        if roman_dict[letters[i]] >= roman_dict[letters[i+1]]:\n",
    "            sum += roman_dict[letters[i]]\n",
    "        else:\n",
    "            sum -= roman_dict[letters[i]]\n",
    "    sum += roman_dict[letters[i+1]]\n",
    "    return sum\n",
    "                \n",
    "roman_to_int('XXXI')"
   ]
  },
  {
   "cell_type": "markdown",
   "id": "1ec8e599",
   "metadata": {},
   "source": [
    "# 14. Longest Common Prefix\n",
    "Write a function to find the longest common prefix string amongst an array of strings.\n",
    "\n",
    "If there is no common prefix, return an empty string \"\".\n",
    "\n",
    "Example 1:\n",
    "\n",
    "Input: strs = [\"flower\",\"flow\",\"flight\"]\n",
    "Output: \"fl\"\n",
    "\n",
    "Example 2:\n",
    "\n",
    "Input: strs = [\"dog\",\"racecar\",\"car\"]\n",
    "Output: \"\"\n",
    "Explanation: There is no common prefix among the input strings.\n"
   ]
  },
  {
   "cell_type": "code",
   "execution_count": 74,
   "id": "10866ab7",
   "metadata": {},
   "outputs": [
    {
     "data": {
      "text/plain": [
       "'fl'"
      ]
     },
     "execution_count": 74,
     "metadata": {},
     "output_type": "execute_result"
    }
   ],
   "source": [
    "strs = ['flower','flow','flight']\n",
    "\n",
    "def longestCommonPrefix(strs):\n",
    "    res = ''\n",
    "    for i in range(len(strs[0])):\n",
    "        for s in strs:\n",
    "            if i == len(s) or s[i] != strs[0][i]:\n",
    "                return res\n",
    "        res += strs[0][i]\n",
    "    return res\n",
    "    \n",
    "longestCommonPrefix(strs)\n"
   ]
  },
  {
   "cell_type": "markdown",
   "id": "b9af6638",
   "metadata": {},
   "source": [
    "# 20. Valid Parentheses\n",
    "Given a string s containing just the characters '(', ')', '{', '}', '[' and ']', determine if the input string is valid.\n",
    "\n",
    "An input string is valid if:\n",
    "\n",
    "Open brackets must be closed by the same type of brackets.\n",
    "\n",
    "Open brackets must be closed in the correct order.\n",
    "\n",
    "Every close bracket has a corresponding open bracket of the same type.\n",
    " \n",
    "\n",
    "Example 1:\n",
    "\n",
    "Input: s = \"()\"\n",
    "\n",
    "Output: true\n",
    "\n",
    "Example 2:\n",
    "\n",
    "Input: s = \"()[]{}\"\n",
    "\n",
    "Output: true\n",
    "\n",
    "Example 3:\n",
    "\n",
    "Input: s = \"(]\"\n",
    "\n",
    "Output: false\n",
    "\n"
   ]
  },
  {
   "cell_type": "code",
   "execution_count": 81,
   "id": "8227c2af",
   "metadata": {},
   "outputs": [
    {
     "data": {
      "text/plain": [
       "False"
      ]
     },
     "execution_count": 81,
     "metadata": {},
     "output_type": "execute_result"
    }
   ],
   "source": [
    "s = \"))()]{}\"\n",
    "\n",
    "def is_valid_parentheses(s):\n",
    "    valid_characters = ['()','{}','[]']\n",
    "    if len(s) %2 != 0:\n",
    "        return False\n",
    "    else:\n",
    "        for i in range(0,len(s),2):\n",
    "            if (s[i] + s[i+1]) in valid_characters:\n",
    "                return True\n",
    "\n",
    "is_valid_parentheses(s)"
   ]
  },
  {
   "cell_type": "markdown",
   "id": "85b027c0",
   "metadata": {},
   "source": [
    "# 21. Merge Two Sorted Lists\n",
    "You are given the heads of two sorted linked lists list1 and list2.\n",
    "\n",
    "Merge the two lists into one sorted list. The list should be made by splicing together the nodes of the first two lists.\n",
    "\n",
    "Return the head of the merged linked list.\n",
    "\n",
    "Example 1:\n",
    "\n",
    "Input: list1 = [1,2,4], list2 = [1,3,4]\n",
    "Output: [1,1,2,3,4,4]\n",
    "\n",
    "Example 2:\n",
    "\n",
    "Input: list1 = [], list2 = []\n",
    "Output: []\n",
    "\n",
    "Example 3:\n",
    "\n",
    "Input: list1 = [], list2 = [0]\n",
    "Output: [0]\n"
   ]
  },
  {
   "cell_type": "code",
   "execution_count": 100,
   "id": "5b97cadd",
   "metadata": {},
   "outputs": [],
   "source": [
    "list1 = [1,2,4]\n",
    "list2 = [1,3,4]"
   ]
  },
  {
   "cell_type": "code",
   "execution_count": 101,
   "id": "01d02e7b",
   "metadata": {},
   "outputs": [
    {
     "name": "stdout",
     "output_type": "stream",
     "text": [
      "[1, 2, 4, 1, 3, 4]\n"
     ]
    },
    {
     "data": {
      "text/plain": [
       "[1, 1, 2, 3, 4, 4]"
      ]
     },
     "execution_count": 101,
     "metadata": {},
     "output_type": "execute_result"
    }
   ],
   "source": [
    "#O(n2)\n",
    "\n",
    "def selection_merge_two_sorted_list():\n",
    "    list = list1+list2\n",
    "    x = 'NaN'\n",
    "    print(list)\n",
    "    for i in range(len(list)-1):\n",
    "        for j in range(i+1,len(list)):\n",
    "            if list[i] > list[j]:\n",
    "                x = list[j]\n",
    "                list[j] = list[i]\n",
    "                list[i] = x             \n",
    "    return list\n",
    "\n",
    "selection_merge_two_sorted_list()"
   ]
  },
  {
   "cell_type": "markdown",
   "id": "13a82629",
   "metadata": {},
   "source": []
  }
 ],
 "metadata": {
  "kernelspec": {
   "display_name": "Python 3 (ipykernel)",
   "language": "python",
   "name": "python3"
  },
  "language_info": {
   "codemirror_mode": {
    "name": "ipython",
    "version": 3
   },
   "file_extension": ".py",
   "mimetype": "text/x-python",
   "name": "python",
   "nbconvert_exporter": "python",
   "pygments_lexer": "ipython3",
   "version": "3.11.3"
  }
 },
 "nbformat": 4,
 "nbformat_minor": 5
}
