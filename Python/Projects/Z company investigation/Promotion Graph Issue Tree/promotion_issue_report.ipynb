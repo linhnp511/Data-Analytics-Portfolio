{
 "cells": [
  {
   "cell_type": "markdown",
   "metadata": {},
   "source": [
    "# Context\n",
    "\n",
    "The COO wants to know the impact of promotions towards the submission rate of checkout page.\n",
    "\n",
    "# Define\n",
    "\n",
    "In this analysis, I will break down all users entering checkout page into segments, then calculate the distribution and the submission rate of each segment in order to identify the segments which have the highest potential of impact. \n",
    "\n",
    "Later on, as a PO, I will suggest some improvements to deal with the segments.\n",
    "\n",
    "# Steps\n",
    "1. Segmenting users\n",
    "\n",
    "According to my understanding of users, I breakdown into the following graph:\n",
    "\n",
    "![promotion_graph](graphs/promotion_graph.png)\n",
    "\n",
    "2. Calculate the distribution and submission rate of each segment\n",
    "\n",
    "Filter each segment then combine them into 1 table\n",
    "\n",
    "3. Visualize the results\n",
    "![promotion_graph_with_data](graphs/promotion_graph_with_data.png)\n",
    "\n",
    "# Insights\n",
    "\n",
    "Based on the data that I've represented, there are some conclusions:\n",
    "\n",
    "- The **more users interact with the promotion-related elements** in Checkout, the **less likely they are to submit**, which is unusual given that promotions should act as a catalyst for higher submission rates \n",
    "\n",
    "*=> What is interesting in the promotion list, promotion details to discourage users from submitting? (1)*\n",
    "\n",
    "- Checkouts with auto-applied promotions and still click on view promotion list have submission rate equals to **only 1/2 submission rate** of the non-clicked segment\n",
    "\n",
    "*=> Even if the promotion is successfully auto-applied, many users still want to view promotion list, why? And once they view the list, the submission rate decreased. (2)*\n",
    "\n",
    "- **1 in 3 users applying promotion has failed result**, which often has the submission rate of only ~10% \n",
    "\n",
    "*=> What are the main errors when applying promotion, and is there any chance we can reduce them? (3)*\n",
    "\n",
    "# Solutions\n",
    "\n",
    "I present the issues and give some suggestions to improve our products:\n",
    "\n",
    "![solutions](graphs/solution.png)\n"
   ]
  }
 ],
 "metadata": {
  "language_info": {
   "name": "python"
  },
  "orig_nbformat": 4
 },
 "nbformat": 4,
 "nbformat_minor": 2
}
