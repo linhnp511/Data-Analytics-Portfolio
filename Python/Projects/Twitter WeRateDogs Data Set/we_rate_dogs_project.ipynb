{
 "cells": [
  {
   "cell_type": "markdown",
   "metadata": {},
   "source": [
    "# Intro\n",
    "WeRateDogs is a Twitter account that posts and rates pictures of dogs. These ratings often are not serious and have numerators that are greater than the denominators. \n",
    "\n",
    "In the analysis, I will aim to (1) wrangle the data + (2) answer the following questions:\n",
    "\n",
    "1. What is WeRateDogs's posting trend by month?\n",
    "2. What is the monthly trend of interactions with WeRateDogs's posts?\n",
    "3. What are the most popular dog breeds based on number of posts, interactions by Twitter users, and ratings?\n",
    "4. Is there any correlation between WeRateDogs's ratings and the interactions by Twitter users?"
   ]
  },
  {
   "cell_type": "code",
   "execution_count": 2120,
   "metadata": {},
   "outputs": [],
   "source": [
    "import pandas as pd \n",
    "import numpy as np\n",
    "import matplotlib.pyplot as plt\n",
    "import os \n",
    "import json \n",
    "import re\n",
    "pd.set_option('display.max_colwidth', None)"
   ]
  },
  {
   "cell_type": "markdown",
   "metadata": {},
   "source": [
    "# 1. Gathering Data"
   ]
  },
  {
   "cell_type": "code",
   "execution_count": 2121,
   "metadata": {},
   "outputs": [],
   "source": [
    "#1.  Archive file\n",
    "archive = pd.read_csv('/Users/timtism/Documents/Github Repo/Data Analytics Portfolio/Python/Projects/Twitter WeRateDogs Data Set/datasets/twitter-archive-enhanced.csv')\n",
    "#2. Image prediction file (URL)\n",
    "    # Predictions of dog breeds\n",
    "url_image_predictions = ('https://d17h27t6h515a5.cloudfront.net/topher/2017/August/'\n",
    "                         '599fd2ad_image-predictions/image-predictions.tsv')\n",
    "\n",
    "    # Create dataframe from TSV\n",
    "predictions = pd.read_csv(url_image_predictions, delimiter='\\t')\n",
    "\n",
    "#3. Tweets\n",
    "tweet = pd.read_json('/Users/timtism/Documents/Github Repo/Data Analytics Portfolio/Python/Projects/Twitter WeRateDogs Data Set/datasets/tweet-json.txt',  lines = True)"
   ]
  },
  {
   "cell_type": "markdown",
   "metadata": {},
   "source": [
    "---"
   ]
  },
  {
   "cell_type": "markdown",
   "metadata": {},
   "source": [
    "# 2. Assessing  Data"
   ]
  },
  {
   "cell_type": "markdown",
   "metadata": {},
   "source": [
    "### a. `archive`"
   ]
  },
  {
   "cell_type": "code",
   "execution_count": 2122,
   "metadata": {},
   "outputs": [
    {
     "name": "stdout",
     "output_type": "stream",
     "text": [
      "<class 'pandas.core.frame.DataFrame'>\n",
      "RangeIndex: 2356 entries, 0 to 2355\n",
      "Data columns (total 17 columns):\n",
      " #   Column                      Non-Null Count  Dtype  \n",
      "---  ------                      --------------  -----  \n",
      " 0   tweet_id                    2356 non-null   int64  \n",
      " 1   in_reply_to_status_id       78 non-null     float64\n",
      " 2   in_reply_to_user_id         78 non-null     float64\n",
      " 3   timestamp                   2356 non-null   object \n",
      " 4   source                      2356 non-null   object \n",
      " 5   text                        2356 non-null   object \n",
      " 6   retweeted_status_id         181 non-null    float64\n",
      " 7   retweeted_status_user_id    181 non-null    float64\n",
      " 8   retweeted_status_timestamp  181 non-null    object \n",
      " 9   expanded_urls               2297 non-null   object \n",
      " 10  rating_numerator            2356 non-null   int64  \n",
      " 11  rating_denominator          2356 non-null   int64  \n",
      " 12  name                        1611 non-null   object \n",
      " 13  doggo                       97 non-null     object \n",
      " 14  floofer                     10 non-null     object \n",
      " 15  pupper                      257 non-null    object \n",
      " 16  puppo                       30 non-null     object \n",
      "dtypes: float64(4), int64(3), object(10)\n",
      "memory usage: 313.0+ KB\n"
     ]
    },
    {
     "data": {
      "text/html": [
       "<div>\n",
       "<style scoped>\n",
       "    .dataframe tbody tr th:only-of-type {\n",
       "        vertical-align: middle;\n",
       "    }\n",
       "\n",
       "    .dataframe tbody tr th {\n",
       "        vertical-align: top;\n",
       "    }\n",
       "\n",
       "    .dataframe thead th {\n",
       "        text-align: right;\n",
       "    }\n",
       "</style>\n",
       "<table border=\"1\" class=\"dataframe\">\n",
       "  <thead>\n",
       "    <tr style=\"text-align: right;\">\n",
       "      <th></th>\n",
       "      <th>tweet_id</th>\n",
       "      <th>in_reply_to_status_id</th>\n",
       "      <th>in_reply_to_user_id</th>\n",
       "      <th>timestamp</th>\n",
       "      <th>source</th>\n",
       "      <th>text</th>\n",
       "      <th>retweeted_status_id</th>\n",
       "      <th>retweeted_status_user_id</th>\n",
       "      <th>retweeted_status_timestamp</th>\n",
       "      <th>expanded_urls</th>\n",
       "      <th>rating_numerator</th>\n",
       "      <th>rating_denominator</th>\n",
       "      <th>name</th>\n",
       "      <th>doggo</th>\n",
       "      <th>floofer</th>\n",
       "      <th>pupper</th>\n",
       "      <th>puppo</th>\n",
       "    </tr>\n",
       "  </thead>\n",
       "  <tbody>\n",
       "    <tr>\n",
       "      <th>213</th>\n",
       "      <td>851591660324737024</td>\n",
       "      <td>NaN</td>\n",
       "      <td>NaN</td>\n",
       "      <td>2017-04-11 00:24:08 +0000</td>\n",
       "      <td>&lt;a href=\"http://twitter.com/download/iphone\" rel=\"nofollow\"&gt;Twitter for iPhone&lt;/a&gt;</td>\n",
       "      <td>Oh jeez u did me quite the spook little fella. We normally don't rate triceratops but this one seems suspiciously good. 11/10 would pet well https://t.co/BMtfCmNbnS</td>\n",
       "      <td>NaN</td>\n",
       "      <td>NaN</td>\n",
       "      <td>NaN</td>\n",
       "      <td>https://twitter.com/dog_rates/status/851591660324737024/photo/1</td>\n",
       "      <td>11</td>\n",
       "      <td>10</td>\n",
       "      <td>NaN</td>\n",
       "      <td>NaN</td>\n",
       "      <td>NaN</td>\n",
       "      <td>NaN</td>\n",
       "      <td>NaN</td>\n",
       "    </tr>\n",
       "    <tr>\n",
       "      <th>1676</th>\n",
       "      <td>682088079302213632</td>\n",
       "      <td>NaN</td>\n",
       "      <td>NaN</td>\n",
       "      <td>2015-12-30 06:37:25 +0000</td>\n",
       "      <td>&lt;a href=\"http://vine.co\" rel=\"nofollow\"&gt;Vine - Make a Scene&lt;/a&gt;</td>\n",
       "      <td>I'm not sure what this dog is doing but it's pretty inspirational. 12/10 https://t.co/4Kn9GEHXiE</td>\n",
       "      <td>NaN</td>\n",
       "      <td>NaN</td>\n",
       "      <td>NaN</td>\n",
       "      <td>https://vine.co/v/iqMjlxULzbn</td>\n",
       "      <td>12</td>\n",
       "      <td>10</td>\n",
       "      <td>NaN</td>\n",
       "      <td>NaN</td>\n",
       "      <td>NaN</td>\n",
       "      <td>NaN</td>\n",
       "      <td>NaN</td>\n",
       "    </tr>\n",
       "    <tr>\n",
       "      <th>464</th>\n",
       "      <td>817415592588222464</td>\n",
       "      <td>NaN</td>\n",
       "      <td>NaN</td>\n",
       "      <td>2017-01-06 17:00:38 +0000</td>\n",
       "      <td>&lt;a href=\"http://twitter.com/download/iphone\" rel=\"nofollow\"&gt;Twitter for iPhone&lt;/a&gt;</td>\n",
       "      <td>Meet Strudel. He's rather h*ckin pupset that your clothes clash. 11/10 click the link to see how u can help Strudel\\n\\nhttps://t.co/3uxgLz8d0l https://t.co/O0ECL1StB2</td>\n",
       "      <td>NaN</td>\n",
       "      <td>NaN</td>\n",
       "      <td>NaN</td>\n",
       "      <td>https://www.gofundme.com/help-strudel-walk-again?rcid=ec2be8b6f825461f8ee0fd5dcdf43fea,https://twitter.com/dog_rates/status/817415592588222464/photo/1</td>\n",
       "      <td>11</td>\n",
       "      <td>10</td>\n",
       "      <td>Strudel</td>\n",
       "      <td>NaN</td>\n",
       "      <td>NaN</td>\n",
       "      <td>NaN</td>\n",
       "      <td>NaN</td>\n",
       "    </tr>\n",
       "    <tr>\n",
       "      <th>2126</th>\n",
       "      <td>670338931251150849</td>\n",
       "      <td>NaN</td>\n",
       "      <td>NaN</td>\n",
       "      <td>2015-11-27 20:30:30 +0000</td>\n",
       "      <td>&lt;a href=\"http://twitter.com/download/iphone\" rel=\"nofollow\"&gt;Twitter for iPhone&lt;/a&gt;</td>\n",
       "      <td>This is Butters. He's not ready for Thanksgiving to be over. 10/10 poor Butters https://t.co/iTc578yDmY</td>\n",
       "      <td>NaN</td>\n",
       "      <td>NaN</td>\n",
       "      <td>NaN</td>\n",
       "      <td>https://twitter.com/dog_rates/status/670338931251150849/photo/1</td>\n",
       "      <td>10</td>\n",
       "      <td>10</td>\n",
       "      <td>Butters</td>\n",
       "      <td>NaN</td>\n",
       "      <td>NaN</td>\n",
       "      <td>NaN</td>\n",
       "      <td>NaN</td>\n",
       "    </tr>\n",
       "    <tr>\n",
       "      <th>1438</th>\n",
       "      <td>696900204696625153</td>\n",
       "      <td>NaN</td>\n",
       "      <td>NaN</td>\n",
       "      <td>2016-02-09 03:35:31 +0000</td>\n",
       "      <td>&lt;a href=\"http://twitter.com/download/iphone\" rel=\"nofollow\"&gt;Twitter for iPhone&lt;/a&gt;</td>\n",
       "      <td>This is Rosie. She's a Benebark Cumberpatch. Sleepy af. 12/10 would snug for days https://t.co/NKuON5Al8i</td>\n",
       "      <td>NaN</td>\n",
       "      <td>NaN</td>\n",
       "      <td>NaN</td>\n",
       "      <td>https://twitter.com/dog_rates/status/696900204696625153/photo/1</td>\n",
       "      <td>12</td>\n",
       "      <td>10</td>\n",
       "      <td>Rosie</td>\n",
       "      <td>NaN</td>\n",
       "      <td>NaN</td>\n",
       "      <td>NaN</td>\n",
       "      <td>NaN</td>\n",
       "    </tr>\n",
       "  </tbody>\n",
       "</table>\n",
       "</div>"
      ],
      "text/plain": [
       "                tweet_id  in_reply_to_status_id  in_reply_to_user_id  \\\n",
       "213   851591660324737024                    NaN                  NaN   \n",
       "1676  682088079302213632                    NaN                  NaN   \n",
       "464   817415592588222464                    NaN                  NaN   \n",
       "2126  670338931251150849                    NaN                  NaN   \n",
       "1438  696900204696625153                    NaN                  NaN   \n",
       "\n",
       "                      timestamp  \\\n",
       "213   2017-04-11 00:24:08 +0000   \n",
       "1676  2015-12-30 06:37:25 +0000   \n",
       "464   2017-01-06 17:00:38 +0000   \n",
       "2126  2015-11-27 20:30:30 +0000   \n",
       "1438  2016-02-09 03:35:31 +0000   \n",
       "\n",
       "                                                                                  source  \\\n",
       "213   <a href=\"http://twitter.com/download/iphone\" rel=\"nofollow\">Twitter for iPhone</a>   \n",
       "1676                     <a href=\"http://vine.co\" rel=\"nofollow\">Vine - Make a Scene</a>   \n",
       "464   <a href=\"http://twitter.com/download/iphone\" rel=\"nofollow\">Twitter for iPhone</a>   \n",
       "2126  <a href=\"http://twitter.com/download/iphone\" rel=\"nofollow\">Twitter for iPhone</a>   \n",
       "1438  <a href=\"http://twitter.com/download/iphone\" rel=\"nofollow\">Twitter for iPhone</a>   \n",
       "\n",
       "                                                                                                                                                                        text  \\\n",
       "213     Oh jeez u did me quite the spook little fella. We normally don't rate triceratops but this one seems suspiciously good. 11/10 would pet well https://t.co/BMtfCmNbnS   \n",
       "1676                                                                        I'm not sure what this dog is doing but it's pretty inspirational. 12/10 https://t.co/4Kn9GEHXiE   \n",
       "464   Meet Strudel. He's rather h*ckin pupset that your clothes clash. 11/10 click the link to see how u can help Strudel\\n\\nhttps://t.co/3uxgLz8d0l https://t.co/O0ECL1StB2   \n",
       "2126                                                                 This is Butters. He's not ready for Thanksgiving to be over. 10/10 poor Butters https://t.co/iTc578yDmY   \n",
       "1438                                                               This is Rosie. She's a Benebark Cumberpatch. Sleepy af. 12/10 would snug for days https://t.co/NKuON5Al8i   \n",
       "\n",
       "      retweeted_status_id  retweeted_status_user_id  \\\n",
       "213                   NaN                       NaN   \n",
       "1676                  NaN                       NaN   \n",
       "464                   NaN                       NaN   \n",
       "2126                  NaN                       NaN   \n",
       "1438                  NaN                       NaN   \n",
       "\n",
       "     retweeted_status_timestamp  \\\n",
       "213                         NaN   \n",
       "1676                        NaN   \n",
       "464                         NaN   \n",
       "2126                        NaN   \n",
       "1438                        NaN   \n",
       "\n",
       "                                                                                                                                               expanded_urls  \\\n",
       "213                                                                                          https://twitter.com/dog_rates/status/851591660324737024/photo/1   \n",
       "1676                                                                                                                           https://vine.co/v/iqMjlxULzbn   \n",
       "464   https://www.gofundme.com/help-strudel-walk-again?rcid=ec2be8b6f825461f8ee0fd5dcdf43fea,https://twitter.com/dog_rates/status/817415592588222464/photo/1   \n",
       "2126                                                                                         https://twitter.com/dog_rates/status/670338931251150849/photo/1   \n",
       "1438                                                                                         https://twitter.com/dog_rates/status/696900204696625153/photo/1   \n",
       "\n",
       "      rating_numerator  rating_denominator     name doggo floofer pupper puppo  \n",
       "213                 11                  10      NaN   NaN     NaN    NaN   NaN  \n",
       "1676                12                  10      NaN   NaN     NaN    NaN   NaN  \n",
       "464                 11                  10  Strudel   NaN     NaN    NaN   NaN  \n",
       "2126                10                  10  Butters   NaN     NaN    NaN   NaN  \n",
       "1438                12                  10    Rosie   NaN     NaN    NaN   NaN  "
      ]
     },
     "execution_count": 2122,
     "metadata": {},
     "output_type": "execute_result"
    }
   ],
   "source": [
    "archive.info()\n",
    "archive.sample(5)"
   ]
  },
  {
   "cell_type": "markdown",
   "metadata": {},
   "source": [
    "### `archive` columns:\n",
    "-  `tweet_id`: unique identifier for each tweet\n",
    "- `in_reply_to_status_id`: original tweet_id if the row is a **reply**. If not, null\n",
    "- `in_reply_to_user_id`: user id of the original tweet if the row  is a **reply**.  If not, null\n",
    "- `timestamp`: time when this tweet was created\n",
    "- `source`: HTML-formatted string of platform to post the tweet\n",
    "-  `text`: content of the tweet\n",
    "- `retweeted_status_id`: original tweet_id if the row is a **retweet**. If not, null\n",
    "- `retweeted_status_user_id`: user id of the original tweet if the row is a **retweet**.  If not, null\n",
    "- `expanded_urls`: tweet url\n",
    "- `rating_numerator`: numerator of the rating of the dog. Note: ratings almost always greater than 10\n",
    "- `rating_denominator`: denominator of the rating of the dog. Note: ratings always have a denominator of 10\n",
    "- `name`: dog names\n",
    "- `doggo` / `floofer` / `pupper` / `puppo`: one of the 4 dog stages"
   ]
  },
  {
   "cell_type": "code",
   "execution_count": 2123,
   "metadata": {},
   "outputs": [
    {
     "data": {
      "text/plain": [
       "281"
      ]
     },
     "execution_count": 2123,
     "metadata": {},
     "output_type": "execute_result"
    }
   ],
   "source": [
    "# From .info(), there are 181 retweets records (not null obs in retweeted_status_id)\n",
    "\n",
    "# Check if there are any records in `archive` whose corresponding record with same tweet_id is missing in `predictions`\n",
    "len(archive[~archive['tweet_id'].isin(predictions['tweet_id'])])"
   ]
  },
  {
   "cell_type": "code",
   "execution_count": 2124,
   "metadata": {},
   "outputs": [
    {
     "data": {
      "text/plain": [
       "rating_denominator\n",
       "0         1\n",
       "2         1\n",
       "7         1\n",
       "10     2333\n",
       "11        3\n",
       "15        1\n",
       "16        1\n",
       "20        2\n",
       "40        1\n",
       "50        3\n",
       "70        1\n",
       "80        2\n",
       "90        1\n",
       "110       1\n",
       "120       1\n",
       "130       1\n",
       "150       1\n",
       "170       1\n",
       "Name: count, dtype: int64"
      ]
     },
     "execution_count": 2124,
     "metadata": {},
     "output_type": "execute_result"
    }
   ],
   "source": [
    "# Check the `rating_denominator` values:\n",
    "archive['rating_denominator'].value_counts().sort_index()"
   ]
  },
  {
   "cell_type": "code",
   "execution_count": 2125,
   "metadata": {},
   "outputs": [
    {
     "data": {
      "text/plain": [
       "rating_numerator\n",
       "0         2\n",
       "1         9\n",
       "2         9\n",
       "3        19\n",
       "4        17\n",
       "5        37\n",
       "6        32\n",
       "7        55\n",
       "8       102\n",
       "9       158\n",
       "10      461\n",
       "11      464\n",
       "12      558\n",
       "13      351\n",
       "14       54\n",
       "15        2\n",
       "17        1\n",
       "20        1\n",
       "24        1\n",
       "26        1\n",
       "27        1\n",
       "44        1\n",
       "45        1\n",
       "50        1\n",
       "60        1\n",
       "75        2\n",
       "80        1\n",
       "84        1\n",
       "88        1\n",
       "99        1\n",
       "121       1\n",
       "143       1\n",
       "144       1\n",
       "165       1\n",
       "182       1\n",
       "204       1\n",
       "420       2\n",
       "666       1\n",
       "960       1\n",
       "1776      1\n",
       "Name: count, dtype: int64"
      ]
     },
     "execution_count": 2125,
     "metadata": {},
     "output_type": "execute_result"
    }
   ],
   "source": [
    "# Check the `rating_numerator` values:\n",
    "archive['rating_numerator'].value_counts().sort_index()"
   ]
  },
  {
   "cell_type": "code",
   "execution_count": 2126,
   "metadata": {},
   "outputs": [
    {
     "data": {
      "text/plain": [
       "name\n",
       "very            5\n",
       "unacceptable    1\n",
       "this            1\n",
       "the             8\n",
       "such            1\n",
       "               ..\n",
       "Aiden           1\n",
       "Adele           1\n",
       "Acro            1\n",
       "Ace             1\n",
       "Abby            2\n",
       "Name: count, Length: 956, dtype: int64"
      ]
     },
     "execution_count": 2126,
     "metadata": {},
     "output_type": "execute_result"
    }
   ],
   "source": [
    "# Check dog name\n",
    "archive['name'].value_counts().sort_index(ascending=False)"
   ]
  },
  {
   "cell_type": "code",
   "execution_count": 2127,
   "metadata": {},
   "outputs": [
    {
     "data": {
      "text/plain": [
       "puppo\n",
       "puppo    30\n",
       "Name: count, dtype: int64"
      ]
     },
     "execution_count": 2127,
     "metadata": {},
     "output_type": "execute_result"
    }
   ],
   "source": [
    "archive['puppo'].value_counts()"
   ]
  },
  {
   "cell_type": "code",
   "execution_count": 2128,
   "metadata": {},
   "outputs": [
    {
     "data": {
      "text/html": [
       "<div>\n",
       "<style scoped>\n",
       "    .dataframe tbody tr th:only-of-type {\n",
       "        vertical-align: middle;\n",
       "    }\n",
       "\n",
       "    .dataframe tbody tr th {\n",
       "        vertical-align: top;\n",
       "    }\n",
       "\n",
       "    .dataframe thead th {\n",
       "        text-align: right;\n",
       "    }\n",
       "</style>\n",
       "<table border=\"1\" class=\"dataframe\">\n",
       "  <thead>\n",
       "    <tr style=\"text-align: right;\">\n",
       "      <th></th>\n",
       "      <th>tweet_id</th>\n",
       "      <th>in_reply_to_status_id</th>\n",
       "      <th>in_reply_to_user_id</th>\n",
       "      <th>timestamp</th>\n",
       "      <th>source</th>\n",
       "      <th>text</th>\n",
       "      <th>retweeted_status_id</th>\n",
       "      <th>retweeted_status_user_id</th>\n",
       "      <th>retweeted_status_timestamp</th>\n",
       "      <th>expanded_urls</th>\n",
       "      <th>rating_numerator</th>\n",
       "      <th>rating_denominator</th>\n",
       "      <th>name</th>\n",
       "      <th>doggo</th>\n",
       "      <th>floofer</th>\n",
       "      <th>pupper</th>\n",
       "      <th>puppo</th>\n",
       "      <th>counter</th>\n",
       "    </tr>\n",
       "  </thead>\n",
       "  <tbody>\n",
       "    <tr>\n",
       "      <th>0</th>\n",
       "      <td>892420643555336193</td>\n",
       "      <td>NaN</td>\n",
       "      <td>NaN</td>\n",
       "      <td>2017-08-01 16:23:56 +0000</td>\n",
       "      <td>&lt;a href=\"http://twitter.com/download/iphone\" rel=\"nofollow\"&gt;Twitter for iPhone&lt;/a&gt;</td>\n",
       "      <td>This is Phineas. He's a mystical boy. Only ever appears in the hole of a donut. 13/10 https://t.co/MgUWQ76dJU</td>\n",
       "      <td>NaN</td>\n",
       "      <td>NaN</td>\n",
       "      <td>NaN</td>\n",
       "      <td>https://twitter.com/dog_rates/status/892420643555336193/photo/1</td>\n",
       "      <td>13</td>\n",
       "      <td>10</td>\n",
       "      <td>Phineas</td>\n",
       "      <td>NaN</td>\n",
       "      <td>NaN</td>\n",
       "      <td>NaN</td>\n",
       "      <td>NaN</td>\n",
       "      <td>0</td>\n",
       "    </tr>\n",
       "    <tr>\n",
       "      <th>1</th>\n",
       "      <td>892177421306343426</td>\n",
       "      <td>NaN</td>\n",
       "      <td>NaN</td>\n",
       "      <td>2017-08-01 00:17:27 +0000</td>\n",
       "      <td>&lt;a href=\"http://twitter.com/download/iphone\" rel=\"nofollow\"&gt;Twitter for iPhone&lt;/a&gt;</td>\n",
       "      <td>This is Tilly. She's just checking pup on you. Hopes you're doing ok. If not, she's available for pats, snugs, boops, the whole bit. 13/10 https://t.co/0Xxu71qeIV</td>\n",
       "      <td>NaN</td>\n",
       "      <td>NaN</td>\n",
       "      <td>NaN</td>\n",
       "      <td>https://twitter.com/dog_rates/status/892177421306343426/photo/1</td>\n",
       "      <td>13</td>\n",
       "      <td>10</td>\n",
       "      <td>Tilly</td>\n",
       "      <td>NaN</td>\n",
       "      <td>NaN</td>\n",
       "      <td>NaN</td>\n",
       "      <td>NaN</td>\n",
       "      <td>0</td>\n",
       "    </tr>\n",
       "    <tr>\n",
       "      <th>2</th>\n",
       "      <td>891815181378084864</td>\n",
       "      <td>NaN</td>\n",
       "      <td>NaN</td>\n",
       "      <td>2017-07-31 00:18:03 +0000</td>\n",
       "      <td>&lt;a href=\"http://twitter.com/download/iphone\" rel=\"nofollow\"&gt;Twitter for iPhone&lt;/a&gt;</td>\n",
       "      <td>This is Archie. He is a rare Norwegian Pouncing Corgo. Lives in the tall grass. You never know when one may strike. 12/10 https://t.co/wUnZnhtVJB</td>\n",
       "      <td>NaN</td>\n",
       "      <td>NaN</td>\n",
       "      <td>NaN</td>\n",
       "      <td>https://twitter.com/dog_rates/status/891815181378084864/photo/1</td>\n",
       "      <td>12</td>\n",
       "      <td>10</td>\n",
       "      <td>Archie</td>\n",
       "      <td>NaN</td>\n",
       "      <td>NaN</td>\n",
       "      <td>NaN</td>\n",
       "      <td>NaN</td>\n",
       "      <td>0</td>\n",
       "    </tr>\n",
       "    <tr>\n",
       "      <th>3</th>\n",
       "      <td>891689557279858688</td>\n",
       "      <td>NaN</td>\n",
       "      <td>NaN</td>\n",
       "      <td>2017-07-30 15:58:51 +0000</td>\n",
       "      <td>&lt;a href=\"http://twitter.com/download/iphone\" rel=\"nofollow\"&gt;Twitter for iPhone&lt;/a&gt;</td>\n",
       "      <td>This is Darla. She commenced a snooze mid meal. 13/10 happens to the best of us https://t.co/tD36da7qLQ</td>\n",
       "      <td>NaN</td>\n",
       "      <td>NaN</td>\n",
       "      <td>NaN</td>\n",
       "      <td>https://twitter.com/dog_rates/status/891689557279858688/photo/1</td>\n",
       "      <td>13</td>\n",
       "      <td>10</td>\n",
       "      <td>Darla</td>\n",
       "      <td>NaN</td>\n",
       "      <td>NaN</td>\n",
       "      <td>NaN</td>\n",
       "      <td>NaN</td>\n",
       "      <td>0</td>\n",
       "    </tr>\n",
       "    <tr>\n",
       "      <th>4</th>\n",
       "      <td>891327558926688256</td>\n",
       "      <td>NaN</td>\n",
       "      <td>NaN</td>\n",
       "      <td>2017-07-29 16:00:24 +0000</td>\n",
       "      <td>&lt;a href=\"http://twitter.com/download/iphone\" rel=\"nofollow\"&gt;Twitter for iPhone&lt;/a&gt;</td>\n",
       "      <td>This is Franklin. He would like you to stop calling him \"cute.\" He is a very fierce shark and should be respected as such. 12/10 #BarkWeek https://t.co/AtUZn91f7f</td>\n",
       "      <td>NaN</td>\n",
       "      <td>NaN</td>\n",
       "      <td>NaN</td>\n",
       "      <td>https://twitter.com/dog_rates/status/891327558926688256/photo/1,https://twitter.com/dog_rates/status/891327558926688256/photo/1</td>\n",
       "      <td>12</td>\n",
       "      <td>10</td>\n",
       "      <td>Franklin</td>\n",
       "      <td>NaN</td>\n",
       "      <td>NaN</td>\n",
       "      <td>NaN</td>\n",
       "      <td>NaN</td>\n",
       "      <td>0</td>\n",
       "    </tr>\n",
       "  </tbody>\n",
       "</table>\n",
       "</div>"
      ],
      "text/plain": [
       "             tweet_id  in_reply_to_status_id  in_reply_to_user_id  \\\n",
       "0  892420643555336193                    NaN                  NaN   \n",
       "1  892177421306343426                    NaN                  NaN   \n",
       "2  891815181378084864                    NaN                  NaN   \n",
       "3  891689557279858688                    NaN                  NaN   \n",
       "4  891327558926688256                    NaN                  NaN   \n",
       "\n",
       "                   timestamp  \\\n",
       "0  2017-08-01 16:23:56 +0000   \n",
       "1  2017-08-01 00:17:27 +0000   \n",
       "2  2017-07-31 00:18:03 +0000   \n",
       "3  2017-07-30 15:58:51 +0000   \n",
       "4  2017-07-29 16:00:24 +0000   \n",
       "\n",
       "                                                                               source  \\\n",
       "0  <a href=\"http://twitter.com/download/iphone\" rel=\"nofollow\">Twitter for iPhone</a>   \n",
       "1  <a href=\"http://twitter.com/download/iphone\" rel=\"nofollow\">Twitter for iPhone</a>   \n",
       "2  <a href=\"http://twitter.com/download/iphone\" rel=\"nofollow\">Twitter for iPhone</a>   \n",
       "3  <a href=\"http://twitter.com/download/iphone\" rel=\"nofollow\">Twitter for iPhone</a>   \n",
       "4  <a href=\"http://twitter.com/download/iphone\" rel=\"nofollow\">Twitter for iPhone</a>   \n",
       "\n",
       "                                                                                                                                                                 text  \\\n",
       "0                                                       This is Phineas. He's a mystical boy. Only ever appears in the hole of a donut. 13/10 https://t.co/MgUWQ76dJU   \n",
       "1  This is Tilly. She's just checking pup on you. Hopes you're doing ok. If not, she's available for pats, snugs, boops, the whole bit. 13/10 https://t.co/0Xxu71qeIV   \n",
       "2                   This is Archie. He is a rare Norwegian Pouncing Corgo. Lives in the tall grass. You never know when one may strike. 12/10 https://t.co/wUnZnhtVJB   \n",
       "3                                                             This is Darla. She commenced a snooze mid meal. 13/10 happens to the best of us https://t.co/tD36da7qLQ   \n",
       "4  This is Franklin. He would like you to stop calling him \"cute.\" He is a very fierce shark and should be respected as such. 12/10 #BarkWeek https://t.co/AtUZn91f7f   \n",
       "\n",
       "   retweeted_status_id  retweeted_status_user_id retweeted_status_timestamp  \\\n",
       "0                  NaN                       NaN                        NaN   \n",
       "1                  NaN                       NaN                        NaN   \n",
       "2                  NaN                       NaN                        NaN   \n",
       "3                  NaN                       NaN                        NaN   \n",
       "4                  NaN                       NaN                        NaN   \n",
       "\n",
       "                                                                                                                     expanded_urls  \\\n",
       "0                                                                  https://twitter.com/dog_rates/status/892420643555336193/photo/1   \n",
       "1                                                                  https://twitter.com/dog_rates/status/892177421306343426/photo/1   \n",
       "2                                                                  https://twitter.com/dog_rates/status/891815181378084864/photo/1   \n",
       "3                                                                  https://twitter.com/dog_rates/status/891689557279858688/photo/1   \n",
       "4  https://twitter.com/dog_rates/status/891327558926688256/photo/1,https://twitter.com/dog_rates/status/891327558926688256/photo/1   \n",
       "\n",
       "   rating_numerator  rating_denominator      name doggo floofer pupper puppo  \\\n",
       "0                13                  10   Phineas   NaN     NaN    NaN   NaN   \n",
       "1                13                  10     Tilly   NaN     NaN    NaN   NaN   \n",
       "2                12                  10    Archie   NaN     NaN    NaN   NaN   \n",
       "3                13                  10     Darla   NaN     NaN    NaN   NaN   \n",
       "4                12                  10  Franklin   NaN     NaN    NaN   NaN   \n",
       "\n",
       "   counter  \n",
       "0        0  \n",
       "1        0  \n",
       "2        0  \n",
       "3        0  \n",
       "4        0  "
      ]
     },
     "execution_count": 2128,
     "metadata": {},
     "output_type": "execute_result"
    }
   ],
   "source": [
    "# Create a column named `counter` that counts the number of dog stages each observation has\n",
    "\n",
    "dog_stage = ['doggo','floofer','pupper','puppo']\n",
    "archive['counter'] = 0\n",
    "\n",
    "archive['counter'] += archive.apply(lambda row: sum(1 for col in dog_stage if not pd.isna(row[col])), axis = 1)\n",
    "\n",
    "archive.head()\n",
    "\n"
   ]
  },
  {
   "cell_type": "code",
   "execution_count": 2129,
   "metadata": {},
   "outputs": [
    {
     "data": {
      "text/plain": [
       "counter\n",
       "0    1976\n",
       "1     366\n",
       "2      14\n",
       "Name: count, dtype: int64"
      ]
     },
     "execution_count": 2129,
     "metadata": {},
     "output_type": "execute_result"
    }
   ],
   "source": [
    "# Check how many dogs have multiple dog stages\n",
    "archive['counter'].value_counts() #-> 14 dogs"
   ]
  },
  {
   "cell_type": "markdown",
   "metadata": {},
   "source": [
    "### b. `predictions`"
   ]
  },
  {
   "cell_type": "code",
   "execution_count": 2130,
   "metadata": {},
   "outputs": [
    {
     "name": "stdout",
     "output_type": "stream",
     "text": [
      "<class 'pandas.core.frame.DataFrame'>\n",
      "RangeIndex: 2075 entries, 0 to 2074\n",
      "Data columns (total 12 columns):\n",
      " #   Column    Non-Null Count  Dtype  \n",
      "---  ------    --------------  -----  \n",
      " 0   tweet_id  2075 non-null   int64  \n",
      " 1   jpg_url   2075 non-null   object \n",
      " 2   img_num   2075 non-null   int64  \n",
      " 3   p1        2075 non-null   object \n",
      " 4   p1_conf   2075 non-null   float64\n",
      " 5   p1_dog    2075 non-null   bool   \n",
      " 6   p2        2075 non-null   object \n",
      " 7   p2_conf   2075 non-null   float64\n",
      " 8   p2_dog    2075 non-null   bool   \n",
      " 9   p3        2075 non-null   object \n",
      " 10  p3_conf   2075 non-null   float64\n",
      " 11  p3_dog    2075 non-null   bool   \n",
      "dtypes: bool(3), float64(3), int64(2), object(4)\n",
      "memory usage: 152.1+ KB\n"
     ]
    },
    {
     "data": {
      "text/html": [
       "<div>\n",
       "<style scoped>\n",
       "    .dataframe tbody tr th:only-of-type {\n",
       "        vertical-align: middle;\n",
       "    }\n",
       "\n",
       "    .dataframe tbody tr th {\n",
       "        vertical-align: top;\n",
       "    }\n",
       "\n",
       "    .dataframe thead th {\n",
       "        text-align: right;\n",
       "    }\n",
       "</style>\n",
       "<table border=\"1\" class=\"dataframe\">\n",
       "  <thead>\n",
       "    <tr style=\"text-align: right;\">\n",
       "      <th></th>\n",
       "      <th>tweet_id</th>\n",
       "      <th>jpg_url</th>\n",
       "      <th>img_num</th>\n",
       "      <th>p1</th>\n",
       "      <th>p1_conf</th>\n",
       "      <th>p1_dog</th>\n",
       "      <th>p2</th>\n",
       "      <th>p2_conf</th>\n",
       "      <th>p2_dog</th>\n",
       "      <th>p3</th>\n",
       "      <th>p3_conf</th>\n",
       "      <th>p3_dog</th>\n",
       "    </tr>\n",
       "  </thead>\n",
       "  <tbody>\n",
       "    <tr>\n",
       "      <th>1690</th>\n",
       "      <td>815736392542261248</td>\n",
       "      <td>https://pbs.twimg.com/media/C1IT6rVXUAIvwYT.jpg</td>\n",
       "      <td>3</td>\n",
       "      <td>Border_collie</td>\n",
       "      <td>0.548907</td>\n",
       "      <td>True</td>\n",
       "      <td>Cardigan</td>\n",
       "      <td>0.178523</td>\n",
       "      <td>True</td>\n",
       "      <td>collie</td>\n",
       "      <td>0.146351</td>\n",
       "      <td>True</td>\n",
       "    </tr>\n",
       "    <tr>\n",
       "      <th>1594</th>\n",
       "      <td>798697898615730177</td>\n",
       "      <td>https://pbs.twimg.com/media/CeRoBaxWEAABi0X.jpg</td>\n",
       "      <td>1</td>\n",
       "      <td>Labrador_retriever</td>\n",
       "      <td>0.868671</td>\n",
       "      <td>True</td>\n",
       "      <td>carton</td>\n",
       "      <td>0.095095</td>\n",
       "      <td>False</td>\n",
       "      <td>pug</td>\n",
       "      <td>0.007651</td>\n",
       "      <td>True</td>\n",
       "    </tr>\n",
       "    <tr>\n",
       "      <th>507</th>\n",
       "      <td>676089483918516224</td>\n",
       "      <td>https://pbs.twimg.com/media/CWHzzFGXIAA0Y_H.jpg</td>\n",
       "      <td>1</td>\n",
       "      <td>bull_mastiff</td>\n",
       "      <td>0.743808</td>\n",
       "      <td>True</td>\n",
       "      <td>boxer</td>\n",
       "      <td>0.106697</td>\n",
       "      <td>True</td>\n",
       "      <td>American_Staffordshire_terrier</td>\n",
       "      <td>0.042335</td>\n",
       "      <td>True</td>\n",
       "    </tr>\n",
       "    <tr>\n",
       "      <th>153</th>\n",
       "      <td>668655139528511488</td>\n",
       "      <td>https://pbs.twimg.com/media/CUeKTeYW4AEr_lx.jpg</td>\n",
       "      <td>1</td>\n",
       "      <td>beagle</td>\n",
       "      <td>0.319110</td>\n",
       "      <td>True</td>\n",
       "      <td>Italian_greyhound</td>\n",
       "      <td>0.103338</td>\n",
       "      <td>True</td>\n",
       "      <td>basenji</td>\n",
       "      <td>0.091930</td>\n",
       "      <td>True</td>\n",
       "    </tr>\n",
       "    <tr>\n",
       "      <th>749</th>\n",
       "      <td>687818504314159109</td>\n",
       "      <td>https://pbs.twimg.com/media/CYufR8_WQAAWCqo.jpg</td>\n",
       "      <td>1</td>\n",
       "      <td>Lakeland_terrier</td>\n",
       "      <td>0.873029</td>\n",
       "      <td>True</td>\n",
       "      <td>soft-coated_wheaten_terrier</td>\n",
       "      <td>0.060924</td>\n",
       "      <td>True</td>\n",
       "      <td>toy_poodle</td>\n",
       "      <td>0.017031</td>\n",
       "      <td>True</td>\n",
       "    </tr>\n",
       "  </tbody>\n",
       "</table>\n",
       "</div>"
      ],
      "text/plain": [
       "                tweet_id                                          jpg_url  \\\n",
       "1690  815736392542261248  https://pbs.twimg.com/media/C1IT6rVXUAIvwYT.jpg   \n",
       "1594  798697898615730177  https://pbs.twimg.com/media/CeRoBaxWEAABi0X.jpg   \n",
       "507   676089483918516224  https://pbs.twimg.com/media/CWHzzFGXIAA0Y_H.jpg   \n",
       "153   668655139528511488  https://pbs.twimg.com/media/CUeKTeYW4AEr_lx.jpg   \n",
       "749   687818504314159109  https://pbs.twimg.com/media/CYufR8_WQAAWCqo.jpg   \n",
       "\n",
       "      img_num                  p1   p1_conf  p1_dog  \\\n",
       "1690        3       Border_collie  0.548907    True   \n",
       "1594        1  Labrador_retriever  0.868671    True   \n",
       "507         1        bull_mastiff  0.743808    True   \n",
       "153         1              beagle  0.319110    True   \n",
       "749         1    Lakeland_terrier  0.873029    True   \n",
       "\n",
       "                               p2   p2_conf  p2_dog  \\\n",
       "1690                     Cardigan  0.178523    True   \n",
       "1594                       carton  0.095095   False   \n",
       "507                         boxer  0.106697    True   \n",
       "153             Italian_greyhound  0.103338    True   \n",
       "749   soft-coated_wheaten_terrier  0.060924    True   \n",
       "\n",
       "                                  p3   p3_conf  p3_dog  \n",
       "1690                          collie  0.146351    True  \n",
       "1594                             pug  0.007651    True  \n",
       "507   American_Staffordshire_terrier  0.042335    True  \n",
       "153                          basenji  0.091930    True  \n",
       "749                       toy_poodle  0.017031    True  "
      ]
     },
     "execution_count": 2130,
     "metadata": {},
     "output_type": "execute_result"
    }
   ],
   "source": [
    "predictions.info()\n",
    "predictions.sample(5)"
   ]
  },
  {
   "cell_type": "markdown",
   "metadata": {},
   "source": [
    "`predictions` columns:\n",
    "- `tweet_id`: mentioned before\n",
    "- `jpg_url`: dogs' image url\n",
    "- `img_num`: the image number that corresponded to the most confident prediction (1 to 4, since tweets can have up to 4  images)\n",
    "- `p1` / `p2` / `p3`: result of dogs that the #x (pX) algorithm to predict the image in the tweet\n",
    "- `p1_conf` / `p2_conf` / `p3_conf`: how confident the algorithm is in its pX predictions\n",
    "- `p1_dog` / `p2_dog` / `p3_dog`: whether or not the #x prediction is that breed of dog"
   ]
  },
  {
   "cell_type": "code",
   "execution_count": 2131,
   "metadata": {},
   "outputs": [
    {
     "name": "stdout",
     "output_type": "stream",
     "text": [
      "0\n",
      "0\n",
      "66\n"
     ]
    }
   ],
   "source": [
    "# Check if there's any duplicated rows\n",
    "print(sum(predictions.duplicated()))\n",
    "\n",
    "# Check if there's any duplicated `tweet_id`\n",
    "print(sum(predictions.duplicated('tweet_id')))\n",
    "\n",
    "# Count number of duplicated `jpg_url` in predictions. (return True -> = 1, False = 0)\n",
    "print(sum(predictions.duplicated('jpg_url')))"
   ]
  },
  {
   "cell_type": "code",
   "execution_count": 2132,
   "metadata": {},
   "outputs": [
    {
     "data": {
      "text/plain": [
       "0"
      ]
     },
     "execution_count": 2132,
     "metadata": {},
     "output_type": "execute_result"
    }
   ],
   "source": [
    "# Check if duplications are related to retweet?\n",
    "sum(archive[archive['tweet_id'].isin(predictions[predictions.duplicated('jpg_url')]['tweet_id'])]['retweeted_status_id'].isna())\n",
    "#  -> all duplicated records have values in retweets (not null) => the duplications are indeed retweets\n"
   ]
  },
  {
   "cell_type": "code",
   "execution_count": 2133,
   "metadata": {},
   "outputs": [
    {
     "data": {
      "text/plain": [
       "0"
      ]
     },
     "execution_count": 2133,
     "metadata": {},
     "output_type": "execute_result"
    }
   ],
   "source": [
    "# Check if the value in `px_conf` is <= 1?\n",
    "sum(\n",
    "    (predictions['p1_conf'] >1) |\n",
    "    (predictions['p2_conf'] >1) |\n",
    "    (predictions['p3_conf'] >1)\n",
    "    )\n",
    "# => No -> reasonable"
   ]
  },
  {
   "cell_type": "markdown",
   "metadata": {},
   "source": [
    "### c. `tweet`"
   ]
  },
  {
   "cell_type": "code",
   "execution_count": 2134,
   "metadata": {},
   "outputs": [
    {
     "name": "stdout",
     "output_type": "stream",
     "text": [
      "<class 'pandas.core.frame.DataFrame'>\n",
      "RangeIndex: 2354 entries, 0 to 2353\n",
      "Data columns (total 31 columns):\n",
      " #   Column                         Non-Null Count  Dtype              \n",
      "---  ------                         --------------  -----              \n",
      " 0   created_at                     2354 non-null   datetime64[ns, UTC]\n",
      " 1   id                             2354 non-null   int64              \n",
      " 2   id_str                         2354 non-null   int64              \n",
      " 3   full_text                      2354 non-null   object             \n",
      " 4   truncated                      2354 non-null   bool               \n",
      " 5   display_text_range             2354 non-null   object             \n",
      " 6   entities                       2354 non-null   object             \n",
      " 7   extended_entities              2073 non-null   object             \n",
      " 8   source                         2354 non-null   object             \n",
      " 9   in_reply_to_status_id          78 non-null     float64            \n",
      " 10  in_reply_to_status_id_str      78 non-null     float64            \n",
      " 11  in_reply_to_user_id            78 non-null     float64            \n",
      " 12  in_reply_to_user_id_str        78 non-null     float64            \n",
      " 13  in_reply_to_screen_name        78 non-null     object             \n",
      " 14  user                           2354 non-null   object             \n",
      " 15  geo                            0 non-null      float64            \n",
      " 16  coordinates                    0 non-null      float64            \n",
      " 17  place                          1 non-null      object             \n",
      " 18  contributors                   0 non-null      float64            \n",
      " 19  is_quote_status                2354 non-null   bool               \n",
      " 20  retweet_count                  2354 non-null   int64              \n",
      " 21  favorite_count                 2354 non-null   int64              \n",
      " 22  favorited                      2354 non-null   bool               \n",
      " 23  retweeted                      2354 non-null   bool               \n",
      " 24  possibly_sensitive             2211 non-null   float64            \n",
      " 25  possibly_sensitive_appealable  2211 non-null   float64            \n",
      " 26  lang                           2354 non-null   object             \n",
      " 27  retweeted_status               179 non-null    object             \n",
      " 28  quoted_status_id               29 non-null     float64            \n",
      " 29  quoted_status_id_str           29 non-null     float64            \n",
      " 30  quoted_status                  28 non-null     object             \n",
      "dtypes: bool(4), datetime64[ns, UTC](1), float64(11), int64(4), object(11)\n",
      "memory usage: 505.9+ KB\n"
     ]
    }
   ],
   "source": [
    "tweet.info()"
   ]
  },
  {
   "cell_type": "code",
   "execution_count": 2135,
   "metadata": {},
   "outputs": [
    {
     "data": {
      "text/html": [
       "<div>\n",
       "<style scoped>\n",
       "    .dataframe tbody tr th:only-of-type {\n",
       "        vertical-align: middle;\n",
       "    }\n",
       "\n",
       "    .dataframe tbody tr th {\n",
       "        vertical-align: top;\n",
       "    }\n",
       "\n",
       "    .dataframe thead th {\n",
       "        text-align: right;\n",
       "    }\n",
       "</style>\n",
       "<table border=\"1\" class=\"dataframe\">\n",
       "  <thead>\n",
       "    <tr style=\"text-align: right;\">\n",
       "      <th></th>\n",
       "      <th>created_at</th>\n",
       "      <th>id</th>\n",
       "      <th>id_str</th>\n",
       "      <th>full_text</th>\n",
       "      <th>truncated</th>\n",
       "      <th>display_text_range</th>\n",
       "      <th>entities</th>\n",
       "      <th>extended_entities</th>\n",
       "      <th>source</th>\n",
       "      <th>in_reply_to_status_id</th>\n",
       "      <th>in_reply_to_status_id_str</th>\n",
       "      <th>in_reply_to_user_id</th>\n",
       "      <th>in_reply_to_user_id_str</th>\n",
       "      <th>in_reply_to_screen_name</th>\n",
       "      <th>user</th>\n",
       "      <th>geo</th>\n",
       "      <th>coordinates</th>\n",
       "      <th>place</th>\n",
       "      <th>contributors</th>\n",
       "      <th>is_quote_status</th>\n",
       "      <th>retweet_count</th>\n",
       "      <th>favorite_count</th>\n",
       "      <th>favorited</th>\n",
       "      <th>retweeted</th>\n",
       "      <th>possibly_sensitive</th>\n",
       "      <th>possibly_sensitive_appealable</th>\n",
       "      <th>lang</th>\n",
       "      <th>retweeted_status</th>\n",
       "      <th>quoted_status_id</th>\n",
       "      <th>quoted_status_id_str</th>\n",
       "      <th>quoted_status</th>\n",
       "    </tr>\n",
       "  </thead>\n",
       "  <tbody>\n",
       "    <tr>\n",
       "      <th>99</th>\n",
       "      <td>2017-06-08 14:20:41+00:00</td>\n",
       "      <td>872820683541237760</td>\n",
       "      <td>872820683541237760</td>\n",
       "      <td>Here are my favorite #dogsatpollingstations \\nMost voted for a more consistent walking schedule and to increase daily pats tenfold. All 13/10 https://t.co/17FVMl4VZ5</td>\n",
       "      <td>False</td>\n",
       "      <td>[0, 140]</td>\n",
       "      <td>{'hashtags': [{'text': 'dogsatpollingstations', 'indices': [21, 43]}], 'symbols': [], 'user_mentions': [], 'urls': [], 'media': [{'id': 872820673743376386, 'id_str': '872820673743376386', 'indices': [141, 164], 'media_url': 'http://pbs.twimg.com/media/DBzhx0MXUAI5spb.jpg', 'media_url_https': 'https://pbs.twimg.com/media/DBzhx0MXUAI5spb.jpg', 'url': 'https://t.co/17FVMl4VZ5', 'display_url': 'pic.twitter.com/17FVMl4VZ5', 'expanded_url': 'https://twitter.com/dog_rates/status/872820683541237760/photo/1', 'type': 'photo', 'sizes': {'medium': {'w': 583, 'h': 479, 'resize': 'fit'}, 'small': {'w': 583, 'h': 479, 'resize': 'fit'}, 'thumb': {'w': 150, 'h': 150, 'resize': 'crop'}, 'large': {'w': 583, 'h': 479, 'resize': 'fit'}}}]}</td>\n",
       "      <td>{'media': [{'id': 872820673743376386, 'id_str': '872820673743376386', 'indices': [141, 164], 'media_url': 'http://pbs.twimg.com/media/DBzhx0MXUAI5spb.jpg', 'media_url_https': 'https://pbs.twimg.com/media/DBzhx0MXUAI5spb.jpg', 'url': 'https://t.co/17FVMl4VZ5', 'display_url': 'pic.twitter.com/17FVMl4VZ5', 'expanded_url': 'https://twitter.com/dog_rates/status/872820683541237760/photo/1', 'type': 'photo', 'sizes': {'medium': {'w': 583, 'h': 479, 'resize': 'fit'}, 'small': {'w': 583, 'h': 479, 'resize': 'fit'}, 'thumb': {'w': 150, 'h': 150, 'resize': 'crop'}, 'large': {'w': 583, 'h': 479, 'resize': 'fit'}}}, {'id': 872820673735000064, 'id_str': '872820673735000064', 'indices': [141, 164], 'media_url': 'http://pbs.twimg.com/media/DBzhx0KXgAAWHV8.jpg', 'media_url_https': 'https://pbs.twimg.com/media/DBzhx0KXgAAWHV8.jpg', 'url': 'https://t.co/17FVMl4VZ5', 'display_url': 'pic.twitter.com/17FVMl4VZ5', 'expanded_url': 'https://twitter.com/dog_rates/status/872820683541237760/photo/1', 'type': 'photo', 'sizes': {'medium': {'w': 900, 'h': 1200, 'resize': 'fit'}, 'thumb': {'w': 150, 'h': 150, 'resize': 'crop'}, 'small': {'w': 510, 'h': 680, 'resize': 'fit'}, 'large': {'w': 1536, 'h': 2048, 'resize': 'fit'}}}, {'id': 872820673755873281, 'id_str': '872820673755873281', 'indices': [141, 164], 'media_url': 'http://pbs.twimg.com/media/DBzhx0PWAAEhl0E.jpg', 'media_url_https': 'https://pbs.twimg.com/media/DBzhx0PWAAEhl0E.jpg', 'url': 'https://t.co/17FVMl4VZ5', 'display_url': 'pic.twitter.com/17FVMl4VZ5', 'expanded_url': 'https://twitter.com/dog_rates/status/872820683541237760/photo/1', 'type': 'photo', 'sizes': {'large': {'w': 583, 'h': 777, 'resize': 'fit'}, 'thumb': {'w': 150, 'h': 150, 'resize': 'crop'}, 'medium': {'w': 583, 'h': 777, 'resize': 'fit'}, 'small': {'w': 510, 'h': 680, 'resize': 'fit'}}}, {'id': 872820673747591168, 'id_str': '872820673747591168', 'indices': [141, 164], 'media_url': 'http://pbs.twimg.com/media/DBzhx0NXoAAdwht.jpg', 'media_url_https': 'https://pbs.twimg.com/media/DBzhx0NXoAAdwht.jpg', 'url': 'https://t.co/17FVMl4VZ5', 'display_url': 'pic.twitter.com/17FVMl4VZ5', 'expanded_url': 'https://twitter.com/dog_rates/status/872820683541237760/photo/1', 'type': 'photo', 'sizes': {'small': {'w': 575, 'h': 334, 'resize': 'fit'}, 'large': {'w': 575, 'h': 334, 'resize': 'fit'}, 'thumb': {'w': 150, 'h': 150, 'resize': 'crop'}, 'medium': {'w': 575, 'h': 334, 'resize': 'fit'}}}]}</td>\n",
       "      <td>&lt;a href=\"http://twitter.com/download/iphone\" rel=\"nofollow\"&gt;Twitter for iPhone&lt;/a&gt;</td>\n",
       "      <td>NaN</td>\n",
       "      <td>NaN</td>\n",
       "      <td>NaN</td>\n",
       "      <td>NaN</td>\n",
       "      <td>None</td>\n",
       "      <td>{'id': 4196983835, 'id_str': '4196983835', 'name': 'WeRateDogs™ (author)', 'screen_name': 'dog_rates', 'location': 'DM YOUR DOGS, WE WILL RATE', 'description': '#1 Source for Professional Dog Ratings | STORE: @ShopWeRateDogs | IG, FB &amp; SC: WeRateDogs MOBILE APP: @GoodDogsGame | Business: dogratingtwitter@gmail.com', 'url': 'https://t.co/N7sNNHAEXS', 'entities': {'url': {'urls': [{'url': 'https://t.co/N7sNNHAEXS', 'expanded_url': 'http://weratedogs.com', 'display_url': 'weratedogs.com', 'indices': [0, 23]}]}, 'description': {'urls': []}}, 'protected': False, 'followers_count': 3200891, 'friends_count': 104, 'listed_count': 2786, 'created_at': 'Sun Nov 15 21:41:29 +0000 2015', 'favourites_count': 114031, 'utc_offset': None, 'time_zone': None, 'geo_enabled': True, 'verified': True, 'statuses_count': 5288, 'lang': 'en', 'contributors_enabled': False, 'is_translator': False, 'is_translation_enabled': False, 'profile_background_color': '000000', 'profile_background_image_url': 'http://abs.twimg.com/images/themes/theme1/bg.png', 'profile_background_image_url_https': 'https://abs.twimg.com/images/themes/theme1/bg.png', 'profile_background_tile': False, 'profile_image_url': 'http://pbs.twimg.com/profile_images/861415328504569856/R2xOOfwe_normal.jpg', 'profile_image_url_https': 'https://pbs.twimg.com/profile_images/861415328504569856/R2xOOfwe_normal.jpg', 'profile_banner_url': 'https://pbs.twimg.com/profile_banners/4196983835/1501129017', 'profile_link_color': 'F5ABB5', 'profile_sidebar_border_color': '000000', 'profile_sidebar_fill_color': '000000', 'profile_text_color': '000000', 'profile_use_background_image': False, 'has_extended_profile': True, 'default_profile': False, 'default_profile_image': False, 'following': True, 'follow_request_sent': False, 'notifications': False, 'translator_type': 'none'}</td>\n",
       "      <td>NaN</td>\n",
       "      <td>NaN</td>\n",
       "      <td>None</td>\n",
       "      <td>NaN</td>\n",
       "      <td>False</td>\n",
       "      <td>3884</td>\n",
       "      <td>15029</td>\n",
       "      <td>False</td>\n",
       "      <td>False</td>\n",
       "      <td>0.0</td>\n",
       "      <td>0.0</td>\n",
       "      <td>en</td>\n",
       "      <td>NaN</td>\n",
       "      <td>NaN</td>\n",
       "      <td>NaN</td>\n",
       "      <td>NaN</td>\n",
       "    </tr>\n",
       "    <tr>\n",
       "      <th>1664</th>\n",
       "      <td>2015-12-31 22:57:47+00:00</td>\n",
       "      <td>682697186228989953</td>\n",
       "      <td>682697186228989952</td>\n",
       "      <td>NAAAAAAA ZAPENYAAAAA MABADI-CHIBAWAAA 12/10 https://t.co/Ny4iM6FDtz</td>\n",
       "      <td>False</td>\n",
       "      <td>[0, 67]</td>\n",
       "      <td>{'hashtags': [], 'symbols': [], 'user_mentions': [], 'urls': [], 'media': [{'id': 682697175697088514, 'id_str': '682697175697088514', 'indices': [44, 67], 'media_url': 'http://pbs.twimg.com/media/CXltdtaWYAIuX_V.jpg', 'media_url_https': 'https://pbs.twimg.com/media/CXltdtaWYAIuX_V.jpg', 'url': 'https://t.co/Ny4iM6FDtz', 'display_url': 'pic.twitter.com/Ny4iM6FDtz', 'expanded_url': 'https://twitter.com/dog_rates/status/682697186228989953/photo/1', 'type': 'photo', 'sizes': {'small': {'w': 340, 'h': 227, 'resize': 'fit'}, 'large': {'w': 960, 'h': 640, 'resize': 'fit'}, 'medium': {'w': 600, 'h': 400, 'resize': 'fit'}, 'thumb': {'w': 150, 'h': 150, 'resize': 'crop'}}}]}</td>\n",
       "      <td>{'media': [{'id': 682697175697088514, 'id_str': '682697175697088514', 'indices': [44, 67], 'media_url': 'http://pbs.twimg.com/media/CXltdtaWYAIuX_V.jpg', 'media_url_https': 'https://pbs.twimg.com/media/CXltdtaWYAIuX_V.jpg', 'url': 'https://t.co/Ny4iM6FDtz', 'display_url': 'pic.twitter.com/Ny4iM6FDtz', 'expanded_url': 'https://twitter.com/dog_rates/status/682697186228989953/photo/1', 'type': 'photo', 'sizes': {'small': {'w': 340, 'h': 227, 'resize': 'fit'}, 'large': {'w': 960, 'h': 640, 'resize': 'fit'}, 'medium': {'w': 600, 'h': 400, 'resize': 'fit'}, 'thumb': {'w': 150, 'h': 150, 'resize': 'crop'}}}]}</td>\n",
       "      <td>&lt;a href=\"http://twitter.com/download/iphone\" rel=\"nofollow\"&gt;Twitter for iPhone&lt;/a&gt;</td>\n",
       "      <td>NaN</td>\n",
       "      <td>NaN</td>\n",
       "      <td>NaN</td>\n",
       "      <td>NaN</td>\n",
       "      <td>None</td>\n",
       "      <td>{'id': 4196983835, 'id_str': '4196983835', 'name': 'WeRateDogs™ (author)', 'screen_name': 'dog_rates', 'location': 'DM YOUR DOGS, WE WILL RATE', 'description': '#1 Source for Professional Dog Ratings | STORE: @ShopWeRateDogs | IG, FB &amp; SC: WeRateDogs MOBILE APP: @GoodDogsGame | Business: dogratingtwitter@gmail.com', 'url': 'https://t.co/N7sNNHAEXS', 'entities': {'url': {'urls': [{'url': 'https://t.co/N7sNNHAEXS', 'expanded_url': 'http://weratedogs.com', 'display_url': 'weratedogs.com', 'indices': [0, 23]}]}, 'description': {'urls': []}}, 'protected': False, 'followers_count': 3200952, 'friends_count': 104, 'listed_count': 2805, 'created_at': 'Sun Nov 15 21:41:29 +0000 2015', 'favourites_count': 114031, 'utc_offset': None, 'time_zone': None, 'geo_enabled': True, 'verified': True, 'statuses_count': 5288, 'lang': 'en', 'contributors_enabled': False, 'is_translator': False, 'is_translation_enabled': False, 'profile_background_color': '000000', 'profile_background_image_url': 'http://abs.twimg.com/images/themes/theme1/bg.png', 'profile_background_image_url_https': 'https://abs.twimg.com/images/themes/theme1/bg.png', 'profile_background_tile': False, 'profile_image_url': 'http://pbs.twimg.com/profile_images/861415328504569856/R2xOOfwe_normal.jpg', 'profile_image_url_https': 'https://pbs.twimg.com/profile_images/861415328504569856/R2xOOfwe_normal.jpg', 'profile_banner_url': 'https://pbs.twimg.com/profile_banners/4196983835/1501129017', 'profile_link_color': 'F5ABB5', 'profile_sidebar_border_color': '000000', 'profile_sidebar_fill_color': '000000', 'profile_text_color': '000000', 'profile_use_background_image': False, 'has_extended_profile': True, 'default_profile': False, 'default_profile_image': False, 'following': True, 'follow_request_sent': False, 'notifications': False, 'translator_type': 'none'}</td>\n",
       "      <td>NaN</td>\n",
       "      <td>NaN</td>\n",
       "      <td>None</td>\n",
       "      <td>NaN</td>\n",
       "      <td>False</td>\n",
       "      <td>397</td>\n",
       "      <td>1440</td>\n",
       "      <td>False</td>\n",
       "      <td>False</td>\n",
       "      <td>0.0</td>\n",
       "      <td>0.0</td>\n",
       "      <td>in</td>\n",
       "      <td>NaN</td>\n",
       "      <td>NaN</td>\n",
       "      <td>NaN</td>\n",
       "      <td>NaN</td>\n",
       "    </tr>\n",
       "    <tr>\n",
       "      <th>1191</th>\n",
       "      <td>2016-04-06 02:21:30+00:00</td>\n",
       "      <td>717537687239008257</td>\n",
       "      <td>717537687239008256</td>\n",
       "      <td>People please. This is a Deadly Mediterranean Plop T-Rex. We only rate dogs. Only send in dogs. Thanks you... 11/10 https://t.co/2ATDsgHD4n</td>\n",
       "      <td>False</td>\n",
       "      <td>[0, 139]</td>\n",
       "      <td>{'hashtags': [], 'symbols': [], 'user_mentions': [], 'urls': [], 'media': [{'id': 717537679412486144, 'id_str': '717537679412486144', 'indices': [116, 139], 'media_url': 'http://pbs.twimg.com/media/CfU0t75W4AAUo9V.jpg', 'media_url_https': 'https://pbs.twimg.com/media/CfU0t75W4AAUo9V.jpg', 'url': 'https://t.co/2ATDsgHD4n', 'display_url': 'pic.twitter.com/2ATDsgHD4n', 'expanded_url': 'https://twitter.com/dog_rates/status/717537687239008257/photo/1', 'type': 'photo', 'sizes': {'large': {'w': 1024, 'h': 774, 'resize': 'fit'}, 'small': {'w': 340, 'h': 257, 'resize': 'fit'}, 'thumb': {'w': 150, 'h': 150, 'resize': 'crop'}, 'medium': {'w': 600, 'h': 454, 'resize': 'fit'}}}]}</td>\n",
       "      <td>{'media': [{'id': 717537679412486144, 'id_str': '717537679412486144', 'indices': [116, 139], 'media_url': 'http://pbs.twimg.com/media/CfU0t75W4AAUo9V.jpg', 'media_url_https': 'https://pbs.twimg.com/media/CfU0t75W4AAUo9V.jpg', 'url': 'https://t.co/2ATDsgHD4n', 'display_url': 'pic.twitter.com/2ATDsgHD4n', 'expanded_url': 'https://twitter.com/dog_rates/status/717537687239008257/photo/1', 'type': 'photo', 'sizes': {'large': {'w': 1024, 'h': 774, 'resize': 'fit'}, 'small': {'w': 340, 'h': 257, 'resize': 'fit'}, 'thumb': {'w': 150, 'h': 150, 'resize': 'crop'}, 'medium': {'w': 600, 'h': 454, 'resize': 'fit'}}}]}</td>\n",
       "      <td>&lt;a href=\"http://twitter.com/download/iphone\" rel=\"nofollow\"&gt;Twitter for iPhone&lt;/a&gt;</td>\n",
       "      <td>NaN</td>\n",
       "      <td>NaN</td>\n",
       "      <td>NaN</td>\n",
       "      <td>NaN</td>\n",
       "      <td>None</td>\n",
       "      <td>{'id': 4196983835, 'id_str': '4196983835', 'name': 'WeRateDogs™ (author)', 'screen_name': 'dog_rates', 'location': 'DM YOUR DOGS, WE WILL RATE', 'description': '#1 Source for Professional Dog Ratings | STORE: @ShopWeRateDogs | IG, FB &amp; SC: WeRateDogs MOBILE APP: @GoodDogsGame | Business: dogratingtwitter@gmail.com', 'url': 'https://t.co/N7sNNHAEXS', 'entities': {'url': {'urls': [{'url': 'https://t.co/N7sNNHAEXS', 'expanded_url': 'http://weratedogs.com', 'display_url': 'weratedogs.com', 'indices': [0, 23]}]}, 'description': {'urls': []}}, 'protected': False, 'followers_count': 3200944, 'friends_count': 104, 'listed_count': 2803, 'created_at': 'Sun Nov 15 21:41:29 +0000 2015', 'favourites_count': 114031, 'utc_offset': None, 'time_zone': None, 'geo_enabled': True, 'verified': True, 'statuses_count': 5288, 'lang': 'en', 'contributors_enabled': False, 'is_translator': False, 'is_translation_enabled': False, 'profile_background_color': '000000', 'profile_background_image_url': 'http://abs.twimg.com/images/themes/theme1/bg.png', 'profile_background_image_url_https': 'https://abs.twimg.com/images/themes/theme1/bg.png', 'profile_background_tile': False, 'profile_image_url': 'http://pbs.twimg.com/profile_images/861415328504569856/R2xOOfwe_normal.jpg', 'profile_image_url_https': 'https://pbs.twimg.com/profile_images/861415328504569856/R2xOOfwe_normal.jpg', 'profile_banner_url': 'https://pbs.twimg.com/profile_banners/4196983835/1501129017', 'profile_link_color': 'F5ABB5', 'profile_sidebar_border_color': '000000', 'profile_sidebar_fill_color': '000000', 'profile_text_color': '000000', 'profile_use_background_image': False, 'has_extended_profile': True, 'default_profile': False, 'default_profile_image': False, 'following': True, 'follow_request_sent': False, 'notifications': False, 'translator_type': 'none'}</td>\n",
       "      <td>NaN</td>\n",
       "      <td>NaN</td>\n",
       "      <td>None</td>\n",
       "      <td>NaN</td>\n",
       "      <td>False</td>\n",
       "      <td>2069</td>\n",
       "      <td>6281</td>\n",
       "      <td>False</td>\n",
       "      <td>False</td>\n",
       "      <td>0.0</td>\n",
       "      <td>0.0</td>\n",
       "      <td>en</td>\n",
       "      <td>NaN</td>\n",
       "      <td>NaN</td>\n",
       "      <td>NaN</td>\n",
       "      <td>NaN</td>\n",
       "    </tr>\n",
       "    <tr>\n",
       "      <th>786</th>\n",
       "      <td>2016-09-10 16:03:16+00:00</td>\n",
       "      <td>774639387460112384</td>\n",
       "      <td>774639387460112384</td>\n",
       "      <td>This is Sprinkles. He's trapped in light jail. 10/10 would post bail for him https://t.co/4s5Xlijogu</td>\n",
       "      <td>False</td>\n",
       "      <td>[0, 76]</td>\n",
       "      <td>{'hashtags': [], 'symbols': [], 'user_mentions': [], 'urls': [], 'media': [{'id': 774639367960850432, 'id_str': '774639367960850432', 'indices': [77, 100], 'media_url': 'http://pbs.twimg.com/media/CsASZqRW8AA3Szw.jpg', 'media_url_https': 'https://pbs.twimg.com/media/CsASZqRW8AA3Szw.jpg', 'url': 'https://t.co/4s5Xlijogu', 'display_url': 'pic.twitter.com/4s5Xlijogu', 'expanded_url': 'https://twitter.com/dog_rates/status/774639387460112384/photo/1', 'type': 'photo', 'sizes': {'small': {'w': 680, 'h': 510, 'resize': 'fit'}, 'large': {'w': 2048, 'h': 1536, 'resize': 'fit'}, 'thumb': {'w': 150, 'h': 150, 'resize': 'crop'}, 'medium': {'w': 1200, 'h': 900, 'resize': 'fit'}}}]}</td>\n",
       "      <td>{'media': [{'id': 774639367960850432, 'id_str': '774639367960850432', 'indices': [77, 100], 'media_url': 'http://pbs.twimg.com/media/CsASZqRW8AA3Szw.jpg', 'media_url_https': 'https://pbs.twimg.com/media/CsASZqRW8AA3Szw.jpg', 'url': 'https://t.co/4s5Xlijogu', 'display_url': 'pic.twitter.com/4s5Xlijogu', 'expanded_url': 'https://twitter.com/dog_rates/status/774639387460112384/photo/1', 'type': 'photo', 'sizes': {'small': {'w': 680, 'h': 510, 'resize': 'fit'}, 'large': {'w': 2048, 'h': 1536, 'resize': 'fit'}, 'thumb': {'w': 150, 'h': 150, 'resize': 'crop'}, 'medium': {'w': 1200, 'h': 900, 'resize': 'fit'}}}, {'id': 774639367990173696, 'id_str': '774639367990173696', 'indices': [77, 100], 'media_url': 'http://pbs.twimg.com/media/CsASZqYWYAAKiQg.jpg', 'media_url_https': 'https://pbs.twimg.com/media/CsASZqYWYAAKiQg.jpg', 'url': 'https://t.co/4s5Xlijogu', 'display_url': 'pic.twitter.com/4s5Xlijogu', 'expanded_url': 'https://twitter.com/dog_rates/status/774639387460112384/photo/1', 'type': 'photo', 'sizes': {'small': {'w': 680, 'h': 510, 'resize': 'fit'}, 'medium': {'w': 1200, 'h': 900, 'resize': 'fit'}, 'thumb': {'w': 150, 'h': 150, 'resize': 'crop'}, 'large': {'w': 2048, 'h': 1536, 'resize': 'fit'}}}]}</td>\n",
       "      <td>&lt;a href=\"http://twitter.com/download/iphone\" rel=\"nofollow\"&gt;Twitter for iPhone&lt;/a&gt;</td>\n",
       "      <td>NaN</td>\n",
       "      <td>NaN</td>\n",
       "      <td>NaN</td>\n",
       "      <td>NaN</td>\n",
       "      <td>None</td>\n",
       "      <td>{'id': 4196983835, 'id_str': '4196983835', 'name': 'WeRateDogs™ (author)', 'screen_name': 'dog_rates', 'location': 'DM YOUR DOGS, WE WILL RATE', 'description': '#1 Source for Professional Dog Ratings | STORE: @ShopWeRateDogs | IG, FB &amp; SC: WeRateDogs MOBILE APP: @GoodDogsGame | Business: dogratingtwitter@gmail.com', 'url': 'https://t.co/N7sNNHAEXS', 'entities': {'url': {'urls': [{'url': 'https://t.co/N7sNNHAEXS', 'expanded_url': 'http://weratedogs.com', 'display_url': 'weratedogs.com', 'indices': [0, 23]}]}, 'description': {'urls': []}}, 'protected': False, 'followers_count': 3200904, 'friends_count': 104, 'listed_count': 2789, 'created_at': 'Sun Nov 15 21:41:29 +0000 2015', 'favourites_count': 114031, 'utc_offset': None, 'time_zone': None, 'geo_enabled': True, 'verified': True, 'statuses_count': 5288, 'lang': 'en', 'contributors_enabled': False, 'is_translator': False, 'is_translation_enabled': False, 'profile_background_color': '000000', 'profile_background_image_url': 'http://abs.twimg.com/images/themes/theme1/bg.png', 'profile_background_image_url_https': 'https://abs.twimg.com/images/themes/theme1/bg.png', 'profile_background_tile': False, 'profile_image_url': 'http://pbs.twimg.com/profile_images/861415328504569856/R2xOOfwe_normal.jpg', 'profile_image_url_https': 'https://pbs.twimg.com/profile_images/861415328504569856/R2xOOfwe_normal.jpg', 'profile_banner_url': 'https://pbs.twimg.com/profile_banners/4196983835/1501129017', 'profile_link_color': 'F5ABB5', 'profile_sidebar_border_color': '000000', 'profile_sidebar_fill_color': '000000', 'profile_text_color': '000000', 'profile_use_background_image': False, 'has_extended_profile': True, 'default_profile': False, 'default_profile_image': False, 'following': True, 'follow_request_sent': False, 'notifications': False, 'translator_type': 'none'}</td>\n",
       "      <td>NaN</td>\n",
       "      <td>NaN</td>\n",
       "      <td>None</td>\n",
       "      <td>NaN</td>\n",
       "      <td>False</td>\n",
       "      <td>2013</td>\n",
       "      <td>7508</td>\n",
       "      <td>False</td>\n",
       "      <td>False</td>\n",
       "      <td>0.0</td>\n",
       "      <td>0.0</td>\n",
       "      <td>en</td>\n",
       "      <td>NaN</td>\n",
       "      <td>NaN</td>\n",
       "      <td>NaN</td>\n",
       "      <td>NaN</td>\n",
       "    </tr>\n",
       "    <tr>\n",
       "      <th>538</th>\n",
       "      <td>2016-12-07 19:09:37+00:00</td>\n",
       "      <td>806576416489959424</td>\n",
       "      <td>806576416489959424</td>\n",
       "      <td>Hooman catch successful. Massive hit by dog. Fumble ensued. Possession to dog. 13/10 https://t.co/QrFkqgHR1G</td>\n",
       "      <td>False</td>\n",
       "      <td>[0, 84]</td>\n",
       "      <td>{'hashtags': [], 'symbols': [], 'user_mentions': [], 'urls': [{'url': 'https://t.co/QrFkqgHR1G', 'expanded_url': 'https://twitter.com/deadspin/status/806570933175652352', 'display_url': 'twitter.com/deadspin/statu…', 'indices': [85, 108]}]}</td>\n",
       "      <td>NaN</td>\n",
       "      <td>&lt;a href=\"http://twitter.com/download/iphone\" rel=\"nofollow\"&gt;Twitter for iPhone&lt;/a&gt;</td>\n",
       "      <td>NaN</td>\n",
       "      <td>NaN</td>\n",
       "      <td>NaN</td>\n",
       "      <td>NaN</td>\n",
       "      <td>None</td>\n",
       "      <td>{'id': 4196983835, 'id_str': '4196983835', 'name': 'WeRateDogs™ (author)', 'screen_name': 'dog_rates', 'location': 'DM YOUR DOGS, WE WILL RATE', 'description': '#1 Source for Professional Dog Ratings | STORE: @ShopWeRateDogs | IG, FB &amp; SC: WeRateDogs MOBILE APP: @GoodDogsGame | Business: dogratingtwitter@gmail.com', 'url': 'https://t.co/N7sNNHAEXS', 'entities': {'url': {'urls': [{'url': 'https://t.co/N7sNNHAEXS', 'expanded_url': 'http://weratedogs.com', 'display_url': 'weratedogs.com', 'indices': [0, 23]}]}, 'description': {'urls': []}}, 'protected': False, 'followers_count': 3200897, 'friends_count': 104, 'listed_count': 2788, 'created_at': 'Sun Nov 15 21:41:29 +0000 2015', 'favourites_count': 114031, 'utc_offset': None, 'time_zone': None, 'geo_enabled': True, 'verified': True, 'statuses_count': 5288, 'lang': 'en', 'contributors_enabled': False, 'is_translator': False, 'is_translation_enabled': False, 'profile_background_color': '000000', 'profile_background_image_url': 'http://abs.twimg.com/images/themes/theme1/bg.png', 'profile_background_image_url_https': 'https://abs.twimg.com/images/themes/theme1/bg.png', 'profile_background_tile': False, 'profile_image_url': 'http://pbs.twimg.com/profile_images/861415328504569856/R2xOOfwe_normal.jpg', 'profile_image_url_https': 'https://pbs.twimg.com/profile_images/861415328504569856/R2xOOfwe_normal.jpg', 'profile_banner_url': 'https://pbs.twimg.com/profile_banners/4196983835/1501129017', 'profile_link_color': 'F5ABB5', 'profile_sidebar_border_color': '000000', 'profile_sidebar_fill_color': '000000', 'profile_text_color': '000000', 'profile_use_background_image': False, 'has_extended_profile': True, 'default_profile': False, 'default_profile_image': False, 'following': True, 'follow_request_sent': False, 'notifications': False, 'translator_type': 'none'}</td>\n",
       "      <td>NaN</td>\n",
       "      <td>NaN</td>\n",
       "      <td>None</td>\n",
       "      <td>NaN</td>\n",
       "      <td>True</td>\n",
       "      <td>2230</td>\n",
       "      <td>5370</td>\n",
       "      <td>False</td>\n",
       "      <td>False</td>\n",
       "      <td>0.0</td>\n",
       "      <td>0.0</td>\n",
       "      <td>en</td>\n",
       "      <td>NaN</td>\n",
       "      <td>8.065709e+17</td>\n",
       "      <td>8.065709e+17</td>\n",
       "      <td>{'created_at': 'Wed Dec 07 18:47:50 +0000 2016', 'id': 806570933175652352, 'id_str': '806570933175652352', 'full_text': 'The sports highlight of the day is this dog: https://t.co/YeDjYgiBc5 https://t.co/6DkNhMzgJv', 'truncated': False, 'display_text_range': [0, 68], 'entities': {'hashtags': [], 'symbols': [], 'user_mentions': [], 'urls': [{'url': 'https://t.co/YeDjYgiBc5', 'expanded_url': 'http://deadsp.in/kc7EbMl', 'display_url': 'deadsp.in/kc7EbMl', 'indices': [45, 68]}], 'media': [{'id': 806570877513039879, 'id_str': '806570877513039879', 'indices': [69, 92], 'media_url': 'http://pbs.twimg.com/tweet_video_thumb/CzGD8JBXAAcJSfH.jpg', 'media_url_https': 'https://pbs.twimg.com/tweet_video_thumb/CzGD8JBXAAcJSfH.jpg', 'url': 'https://t.co/6DkNhMzgJv', 'display_url': 'pic.twitter.com/6DkNhMzgJv', 'expanded_url': 'https://twitter.com/Deadspin/status/806570933175652352/photo/1', 'type': 'photo', 'sizes': {'medium': {'w': 320, 'h': 240, 'resize': 'fit'}, 'large': {'w': 320, 'h': 240, 'resize': 'fit'}, 'thumb': {'w': 150, 'h': 150, 'resize': 'crop'}, 'small': {'w': 320, 'h': 240, 'resize': 'fit'}}}]}, 'extended_entities': {'media': [{'id': 806570877513039879, 'id_str': '806570877513039879', 'indices': [69, 92], 'media_url': 'http://pbs.twimg.com/tweet_video_thumb/CzGD8JBXAAcJSfH.jpg', 'media_url_https': 'https://pbs.twimg.com/tweet_video_thumb/CzGD8JBXAAcJSfH.jpg', 'url': 'https://t.co/6DkNhMzgJv', 'display_url': 'pic.twitter.com/6DkNhMzgJv', 'expanded_url': 'https://twitter.com/Deadspin/status/806570933175652352/photo/1', 'type': 'animated_gif', 'sizes': {'medium': {'w': 320, 'h': 240, 'resize': 'fit'}, 'large': {'w': 320, 'h': 240, 'resize': 'fit'}, 'thumb': {'w': 150, 'h': 150, 'resize': 'crop'}, 'small': {'w': 320, 'h': 240, 'resize': 'fit'}}, 'video_info': {'aspect_ratio': [4, 3], 'variants': [{'bitrate': 0, 'content_type': 'video/mp4', 'url': 'https://video.twimg.com/tweet_video/CzGD8JBXAAcJSfH.mp4'}]}}]}, 'source': '&lt;a href=\"http://www.socialflow.com\" rel=\"nofollow\"&gt;SocialFlow&lt;/a&gt;', 'in_reply_to_status_id': None, 'in_reply_to_status_id_str': None, 'in_reply_to_user_id': None, 'in_reply_to_user_id_str': None, 'in_reply_to_screen_name': None, 'user': {'id': 13213122, 'id_str': '13213122', 'name': 'Deadspin', 'screen_name': 'Deadspin', 'location': '', 'description': 'Sports News without Access, Favor, or Discretion. Contact us: tips@deadspin.com.', 'url': 'http://t.co/mhAF2P6Jmb', 'entities': {'url': {'urls': [{'url': 'http://t.co/mhAF2P6Jmb', 'expanded_url': 'http://deadspin.com', 'display_url': 'deadspin.com', 'indices': [0, 22]}]}, 'description': {'urls': []}}, 'protected': False, 'followers_count': 1069671, 'friends_count': 1549, 'listed_count': 13174, 'created_at': 'Thu Feb 07 17:38:57 +0000 2008', 'favourites_count': 64, 'utc_offset': -14400, 'time_zone': 'Eastern Time (US &amp; Canada)', 'geo_enabled': False, 'verified': True, 'statuses_count': 75613, 'lang': 'en', 'contributors_enabled': False, 'is_translator': False, 'is_translation_enabled': True, 'profile_background_color': 'FFFFFF', 'profile_background_image_url': 'http://pbs.twimg.com/profile_background_images/37612982/deadspin.jpg', 'profile_background_image_url_https': 'https://pbs.twimg.com/profile_background_images/37612982/deadspin.jpg', 'profile_background_tile': True, 'profile_image_url': 'http://pbs.twimg.com/profile_images/590240306353811456/Ee89NSpb_normal.png', 'profile_image_url_https': 'https://pbs.twimg.com/profile_images/590240306353811456/Ee89NSpb_normal.png', 'profile_banner_url': 'https://pbs.twimg.com/profile_banners/13213122/1423283211', 'profile_link_color': '405274', 'profile_sidebar_border_color': 'B3BCC1', 'profile_sidebar_fill_color': 'B3BCC1', 'profile_text_color': '000000', 'profile_use_background_image': False, 'has_extended_profile': False, 'default_profile': False, 'default_profile_image': False, 'following': False, 'follow_request_sent': False, 'notifications': False, 'translator_type': 'none'}, 'geo': None, 'coordinates': None, 'place': None, 'contributors': None, 'is_quote_status': False, 'retweet_count': 7947, 'favorite_count': 9557, 'favorited': False, 'retweeted': False, 'possibly_sensitive': False, 'possibly_sensitive_appealable': False, 'lang': 'en'}</td>\n",
       "    </tr>\n",
       "  </tbody>\n",
       "</table>\n",
       "</div>"
      ],
      "text/plain": [
       "                    created_at                  id              id_str  \\\n",
       "99   2017-06-08 14:20:41+00:00  872820683541237760  872820683541237760   \n",
       "1664 2015-12-31 22:57:47+00:00  682697186228989953  682697186228989952   \n",
       "1191 2016-04-06 02:21:30+00:00  717537687239008257  717537687239008256   \n",
       "786  2016-09-10 16:03:16+00:00  774639387460112384  774639387460112384   \n",
       "538  2016-12-07 19:09:37+00:00  806576416489959424  806576416489959424   \n",
       "\n",
       "                                                                                                                                                                  full_text  \\\n",
       "99    Here are my favorite #dogsatpollingstations \\nMost voted for a more consistent walking schedule and to increase daily pats tenfold. All 13/10 https://t.co/17FVMl4VZ5   \n",
       "1664                                                                                                    NAAAAAAA ZAPENYAAAAA MABADI-CHIBAWAAA 12/10 https://t.co/Ny4iM6FDtz   \n",
       "1191                            People please. This is a Deadly Mediterranean Plop T-Rex. We only rate dogs. Only send in dogs. Thanks you... 11/10 https://t.co/2ATDsgHD4n   \n",
       "786                                                                    This is Sprinkles. He's trapped in light jail. 10/10 would post bail for him https://t.co/4s5Xlijogu   \n",
       "538                                                            Hooman catch successful. Massive hit by dog. Fumble ensued. Possession to dog. 13/10 https://t.co/QrFkqgHR1G   \n",
       "\n",
       "      truncated display_text_range  \\\n",
       "99        False           [0, 140]   \n",
       "1664      False            [0, 67]   \n",
       "1191      False           [0, 139]   \n",
       "786       False            [0, 76]   \n",
       "538       False            [0, 84]   \n",
       "\n",
       "                                                                                                                                                                                                                                                                                                                                                                                                                                                                                                                                                                                                                                                                                                                                                       entities  \\\n",
       "99    {'hashtags': [{'text': 'dogsatpollingstations', 'indices': [21, 43]}], 'symbols': [], 'user_mentions': [], 'urls': [], 'media': [{'id': 872820673743376386, 'id_str': '872820673743376386', 'indices': [141, 164], 'media_url': 'http://pbs.twimg.com/media/DBzhx0MXUAI5spb.jpg', 'media_url_https': 'https://pbs.twimg.com/media/DBzhx0MXUAI5spb.jpg', 'url': 'https://t.co/17FVMl4VZ5', 'display_url': 'pic.twitter.com/17FVMl4VZ5', 'expanded_url': 'https://twitter.com/dog_rates/status/872820683541237760/photo/1', 'type': 'photo', 'sizes': {'medium': {'w': 583, 'h': 479, 'resize': 'fit'}, 'small': {'w': 583, 'h': 479, 'resize': 'fit'}, 'thumb': {'w': 150, 'h': 150, 'resize': 'crop'}, 'large': {'w': 583, 'h': 479, 'resize': 'fit'}}}]}   \n",
       "1664                                                          {'hashtags': [], 'symbols': [], 'user_mentions': [], 'urls': [], 'media': [{'id': 682697175697088514, 'id_str': '682697175697088514', 'indices': [44, 67], 'media_url': 'http://pbs.twimg.com/media/CXltdtaWYAIuX_V.jpg', 'media_url_https': 'https://pbs.twimg.com/media/CXltdtaWYAIuX_V.jpg', 'url': 'https://t.co/Ny4iM6FDtz', 'display_url': 'pic.twitter.com/Ny4iM6FDtz', 'expanded_url': 'https://twitter.com/dog_rates/status/682697186228989953/photo/1', 'type': 'photo', 'sizes': {'small': {'w': 340, 'h': 227, 'resize': 'fit'}, 'large': {'w': 960, 'h': 640, 'resize': 'fit'}, 'medium': {'w': 600, 'h': 400, 'resize': 'fit'}, 'thumb': {'w': 150, 'h': 150, 'resize': 'crop'}}}]}   \n",
       "1191                                                       {'hashtags': [], 'symbols': [], 'user_mentions': [], 'urls': [], 'media': [{'id': 717537679412486144, 'id_str': '717537679412486144', 'indices': [116, 139], 'media_url': 'http://pbs.twimg.com/media/CfU0t75W4AAUo9V.jpg', 'media_url_https': 'https://pbs.twimg.com/media/CfU0t75W4AAUo9V.jpg', 'url': 'https://t.co/2ATDsgHD4n', 'display_url': 'pic.twitter.com/2ATDsgHD4n', 'expanded_url': 'https://twitter.com/dog_rates/status/717537687239008257/photo/1', 'type': 'photo', 'sizes': {'large': {'w': 1024, 'h': 774, 'resize': 'fit'}, 'small': {'w': 340, 'h': 257, 'resize': 'fit'}, 'thumb': {'w': 150, 'h': 150, 'resize': 'crop'}, 'medium': {'w': 600, 'h': 454, 'resize': 'fit'}}}]}   \n",
       "786                                                       {'hashtags': [], 'symbols': [], 'user_mentions': [], 'urls': [], 'media': [{'id': 774639367960850432, 'id_str': '774639367960850432', 'indices': [77, 100], 'media_url': 'http://pbs.twimg.com/media/CsASZqRW8AA3Szw.jpg', 'media_url_https': 'https://pbs.twimg.com/media/CsASZqRW8AA3Szw.jpg', 'url': 'https://t.co/4s5Xlijogu', 'display_url': 'pic.twitter.com/4s5Xlijogu', 'expanded_url': 'https://twitter.com/dog_rates/status/774639387460112384/photo/1', 'type': 'photo', 'sizes': {'small': {'w': 680, 'h': 510, 'resize': 'fit'}, 'large': {'w': 2048, 'h': 1536, 'resize': 'fit'}, 'thumb': {'w': 150, 'h': 150, 'resize': 'crop'}, 'medium': {'w': 1200, 'h': 900, 'resize': 'fit'}}}]}   \n",
       "538                                                                                                                                                                                                                                                                                                                                                                                                                                                                                                            {'hashtags': [], 'symbols': [], 'user_mentions': [], 'urls': [{'url': 'https://t.co/QrFkqgHR1G', 'expanded_url': 'https://twitter.com/deadspin/status/806570933175652352', 'display_url': 'twitter.com/deadspin/statu…', 'indices': [85, 108]}]}   \n",
       "\n",
       "                                                                                                                                                                                                                                                                                                                                                                                                                                                                                                                                                                                                                                                                                                                                                                                                                                                                                                                                                                                                                                                                                                                                                                                                                                                                                                                                                                                                                                                                                                                                                                                                                                                                                                                                                                                                                                                                                                                                                                                                                                                                                                                                                                                                                                                                                                                                                                                                                                                                                                   extended_entities  \\\n",
       "99    {'media': [{'id': 872820673743376386, 'id_str': '872820673743376386', 'indices': [141, 164], 'media_url': 'http://pbs.twimg.com/media/DBzhx0MXUAI5spb.jpg', 'media_url_https': 'https://pbs.twimg.com/media/DBzhx0MXUAI5spb.jpg', 'url': 'https://t.co/17FVMl4VZ5', 'display_url': 'pic.twitter.com/17FVMl4VZ5', 'expanded_url': 'https://twitter.com/dog_rates/status/872820683541237760/photo/1', 'type': 'photo', 'sizes': {'medium': {'w': 583, 'h': 479, 'resize': 'fit'}, 'small': {'w': 583, 'h': 479, 'resize': 'fit'}, 'thumb': {'w': 150, 'h': 150, 'resize': 'crop'}, 'large': {'w': 583, 'h': 479, 'resize': 'fit'}}}, {'id': 872820673735000064, 'id_str': '872820673735000064', 'indices': [141, 164], 'media_url': 'http://pbs.twimg.com/media/DBzhx0KXgAAWHV8.jpg', 'media_url_https': 'https://pbs.twimg.com/media/DBzhx0KXgAAWHV8.jpg', 'url': 'https://t.co/17FVMl4VZ5', 'display_url': 'pic.twitter.com/17FVMl4VZ5', 'expanded_url': 'https://twitter.com/dog_rates/status/872820683541237760/photo/1', 'type': 'photo', 'sizes': {'medium': {'w': 900, 'h': 1200, 'resize': 'fit'}, 'thumb': {'w': 150, 'h': 150, 'resize': 'crop'}, 'small': {'w': 510, 'h': 680, 'resize': 'fit'}, 'large': {'w': 1536, 'h': 2048, 'resize': 'fit'}}}, {'id': 872820673755873281, 'id_str': '872820673755873281', 'indices': [141, 164], 'media_url': 'http://pbs.twimg.com/media/DBzhx0PWAAEhl0E.jpg', 'media_url_https': 'https://pbs.twimg.com/media/DBzhx0PWAAEhl0E.jpg', 'url': 'https://t.co/17FVMl4VZ5', 'display_url': 'pic.twitter.com/17FVMl4VZ5', 'expanded_url': 'https://twitter.com/dog_rates/status/872820683541237760/photo/1', 'type': 'photo', 'sizes': {'large': {'w': 583, 'h': 777, 'resize': 'fit'}, 'thumb': {'w': 150, 'h': 150, 'resize': 'crop'}, 'medium': {'w': 583, 'h': 777, 'resize': 'fit'}, 'small': {'w': 510, 'h': 680, 'resize': 'fit'}}}, {'id': 872820673747591168, 'id_str': '872820673747591168', 'indices': [141, 164], 'media_url': 'http://pbs.twimg.com/media/DBzhx0NXoAAdwht.jpg', 'media_url_https': 'https://pbs.twimg.com/media/DBzhx0NXoAAdwht.jpg', 'url': 'https://t.co/17FVMl4VZ5', 'display_url': 'pic.twitter.com/17FVMl4VZ5', 'expanded_url': 'https://twitter.com/dog_rates/status/872820683541237760/photo/1', 'type': 'photo', 'sizes': {'small': {'w': 575, 'h': 334, 'resize': 'fit'}, 'large': {'w': 575, 'h': 334, 'resize': 'fit'}, 'thumb': {'w': 150, 'h': 150, 'resize': 'crop'}, 'medium': {'w': 575, 'h': 334, 'resize': 'fit'}}}]}   \n",
       "1664                                                                                                                                                                                                                                                                                                                                                                                                                                                                                                                                                                                                                                                                                                                                                                                                                                                                                                                                                                                                                                                                                                                                                                                                                                                                                                                                                                                                                                                                                                                                                                                                                                                                                                                                                                                                                                                                               {'media': [{'id': 682697175697088514, 'id_str': '682697175697088514', 'indices': [44, 67], 'media_url': 'http://pbs.twimg.com/media/CXltdtaWYAIuX_V.jpg', 'media_url_https': 'https://pbs.twimg.com/media/CXltdtaWYAIuX_V.jpg', 'url': 'https://t.co/Ny4iM6FDtz', 'display_url': 'pic.twitter.com/Ny4iM6FDtz', 'expanded_url': 'https://twitter.com/dog_rates/status/682697186228989953/photo/1', 'type': 'photo', 'sizes': {'small': {'w': 340, 'h': 227, 'resize': 'fit'}, 'large': {'w': 960, 'h': 640, 'resize': 'fit'}, 'medium': {'w': 600, 'h': 400, 'resize': 'fit'}, 'thumb': {'w': 150, 'h': 150, 'resize': 'crop'}}}]}   \n",
       "1191                                                                                                                                                                                                                                                                                                                                                                                                                                                                                                                                                                                                                                                                                                                                                                                                                                                                                                                                                                                                                                                                                                                                                                                                                                                                                                                                                                                                                                                                                                                                                                                                                                                                                                                                                                                                                                                                            {'media': [{'id': 717537679412486144, 'id_str': '717537679412486144', 'indices': [116, 139], 'media_url': 'http://pbs.twimg.com/media/CfU0t75W4AAUo9V.jpg', 'media_url_https': 'https://pbs.twimg.com/media/CfU0t75W4AAUo9V.jpg', 'url': 'https://t.co/2ATDsgHD4n', 'display_url': 'pic.twitter.com/2ATDsgHD4n', 'expanded_url': 'https://twitter.com/dog_rates/status/717537687239008257/photo/1', 'type': 'photo', 'sizes': {'large': {'w': 1024, 'h': 774, 'resize': 'fit'}, 'small': {'w': 340, 'h': 257, 'resize': 'fit'}, 'thumb': {'w': 150, 'h': 150, 'resize': 'crop'}, 'medium': {'w': 600, 'h': 454, 'resize': 'fit'}}}]}   \n",
       "786                                                                                                                                                                                                                                                                                                                                                                                                                                                                                                                                                                                                                                                                                                                                                                                                                                                                                                                                                                                                                                                                                                                                                                                                                                                  {'media': [{'id': 774639367960850432, 'id_str': '774639367960850432', 'indices': [77, 100], 'media_url': 'http://pbs.twimg.com/media/CsASZqRW8AA3Szw.jpg', 'media_url_https': 'https://pbs.twimg.com/media/CsASZqRW8AA3Szw.jpg', 'url': 'https://t.co/4s5Xlijogu', 'display_url': 'pic.twitter.com/4s5Xlijogu', 'expanded_url': 'https://twitter.com/dog_rates/status/774639387460112384/photo/1', 'type': 'photo', 'sizes': {'small': {'w': 680, 'h': 510, 'resize': 'fit'}, 'large': {'w': 2048, 'h': 1536, 'resize': 'fit'}, 'thumb': {'w': 150, 'h': 150, 'resize': 'crop'}, 'medium': {'w': 1200, 'h': 900, 'resize': 'fit'}}}, {'id': 774639367990173696, 'id_str': '774639367990173696', 'indices': [77, 100], 'media_url': 'http://pbs.twimg.com/media/CsASZqYWYAAKiQg.jpg', 'media_url_https': 'https://pbs.twimg.com/media/CsASZqYWYAAKiQg.jpg', 'url': 'https://t.co/4s5Xlijogu', 'display_url': 'pic.twitter.com/4s5Xlijogu', 'expanded_url': 'https://twitter.com/dog_rates/status/774639387460112384/photo/1', 'type': 'photo', 'sizes': {'small': {'w': 680, 'h': 510, 'resize': 'fit'}, 'medium': {'w': 1200, 'h': 900, 'resize': 'fit'}, 'thumb': {'w': 150, 'h': 150, 'resize': 'crop'}, 'large': {'w': 2048, 'h': 1536, 'resize': 'fit'}}}]}   \n",
       "538                                                                                                                                                                                                                                                                                                                                                                                                                                                                                                                                                                                                                                                                                                                                                                                                                                                                                                                                                                                                                                                                                                                                                                                                                                                                                                                                                                                                                                                                                                                                                                                                                                                                                                                                                                                                                                                                                                                                                                                                                                                                                                                                                                                                                                                                                                                                                                                                                                                                                                              NaN   \n",
       "\n",
       "                                                                                  source  \\\n",
       "99    <a href=\"http://twitter.com/download/iphone\" rel=\"nofollow\">Twitter for iPhone</a>   \n",
       "1664  <a href=\"http://twitter.com/download/iphone\" rel=\"nofollow\">Twitter for iPhone</a>   \n",
       "1191  <a href=\"http://twitter.com/download/iphone\" rel=\"nofollow\">Twitter for iPhone</a>   \n",
       "786   <a href=\"http://twitter.com/download/iphone\" rel=\"nofollow\">Twitter for iPhone</a>   \n",
       "538   <a href=\"http://twitter.com/download/iphone\" rel=\"nofollow\">Twitter for iPhone</a>   \n",
       "\n",
       "      in_reply_to_status_id  in_reply_to_status_id_str  in_reply_to_user_id  \\\n",
       "99                      NaN                        NaN                  NaN   \n",
       "1664                    NaN                        NaN                  NaN   \n",
       "1191                    NaN                        NaN                  NaN   \n",
       "786                     NaN                        NaN                  NaN   \n",
       "538                     NaN                        NaN                  NaN   \n",
       "\n",
       "      in_reply_to_user_id_str in_reply_to_screen_name  \\\n",
       "99                        NaN                    None   \n",
       "1664                      NaN                    None   \n",
       "1191                      NaN                    None   \n",
       "786                       NaN                    None   \n",
       "538                       NaN                    None   \n",
       "\n",
       "                                                                                                                                                                                                                                                                                                                                                                                                                                                                                                                                                                                                                                                                                                                                                                                                                                                                                                                                                                                                                                                                                                                                                                                                                                                                                                                                                                                                                                                                                                                                                                                                                                                                                                                                                                                                                                                                                                   user  \\\n",
       "99    {'id': 4196983835, 'id_str': '4196983835', 'name': 'WeRateDogs™ (author)', 'screen_name': 'dog_rates', 'location': 'DM YOUR DOGS, WE WILL RATE', 'description': '#1 Source for Professional Dog Ratings | STORE: @ShopWeRateDogs | IG, FB & SC: WeRateDogs MOBILE APP: @GoodDogsGame | Business: dogratingtwitter@gmail.com', 'url': 'https://t.co/N7sNNHAEXS', 'entities': {'url': {'urls': [{'url': 'https://t.co/N7sNNHAEXS', 'expanded_url': 'http://weratedogs.com', 'display_url': 'weratedogs.com', 'indices': [0, 23]}]}, 'description': {'urls': []}}, 'protected': False, 'followers_count': 3200891, 'friends_count': 104, 'listed_count': 2786, 'created_at': 'Sun Nov 15 21:41:29 +0000 2015', 'favourites_count': 114031, 'utc_offset': None, 'time_zone': None, 'geo_enabled': True, 'verified': True, 'statuses_count': 5288, 'lang': 'en', 'contributors_enabled': False, 'is_translator': False, 'is_translation_enabled': False, 'profile_background_color': '000000', 'profile_background_image_url': 'http://abs.twimg.com/images/themes/theme1/bg.png', 'profile_background_image_url_https': 'https://abs.twimg.com/images/themes/theme1/bg.png', 'profile_background_tile': False, 'profile_image_url': 'http://pbs.twimg.com/profile_images/861415328504569856/R2xOOfwe_normal.jpg', 'profile_image_url_https': 'https://pbs.twimg.com/profile_images/861415328504569856/R2xOOfwe_normal.jpg', 'profile_banner_url': 'https://pbs.twimg.com/profile_banners/4196983835/1501129017', 'profile_link_color': 'F5ABB5', 'profile_sidebar_border_color': '000000', 'profile_sidebar_fill_color': '000000', 'profile_text_color': '000000', 'profile_use_background_image': False, 'has_extended_profile': True, 'default_profile': False, 'default_profile_image': False, 'following': True, 'follow_request_sent': False, 'notifications': False, 'translator_type': 'none'}   \n",
       "1664  {'id': 4196983835, 'id_str': '4196983835', 'name': 'WeRateDogs™ (author)', 'screen_name': 'dog_rates', 'location': 'DM YOUR DOGS, WE WILL RATE', 'description': '#1 Source for Professional Dog Ratings | STORE: @ShopWeRateDogs | IG, FB & SC: WeRateDogs MOBILE APP: @GoodDogsGame | Business: dogratingtwitter@gmail.com', 'url': 'https://t.co/N7sNNHAEXS', 'entities': {'url': {'urls': [{'url': 'https://t.co/N7sNNHAEXS', 'expanded_url': 'http://weratedogs.com', 'display_url': 'weratedogs.com', 'indices': [0, 23]}]}, 'description': {'urls': []}}, 'protected': False, 'followers_count': 3200952, 'friends_count': 104, 'listed_count': 2805, 'created_at': 'Sun Nov 15 21:41:29 +0000 2015', 'favourites_count': 114031, 'utc_offset': None, 'time_zone': None, 'geo_enabled': True, 'verified': True, 'statuses_count': 5288, 'lang': 'en', 'contributors_enabled': False, 'is_translator': False, 'is_translation_enabled': False, 'profile_background_color': '000000', 'profile_background_image_url': 'http://abs.twimg.com/images/themes/theme1/bg.png', 'profile_background_image_url_https': 'https://abs.twimg.com/images/themes/theme1/bg.png', 'profile_background_tile': False, 'profile_image_url': 'http://pbs.twimg.com/profile_images/861415328504569856/R2xOOfwe_normal.jpg', 'profile_image_url_https': 'https://pbs.twimg.com/profile_images/861415328504569856/R2xOOfwe_normal.jpg', 'profile_banner_url': 'https://pbs.twimg.com/profile_banners/4196983835/1501129017', 'profile_link_color': 'F5ABB5', 'profile_sidebar_border_color': '000000', 'profile_sidebar_fill_color': '000000', 'profile_text_color': '000000', 'profile_use_background_image': False, 'has_extended_profile': True, 'default_profile': False, 'default_profile_image': False, 'following': True, 'follow_request_sent': False, 'notifications': False, 'translator_type': 'none'}   \n",
       "1191  {'id': 4196983835, 'id_str': '4196983835', 'name': 'WeRateDogs™ (author)', 'screen_name': 'dog_rates', 'location': 'DM YOUR DOGS, WE WILL RATE', 'description': '#1 Source for Professional Dog Ratings | STORE: @ShopWeRateDogs | IG, FB & SC: WeRateDogs MOBILE APP: @GoodDogsGame | Business: dogratingtwitter@gmail.com', 'url': 'https://t.co/N7sNNHAEXS', 'entities': {'url': {'urls': [{'url': 'https://t.co/N7sNNHAEXS', 'expanded_url': 'http://weratedogs.com', 'display_url': 'weratedogs.com', 'indices': [0, 23]}]}, 'description': {'urls': []}}, 'protected': False, 'followers_count': 3200944, 'friends_count': 104, 'listed_count': 2803, 'created_at': 'Sun Nov 15 21:41:29 +0000 2015', 'favourites_count': 114031, 'utc_offset': None, 'time_zone': None, 'geo_enabled': True, 'verified': True, 'statuses_count': 5288, 'lang': 'en', 'contributors_enabled': False, 'is_translator': False, 'is_translation_enabled': False, 'profile_background_color': '000000', 'profile_background_image_url': 'http://abs.twimg.com/images/themes/theme1/bg.png', 'profile_background_image_url_https': 'https://abs.twimg.com/images/themes/theme1/bg.png', 'profile_background_tile': False, 'profile_image_url': 'http://pbs.twimg.com/profile_images/861415328504569856/R2xOOfwe_normal.jpg', 'profile_image_url_https': 'https://pbs.twimg.com/profile_images/861415328504569856/R2xOOfwe_normal.jpg', 'profile_banner_url': 'https://pbs.twimg.com/profile_banners/4196983835/1501129017', 'profile_link_color': 'F5ABB5', 'profile_sidebar_border_color': '000000', 'profile_sidebar_fill_color': '000000', 'profile_text_color': '000000', 'profile_use_background_image': False, 'has_extended_profile': True, 'default_profile': False, 'default_profile_image': False, 'following': True, 'follow_request_sent': False, 'notifications': False, 'translator_type': 'none'}   \n",
       "786   {'id': 4196983835, 'id_str': '4196983835', 'name': 'WeRateDogs™ (author)', 'screen_name': 'dog_rates', 'location': 'DM YOUR DOGS, WE WILL RATE', 'description': '#1 Source for Professional Dog Ratings | STORE: @ShopWeRateDogs | IG, FB & SC: WeRateDogs MOBILE APP: @GoodDogsGame | Business: dogratingtwitter@gmail.com', 'url': 'https://t.co/N7sNNHAEXS', 'entities': {'url': {'urls': [{'url': 'https://t.co/N7sNNHAEXS', 'expanded_url': 'http://weratedogs.com', 'display_url': 'weratedogs.com', 'indices': [0, 23]}]}, 'description': {'urls': []}}, 'protected': False, 'followers_count': 3200904, 'friends_count': 104, 'listed_count': 2789, 'created_at': 'Sun Nov 15 21:41:29 +0000 2015', 'favourites_count': 114031, 'utc_offset': None, 'time_zone': None, 'geo_enabled': True, 'verified': True, 'statuses_count': 5288, 'lang': 'en', 'contributors_enabled': False, 'is_translator': False, 'is_translation_enabled': False, 'profile_background_color': '000000', 'profile_background_image_url': 'http://abs.twimg.com/images/themes/theme1/bg.png', 'profile_background_image_url_https': 'https://abs.twimg.com/images/themes/theme1/bg.png', 'profile_background_tile': False, 'profile_image_url': 'http://pbs.twimg.com/profile_images/861415328504569856/R2xOOfwe_normal.jpg', 'profile_image_url_https': 'https://pbs.twimg.com/profile_images/861415328504569856/R2xOOfwe_normal.jpg', 'profile_banner_url': 'https://pbs.twimg.com/profile_banners/4196983835/1501129017', 'profile_link_color': 'F5ABB5', 'profile_sidebar_border_color': '000000', 'profile_sidebar_fill_color': '000000', 'profile_text_color': '000000', 'profile_use_background_image': False, 'has_extended_profile': True, 'default_profile': False, 'default_profile_image': False, 'following': True, 'follow_request_sent': False, 'notifications': False, 'translator_type': 'none'}   \n",
       "538   {'id': 4196983835, 'id_str': '4196983835', 'name': 'WeRateDogs™ (author)', 'screen_name': 'dog_rates', 'location': 'DM YOUR DOGS, WE WILL RATE', 'description': '#1 Source for Professional Dog Ratings | STORE: @ShopWeRateDogs | IG, FB & SC: WeRateDogs MOBILE APP: @GoodDogsGame | Business: dogratingtwitter@gmail.com', 'url': 'https://t.co/N7sNNHAEXS', 'entities': {'url': {'urls': [{'url': 'https://t.co/N7sNNHAEXS', 'expanded_url': 'http://weratedogs.com', 'display_url': 'weratedogs.com', 'indices': [0, 23]}]}, 'description': {'urls': []}}, 'protected': False, 'followers_count': 3200897, 'friends_count': 104, 'listed_count': 2788, 'created_at': 'Sun Nov 15 21:41:29 +0000 2015', 'favourites_count': 114031, 'utc_offset': None, 'time_zone': None, 'geo_enabled': True, 'verified': True, 'statuses_count': 5288, 'lang': 'en', 'contributors_enabled': False, 'is_translator': False, 'is_translation_enabled': False, 'profile_background_color': '000000', 'profile_background_image_url': 'http://abs.twimg.com/images/themes/theme1/bg.png', 'profile_background_image_url_https': 'https://abs.twimg.com/images/themes/theme1/bg.png', 'profile_background_tile': False, 'profile_image_url': 'http://pbs.twimg.com/profile_images/861415328504569856/R2xOOfwe_normal.jpg', 'profile_image_url_https': 'https://pbs.twimg.com/profile_images/861415328504569856/R2xOOfwe_normal.jpg', 'profile_banner_url': 'https://pbs.twimg.com/profile_banners/4196983835/1501129017', 'profile_link_color': 'F5ABB5', 'profile_sidebar_border_color': '000000', 'profile_sidebar_fill_color': '000000', 'profile_text_color': '000000', 'profile_use_background_image': False, 'has_extended_profile': True, 'default_profile': False, 'default_profile_image': False, 'following': True, 'follow_request_sent': False, 'notifications': False, 'translator_type': 'none'}   \n",
       "\n",
       "      geo  coordinates place  contributors  is_quote_status  retweet_count  \\\n",
       "99    NaN          NaN  None           NaN            False           3884   \n",
       "1664  NaN          NaN  None           NaN            False            397   \n",
       "1191  NaN          NaN  None           NaN            False           2069   \n",
       "786   NaN          NaN  None           NaN            False           2013   \n",
       "538   NaN          NaN  None           NaN             True           2230   \n",
       "\n",
       "      favorite_count  favorited  retweeted  possibly_sensitive  \\\n",
       "99             15029      False      False                 0.0   \n",
       "1664            1440      False      False                 0.0   \n",
       "1191            6281      False      False                 0.0   \n",
       "786             7508      False      False                 0.0   \n",
       "538             5370      False      False                 0.0   \n",
       "\n",
       "      possibly_sensitive_appealable lang retweeted_status  quoted_status_id  \\\n",
       "99                              0.0   en              NaN               NaN   \n",
       "1664                            0.0   in              NaN               NaN   \n",
       "1191                            0.0   en              NaN               NaN   \n",
       "786                             0.0   en              NaN               NaN   \n",
       "538                             0.0   en              NaN      8.065709e+17   \n",
       "\n",
       "      quoted_status_id_str  \\\n",
       "99                     NaN   \n",
       "1664                   NaN   \n",
       "1191                   NaN   \n",
       "786                    NaN   \n",
       "538           8.065709e+17   \n",
       "\n",
       "                                                                                                                                                                                                                                                                                                                                                                                                                                                                                                                                                                                                                                                                                                                                                                                                                                                                                                                                                                                                                                                                                                                                                                                                                                                                                                                                                                                                                                                                                                                                                                                                                                                                                                                                                                                                                                                                                                                                                                                                                                                                                                                                                                                                                                                                                                                                                                                                                                                                                                                                                                                                                                                                                                                                                                                                                                                                                                                                                                                                                                                                                                                                                                                                                                                                                                                                                                                                                                                                                                                                                                                                                                                                                                                                                                                                                                                                                                                                                                                                                                                                                                                                                                                                                                                                                                                                                                                      quoted_status  \n",
       "99                                                                                                                                                                                                                                                                                                                                                                                                                                                                                                                                                                                                                                                                                                                                                                                                                                                                                                                                                                                                                                                                                                                                                                                                                                                                                                                                                                                                                                                                                                                                                                                                                                                                                                                                                                                                                                                                                                                                                                                                                                                                                                                                                                                                                                                                                                                                                                                                                                                                                                                                                                                                                                                                                                                                                                                                                                                                                                                                                                                                                                                                                                                                                                                                                                                                                                                                                                                                                                                                                                                                                                                                                                                                                                                                                                                                                                                                                                                                                                                                                                                                                                                                                                                                                                                                                                                                                                                              NaN  \n",
       "1664                                                                                                                                                                                                                                                                                                                                                                                                                                                                                                                                                                                                                                                                                                                                                                                                                                                                                                                                                                                                                                                                                                                                                                                                                                                                                                                                                                                                                                                                                                                                                                                                                                                                                                                                                                                                                                                                                                                                                                                                                                                                                                                                                                                                                                                                                                                                                                                                                                                                                                                                                                                                                                                                                                                                                                                                                                                                                                                                                                                                                                                                                                                                                                                                                                                                                                                                                                                                                                                                                                                                                                                                                                                                                                                                                                                                                                                                                                                                                                                                                                                                                                                                                                                                                                                                                                                                                                                            NaN  \n",
       "1191                                                                                                                                                                                                                                                                                                                                                                                                                                                                                                                                                                                                                                                                                                                                                                                                                                                                                                                                                                                                                                                                                                                                                                                                                                                                                                                                                                                                                                                                                                                                                                                                                                                                                                                                                                                                                                                                                                                                                                                                                                                                                                                                                                                                                                                                                                                                                                                                                                                                                                                                                                                                                                                                                                                                                                                                                                                                                                                                                                                                                                                                                                                                                                                                                                                                                                                                                                                                                                                                                                                                                                                                                                                                                                                                                                                                                                                                                                                                                                                                                                                                                                                                                                                                                                                                                                                                                                                            NaN  \n",
       "786                                                                                                                                                                                                                                                                                                                                                                                                                                                                                                                                                                                                                                                                                                                                                                                                                                                                                                                                                                                                                                                                                                                                                                                                                                                                                                                                                                                                                                                                                                                                                                                                                                                                                                                                                                                                                                                                                                                                                                                                                                                                                                                                                                                                                                                                                                                                                                                                                                                                                                                                                                                                                                                                                                                                                                                                                                                                                                                                                                                                                                                                                                                                                                                                                                                                                                                                                                                                                                                                                                                                                                                                                                                                                                                                                                                                                                                                                                                                                                                                                                                                                                                                                                                                                                                                                                                                                                                             NaN  \n",
       "538   {'created_at': 'Wed Dec 07 18:47:50 +0000 2016', 'id': 806570933175652352, 'id_str': '806570933175652352', 'full_text': 'The sports highlight of the day is this dog: https://t.co/YeDjYgiBc5 https://t.co/6DkNhMzgJv', 'truncated': False, 'display_text_range': [0, 68], 'entities': {'hashtags': [], 'symbols': [], 'user_mentions': [], 'urls': [{'url': 'https://t.co/YeDjYgiBc5', 'expanded_url': 'http://deadsp.in/kc7EbMl', 'display_url': 'deadsp.in/kc7EbMl', 'indices': [45, 68]}], 'media': [{'id': 806570877513039879, 'id_str': '806570877513039879', 'indices': [69, 92], 'media_url': 'http://pbs.twimg.com/tweet_video_thumb/CzGD8JBXAAcJSfH.jpg', 'media_url_https': 'https://pbs.twimg.com/tweet_video_thumb/CzGD8JBXAAcJSfH.jpg', 'url': 'https://t.co/6DkNhMzgJv', 'display_url': 'pic.twitter.com/6DkNhMzgJv', 'expanded_url': 'https://twitter.com/Deadspin/status/806570933175652352/photo/1', 'type': 'photo', 'sizes': {'medium': {'w': 320, 'h': 240, 'resize': 'fit'}, 'large': {'w': 320, 'h': 240, 'resize': 'fit'}, 'thumb': {'w': 150, 'h': 150, 'resize': 'crop'}, 'small': {'w': 320, 'h': 240, 'resize': 'fit'}}}]}, 'extended_entities': {'media': [{'id': 806570877513039879, 'id_str': '806570877513039879', 'indices': [69, 92], 'media_url': 'http://pbs.twimg.com/tweet_video_thumb/CzGD8JBXAAcJSfH.jpg', 'media_url_https': 'https://pbs.twimg.com/tweet_video_thumb/CzGD8JBXAAcJSfH.jpg', 'url': 'https://t.co/6DkNhMzgJv', 'display_url': 'pic.twitter.com/6DkNhMzgJv', 'expanded_url': 'https://twitter.com/Deadspin/status/806570933175652352/photo/1', 'type': 'animated_gif', 'sizes': {'medium': {'w': 320, 'h': 240, 'resize': 'fit'}, 'large': {'w': 320, 'h': 240, 'resize': 'fit'}, 'thumb': {'w': 150, 'h': 150, 'resize': 'crop'}, 'small': {'w': 320, 'h': 240, 'resize': 'fit'}}, 'video_info': {'aspect_ratio': [4, 3], 'variants': [{'bitrate': 0, 'content_type': 'video/mp4', 'url': 'https://video.twimg.com/tweet_video/CzGD8JBXAAcJSfH.mp4'}]}}]}, 'source': '<a href=\"http://www.socialflow.com\" rel=\"nofollow\">SocialFlow</a>', 'in_reply_to_status_id': None, 'in_reply_to_status_id_str': None, 'in_reply_to_user_id': None, 'in_reply_to_user_id_str': None, 'in_reply_to_screen_name': None, 'user': {'id': 13213122, 'id_str': '13213122', 'name': 'Deadspin', 'screen_name': 'Deadspin', 'location': '', 'description': 'Sports News without Access, Favor, or Discretion. Contact us: tips@deadspin.com.', 'url': 'http://t.co/mhAF2P6Jmb', 'entities': {'url': {'urls': [{'url': 'http://t.co/mhAF2P6Jmb', 'expanded_url': 'http://deadspin.com', 'display_url': 'deadspin.com', 'indices': [0, 22]}]}, 'description': {'urls': []}}, 'protected': False, 'followers_count': 1069671, 'friends_count': 1549, 'listed_count': 13174, 'created_at': 'Thu Feb 07 17:38:57 +0000 2008', 'favourites_count': 64, 'utc_offset': -14400, 'time_zone': 'Eastern Time (US & Canada)', 'geo_enabled': False, 'verified': True, 'statuses_count': 75613, 'lang': 'en', 'contributors_enabled': False, 'is_translator': False, 'is_translation_enabled': True, 'profile_background_color': 'FFFFFF', 'profile_background_image_url': 'http://pbs.twimg.com/profile_background_images/37612982/deadspin.jpg', 'profile_background_image_url_https': 'https://pbs.twimg.com/profile_background_images/37612982/deadspin.jpg', 'profile_background_tile': True, 'profile_image_url': 'http://pbs.twimg.com/profile_images/590240306353811456/Ee89NSpb_normal.png', 'profile_image_url_https': 'https://pbs.twimg.com/profile_images/590240306353811456/Ee89NSpb_normal.png', 'profile_banner_url': 'https://pbs.twimg.com/profile_banners/13213122/1423283211', 'profile_link_color': '405274', 'profile_sidebar_border_color': 'B3BCC1', 'profile_sidebar_fill_color': 'B3BCC1', 'profile_text_color': '000000', 'profile_use_background_image': False, 'has_extended_profile': False, 'default_profile': False, 'default_profile_image': False, 'following': False, 'follow_request_sent': False, 'notifications': False, 'translator_type': 'none'}, 'geo': None, 'coordinates': None, 'place': None, 'contributors': None, 'is_quote_status': False, 'retweet_count': 7947, 'favorite_count': 9557, 'favorited': False, 'retweeted': False, 'possibly_sensitive': False, 'possibly_sensitive_appealable': False, 'lang': 'en'}  "
      ]
     },
     "execution_count": 2135,
     "metadata": {},
     "output_type": "execute_result"
    }
   ],
   "source": [
    "tweet.sample(5)"
   ]
  },
  {
   "cell_type": "code",
   "execution_count": 2136,
   "metadata": {},
   "outputs": [],
   "source": [
    "# Change name for better mapping later\n",
    "new_column_names = {\n",
    "    'id': 'tweet_id'\n",
    "}\n",
    "\n",
    "tweet.rename(columns=new_column_names, inplace = True)\n",
    "# Minimize the dataset\n",
    "tweet = tweet[['tweet_id', 'retweet_count', 'favorite_count', 'display_text_range']]"
   ]
  },
  {
   "cell_type": "markdown",
   "metadata": {},
   "source": [
    "`tweet` columns:\n",
    "- `tweet_id`: as mentioned\n",
    "- `retweet_count`: number of times this tweet has been retweeted\n",
    "- `favourite_count`: how many times this tweet has been liked by twitter users\n",
    "- `display_text_range`: an array of 2 unicode code point, identifying the inclusive start and exclusive end of the displayable content of the tweet"
   ]
  },
  {
   "cell_type": "markdown",
   "metadata": {},
   "source": [
    "### About the quality\n",
    "`archive`:\n",
    "- contains retweets. We only care about unique posts -> this might be considered duplication\n",
    "- 281 records of tweet_id missing in `predictions`\n",
    "- error datatypes: `in_reply_to_status_id`,`in_reply_to_user_id`,`timestamp`\n",
    "- unnecessary html tags in `source` to differentiate utility name\n",
    "-  `rating_numerator` has values <10 as well as some very large numbers\n",
    "- `rating_denominator` has values other than 10\n",
    "- wrong dog names starting with lowercase characters and glibberish (eg: a,an,actually,by)\n",
    "- some records have more than one dog stages\n",
    "\n",
    "`predictions`:\n",
    "- After tidying, prediction number needs to have int type\n",
    "- Value in `px` are inconsistent in the first letter capitalization\n",
    "- Not all have dog-related prediction -> need to be dropped\n",
    "- Duplicated `jpg_url` which are related to retweets\n",
    "### About the tidiness\n",
    "- `archive` without any duplicates (i.e: retweets) will have empty `retweeted_status_id`,`retweeted_status_user_id`,`retweeted_status_timestamp`, which can be dropped \n",
    "- `doggo, floofer, pupper and puppo` should be merged into one column named `stage`\n",
    "- from 3 `px`, 1 should be picked then `breed` should be added in `archive`\n",
    "- `retweet_count` and `favorite_count` from `tweet` should be joined with `archive`"
   ]
  },
  {
   "cell_type": "markdown",
   "metadata": {},
   "source": [
    "# 3. Cleaning Data"
   ]
  },
  {
   "cell_type": "markdown",
   "metadata": {},
   "source": [
    "### `archive` contains retweets. We only care about unique posts -> this might be considered duplication"
   ]
  },
  {
   "cell_type": "markdown",
   "metadata": {},
   "source": [
    "**Define**\n",
    "\n",
    "Keep only original tweet (i.e: retweeted_status_id is null). Delete the rest"
   ]
  },
  {
   "cell_type": "markdown",
   "metadata": {},
   "source": [
    "**Code**"
   ]
  },
  {
   "cell_type": "code",
   "execution_count": 2137,
   "metadata": {},
   "outputs": [],
   "source": [
    "archive_clean =  archive.copy()\n",
    "archive_clean = archive[archive['retweeted_status_id'].isnull()]"
   ]
  },
  {
   "cell_type": "markdown",
   "metadata": {},
   "source": [
    "**Test**"
   ]
  },
  {
   "cell_type": "code",
   "execution_count": 2138,
   "metadata": {},
   "outputs": [
    {
     "name": "stdout",
     "output_type": "stream",
     "text": [
      "0\n"
     ]
    },
    {
     "data": {
      "text/plain": [
       "0"
      ]
     },
     "execution_count": 2138,
     "metadata": {},
     "output_type": "execute_result"
    }
   ],
   "source": [
    "# Check if there are any remaining not null records in retweeted_status_id\n",
    "print(len(archive_clean[archive_clean['retweeted_status_id'].isnull() == False]))\n",
    "\n",
    "# Check if there are any duplications of tweet_id \n",
    "sum(archive_clean.duplicated('tweet_id'))\n",
    "\n",
    "#Pass test"
   ]
  },
  {
   "cell_type": "markdown",
   "metadata": {},
   "source": [
    "### `prediction` Not all have dog-related prediction -> need to be dropped"
   ]
  },
  {
   "cell_type": "markdown",
   "metadata": {},
   "source": [
    "**Define**\n",
    "\n",
    "Only keep rows in which have at least 1 True value in `px_dog`"
   ]
  },
  {
   "cell_type": "markdown",
   "metadata": {},
   "source": [
    "**Code**"
   ]
  },
  {
   "cell_type": "code",
   "execution_count": 2139,
   "metadata": {},
   "outputs": [],
   "source": [
    "predictions_clean = predictions.copy()"
   ]
  },
  {
   "cell_type": "code",
   "execution_count": 2140,
   "metadata": {},
   "outputs": [
    {
     "data": {
      "text/html": [
       "<div>\n",
       "<style scoped>\n",
       "    .dataframe tbody tr th:only-of-type {\n",
       "        vertical-align: middle;\n",
       "    }\n",
       "\n",
       "    .dataframe tbody tr th {\n",
       "        vertical-align: top;\n",
       "    }\n",
       "\n",
       "    .dataframe thead th {\n",
       "        text-align: right;\n",
       "    }\n",
       "</style>\n",
       "<table border=\"1\" class=\"dataframe\">\n",
       "  <thead>\n",
       "    <tr style=\"text-align: right;\">\n",
       "      <th></th>\n",
       "      <th>tweet_id</th>\n",
       "      <th>jpg_url</th>\n",
       "      <th>img_num</th>\n",
       "      <th>p1</th>\n",
       "      <th>p1_conf</th>\n",
       "      <th>p1_dog</th>\n",
       "      <th>p2</th>\n",
       "      <th>p2_conf</th>\n",
       "      <th>p2_dog</th>\n",
       "      <th>p3</th>\n",
       "      <th>p3_conf</th>\n",
       "      <th>p3_dog</th>\n",
       "    </tr>\n",
       "  </thead>\n",
       "  <tbody>\n",
       "    <tr>\n",
       "      <th>0</th>\n",
       "      <td>666020888022790149</td>\n",
       "      <td>https://pbs.twimg.com/media/CT4udn0WwAA0aMy.jpg</td>\n",
       "      <td>1</td>\n",
       "      <td>Welsh_springer_spaniel</td>\n",
       "      <td>0.465074</td>\n",
       "      <td>True</td>\n",
       "      <td>collie</td>\n",
       "      <td>0.156665</td>\n",
       "      <td>True</td>\n",
       "      <td>Shetland_sheepdog</td>\n",
       "      <td>0.061428</td>\n",
       "      <td>True</td>\n",
       "    </tr>\n",
       "    <tr>\n",
       "      <th>1</th>\n",
       "      <td>666029285002620928</td>\n",
       "      <td>https://pbs.twimg.com/media/CT42GRgUYAA5iDo.jpg</td>\n",
       "      <td>1</td>\n",
       "      <td>redbone</td>\n",
       "      <td>0.506826</td>\n",
       "      <td>True</td>\n",
       "      <td>miniature_pinscher</td>\n",
       "      <td>0.074192</td>\n",
       "      <td>True</td>\n",
       "      <td>Rhodesian_ridgeback</td>\n",
       "      <td>0.072010</td>\n",
       "      <td>True</td>\n",
       "    </tr>\n",
       "    <tr>\n",
       "      <th>2</th>\n",
       "      <td>666033412701032449</td>\n",
       "      <td>https://pbs.twimg.com/media/CT4521TWwAEvMyu.jpg</td>\n",
       "      <td>1</td>\n",
       "      <td>German_shepherd</td>\n",
       "      <td>0.596461</td>\n",
       "      <td>True</td>\n",
       "      <td>malinois</td>\n",
       "      <td>0.138584</td>\n",
       "      <td>True</td>\n",
       "      <td>bloodhound</td>\n",
       "      <td>0.116197</td>\n",
       "      <td>True</td>\n",
       "    </tr>\n",
       "    <tr>\n",
       "      <th>3</th>\n",
       "      <td>666044226329800704</td>\n",
       "      <td>https://pbs.twimg.com/media/CT5Dr8HUEAA-lEu.jpg</td>\n",
       "      <td>1</td>\n",
       "      <td>Rhodesian_ridgeback</td>\n",
       "      <td>0.408143</td>\n",
       "      <td>True</td>\n",
       "      <td>redbone</td>\n",
       "      <td>0.360687</td>\n",
       "      <td>True</td>\n",
       "      <td>miniature_pinscher</td>\n",
       "      <td>0.222752</td>\n",
       "      <td>True</td>\n",
       "    </tr>\n",
       "    <tr>\n",
       "      <th>4</th>\n",
       "      <td>666049248165822465</td>\n",
       "      <td>https://pbs.twimg.com/media/CT5IQmsXIAAKY4A.jpg</td>\n",
       "      <td>1</td>\n",
       "      <td>miniature_pinscher</td>\n",
       "      <td>0.560311</td>\n",
       "      <td>True</td>\n",
       "      <td>Rottweiler</td>\n",
       "      <td>0.243682</td>\n",
       "      <td>True</td>\n",
       "      <td>Doberman</td>\n",
       "      <td>0.154629</td>\n",
       "      <td>True</td>\n",
       "    </tr>\n",
       "    <tr>\n",
       "      <th>...</th>\n",
       "      <td>...</td>\n",
       "      <td>...</td>\n",
       "      <td>...</td>\n",
       "      <td>...</td>\n",
       "      <td>...</td>\n",
       "      <td>...</td>\n",
       "      <td>...</td>\n",
       "      <td>...</td>\n",
       "      <td>...</td>\n",
       "      <td>...</td>\n",
       "      <td>...</td>\n",
       "      <td>...</td>\n",
       "    </tr>\n",
       "    <tr>\n",
       "      <th>2069</th>\n",
       "      <td>891087950875897856</td>\n",
       "      <td>https://pbs.twimg.com/media/DF3HwyEWsAABqE6.jpg</td>\n",
       "      <td>1</td>\n",
       "      <td>Chesapeake_Bay_retriever</td>\n",
       "      <td>0.425595</td>\n",
       "      <td>True</td>\n",
       "      <td>Irish_terrier</td>\n",
       "      <td>0.116317</td>\n",
       "      <td>True</td>\n",
       "      <td>Indian_elephant</td>\n",
       "      <td>0.076902</td>\n",
       "      <td>False</td>\n",
       "    </tr>\n",
       "    <tr>\n",
       "      <th>2070</th>\n",
       "      <td>891327558926688256</td>\n",
       "      <td>https://pbs.twimg.com/media/DF6hr6BUMAAzZgT.jpg</td>\n",
       "      <td>2</td>\n",
       "      <td>basset</td>\n",
       "      <td>0.555712</td>\n",
       "      <td>True</td>\n",
       "      <td>English_springer</td>\n",
       "      <td>0.225770</td>\n",
       "      <td>True</td>\n",
       "      <td>German_short-haired_pointer</td>\n",
       "      <td>0.175219</td>\n",
       "      <td>True</td>\n",
       "    </tr>\n",
       "    <tr>\n",
       "      <th>2071</th>\n",
       "      <td>891689557279858688</td>\n",
       "      <td>https://pbs.twimg.com/media/DF_q7IAWsAEuuN8.jpg</td>\n",
       "      <td>1</td>\n",
       "      <td>paper_towel</td>\n",
       "      <td>0.170278</td>\n",
       "      <td>False</td>\n",
       "      <td>Labrador_retriever</td>\n",
       "      <td>0.168086</td>\n",
       "      <td>True</td>\n",
       "      <td>spatula</td>\n",
       "      <td>0.040836</td>\n",
       "      <td>False</td>\n",
       "    </tr>\n",
       "    <tr>\n",
       "      <th>2072</th>\n",
       "      <td>891815181378084864</td>\n",
       "      <td>https://pbs.twimg.com/media/DGBdLU1WsAANxJ9.jpg</td>\n",
       "      <td>1</td>\n",
       "      <td>Chihuahua</td>\n",
       "      <td>0.716012</td>\n",
       "      <td>True</td>\n",
       "      <td>malamute</td>\n",
       "      <td>0.078253</td>\n",
       "      <td>True</td>\n",
       "      <td>kelpie</td>\n",
       "      <td>0.031379</td>\n",
       "      <td>True</td>\n",
       "    </tr>\n",
       "    <tr>\n",
       "      <th>2073</th>\n",
       "      <td>892177421306343426</td>\n",
       "      <td>https://pbs.twimg.com/media/DGGmoV4XsAAUL6n.jpg</td>\n",
       "      <td>1</td>\n",
       "      <td>Chihuahua</td>\n",
       "      <td>0.323581</td>\n",
       "      <td>True</td>\n",
       "      <td>Pekinese</td>\n",
       "      <td>0.090647</td>\n",
       "      <td>True</td>\n",
       "      <td>papillon</td>\n",
       "      <td>0.068957</td>\n",
       "      <td>True</td>\n",
       "    </tr>\n",
       "  </tbody>\n",
       "</table>\n",
       "<p>1751 rows × 12 columns</p>\n",
       "</div>"
      ],
      "text/plain": [
       "                tweet_id                                          jpg_url  \\\n",
       "0     666020888022790149  https://pbs.twimg.com/media/CT4udn0WwAA0aMy.jpg   \n",
       "1     666029285002620928  https://pbs.twimg.com/media/CT42GRgUYAA5iDo.jpg   \n",
       "2     666033412701032449  https://pbs.twimg.com/media/CT4521TWwAEvMyu.jpg   \n",
       "3     666044226329800704  https://pbs.twimg.com/media/CT5Dr8HUEAA-lEu.jpg   \n",
       "4     666049248165822465  https://pbs.twimg.com/media/CT5IQmsXIAAKY4A.jpg   \n",
       "...                  ...                                              ...   \n",
       "2069  891087950875897856  https://pbs.twimg.com/media/DF3HwyEWsAABqE6.jpg   \n",
       "2070  891327558926688256  https://pbs.twimg.com/media/DF6hr6BUMAAzZgT.jpg   \n",
       "2071  891689557279858688  https://pbs.twimg.com/media/DF_q7IAWsAEuuN8.jpg   \n",
       "2072  891815181378084864  https://pbs.twimg.com/media/DGBdLU1WsAANxJ9.jpg   \n",
       "2073  892177421306343426  https://pbs.twimg.com/media/DGGmoV4XsAAUL6n.jpg   \n",
       "\n",
       "      img_num                        p1   p1_conf  p1_dog                  p2  \\\n",
       "0           1    Welsh_springer_spaniel  0.465074    True              collie   \n",
       "1           1                   redbone  0.506826    True  miniature_pinscher   \n",
       "2           1           German_shepherd  0.596461    True            malinois   \n",
       "3           1       Rhodesian_ridgeback  0.408143    True             redbone   \n",
       "4           1        miniature_pinscher  0.560311    True          Rottweiler   \n",
       "...       ...                       ...       ...     ...                 ...   \n",
       "2069        1  Chesapeake_Bay_retriever  0.425595    True       Irish_terrier   \n",
       "2070        2                    basset  0.555712    True    English_springer   \n",
       "2071        1               paper_towel  0.170278   False  Labrador_retriever   \n",
       "2072        1                 Chihuahua  0.716012    True            malamute   \n",
       "2073        1                 Chihuahua  0.323581    True            Pekinese   \n",
       "\n",
       "       p2_conf  p2_dog                           p3   p3_conf  p3_dog  \n",
       "0     0.156665    True            Shetland_sheepdog  0.061428    True  \n",
       "1     0.074192    True          Rhodesian_ridgeback  0.072010    True  \n",
       "2     0.138584    True                   bloodhound  0.116197    True  \n",
       "3     0.360687    True           miniature_pinscher  0.222752    True  \n",
       "4     0.243682    True                     Doberman  0.154629    True  \n",
       "...        ...     ...                          ...       ...     ...  \n",
       "2069  0.116317    True              Indian_elephant  0.076902   False  \n",
       "2070  0.225770    True  German_short-haired_pointer  0.175219    True  \n",
       "2071  0.168086    True                      spatula  0.040836   False  \n",
       "2072  0.078253    True                       kelpie  0.031379    True  \n",
       "2073  0.090647    True                     papillon  0.068957    True  \n",
       "\n",
       "[1751 rows x 12 columns]"
      ]
     },
     "execution_count": 2140,
     "metadata": {},
     "output_type": "execute_result"
    }
   ],
   "source": [
    "# Loop over px (x = 1,2,3) to check if at least 1 in 3 values is True\n",
    "    # Create a mask value that have the same length with `predictions` and full of False\n",
    "mask = pd.Series(False, index = predictions_clean.index)\n",
    "    # Create an array of 1,2,3\n",
    "num_columns = range(1,4,1)\n",
    "\n",
    "for num in num_columns:\n",
    "    column_name = f'p{num}_dog'\n",
    "        # mask = False. If any values in the right operators are True -> mask = True -> also the line that have at least 1 True value\n",
    "    mask |= predictions_clean[column_name] \n",
    "\n",
    "predictions_clean = predictions_clean[mask] # same as predictions_clean[mask == True]\n",
    "predictions_clean"
   ]
  },
  {
   "cell_type": "markdown",
   "metadata": {},
   "source": [
    "**Test**"
   ]
  },
  {
   "cell_type": "code",
   "execution_count": 2141,
   "metadata": {},
   "outputs": [
    {
     "data": {
      "text/plain": [
       "0"
      ]
     },
     "execution_count": 2141,
     "metadata": {},
     "output_type": "execute_result"
    }
   ],
   "source": [
    "# Check if there're any rows that not have at least 1 True\n",
    "len(predictions_clean[\n",
    "    (predictions_clean['p1_dog'] == False) &\n",
    "    (predictions_clean['p2_dog'] == False) &\n",
    "    (predictions_clean['p3_dog'] == False)\n",
    "    ])\n",
    "\n",
    "# Pass test"
   ]
  },
  {
   "cell_type": "markdown",
   "metadata": {},
   "source": [
    "### 281 records of tweet_id missing in `predictions`"
   ]
  },
  {
   "cell_type": "markdown",
   "metadata": {},
   "source": [
    "**Define**\n",
    "\n",
    "Keep only records in `archive` that `tweet_id` exists in `predictions`"
   ]
  },
  {
   "cell_type": "markdown",
   "metadata": {},
   "source": [
    "**Code**"
   ]
  },
  {
   "cell_type": "code",
   "execution_count": 2142,
   "metadata": {},
   "outputs": [],
   "source": [
    "archive_clean = archive_clean[archive_clean['tweet_id'].isin(predictions_clean['tweet_id'])]"
   ]
  },
  {
   "cell_type": "markdown",
   "metadata": {},
   "source": [
    "**Test**"
   ]
  },
  {
   "cell_type": "code",
   "execution_count": 2143,
   "metadata": {},
   "outputs": [
    {
     "data": {
      "text/plain": [
       "0"
      ]
     },
     "execution_count": 2143,
     "metadata": {},
     "output_type": "execute_result"
    }
   ],
   "source": [
    "len(archive_clean[~archive_clean['tweet_id'].isin(predictions_clean['tweet_id'])])"
   ]
  },
  {
   "cell_type": "markdown",
   "metadata": {},
   "source": [
    "### `archive` without any duplicates (i.e: retweets) will have empty `retweeted_status_id`,`retweeted_status_user_id`,`retweeted_status_timestamp`. Those columns can be dropped "
   ]
  },
  {
   "cell_type": "markdown",
   "metadata": {},
   "source": [
    "**Define**\n",
    "\n",
    "Drop `retweeted_status_id`, `retweeted_status_user_id`,`retweeted_status_timestamp` from `archive`"
   ]
  },
  {
   "cell_type": "markdown",
   "metadata": {},
   "source": [
    "**Code**"
   ]
  },
  {
   "cell_type": "code",
   "execution_count": 2144,
   "metadata": {},
   "outputs": [
    {
     "name": "stdout",
     "output_type": "stream",
     "text": [
      "0\n",
      "0\n",
      "0\n"
     ]
    }
   ],
   "source": [
    "# Check if all values in those columns are empty\n",
    "print(sum(~archive_clean['retweeted_status_id'].isna()))\n",
    "print(sum(~archive_clean['retweeted_status_user_id'].isna()))\n",
    "print(sum(~archive_clean['retweeted_status_timestamp'].isna()))\n",
    "\n",
    "# Drop the columns\n",
    "archive_clean.drop(['retweeted_status_id','retweeted_status_user_id','retweeted_status_timestamp'], axis=1, inplace = True)"
   ]
  },
  {
   "cell_type": "markdown",
   "metadata": {},
   "source": [
    "**Test**"
   ]
  },
  {
   "cell_type": "code",
   "execution_count": 2145,
   "metadata": {},
   "outputs": [
    {
     "name": "stdout",
     "output_type": "stream",
     "text": [
      "<class 'pandas.core.frame.DataFrame'>\n",
      "Index: 1686 entries, 1 to 2355\n",
      "Data columns (total 15 columns):\n",
      " #   Column                 Non-Null Count  Dtype  \n",
      "---  ------                 --------------  -----  \n",
      " 0   tweet_id               1686 non-null   int64  \n",
      " 1   in_reply_to_status_id  20 non-null     float64\n",
      " 2   in_reply_to_user_id    20 non-null     float64\n",
      " 3   timestamp              1686 non-null   object \n",
      " 4   source                 1686 non-null   object \n",
      " 5   text                   1686 non-null   object \n",
      " 6   expanded_urls          1686 non-null   object \n",
      " 7   rating_numerator       1686 non-null   int64  \n",
      " 8   rating_denominator     1686 non-null   int64  \n",
      " 9   name                   1267 non-null   object \n",
      " 10  doggo                  64 non-null     object \n",
      " 11  floofer                8 non-null      object \n",
      " 12  pupper                 176 non-null    object \n",
      " 13  puppo                  22 non-null     object \n",
      " 14  counter                1686 non-null   int64  \n",
      "dtypes: float64(2), int64(4), object(9)\n",
      "memory usage: 210.8+ KB\n"
     ]
    }
   ],
   "source": [
    "archive_clean.info()"
   ]
  },
  {
   "cell_type": "markdown",
   "metadata": {},
   "source": [
    "### error datatypes: `in_reply_to_status_id`,`in_reply_to_user_id`,`timestamp`"
   ]
  },
  {
   "cell_type": "markdown",
   "metadata": {},
   "source": [
    "**Define**\n",
    "\n",
    "Convert `in_reply_to_status_id`,`in_reply_to_user_id` to integer\n",
    "\n",
    "Convert `timestamp` to datetime"
   ]
  },
  {
   "cell_type": "markdown",
   "metadata": {},
   "source": [
    "**Code**"
   ]
  },
  {
   "cell_type": "code",
   "execution_count": 2146,
   "metadata": {},
   "outputs": [],
   "source": [
    "columns_to_int_type = ['in_reply_to_status_id','in_reply_to_user_id']\n",
    "\n",
    "for column in columns_to_int_type:\n",
    "    archive_clean[column] = archive_clean[column].fillna(0).astype(int)\n",
    "\n",
    "archive_clean.timestamp = pd.to_datetime(archive_clean.timestamp)"
   ]
  },
  {
   "cell_type": "markdown",
   "metadata": {},
   "source": [
    "**Test**"
   ]
  },
  {
   "cell_type": "code",
   "execution_count": 2147,
   "metadata": {},
   "outputs": [
    {
     "name": "stdout",
     "output_type": "stream",
     "text": [
      "<class 'pandas.core.frame.DataFrame'>\n",
      "Index: 1686 entries, 1 to 2355\n",
      "Data columns (total 15 columns):\n",
      " #   Column                 Non-Null Count  Dtype              \n",
      "---  ------                 --------------  -----              \n",
      " 0   tweet_id               1686 non-null   int64              \n",
      " 1   in_reply_to_status_id  1686 non-null   int64              \n",
      " 2   in_reply_to_user_id    1686 non-null   int64              \n",
      " 3   timestamp              1686 non-null   datetime64[ns, UTC]\n",
      " 4   source                 1686 non-null   object             \n",
      " 5   text                   1686 non-null   object             \n",
      " 6   expanded_urls          1686 non-null   object             \n",
      " 7   rating_numerator       1686 non-null   int64              \n",
      " 8   rating_denominator     1686 non-null   int64              \n",
      " 9   name                   1267 non-null   object             \n",
      " 10  doggo                  64 non-null     object             \n",
      " 11  floofer                8 non-null      object             \n",
      " 12  pupper                 176 non-null    object             \n",
      " 13  puppo                  22 non-null     object             \n",
      " 14  counter                1686 non-null   int64              \n",
      "dtypes: datetime64[ns, UTC](1), int64(6), object(8)\n",
      "memory usage: 210.8+ KB\n"
     ]
    }
   ],
   "source": [
    "archive_clean.info()"
   ]
  },
  {
   "cell_type": "markdown",
   "metadata": {},
   "source": [
    "### `archive` unnecessary html tags in `source` to differentiate utility name"
   ]
  },
  {
   "cell_type": "markdown",
   "metadata": {},
   "source": [
    "**Define**\n",
    "\n",
    "Retain only the text between tags `<a...></a>`\n",
    "\n",
    "Convert data type to categorical"
   ]
  },
  {
   "cell_type": "markdown",
   "metadata": {},
   "source": [
    "**Code**"
   ]
  },
  {
   "cell_type": "code",
   "execution_count": 2148,
   "metadata": {},
   "outputs": [
    {
     "data": {
      "text/plain": [
       "array(['<a href=\"http://twitter.com/download/iphone\" rel=\"nofollow\">Twitter for iPhone</a>',\n",
       "       '<a href=\"http://twitter.com\" rel=\"nofollow\">Twitter Web Client</a>',\n",
       "       '<a href=\"https://about.twitter.com/products/tweetdeck\" rel=\"nofollow\">TweetDeck</a>'],\n",
       "      dtype=object)"
      ]
     },
     "execution_count": 2148,
     "metadata": {},
     "output_type": "execute_result"
    }
   ],
   "source": [
    "archive_clean.source.unique()"
   ]
  },
  {
   "cell_type": "code",
   "execution_count": 2149,
   "metadata": {},
   "outputs": [],
   "source": [
    "# Extract the string in <a></a>\n",
    "archive_clean.source = archive_clean.source.str.extract(r'<a[^>]*>(.*?)<\\/a>', expand=False)\n",
    "\n",
    "# Change type\n",
    "archive_clean.source = archive_clean.source.astype('category')"
   ]
  },
  {
   "cell_type": "markdown",
   "metadata": {},
   "source": [
    "**Test**"
   ]
  },
  {
   "cell_type": "code",
   "execution_count": 2150,
   "metadata": {},
   "outputs": [
    {
     "data": {
      "text/plain": [
       "source\n",
       "Twitter for iPhone    1655\n",
       "Twitter Web Client      22\n",
       "TweetDeck                9\n",
       "Name: count, dtype: int64"
      ]
     },
     "execution_count": 2150,
     "metadata": {},
     "output_type": "execute_result"
    }
   ],
   "source": [
    "archive_clean['source'].value_counts()"
   ]
  },
  {
   "cell_type": "markdown",
   "metadata": {},
   "source": [
    "### `archive`: `rating_denominator` has values other than 10"
   ]
  },
  {
   "cell_type": "markdown",
   "metadata": {},
   "source": [
    "**Define**\n",
    "\n",
    "Check if the numerator and denominator have been correctly extracted from text or not. If not, re-extract and update\n",
    "\n",
    "Check if after the update, the values of numerator and denominator are reasonable enough? (eg: denominator should be 10, and numerator should be >0 and not roughly higher than 10). If not, update"
   ]
  },
  {
   "cell_type": "markdown",
   "metadata": {},
   "source": [
    "**Code**"
   ]
  },
  {
   "cell_type": "code",
   "execution_count": 2151,
   "metadata": {},
   "outputs": [
    {
     "name": "stdout",
     "output_type": "stream",
     "text": [
      "23\n"
     ]
    },
    {
     "data": {
      "text/html": [
       "<div>\n",
       "<style scoped>\n",
       "    .dataframe tbody tr th:only-of-type {\n",
       "        vertical-align: middle;\n",
       "    }\n",
       "\n",
       "    .dataframe tbody tr th {\n",
       "        vertical-align: top;\n",
       "    }\n",
       "\n",
       "    .dataframe thead th {\n",
       "        text-align: right;\n",
       "    }\n",
       "</style>\n",
       "<table border=\"1\" class=\"dataframe\">\n",
       "  <thead>\n",
       "    <tr style=\"text-align: right;\">\n",
       "      <th></th>\n",
       "      <th>text</th>\n",
       "      <th>rating_numerator</th>\n",
       "      <th>rating_denominator</th>\n",
       "    </tr>\n",
       "  </thead>\n",
       "  <tbody>\n",
       "    <tr>\n",
       "      <th>313</th>\n",
       "      <td>@jonnysun @Lin_Manuel ok jomny I know you're excited but 960/00 isn't a valid rating, 13/10 is tho</td>\n",
       "      <td>960</td>\n",
       "      <td>0</td>\n",
       "    </tr>\n",
       "    <tr>\n",
       "      <th>342</th>\n",
       "      <td>@docmisterio account started on 11/15/15</td>\n",
       "      <td>11</td>\n",
       "      <td>15</td>\n",
       "    </tr>\n",
       "    <tr>\n",
       "      <th>433</th>\n",
       "      <td>The floofs have been released I repeat the floofs have been released. 84/70 https://t.co/NIYC820tmd</td>\n",
       "      <td>84</td>\n",
       "      <td>70</td>\n",
       "    </tr>\n",
       "    <tr>\n",
       "      <th>516</th>\n",
       "      <td>Meet Sam. She smiles 24/7 &amp;amp; secretly aspires to be a reindeer. \\nKeep Sam smiling by clicking and sharing this link:\\nhttps://t.co/98tB8y7y7t https://t.co/LouL5vdvxx</td>\n",
       "      <td>24</td>\n",
       "      <td>7</td>\n",
       "    </tr>\n",
       "    <tr>\n",
       "      <th>784</th>\n",
       "      <td>RT @dog_rates: After so many requests, this is Bretagne. She was the last surviving 9/11 search dog, and our second ever 14/10. RIP https:/…</td>\n",
       "      <td>9</td>\n",
       "      <td>11</td>\n",
       "    </tr>\n",
       "  </tbody>\n",
       "</table>\n",
       "</div>"
      ],
      "text/plain": [
       "                                                                                                                                                                          text  \\\n",
       "313                                                                         @jonnysun @Lin_Manuel ok jomny I know you're excited but 960/00 isn't a valid rating, 13/10 is tho   \n",
       "342                                                                                                                                   @docmisterio account started on 11/15/15   \n",
       "433                                                                        The floofs have been released I repeat the floofs have been released. 84/70 https://t.co/NIYC820tmd   \n",
       "516  Meet Sam. She smiles 24/7 &amp; secretly aspires to be a reindeer. \\nKeep Sam smiling by clicking and sharing this link:\\nhttps://t.co/98tB8y7y7t https://t.co/LouL5vdvxx   \n",
       "784                               RT @dog_rates: After so many requests, this is Bretagne. She was the last surviving 9/11 search dog, and our second ever 14/10. RIP https:/…   \n",
       "\n",
       "     rating_numerator  rating_denominator  \n",
       "313               960                   0  \n",
       "342                11                  15  \n",
       "433                84                  70  \n",
       "516                24                   7  \n",
       "784                 9                  11  "
      ]
     },
     "execution_count": 2151,
     "metadata": {},
     "output_type": "execute_result"
    }
   ],
   "source": [
    "# Count and check the alignment between fractions in `text` and the numerator/denominator\n",
    "print(len(archive[archive['rating_denominator'] != 10]))\n",
    "archive[archive['rating_denominator'] != 10][['text','rating_numerator', 'rating_denominator']].head()\n",
    "\n",
    "# As shown in result, some fractions are not correctly extracted, therefore we need to update"
   ]
  },
  {
   "cell_type": "code",
   "execution_count": 2152,
   "metadata": {},
   "outputs": [
    {
     "data": {
      "text/html": [
       "<div>\n",
       "<style scoped>\n",
       "    .dataframe tbody tr th:only-of-type {\n",
       "        vertical-align: middle;\n",
       "    }\n",
       "\n",
       "    .dataframe tbody tr th {\n",
       "        vertical-align: top;\n",
       "    }\n",
       "\n",
       "    .dataframe thead th {\n",
       "        text-align: right;\n",
       "    }\n",
       "</style>\n",
       "<table border=\"1\" class=\"dataframe\">\n",
       "  <thead>\n",
       "    <tr style=\"text-align: right;\">\n",
       "      <th></th>\n",
       "      <th>tweet_id</th>\n",
       "      <th>in_reply_to_status_id</th>\n",
       "      <th>in_reply_to_user_id</th>\n",
       "      <th>timestamp</th>\n",
       "      <th>source</th>\n",
       "      <th>text</th>\n",
       "      <th>expanded_urls</th>\n",
       "      <th>rating_numerator</th>\n",
       "      <th>rating_denominator</th>\n",
       "      <th>name</th>\n",
       "      <th>doggo</th>\n",
       "      <th>floofer</th>\n",
       "      <th>pupper</th>\n",
       "      <th>puppo</th>\n",
       "      <th>counter</th>\n",
       "      <th>correct_numerator</th>\n",
       "      <th>correct_denominator</th>\n",
       "    </tr>\n",
       "  </thead>\n",
       "  <tbody>\n",
       "    <tr>\n",
       "      <th>1</th>\n",
       "      <td>892177421306343426</td>\n",
       "      <td>0</td>\n",
       "      <td>0</td>\n",
       "      <td>2017-08-01 00:17:27+00:00</td>\n",
       "      <td>Twitter for iPhone</td>\n",
       "      <td>This is Tilly. She's just checking pup on you. Hopes you're doing ok. If not, she's available for pats, snugs, boops, the whole bit. 13/10 https://t.co/0Xxu71qeIV</td>\n",
       "      <td>https://twitter.com/dog_rates/status/892177421306343426/photo/1</td>\n",
       "      <td>13</td>\n",
       "      <td>10</td>\n",
       "      <td>Tilly</td>\n",
       "      <td>NaN</td>\n",
       "      <td>NaN</td>\n",
       "      <td>NaN</td>\n",
       "      <td>NaN</td>\n",
       "      <td>0</td>\n",
       "      <td>13.0</td>\n",
       "      <td>10.0</td>\n",
       "    </tr>\n",
       "    <tr>\n",
       "      <th>2</th>\n",
       "      <td>891815181378084864</td>\n",
       "      <td>0</td>\n",
       "      <td>0</td>\n",
       "      <td>2017-07-31 00:18:03+00:00</td>\n",
       "      <td>Twitter for iPhone</td>\n",
       "      <td>This is Archie. He is a rare Norwegian Pouncing Corgo. Lives in the tall grass. You never know when one may strike. 12/10 https://t.co/wUnZnhtVJB</td>\n",
       "      <td>https://twitter.com/dog_rates/status/891815181378084864/photo/1</td>\n",
       "      <td>12</td>\n",
       "      <td>10</td>\n",
       "      <td>Archie</td>\n",
       "      <td>NaN</td>\n",
       "      <td>NaN</td>\n",
       "      <td>NaN</td>\n",
       "      <td>NaN</td>\n",
       "      <td>0</td>\n",
       "      <td>12.0</td>\n",
       "      <td>10.0</td>\n",
       "    </tr>\n",
       "    <tr>\n",
       "      <th>3</th>\n",
       "      <td>891689557279858688</td>\n",
       "      <td>0</td>\n",
       "      <td>0</td>\n",
       "      <td>2017-07-30 15:58:51+00:00</td>\n",
       "      <td>Twitter for iPhone</td>\n",
       "      <td>This is Darla. She commenced a snooze mid meal. 13/10 happens to the best of us https://t.co/tD36da7qLQ</td>\n",
       "      <td>https://twitter.com/dog_rates/status/891689557279858688/photo/1</td>\n",
       "      <td>13</td>\n",
       "      <td>10</td>\n",
       "      <td>Darla</td>\n",
       "      <td>NaN</td>\n",
       "      <td>NaN</td>\n",
       "      <td>NaN</td>\n",
       "      <td>NaN</td>\n",
       "      <td>0</td>\n",
       "      <td>13.0</td>\n",
       "      <td>10.0</td>\n",
       "    </tr>\n",
       "    <tr>\n",
       "      <th>4</th>\n",
       "      <td>891327558926688256</td>\n",
       "      <td>0</td>\n",
       "      <td>0</td>\n",
       "      <td>2017-07-29 16:00:24+00:00</td>\n",
       "      <td>Twitter for iPhone</td>\n",
       "      <td>This is Franklin. He would like you to stop calling him \"cute.\" He is a very fierce shark and should be respected as such. 12/10 #BarkWeek https://t.co/AtUZn91f7f</td>\n",
       "      <td>https://twitter.com/dog_rates/status/891327558926688256/photo/1,https://twitter.com/dog_rates/status/891327558926688256/photo/1</td>\n",
       "      <td>12</td>\n",
       "      <td>10</td>\n",
       "      <td>Franklin</td>\n",
       "      <td>NaN</td>\n",
       "      <td>NaN</td>\n",
       "      <td>NaN</td>\n",
       "      <td>NaN</td>\n",
       "      <td>0</td>\n",
       "      <td>12.0</td>\n",
       "      <td>10.0</td>\n",
       "    </tr>\n",
       "    <tr>\n",
       "      <th>5</th>\n",
       "      <td>891087950875897856</td>\n",
       "      <td>0</td>\n",
       "      <td>0</td>\n",
       "      <td>2017-07-29 00:08:17+00:00</td>\n",
       "      <td>Twitter for iPhone</td>\n",
       "      <td>Here we have a majestic great white breaching off South Africa's coast. Absolutely h*ckin breathtaking. 13/10 (IG: tucker_marlo) #BarkWeek https://t.co/kQ04fDDRmh</td>\n",
       "      <td>https://twitter.com/dog_rates/status/891087950875897856/photo/1</td>\n",
       "      <td>13</td>\n",
       "      <td>10</td>\n",
       "      <td>NaN</td>\n",
       "      <td>NaN</td>\n",
       "      <td>NaN</td>\n",
       "      <td>NaN</td>\n",
       "      <td>NaN</td>\n",
       "      <td>0</td>\n",
       "      <td>13.0</td>\n",
       "      <td>10.0</td>\n",
       "    </tr>\n",
       "  </tbody>\n",
       "</table>\n",
       "</div>"
      ],
      "text/plain": [
       "             tweet_id  in_reply_to_status_id  in_reply_to_user_id  \\\n",
       "1  892177421306343426                      0                    0   \n",
       "2  891815181378084864                      0                    0   \n",
       "3  891689557279858688                      0                    0   \n",
       "4  891327558926688256                      0                    0   \n",
       "5  891087950875897856                      0                    0   \n",
       "\n",
       "                  timestamp              source  \\\n",
       "1 2017-08-01 00:17:27+00:00  Twitter for iPhone   \n",
       "2 2017-07-31 00:18:03+00:00  Twitter for iPhone   \n",
       "3 2017-07-30 15:58:51+00:00  Twitter for iPhone   \n",
       "4 2017-07-29 16:00:24+00:00  Twitter for iPhone   \n",
       "5 2017-07-29 00:08:17+00:00  Twitter for iPhone   \n",
       "\n",
       "                                                                                                                                                                 text  \\\n",
       "1  This is Tilly. She's just checking pup on you. Hopes you're doing ok. If not, she's available for pats, snugs, boops, the whole bit. 13/10 https://t.co/0Xxu71qeIV   \n",
       "2                   This is Archie. He is a rare Norwegian Pouncing Corgo. Lives in the tall grass. You never know when one may strike. 12/10 https://t.co/wUnZnhtVJB   \n",
       "3                                                             This is Darla. She commenced a snooze mid meal. 13/10 happens to the best of us https://t.co/tD36da7qLQ   \n",
       "4  This is Franklin. He would like you to stop calling him \"cute.\" He is a very fierce shark and should be respected as such. 12/10 #BarkWeek https://t.co/AtUZn91f7f   \n",
       "5  Here we have a majestic great white breaching off South Africa's coast. Absolutely h*ckin breathtaking. 13/10 (IG: tucker_marlo) #BarkWeek https://t.co/kQ04fDDRmh   \n",
       "\n",
       "                                                                                                                     expanded_urls  \\\n",
       "1                                                                  https://twitter.com/dog_rates/status/892177421306343426/photo/1   \n",
       "2                                                                  https://twitter.com/dog_rates/status/891815181378084864/photo/1   \n",
       "3                                                                  https://twitter.com/dog_rates/status/891689557279858688/photo/1   \n",
       "4  https://twitter.com/dog_rates/status/891327558926688256/photo/1,https://twitter.com/dog_rates/status/891327558926688256/photo/1   \n",
       "5                                                                  https://twitter.com/dog_rates/status/891087950875897856/photo/1   \n",
       "\n",
       "   rating_numerator  rating_denominator      name doggo floofer pupper puppo  \\\n",
       "1                13                  10     Tilly   NaN     NaN    NaN   NaN   \n",
       "2                12                  10    Archie   NaN     NaN    NaN   NaN   \n",
       "3                13                  10     Darla   NaN     NaN    NaN   NaN   \n",
       "4                12                  10  Franklin   NaN     NaN    NaN   NaN   \n",
       "5                13                  10       NaN   NaN     NaN    NaN   NaN   \n",
       "\n",
       "   counter  correct_numerator  correct_denominator  \n",
       "1        0               13.0                 10.0  \n",
       "2        0               12.0                 10.0  \n",
       "3        0               13.0                 10.0  \n",
       "4        0               12.0                 10.0  \n",
       "5        0               13.0                 10.0  "
      ]
     },
     "execution_count": 2152,
     "metadata": {},
     "output_type": "execute_result"
    }
   ],
   "source": [
    "# Skimming through the above table, many values in `text` has more than 1 fraction, and the current is taking the 1st one, which is often not the correct fraction.\n",
    "# The correct fraction often the last one. So we will re-extract and update\n",
    "# Define a function to extract the last fraction from a text\n",
    "def extract_last_fraction(text):\n",
    "    fraction_pattern = r'(\\d+\\.?\\d*)/(\\d+\\.?\\d*)'\n",
    "    matches = re.findall(fraction_pattern,text) \n",
    "    if matches:\n",
    "        last_match = matches[-1] #take the last fraction\n",
    "        numerator = float(last_match[0])\n",
    "        denominator = float(last_match[1])\n",
    "        return numerator, denominator\n",
    "    \n",
    "# Apply the function to `text` and create new columns `correct_numerator` and `correct_denominator`\n",
    "archive_clean['correct_numerator'], archive_clean['correct_denominator'] = zip(*archive_clean['text'].apply(extract_last_fraction))\n",
    "  \n",
    "archive_clean.head()"
   ]
  },
  {
   "cell_type": "code",
   "execution_count": 2153,
   "metadata": {},
   "outputs": [
    {
     "name": "stdout",
     "output_type": "stream",
     "text": [
      "rating_denominator\n",
      "10    1669\n",
      "Name: count, dtype: int64\n",
      "correct_denominator\n",
      "10.0    1674\n",
      "Name: count, dtype: int64\n"
     ]
    },
    {
     "data": {
      "text/plain": [
       "12"
      ]
     },
     "execution_count": 2153,
     "metadata": {},
     "output_type": "execute_result"
    }
   ],
   "source": [
    "# Check if the correct denominator is more reasonable\n",
    "print(archive_clean[archive_clean['rating_denominator'] == 10]['rating_denominator'].value_counts())\n",
    "print(archive_clean[archive_clean['correct_denominator'] == 10]['correct_denominator'].value_counts())\n",
    "len(archive_clean)\n",
    "\n",
    "#So there are still x records not reasonable. \n",
    "# x=12\n",
    "len(archive_clean)-len(archive_clean[archive_clean['correct_denominator'] == 10])"
   ]
  },
  {
   "cell_type": "code",
   "execution_count": 2154,
   "metadata": {},
   "outputs": [
    {
     "data": {
      "text/html": [
       "<div>\n",
       "<style scoped>\n",
       "    .dataframe tbody tr th:only-of-type {\n",
       "        vertical-align: middle;\n",
       "    }\n",
       "\n",
       "    .dataframe tbody tr th {\n",
       "        vertical-align: top;\n",
       "    }\n",
       "\n",
       "    .dataframe thead th {\n",
       "        text-align: right;\n",
       "    }\n",
       "</style>\n",
       "<table border=\"1\" class=\"dataframe\">\n",
       "  <thead>\n",
       "    <tr style=\"text-align: right;\">\n",
       "      <th></th>\n",
       "      <th>text</th>\n",
       "      <th>correct_numerator</th>\n",
       "      <th>correct_denominator</th>\n",
       "    </tr>\n",
       "  </thead>\n",
       "  <tbody>\n",
       "    <tr>\n",
       "      <th>433</th>\n",
       "      <td>The floofs have been released I repeat the floofs have been released. 84/70 https://t.co/NIYC820tmd</td>\n",
       "      <td>84.0</td>\n",
       "      <td>70.0</td>\n",
       "    </tr>\n",
       "    <tr>\n",
       "      <th>516</th>\n",
       "      <td>Meet Sam. She smiles 24/7 &amp;amp; secretly aspires to be a reindeer. \\nKeep Sam smiling by clicking and sharing this link:\\nhttps://t.co/98tB8y7y7t https://t.co/LouL5vdvxx</td>\n",
       "      <td>24.0</td>\n",
       "      <td>7.0</td>\n",
       "    </tr>\n",
       "    <tr>\n",
       "      <th>902</th>\n",
       "      <td>Why does this never happen at my front door... 165/150 https://t.co/HmwrdfEfUE</td>\n",
       "      <td>165.0</td>\n",
       "      <td>150.0</td>\n",
       "    </tr>\n",
       "    <tr>\n",
       "      <th>1228</th>\n",
       "      <td>Happy Saturday here's 9 puppers on a bench. 99/90 good work everybody https://t.co/mpvaVxKmc1</td>\n",
       "      <td>99.0</td>\n",
       "      <td>90.0</td>\n",
       "    </tr>\n",
       "    <tr>\n",
       "      <th>1254</th>\n",
       "      <td>Here's a brigade of puppers. All look very prepared for whatever happens next. 80/80 https://t.co/0eb7R1Om12</td>\n",
       "      <td>80.0</td>\n",
       "      <td>80.0</td>\n",
       "    </tr>\n",
       "    <tr>\n",
       "      <th>1274</th>\n",
       "      <td>From left to right:\\nCletus, Jerome, Alejandro, Burp, &amp;amp; Titson\\nNone know where camera is. 45/50 would hug all at once https://t.co/sedre1ivTK</td>\n",
       "      <td>45.0</td>\n",
       "      <td>50.0</td>\n",
       "    </tr>\n",
       "    <tr>\n",
       "      <th>1351</th>\n",
       "      <td>Here is a whole flock of puppers.  60/50 I'll take the lot https://t.co/9dpcw6MdWa</td>\n",
       "      <td>60.0</td>\n",
       "      <td>50.0</td>\n",
       "    </tr>\n",
       "    <tr>\n",
       "      <th>1433</th>\n",
       "      <td>Happy Wednesday here's a bucket of pups. 44/40 would pet all at once https://t.co/HppvrYuamZ</td>\n",
       "      <td>44.0</td>\n",
       "      <td>40.0</td>\n",
       "    </tr>\n",
       "    <tr>\n",
       "      <th>1634</th>\n",
       "      <td>Two sneaky puppers were not initially seen, moving the rating to 143/130. Please forgive us. Thank you https://t.co/kRK51Y5ac3</td>\n",
       "      <td>143.0</td>\n",
       "      <td>130.0</td>\n",
       "    </tr>\n",
       "    <tr>\n",
       "      <th>1635</th>\n",
       "      <td>Someone help the girl is being mugged. Several are distracting her while two steal her shoes. Clever puppers 121/110 https://t.co/1zfnTJLt55</td>\n",
       "      <td>121.0</td>\n",
       "      <td>110.0</td>\n",
       "    </tr>\n",
       "    <tr>\n",
       "      <th>1779</th>\n",
       "      <td>IT'S PUPPERGEDDON. Total of 144/120 ...I think https://t.co/ZanVtAtvIq</td>\n",
       "      <td>144.0</td>\n",
       "      <td>120.0</td>\n",
       "    </tr>\n",
       "    <tr>\n",
       "      <th>1843</th>\n",
       "      <td>Here we have an entire platoon of puppers. Total score: 88/80 would pet all at once https://t.co/y93p6FLvVw</td>\n",
       "      <td>88.0</td>\n",
       "      <td>80.0</td>\n",
       "    </tr>\n",
       "  </tbody>\n",
       "</table>\n",
       "</div>"
      ],
      "text/plain": [
       "                                                                                                                                                                           text  \\\n",
       "433                                                                         The floofs have been released I repeat the floofs have been released. 84/70 https://t.co/NIYC820tmd   \n",
       "516   Meet Sam. She smiles 24/7 &amp; secretly aspires to be a reindeer. \\nKeep Sam smiling by clicking and sharing this link:\\nhttps://t.co/98tB8y7y7t https://t.co/LouL5vdvxx   \n",
       "902                                                                                              Why does this never happen at my front door... 165/150 https://t.co/HmwrdfEfUE   \n",
       "1228                                                                              Happy Saturday here's 9 puppers on a bench. 99/90 good work everybody https://t.co/mpvaVxKmc1   \n",
       "1254                                                               Here's a brigade of puppers. All look very prepared for whatever happens next. 80/80 https://t.co/0eb7R1Om12   \n",
       "1274                         From left to right:\\nCletus, Jerome, Alejandro, Burp, &amp; Titson\\nNone know where camera is. 45/50 would hug all at once https://t.co/sedre1ivTK   \n",
       "1351                                                                                         Here is a whole flock of puppers.  60/50 I'll take the lot https://t.co/9dpcw6MdWa   \n",
       "1433                                                                               Happy Wednesday here's a bucket of pups. 44/40 would pet all at once https://t.co/HppvrYuamZ   \n",
       "1634                                             Two sneaky puppers were not initially seen, moving the rating to 143/130. Please forgive us. Thank you https://t.co/kRK51Y5ac3   \n",
       "1635                               Someone help the girl is being mugged. Several are distracting her while two steal her shoes. Clever puppers 121/110 https://t.co/1zfnTJLt55   \n",
       "1779                                                                                                     IT'S PUPPERGEDDON. Total of 144/120 ...I think https://t.co/ZanVtAtvIq   \n",
       "1843                                                                Here we have an entire platoon of puppers. Total score: 88/80 would pet all at once https://t.co/y93p6FLvVw   \n",
       "\n",
       "      correct_numerator  correct_denominator  \n",
       "433                84.0                 70.0  \n",
       "516                24.0                  7.0  \n",
       "902               165.0                150.0  \n",
       "1228               99.0                 90.0  \n",
       "1254               80.0                 80.0  \n",
       "1274               45.0                 50.0  \n",
       "1351               60.0                 50.0  \n",
       "1433               44.0                 40.0  \n",
       "1634              143.0                130.0  \n",
       "1635              121.0                110.0  \n",
       "1779              144.0                120.0  \n",
       "1843               88.0                 80.0  "
      ]
     },
     "metadata": {},
     "output_type": "display_data"
    }
   ],
   "source": [
    "# Display the 12 not reasonable records:\n",
    "with pd.option_context('display.max_colwidth', None):\n",
    "    display(archive_clean[archive_clean['correct_denominator'] !=10][['text','correct_numerator','correct_denominator']])"
   ]
  },
  {
   "cell_type": "code",
   "execution_count": 2155,
   "metadata": {},
   "outputs": [
    {
     "data": {
      "text/plain": [
       "1686"
      ]
     },
     "execution_count": 2155,
     "metadata": {},
     "output_type": "execute_result"
    }
   ],
   "source": [
    "len(archive_clean['correct_denominator'] == 0)"
   ]
  },
  {
   "cell_type": "code",
   "execution_count": 2156,
   "metadata": {},
   "outputs": [],
   "source": [
    "# Manually assessing, the fraction values in row 516 is not valid -> drop this row.\n",
    "archive_clean.drop(index = 516, inplace=True)\n",
    "# Also, all of the remaining fractions should be updated to the denominator equals to 10\n",
    "archive_clean['rating_numerator'] = 10*archive_clean['correct_numerator']/archive_clean['correct_denominator']\n",
    "archive_clean['rating_denominator'] = 10"
   ]
  },
  {
   "cell_type": "markdown",
   "metadata": {},
   "source": [
    "**Test**"
   ]
  },
  {
   "cell_type": "code",
   "execution_count": 2157,
   "metadata": {},
   "outputs": [],
   "source": [
    "# Check if the fraction or numerator/denominator is equal to correct_numerator/correct_denominator\n",
    "sum(archive_clean['rating_numerator']/archive_clean['rating_denominator'] != (archive_clean['correct_numerator']/archive_clean['correct_denominator']))\n",
    "\n",
    "# -> all are equal\n",
    "\n",
    "#Drop the `correct_numerator` and `correct_denominator` columns\n",
    "archive_clean.drop(columns=['correct_numerator','correct_denominator'], inplace=True)"
   ]
  },
  {
   "cell_type": "markdown",
   "metadata": {},
   "source": [
    "### `archive`: wrong dog names starting with lowercase characters and glibberish (eg: a,an,actually,by)"
   ]
  },
  {
   "cell_type": "markdown",
   "metadata": {},
   "source": [
    "**Define**\n",
    "\n",
    "Replace all lowercase values in `name` with None\n"
   ]
  },
  {
   "cell_type": "markdown",
   "metadata": {},
   "source": [
    "**Code**"
   ]
  },
  {
   "cell_type": "code",
   "execution_count": 2158,
   "metadata": {},
   "outputs": [],
   "source": [
    "# Only keep records starts with uppercase and followed by at least 1 lowercase. Other mark as NaN\n",
    "archive_clean['name'] = archive_clean['name'].apply(lambda row: row if pd.notna(row) and re.match(r'[A-Z][a-z]+', row) else np.nan)"
   ]
  },
  {
   "cell_type": "markdown",
   "metadata": {},
   "source": [
    "**Test**"
   ]
  },
  {
   "cell_type": "code",
   "execution_count": 2159,
   "metadata": {},
   "outputs": [
    {
     "name": "stdout",
     "output_type": "stream",
     "text": [
      "['Tilly' 'Archie' 'Darla' 'Franklin' nan 'Jax' 'Zoey' 'Cassie' 'Koda'\n",
      " 'Bruno' 'Ted' 'Stuart' 'Oliver' 'Jim' 'Zeke' 'Ralphus' 'Gerald' 'Jeffrey'\n",
      " 'Canela' 'Maya' 'Mingus' 'Roscoe' 'Waffles' 'Jimbo' 'Maisey' 'Earl'\n",
      " 'Lola' 'Kevin' 'Yogi' 'Noah' 'Bella' 'Grizzwald' 'Rusty' 'Gus' 'Stanley'\n",
      " 'Alfy' 'Koko' 'Rey' 'Gary' 'Jesse' 'Romeo' 'Bailey' 'Duddles' 'Jack'\n",
      " 'Beau' 'Snoopy' 'Shadow' 'Emmy' 'Aja' 'Penny' 'Dante' 'Nelly' 'Ginger'\n",
      " 'Benedict' 'Venti' 'Goose' 'Nugget' 'Cash' 'Jed' 'Sebastian' 'Sierra'\n",
      " 'Monkey' 'Harry' 'Kody' 'Lassie' 'Rover' 'Napolean' 'Boomer' 'Cody'\n",
      " 'Rumble' 'Dewey' 'Scout' 'Gizmo' 'Walter' 'Cooper' 'Harold' 'Shikha'\n",
      " 'Lili' 'Jamesy' 'Coco' 'Sammy' 'Meatball' 'Paisley' 'Neptune' 'Belle'\n",
      " 'Quinn' 'Zooey' 'Dave' 'Hobbes' 'Burt' 'Lorenzo' 'Carl' 'Milky' 'Trooper'\n",
      " 'Sophie' 'Wyatt' 'Rosie' 'Thor' 'Oscar' 'Callie' 'Cermet' 'Marlee' 'Arya'\n",
      " 'Einstein' 'Alice' 'Benny' 'Aspen' 'Jarod' 'Sailor' 'Snoop' 'Kyle' 'Leo'\n",
      " 'Riley' 'Noosh' 'Odin' 'Jerry' 'Rontu' 'Cannon' 'Furzey' 'Daisy' 'Tuck'\n",
      " 'Barney' 'Vixen' 'Jarvis' 'Mimosa' 'Pickles' 'Brady' 'Luna' 'Margo'\n",
      " 'Sadie' 'Hank' 'Tycho' 'Charlie' 'Indie' 'Winnie' 'George' 'Bentley'\n",
      " 'Max' 'Dawn' 'Maddie' 'Monty' 'Sojourner' 'Winston' 'Odie' 'Arlo'\n",
      " 'Vincent' 'Lucy' 'Clark' 'Mookie' 'Meera' 'Eli' 'Ash' 'Tucker' 'Tobi'\n",
      " 'Chester' 'Wilson' 'Lipton' 'Bronte' 'Poppy' 'Gidget' 'Rhino' 'Willow'\n",
      " 'Orion' 'Eevee' 'Smiley' 'Miguel' 'Emanuel' 'Kuyu' 'Dutch' 'Pete'\n",
      " 'Scooter' 'Reggie' 'Lilly' 'Samson' 'Mia' 'Astrid' 'Malcolm' 'Dexter'\n",
      " 'Alfie' 'Fiona' 'Mutt' 'Bear' 'Doobert' 'Beebop' 'Alexander' 'Brutus'\n",
      " 'Kona' 'Boots' 'Ralphie' 'Loki' 'Cupid' 'Pawnd' 'Pilot' 'Ike' 'Toby'\n",
      " 'Sweet' 'Pablo' 'Crawford' 'Albus' 'Gabe' 'Jimison' 'Duchess' 'Harlso'\n",
      " 'Sundance' 'Luca' 'Flash' 'Sunny' 'Howie' 'Jazzy' 'Anna' 'Finn' 'Bo'\n",
      " 'Wafer' 'Tom' 'Florence' 'Autumn' 'Buddy' 'Dido' 'Eugene' 'Ken' 'Strudel'\n",
      " 'Tebow' 'Chloe' 'Timber' 'Binky' 'Dudley' 'Comet' 'Akumi' 'Titan'\n",
      " 'Olivia' 'Alf' 'Oshie' 'Chubbs' 'Sky' 'Atlas' 'Eleanor' 'Layla' 'Rocky'\n",
      " 'Baron' 'Tyr' 'Bauer' 'Swagger' 'Brandi' 'Mary' 'Moe' 'Halo' 'Augie'\n",
      " 'Craig' 'Hunter' 'Pavlov' 'Phil' 'Kyro' 'Wallace' 'Ito' 'Ollie' 'Stephan'\n",
      " 'Lennon' 'Major' 'Duke' 'Shooter' 'Django' 'Diogi' 'Marley' 'Ronnie'\n",
      " 'Milo' 'Bones' 'Mauve' 'Chef' 'Doc' 'Peaches' 'Sobe' 'Longfellow'\n",
      " 'Mister' 'Iroh' 'Pancake' 'Snicku' 'Ruby' 'Brody' 'Mack' 'Nimbus'\n",
      " 'Maximus' 'Dobby' 'Moreton' 'Juno' 'Maude' 'Lily' 'Newt' 'Benji' 'Nida'\n",
      " 'Robin' 'Monster' 'BeBe' 'Remus' 'Levi' 'Mabel' 'Misty' 'Betty' 'Mosby'\n",
      " 'Maggie' 'Bruce' 'Happy' 'Brownie' 'Rizzy' 'Stella' 'Butter' 'Frank'\n",
      " 'Tonks' 'Moose' 'Lincoln' 'Rory' 'Logan' 'Dale' 'Rizzo' 'Mattie' 'Dallas'\n",
      " 'Hero' 'Frankie' 'Stormy' 'Mairi' 'Loomis' 'Godi' 'Cali' 'Deacon' 'Timmy'\n",
      " 'Sampson' 'Oakley' 'Dash' 'Hercules' 'Jay' 'Mya' 'Strider' 'Nala'\n",
      " 'Wesley' 'Derek' 'Solomon' 'Huck' 'Blue' 'Finley' 'Sprinkles' 'Heinrich'\n",
      " 'Shakespeare' 'Chelsea' 'Bungalo' 'Chip' 'Grey' 'Roosevelt' 'Willem'\n",
      " 'Davey' 'Dakota' 'Fizz' 'Dixie' 'Al' 'Jackson' 'Carbon' 'Klein' 'DonDon'\n",
      " 'Kirby' 'Lou' 'Chevy' 'Philbert' 'Louie' 'Rupert' 'Rufus' 'Brudge'\n",
      " 'Shadoe' 'Angel' 'Brat' 'Tove' 'Gromit' 'Aubie' 'Kota' 'Leela' 'Glenn'\n",
      " 'Shelby' 'Sephie' 'Bonaparte' 'Albert' 'Wishes' 'Rose' 'Rocco' 'Emma'\n",
      " 'Spencer' 'Lilli' 'Boston' 'Brandonald' 'Corey' 'Leonard' 'Beckham'\n",
      " 'Devón' 'Gert' 'Watson' 'Dex' 'Ace' 'Tayzie' 'Grizzie' 'Gilbert' 'Meyer'\n",
      " 'Arnie' 'Zoe' 'Stewie' 'Calvin' 'Lilah' 'Spanky' 'Jameson' 'Piper' 'Blu'\n",
      " 'Dietrich' 'Divine' 'Tripp' 'Cora' 'Huxley' 'Bookstore' 'Atticus' 'Abby'\n",
      " 'Shiloh' 'Gustav' 'Arlen' 'Percy' 'Lenox' 'Harvey' 'Blanket' 'Geno'\n",
      " 'Stark' 'Kilo' 'Kayla' 'Bell' 'Edmund' 'Aqua' 'Theodore' 'Baloo' 'Chase'\n",
      " 'Nollie' 'Rorie' 'Simba' 'Charles' 'Bayley' 'Axel' 'Storkson' 'Remy'\n",
      " 'Chadrick' 'Maxaroni' 'Kellogg' 'Buckley' 'Livvie' 'Terry' 'Hermione'\n",
      " 'Ralpher' 'Aldrick' 'Larry' 'Rooney' 'Crystal' 'Ziva' 'Stefan' 'Pupcasso'\n",
      " 'Puff' 'Flurpson' 'Enchilada' 'Raymond' 'Rueben' 'Cilantro' 'Karll'\n",
      " 'Sprout' 'Blitz' 'Bloop' 'Colby' 'Lillie' 'Fred' 'Ashleigh' 'Kreggory'\n",
      " 'Sarge' 'Luther' 'Sugar' 'Reginald' 'Ivar' 'Jangle' 'Schnitzel' 'Panda'\n",
      " 'Berkeley' 'Ralphé' 'Charleson' 'Harnold' 'Sid' 'Pippa' 'Otis' 'Carper'\n",
      " 'Bowie' 'Alexanderson' 'Suki' 'Barclay' 'Ebby' 'Flávio' 'Smokey' 'Link'\n",
      " 'Jennifur' 'Bluebert' 'Stephanus' 'Bubbles' 'Zeus' 'Nico'\n",
      " 'Michelangelope' 'Siba' 'Calbert' 'Curtis' 'Travis' 'Thumas' 'Kanu'\n",
      " 'Lance' 'Opie' 'Stubert' 'Kane' 'Olive' 'Chuckles' 'Staniel' 'Sora'\n",
      " 'Beemo' 'Gunner' 'Lacy' 'Tater' 'Olaf' 'Cecil' 'Vince' 'Karma' 'Billy'\n",
      " 'Walker' 'Rodney' 'Klevin' 'Malikai' 'Bobble' 'River' 'Jebberson'\n",
      " 'Remington' 'Harper' 'Keurig' 'Clarkus' 'Finnegus' 'Cupcake' 'Kathmandu'\n",
      " 'Ellie' 'Katie' 'Kara' 'Adele' 'Zara' 'Ambrose' 'Jimothy' 'Bode'\n",
      " 'Terrenth' 'Reese' 'Lucia' 'Bisquick' 'Ralphson' 'Socks' 'Rambo' 'Sansa'\n",
      " 'Fiji' 'Rilo' 'Bilbo' 'Coopson' 'Yoda' 'Millie' 'Chet' 'Crouton' 'Kaia'\n",
      " 'Murphy' 'Dotsy' 'Coops' 'Fillup' 'Miley' 'Reagan' 'CeCe' 'Cuddles'\n",
      " 'Claude' 'Jessiga' 'Doug' 'Ole' 'Reptar' 'Trevith' 'Berb' 'Bob' 'Colin'\n",
      " 'Brian' 'Oliviér' 'Grady' 'Kobe' 'Freddery' 'Bodie' 'Dunkin' 'Wally'\n",
      " 'Tupawc' 'Amber' 'Edgar' 'Kingsley' 'Richie' 'Molly' 'Vinscent' 'Cedrick'\n",
      " 'Hazel' 'Lolo' 'Eriq' 'Phred' 'Geoff' 'Covach' 'Durg' 'Fynn' 'Chipson'\n",
      " 'Herald' 'Lucky' 'Trip' 'Brad' 'Pubert' 'Frönq' 'Louis' 'Blakely' 'Opal'\n",
      " 'Marq' 'Kramer' 'Tyrone' 'Gordon' 'Baxter' 'Mona' 'Horace' 'Crimson'\n",
      " 'Birf' 'Lorelei' 'Brooks' 'Petrick' 'Hubertson' 'Gerbald' 'Oreo'\n",
      " 'Bruiser' 'Perry' 'Jeph' 'Obi' 'Tino' 'Kulet' 'Lupe' 'Tiger' 'Jiminy'\n",
      " 'Griffin' 'Banjo' 'Brandy' 'Lulu' 'Darrel' 'Taco' 'Joey' 'Kreg' 'Todo'\n",
      " 'Ulysses' 'Toffee' 'Apollo' 'Carly' 'Asher' 'Glacier' 'Ozzie' 'Griswold'\n",
      " 'Cheesy' 'Hector' 'Goliath' 'Kawhi' 'Ozzy' 'Emmie' 'Willie' 'Rinna'\n",
      " 'Mike' 'William' 'Evy' 'Hurley' 'Rubio' 'Chompsky' 'Linda' 'Tug' 'Tango'\n",
      " 'Grizz' 'Jerome' 'Crumpet' 'Jessifer' 'Ralph' 'Humphrey' 'Tassy'\n",
      " 'Juckson' 'Tyrus' 'Godzilla' 'Vinnie' 'Kenneth' 'Bert' 'Striker' 'Donny'\n",
      " 'Pepper' 'Bernie' 'Buddah' 'Lenny' 'Arnold' 'Mollie' 'Laela' 'Tedders'\n",
      " 'Superpup' 'Rufio' 'Jeb' 'Ava' 'Jonah' 'Kenny' 'Bobbay' 'Mitch' 'Kaiya'\n",
      " 'Acro' 'Aiden' 'Obie' 'Dot' 'Shnuggles' 'Kendall' 'Jeffri' 'Sandy'\n",
      " 'Steve' 'Eve' 'Mac' 'Kenzie' 'Pumpkin' 'Schnozz' 'Gustaf' 'Ed' 'Leonidas'\n",
      " 'Scott' 'Taz' 'Darby' 'Jackie' 'Jazz' 'Franq' 'Pippin' 'Rolf' 'Snickers'\n",
      " 'Ridley' 'Cal' 'Bradley' 'Bubba' 'Tuco' 'Patch' 'Mojo' 'Dylan'\n",
      " 'Alejandro' 'Scruffers' 'Penelope' 'Sparky' 'Holly' 'Clarence' 'Jett'\n",
      " 'Amy' 'Sage' 'Andy' 'Mason' 'Trigger' 'Antony' 'Creg' 'Traviss' 'Gin'\n",
      " 'Danny' 'Ester' 'Pluto' 'Bloo' 'Paull' 'Sam' 'Willy' 'Herb' 'Nigel'\n",
      " 'Butters' 'Sandra' 'Liam' 'Ben' 'Raphael' 'Julio' 'Andru' 'Kloey'\n",
      " 'Shawwn' 'Skye' 'Kollin' 'Ronduh' 'Billl' 'Saydee' 'Dug' 'Tessa' 'Kirk'\n",
      " 'Ralf' 'Clarq' 'Samsom' 'Terrance' 'Chaz' 'Jeremy' 'Jaycob' 'Lambeau'\n",
      " 'Ruffles' 'Amélie' 'Bobb' 'Banditt' 'Kevon' 'Winifred' 'Hanz' 'Churlie'\n",
      " 'Zeek' 'Timofy' 'Maks' 'Jomathan' 'Marvin' 'Spark' 'Jo' 'DayZ' 'Jareld'\n",
      " 'Torque' 'Ron' 'Skittles' 'Cleopatricia' 'Erik' 'Stu' 'Tedrick' 'Filup'\n",
      " 'Kial' 'Naphaniel' 'Dook' 'Hall' 'Philippe' 'Biden' 'Fwed' 'Genevieve'\n",
      " 'Joshwa' 'Timison' 'Bradlay' 'Pipsy' 'Clybe' 'Keet' 'Carll' 'Jockson'\n",
      " 'Josep' 'Lugan' 'Christoper']\n"
     ]
    },
    {
     "data": {
      "text/plain": [
       "False"
      ]
     },
     "execution_count": 2159,
     "metadata": {},
     "output_type": "execute_result"
    }
   ],
   "source": [
    "print(archive_clean['name'].unique())\n",
    "\n",
    "archive_clean['name'].to_string().islower()\n",
    "\n",
    "# All the names seem to be correct"
   ]
  },
  {
   "cell_type": "markdown",
   "metadata": {},
   "source": [
    "### `archive`: some records have more than one dog stage"
   ]
  },
  {
   "cell_type": "markdown",
   "metadata": {},
   "source": [
    "**Define**\n",
    "\n",
    "Check out the reason why and correct to only 1 stage. If can't, update the stages column\n",
    "\n",
    "Create a `stage` column to migrate all 4 stage columns into 1."
   ]
  },
  {
   "cell_type": "code",
   "execution_count": 2160,
   "metadata": {},
   "outputs": [
    {
     "data": {
      "text/html": [
       "<div>\n",
       "<style scoped>\n",
       "    .dataframe tbody tr th:only-of-type {\n",
       "        vertical-align: middle;\n",
       "    }\n",
       "\n",
       "    .dataframe tbody tr th {\n",
       "        vertical-align: top;\n",
       "    }\n",
       "\n",
       "    .dataframe thead th {\n",
       "        text-align: right;\n",
       "    }\n",
       "</style>\n",
       "<table border=\"1\" class=\"dataframe\">\n",
       "  <thead>\n",
       "    <tr style=\"text-align: right;\">\n",
       "      <th></th>\n",
       "      <th>text</th>\n",
       "      <th>counter</th>\n",
       "    </tr>\n",
       "  </thead>\n",
       "  <tbody>\n",
       "    <tr>\n",
       "      <th>191</th>\n",
       "      <td>Here's a puppo participating in the #ScienceMarch. Cleverly disguising her own doggo agenda. 13/10 would keep the planet habitable for https://t.co/cMhq16isel</td>\n",
       "      <td>2</td>\n",
       "    </tr>\n",
       "    <tr>\n",
       "      <th>200</th>\n",
       "      <td>At first I thought this was a shy doggo, but it's actually a Rare Canadian Floofer Owl. Amateurs would confuse the two. 11/10 only send dogs https://t.co/TXdT3tmuYk</td>\n",
       "      <td>2</td>\n",
       "    </tr>\n",
       "    <tr>\n",
       "      <th>460</th>\n",
       "      <td>This is Dido. She's playing the lead role in \"Pupper Stops to Catch Snow Before Resuming Shadow Box with Dried Apple.\" 13/10 (IG: didodoggo) https://t.co/m7isZrOBX7</td>\n",
       "      <td>2</td>\n",
       "    </tr>\n",
       "    <tr>\n",
       "      <th>531</th>\n",
       "      <td>Here we have Burke (pupper) and Dexter (doggo). Pupper wants to be exactly like doggo. Both 12/10 would pet at same time https://t.co/ANBpEYHaho</td>\n",
       "      <td>2</td>\n",
       "    </tr>\n",
       "    <tr>\n",
       "      <th>565</th>\n",
       "      <td>Like doggo, like pupper version 2. Both 11/10 https://t.co/9IxWAXFqze</td>\n",
       "      <td>2</td>\n",
       "    </tr>\n",
       "    <tr>\n",
       "      <th>575</th>\n",
       "      <td>This is Bones. He's being haunted by another doggo of roughly the same size. 12/10 deep breaths pupper everything's fine https://t.co/55Dqe0SJNj</td>\n",
       "      <td>2</td>\n",
       "    </tr>\n",
       "    <tr>\n",
       "      <th>889</th>\n",
       "      <td>Meet Maggie &amp;amp; Lila. Maggie is the doggo, Lila is the pupper. They are sisters. Both 12/10 would pet at the same time https://t.co/MYwR4DQKll</td>\n",
       "      <td>2</td>\n",
       "    </tr>\n",
       "    <tr>\n",
       "      <th>956</th>\n",
       "      <td>Please stop sending it pictures that don't even have a doggo or pupper in them. Churlish af. 5/10 neat couch tho https://t.co/u2c9c7qSg8</td>\n",
       "      <td>2</td>\n",
       "    </tr>\n",
       "    <tr>\n",
       "      <th>1063</th>\n",
       "      <td>This is just downright precious af. 12/10 for both pupper and doggo https://t.co/o5J479bZUC</td>\n",
       "      <td>2</td>\n",
       "    </tr>\n",
       "    <tr>\n",
       "      <th>1113</th>\n",
       "      <td>Like father (doggo), like son (pupper). Both 12/10 https://t.co/pG2inLaOda</td>\n",
       "      <td>2</td>\n",
       "    </tr>\n",
       "  </tbody>\n",
       "</table>\n",
       "</div>"
      ],
      "text/plain": [
       "                                                                                                                                                                      text  \\\n",
       "191         Here's a puppo participating in the #ScienceMarch. Cleverly disguising her own doggo agenda. 13/10 would keep the planet habitable for https://t.co/cMhq16isel   \n",
       "200   At first I thought this was a shy doggo, but it's actually a Rare Canadian Floofer Owl. Amateurs would confuse the two. 11/10 only send dogs https://t.co/TXdT3tmuYk   \n",
       "460   This is Dido. She's playing the lead role in \"Pupper Stops to Catch Snow Before Resuming Shadow Box with Dried Apple.\" 13/10 (IG: didodoggo) https://t.co/m7isZrOBX7   \n",
       "531                       Here we have Burke (pupper) and Dexter (doggo). Pupper wants to be exactly like doggo. Both 12/10 would pet at same time https://t.co/ANBpEYHaho   \n",
       "565                                                                                                  Like doggo, like pupper version 2. Both 11/10 https://t.co/9IxWAXFqze   \n",
       "575                       This is Bones. He's being haunted by another doggo of roughly the same size. 12/10 deep breaths pupper everything's fine https://t.co/55Dqe0SJNj   \n",
       "889                       Meet Maggie &amp; Lila. Maggie is the doggo, Lila is the pupper. They are sisters. Both 12/10 would pet at the same time https://t.co/MYwR4DQKll   \n",
       "956                               Please stop sending it pictures that don't even have a doggo or pupper in them. Churlish af. 5/10 neat couch tho https://t.co/u2c9c7qSg8   \n",
       "1063                                                                           This is just downright precious af. 12/10 for both pupper and doggo https://t.co/o5J479bZUC   \n",
       "1113                                                                                            Like father (doggo), like son (pupper). Both 12/10 https://t.co/pG2inLaOda   \n",
       "\n",
       "      counter  \n",
       "191         2  \n",
       "200         2  \n",
       "460         2  \n",
       "531         2  \n",
       "565         2  \n",
       "575         2  \n",
       "889         2  \n",
       "956         2  \n",
       "1063        2  \n",
       "1113        2  "
      ]
     },
     "execution_count": 2160,
     "metadata": {},
     "output_type": "execute_result"
    }
   ],
   "source": [
    "# From the above, we already separated number of stage in each row with the column `counter`.\n",
    "# Display only records with multiple stages\n",
    "archive_clean[archive_clean['counter'] == 2][['text','counter']]\n",
    "\n",
    "# Will deal with this later after creating `stage`"
   ]
  },
  {
   "cell_type": "code",
   "execution_count": 2161,
   "metadata": {},
   "outputs": [
    {
     "name": "stdout",
     "output_type": "stream",
     "text": [
      "[nan 'doggo'] [nan 'floofer'] [nan 'pupper'] [nan 'puppo']\n"
     ]
    },
    {
     "data": {
      "text/html": [
       "<div>\n",
       "<style scoped>\n",
       "    .dataframe tbody tr th:only-of-type {\n",
       "        vertical-align: middle;\n",
       "    }\n",
       "\n",
       "    .dataframe tbody tr th {\n",
       "        vertical-align: top;\n",
       "    }\n",
       "\n",
       "    .dataframe thead th {\n",
       "        text-align: right;\n",
       "    }\n",
       "</style>\n",
       "<table border=\"1\" class=\"dataframe\">\n",
       "  <thead>\n",
       "    <tr style=\"text-align: right;\">\n",
       "      <th></th>\n",
       "      <th>tweet_id</th>\n",
       "      <th>stage</th>\n",
       "    </tr>\n",
       "  </thead>\n",
       "  <tbody>\n",
       "    <tr>\n",
       "      <th>8</th>\n",
       "      <td>890240255349198849</td>\n",
       "      <td>doggo</td>\n",
       "    </tr>\n",
       "    <tr>\n",
       "      <th>34</th>\n",
       "      <td>884162670584377345</td>\n",
       "      <td>doggo</td>\n",
       "    </tr>\n",
       "    <tr>\n",
       "      <th>75</th>\n",
       "      <td>872967104147763200</td>\n",
       "      <td>doggo</td>\n",
       "    </tr>\n",
       "  </tbody>\n",
       "</table>\n",
       "</div>"
      ],
      "text/plain": [
       "              tweet_id  stage\n",
       "8   890240255349198849  doggo\n",
       "34  884162670584377345  doggo\n",
       "75  872967104147763200  doggo"
      ]
     },
     "execution_count": 2161,
     "metadata": {},
     "output_type": "execute_result"
    }
   ],
   "source": [
    "# Check if there's any glibberish values in 4 columns\n",
    "print(\n",
    "    archive_clean['doggo'].unique(),\n",
    "    archive_clean['floofer'].unique(),\n",
    "    archive_clean['pupper'].unique(),\n",
    "    archive_clean['puppo'].unique()\n",
    "    )\n",
    "# -> No\n",
    "\n",
    "# Create a `stage` column\n",
    "    # Melt the df, create a new df with stage of dogs for each tweet_id\n",
    "dog_stage = pd.melt(archive_clean,\n",
    "                    id_vars='tweet_id',\n",
    "                    value_vars=['doggo','floofer','pupper','puppo'],\n",
    "                    var_name='stage_name',\n",
    "                    value_name='stage')\n",
    "    # In the new df, if `value_name` = NaN -> that tweet_id dog is not in that stage -> should drop\n",
    "dog_stage.dropna(subset='stage', inplace=True)\n",
    "dog_stage.drop('stage_name', axis='columns', inplace=True)\n",
    "dog_stage.head(3)"
   ]
  },
  {
   "cell_type": "code",
   "execution_count": 2162,
   "metadata": {},
   "outputs": [],
   "source": [
    "# Before finishing, back to cases with multiple stages. That will be represented in `stage` in `dog_stage` (`tweet_id` with more than 1 stage)\n",
    "multiple_stage_tweet_id = dog_stage[dog_stage['tweet_id'].duplicated()]['tweet_id'].astype(int).to_list()\n",
    "multiple_stage_value = ['puppo',\n",
    "                        np.nan,\n",
    "                        'pupper',\n",
    "                        np.nan,\n",
    "                        np.nan,\n",
    "                        'pupper',\n",
    "                        np.nan,\n",
    "                        np.nan,\n",
    "                        np.nan,\n",
    "                        np.nan]\n",
    "# Drop NaN in `tweet_id` in `archive`, convert to int type\n",
    "archive_clean.dropna(subset='tweet_id', inplace=True)\n",
    "archive_clean['tweet_id'] = archive_clean['tweet_id'].astype(int)\n",
    "\n",
    "# Manually update stage in `archive`\n",
    "archive_clean['stage'] = np.nan\n",
    "archive_clean['stage']=archive_clean['stage'].astype('object')\n",
    "for i in range(len(multiple_stage_tweet_id)):\n",
    "    archive_clean.loc[archive_clean['tweet_id'] == multiple_stage_tweet_id[i], 'stage'] = multiple_stage_value[i]"
   ]
  },
  {
   "cell_type": "code",
   "execution_count": 2163,
   "metadata": {},
   "outputs": [
    {
     "data": {
      "text/html": [
       "<div>\n",
       "<style scoped>\n",
       "    .dataframe tbody tr th:only-of-type {\n",
       "        vertical-align: middle;\n",
       "    }\n",
       "\n",
       "    .dataframe tbody tr th {\n",
       "        vertical-align: top;\n",
       "    }\n",
       "\n",
       "    .dataframe thead th {\n",
       "        text-align: right;\n",
       "    }\n",
       "</style>\n",
       "<table border=\"1\" class=\"dataframe\">\n",
       "  <thead>\n",
       "    <tr style=\"text-align: right;\">\n",
       "      <th></th>\n",
       "      <th>tweet_id</th>\n",
       "      <th>counter</th>\n",
       "      <th>stage</th>\n",
       "    </tr>\n",
       "  </thead>\n",
       "  <tbody>\n",
       "    <tr>\n",
       "      <th>191</th>\n",
       "      <td>855851453814013952</td>\n",
       "      <td>2</td>\n",
       "      <td>NaN</td>\n",
       "    </tr>\n",
       "    <tr>\n",
       "      <th>200</th>\n",
       "      <td>854010172552949760</td>\n",
       "      <td>2</td>\n",
       "      <td>puppo</td>\n",
       "    </tr>\n",
       "    <tr>\n",
       "      <th>460</th>\n",
       "      <td>817777686764523521</td>\n",
       "      <td>2</td>\n",
       "      <td>NaN</td>\n",
       "    </tr>\n",
       "    <tr>\n",
       "      <th>531</th>\n",
       "      <td>808106460588765185</td>\n",
       "      <td>2</td>\n",
       "      <td>pupper</td>\n",
       "    </tr>\n",
       "    <tr>\n",
       "      <th>565</th>\n",
       "      <td>802265048156610565</td>\n",
       "      <td>2</td>\n",
       "      <td>NaN</td>\n",
       "    </tr>\n",
       "    <tr>\n",
       "      <th>575</th>\n",
       "      <td>801115127852503040</td>\n",
       "      <td>2</td>\n",
       "      <td>NaN</td>\n",
       "    </tr>\n",
       "    <tr>\n",
       "      <th>889</th>\n",
       "      <td>759793422261743616</td>\n",
       "      <td>2</td>\n",
       "      <td>pupper</td>\n",
       "    </tr>\n",
       "    <tr>\n",
       "      <th>956</th>\n",
       "      <td>751583847268179968</td>\n",
       "      <td>2</td>\n",
       "      <td>NaN</td>\n",
       "    </tr>\n",
       "    <tr>\n",
       "      <th>1063</th>\n",
       "      <td>741067306818797568</td>\n",
       "      <td>2</td>\n",
       "      <td>NaN</td>\n",
       "    </tr>\n",
       "    <tr>\n",
       "      <th>1113</th>\n",
       "      <td>733109485275860992</td>\n",
       "      <td>2</td>\n",
       "      <td>NaN</td>\n",
       "    </tr>\n",
       "  </tbody>\n",
       "</table>\n",
       "</div>"
      ],
      "text/plain": [
       "                tweet_id  counter   stage\n",
       "191   855851453814013952        2     NaN\n",
       "200   854010172552949760        2   puppo\n",
       "460   817777686764523521        2     NaN\n",
       "531   808106460588765185        2  pupper\n",
       "565   802265048156610565        2     NaN\n",
       "575   801115127852503040        2     NaN\n",
       "889   759793422261743616        2  pupper\n",
       "956   751583847268179968        2     NaN\n",
       "1063  741067306818797568        2     NaN\n",
       "1113  733109485275860992        2     NaN"
      ]
     },
     "execution_count": 2163,
     "metadata": {},
     "output_type": "execute_result"
    }
   ],
   "source": [
    "# Test case multiple -> Pass\n",
    "archive_clean[archive_clean['counter'] == 2][['tweet_id','counter','stage']]"
   ]
  },
  {
   "cell_type": "code",
   "execution_count": 2164,
   "metadata": {},
   "outputs": [
    {
     "data": {
      "text/html": [
       "<div>\n",
       "<style scoped>\n",
       "    .dataframe tbody tr th:only-of-type {\n",
       "        vertical-align: middle;\n",
       "    }\n",
       "\n",
       "    .dataframe tbody tr th {\n",
       "        vertical-align: top;\n",
       "    }\n",
       "\n",
       "    .dataframe thead th {\n",
       "        text-align: right;\n",
       "    }\n",
       "</style>\n",
       "<table border=\"1\" class=\"dataframe\">\n",
       "  <thead>\n",
       "    <tr style=\"text-align: right;\">\n",
       "      <th></th>\n",
       "      <th>tweet_id</th>\n",
       "      <th>in_reply_to_status_id</th>\n",
       "      <th>in_reply_to_user_id</th>\n",
       "      <th>timestamp</th>\n",
       "      <th>source</th>\n",
       "      <th>text</th>\n",
       "      <th>expanded_urls</th>\n",
       "      <th>rating_numerator</th>\n",
       "      <th>rating_denominator</th>\n",
       "      <th>name</th>\n",
       "      <th>doggo</th>\n",
       "      <th>floofer</th>\n",
       "      <th>pupper</th>\n",
       "      <th>puppo</th>\n",
       "      <th>counter</th>\n",
       "      <th>stage_x</th>\n",
       "      <th>stage_y</th>\n",
       "    </tr>\n",
       "  </thead>\n",
       "  <tbody>\n",
       "    <tr>\n",
       "      <th>1672</th>\n",
       "      <td>666082916733198337</td>\n",
       "      <td>0</td>\n",
       "      <td>0</td>\n",
       "      <td>2015-11-16 02:38:37+00:00</td>\n",
       "      <td>Twitter for iPhone</td>\n",
       "      <td>Here we have a well-established sunblockerspaniel. Lost his other flip-flop. 6/10 not very waterproof https://t.co/3RU6x0vHB7</td>\n",
       "      <td>https://twitter.com/dog_rates/status/666082916733198337/photo/1</td>\n",
       "      <td>6.0</td>\n",
       "      <td>10</td>\n",
       "      <td>NaN</td>\n",
       "      <td>NaN</td>\n",
       "      <td>NaN</td>\n",
       "      <td>NaN</td>\n",
       "      <td>NaN</td>\n",
       "      <td>0</td>\n",
       "      <td>NaN</td>\n",
       "      <td>NaN</td>\n",
       "    </tr>\n",
       "    <tr>\n",
       "      <th>801</th>\n",
       "      <td>719551379208073216</td>\n",
       "      <td>0</td>\n",
       "      <td>0</td>\n",
       "      <td>2016-04-11 15:43:12+00:00</td>\n",
       "      <td>Twitter for iPhone</td>\n",
       "      <td>This is Harnold. He accidentally opened the front facing camera. 10/10 get it together Harnold https://t.co/S6JHaSMtln</td>\n",
       "      <td>https://twitter.com/dog_rates/status/719551379208073216/photo/1</td>\n",
       "      <td>10.0</td>\n",
       "      <td>10</td>\n",
       "      <td>Harnold</td>\n",
       "      <td>NaN</td>\n",
       "      <td>NaN</td>\n",
       "      <td>NaN</td>\n",
       "      <td>NaN</td>\n",
       "      <td>0</td>\n",
       "      <td>NaN</td>\n",
       "      <td>NaN</td>\n",
       "    </tr>\n",
       "    <tr>\n",
       "      <th>745</th>\n",
       "      <td>733460102733135873</td>\n",
       "      <td>0</td>\n",
       "      <td>0</td>\n",
       "      <td>2016-05-20 00:51:30+00:00</td>\n",
       "      <td>Twitter for iPhone</td>\n",
       "      <td>This is Hermione. Her face is as old as time. Appears fluffy af tho. 11/10 pretty damn majestic https://t.co/0b41Q4DKCA</td>\n",
       "      <td>https://twitter.com/dog_rates/status/733460102733135873/photo/1</td>\n",
       "      <td>11.0</td>\n",
       "      <td>10</td>\n",
       "      <td>Hermione</td>\n",
       "      <td>NaN</td>\n",
       "      <td>NaN</td>\n",
       "      <td>NaN</td>\n",
       "      <td>NaN</td>\n",
       "      <td>0</td>\n",
       "      <td>NaN</td>\n",
       "      <td>NaN</td>\n",
       "    </tr>\n",
       "  </tbody>\n",
       "</table>\n",
       "</div>"
      ],
      "text/plain": [
       "                tweet_id  in_reply_to_status_id  in_reply_to_user_id  \\\n",
       "1672  666082916733198337                      0                    0   \n",
       "801   719551379208073216                      0                    0   \n",
       "745   733460102733135873                      0                    0   \n",
       "\n",
       "                     timestamp              source  \\\n",
       "1672 2015-11-16 02:38:37+00:00  Twitter for iPhone   \n",
       "801  2016-04-11 15:43:12+00:00  Twitter for iPhone   \n",
       "745  2016-05-20 00:51:30+00:00  Twitter for iPhone   \n",
       "\n",
       "                                                                                                                               text  \\\n",
       "1672  Here we have a well-established sunblockerspaniel. Lost his other flip-flop. 6/10 not very waterproof https://t.co/3RU6x0vHB7   \n",
       "801          This is Harnold. He accidentally opened the front facing camera. 10/10 get it together Harnold https://t.co/S6JHaSMtln   \n",
       "745         This is Hermione. Her face is as old as time. Appears fluffy af tho. 11/10 pretty damn majestic https://t.co/0b41Q4DKCA   \n",
       "\n",
       "                                                        expanded_urls  \\\n",
       "1672  https://twitter.com/dog_rates/status/666082916733198337/photo/1   \n",
       "801   https://twitter.com/dog_rates/status/719551379208073216/photo/1   \n",
       "745   https://twitter.com/dog_rates/status/733460102733135873/photo/1   \n",
       "\n",
       "      rating_numerator  rating_denominator      name doggo floofer pupper  \\\n",
       "1672               6.0                  10       NaN   NaN     NaN    NaN   \n",
       "801               10.0                  10   Harnold   NaN     NaN    NaN   \n",
       "745               11.0                  10  Hermione   NaN     NaN    NaN   \n",
       "\n",
       "     puppo  counter stage_x stage_y  \n",
       "1672   NaN        0     NaN     NaN  \n",
       "801    NaN        0     NaN     NaN  \n",
       "745    NaN        0     NaN     NaN  "
      ]
     },
     "execution_count": 2164,
     "metadata": {},
     "output_type": "execute_result"
    }
   ],
   "source": [
    "# For case single stage:\n",
    "# Drop duplicate tweet_id (case multiple) then merge `dog_stage` into `archive`\n",
    "single_stage = dog_stage[~dog_stage['tweet_id'].isin(multiple_stage_tweet_id)]\n",
    "\n",
    "archive_clean = pd.merge(archive_clean,single_stage,how='left',on='tweet_id')\n",
    "archive_clean.sample(3)"
   ]
  },
  {
   "cell_type": "code",
   "execution_count": 2165,
   "metadata": {},
   "outputs": [],
   "source": [
    "# Replace NaN value of `stage_y` that have values in `stage_x`\n",
    "archive_clean['stage_y'].fillna(archive_clean['stage_x'],inplace=True)\n",
    "# Drop `stage_x` and rename `stage_y` to `stage`\n",
    "archive_clean.drop('stage_x',axis='columns',inplace=True)\n",
    "archive_clean.rename(columns={'stage_y':'stage'}, inplace=True) \n",
    "\n",
    "# Convert data type into categorical\n",
    "archive_clean.stage = archive_clean.stage.astype('category')"
   ]
  },
  {
   "cell_type": "markdown",
   "metadata": {},
   "source": [
    "**Test**"
   ]
  },
  {
   "cell_type": "code",
   "execution_count": 2166,
   "metadata": {},
   "outputs": [
    {
     "data": {
      "text/plain": [
       "stage\n",
       "pupper     170\n",
       "doggo       54\n",
       "puppo       22\n",
       "floofer      7\n",
       "Name: count, dtype: int64"
      ]
     },
     "execution_count": 2166,
     "metadata": {},
     "output_type": "execute_result"
    }
   ],
   "source": [
    "archive_clean.stage.value_counts()"
   ]
  },
  {
   "cell_type": "code",
   "execution_count": 2167,
   "metadata": {},
   "outputs": [
    {
     "name": "stdout",
     "output_type": "stream",
     "text": [
      "<class 'pandas.core.frame.DataFrame'>\n",
      "RangeIndex: 1685 entries, 0 to 1684\n",
      "Data columns (total 16 columns):\n",
      " #   Column                 Non-Null Count  Dtype              \n",
      "---  ------                 --------------  -----              \n",
      " 0   tweet_id               1685 non-null   int64              \n",
      " 1   in_reply_to_status_id  1685 non-null   int64              \n",
      " 2   in_reply_to_user_id    1685 non-null   int64              \n",
      " 3   timestamp              1685 non-null   datetime64[ns, UTC]\n",
      " 4   source                 1685 non-null   category           \n",
      " 5   text                   1685 non-null   object             \n",
      " 6   expanded_urls          1685 non-null   object             \n",
      " 7   rating_numerator       1685 non-null   float64            \n",
      " 8   rating_denominator     1685 non-null   int64              \n",
      " 9   name                   1183 non-null   object             \n",
      " 10  doggo                  64 non-null     object             \n",
      " 11  floofer                8 non-null      object             \n",
      " 12  pupper                 176 non-null    object             \n",
      " 13  puppo                  22 non-null     object             \n",
      " 14  counter                1685 non-null   int64              \n",
      " 15  stage                  253 non-null    category           \n",
      "dtypes: category(2), datetime64[ns, UTC](1), float64(1), int64(5), object(7)\n",
      "memory usage: 188.0+ KB\n"
     ]
    }
   ],
   "source": [
    "\n",
    "archive_clean.info()"
   ]
  },
  {
   "cell_type": "markdown",
   "metadata": {},
   "source": [
    "### `predictions` should be tidied from 9 columns to 4 columns: predictions_num, px_name, px_conf, px_dog"
   ]
  },
  {
   "cell_type": "markdown",
   "metadata": {},
   "source": [
    "**Define**\n",
    "\n",
    "Melt the df for each variable (px,px_conf,px_dog) then merge together"
   ]
  },
  {
   "cell_type": "markdown",
   "metadata": {},
   "source": [
    "**Code**"
   ]
  },
  {
   "cell_type": "code",
   "execution_count": 2168,
   "metadata": {},
   "outputs": [],
   "source": [
    "# predictions_clean.head(1)"
   ]
  },
  {
   "cell_type": "code",
   "execution_count": 2169,
   "metadata": {},
   "outputs": [],
   "source": [
    "# # Define a function to melt the df\n",
    "# def melt_predictions(p1,p2,p3,value_name):\n",
    "#     '''\n",
    "#     INPUT:\n",
    "#     p1 (str) - column related to the first prediction\n",
    "#     p2 (str) - column related to the second prediction\n",
    "#     p3 (str) - column related to the third prediction\n",
    "#     value_name (str) - name of the column that holds the values from the predictions\n",
    "    \n",
    "#     OUTPUT:\n",
    "#     df (DataFrame) - dataframe with unpivoted prediction data\n",
    "    \n",
    "#     Unpivot dataframe for prediction columns.\n",
    "#     '''\n",
    "#     df = predictions_clean[['tweet_id','jpg_url','img_num',p1,p2,p3]]\n",
    "#     # Change column names so that they do not have to be extracted later\n",
    "#     df.rename(columns={\n",
    "#         p1:1,\n",
    "#         p2:2,\n",
    "#         p3:3\n",
    "#     }, inplace=True)\n",
    "#     df = pd.melt(\n",
    "#         df,\n",
    "#         id_vars=['tweet_id','jpg_url','img_num'],\n",
    "#         value_vars=[1,2,3],\n",
    "#         var_name='predictions_num',\n",
    "#         value_name=value_name\n",
    "#         )\n",
    "#     return df"
   ]
  },
  {
   "cell_type": "code",
   "execution_count": 2170,
   "metadata": {},
   "outputs": [],
   "source": [
    "# # Construct 3 df \n",
    "# px = melt_predictions('p1', 'p2', 'p3', 'px')\n",
    "# px_conf = melt_predictions('p1_conf', 'p2_conf', 'p3_conf', 'px_conf')\n",
    "# px_dog = melt_predictions('p1_dog', 'p2_dog', 'p3_dog', 'px_dog')"
   ]
  },
  {
   "cell_type": "code",
   "execution_count": 2171,
   "metadata": {},
   "outputs": [],
   "source": [
    "# # Merge together the three melted df\n",
    "# predictions_clean = px.merge(\n",
    "#     px_conf,\n",
    "#     how = 'inner',\n",
    "#     on = ['tweet_id', 'jpg_url','img_num','predictions_num']\n",
    "# ).merge(\n",
    "#     px_dog,\n",
    "#     how='inner',\n",
    "#     on = ['tweet_id', 'jpg_url','img_num','predictions_num']\n",
    "# )"
   ]
  },
  {
   "cell_type": "code",
   "execution_count": 2172,
   "metadata": {},
   "outputs": [],
   "source": [
    "# predictions_clean.head()"
   ]
  },
  {
   "cell_type": "markdown",
   "metadata": {},
   "source": [
    "### `predictions`: from 3 `predictions_num`, 1 should be picked as the correct breed then `breed` should be added in `archive`"
   ]
  },
  {
   "cell_type": "markdown",
   "metadata": {},
   "source": [
    "**Define**\n",
    "\n",
    "If the highest px_conf among the 3 has its `px_dog` is True then update the breed value\n",
    "\n",
    "Else np.nan"
   ]
  },
  {
   "cell_type": "markdown",
   "metadata": {},
   "source": [
    "**Code**"
   ]
  },
  {
   "cell_type": "code",
   "execution_count": 2173,
   "metadata": {},
   "outputs": [
    {
     "data": {
      "text/html": [
       "<div>\n",
       "<style scoped>\n",
       "    .dataframe tbody tr th:only-of-type {\n",
       "        vertical-align: middle;\n",
       "    }\n",
       "\n",
       "    .dataframe tbody tr th {\n",
       "        vertical-align: top;\n",
       "    }\n",
       "\n",
       "    .dataframe thead th {\n",
       "        text-align: right;\n",
       "    }\n",
       "</style>\n",
       "<table border=\"1\" class=\"dataframe\">\n",
       "  <thead>\n",
       "    <tr style=\"text-align: right;\">\n",
       "      <th></th>\n",
       "      <th>tweet_id</th>\n",
       "      <th>jpg_url</th>\n",
       "      <th>img_num</th>\n",
       "      <th>p1</th>\n",
       "      <th>p1_conf</th>\n",
       "      <th>p1_dog</th>\n",
       "      <th>p2</th>\n",
       "      <th>p2_conf</th>\n",
       "      <th>p2_dog</th>\n",
       "      <th>p3</th>\n",
       "      <th>p3_conf</th>\n",
       "      <th>p3_dog</th>\n",
       "    </tr>\n",
       "  </thead>\n",
       "  <tbody>\n",
       "    <tr>\n",
       "      <th>0</th>\n",
       "      <td>666020888022790149</td>\n",
       "      <td>https://pbs.twimg.com/media/CT4udn0WwAA0aMy.jpg</td>\n",
       "      <td>1</td>\n",
       "      <td>Welsh_springer_spaniel</td>\n",
       "      <td>0.465074</td>\n",
       "      <td>True</td>\n",
       "      <td>collie</td>\n",
       "      <td>0.156665</td>\n",
       "      <td>True</td>\n",
       "      <td>Shetland_sheepdog</td>\n",
       "      <td>0.061428</td>\n",
       "      <td>True</td>\n",
       "    </tr>\n",
       "    <tr>\n",
       "      <th>1</th>\n",
       "      <td>666029285002620928</td>\n",
       "      <td>https://pbs.twimg.com/media/CT42GRgUYAA5iDo.jpg</td>\n",
       "      <td>1</td>\n",
       "      <td>redbone</td>\n",
       "      <td>0.506826</td>\n",
       "      <td>True</td>\n",
       "      <td>miniature_pinscher</td>\n",
       "      <td>0.074192</td>\n",
       "      <td>True</td>\n",
       "      <td>Rhodesian_ridgeback</td>\n",
       "      <td>0.072010</td>\n",
       "      <td>True</td>\n",
       "    </tr>\n",
       "    <tr>\n",
       "      <th>2</th>\n",
       "      <td>666033412701032449</td>\n",
       "      <td>https://pbs.twimg.com/media/CT4521TWwAEvMyu.jpg</td>\n",
       "      <td>1</td>\n",
       "      <td>German_shepherd</td>\n",
       "      <td>0.596461</td>\n",
       "      <td>True</td>\n",
       "      <td>malinois</td>\n",
       "      <td>0.138584</td>\n",
       "      <td>True</td>\n",
       "      <td>bloodhound</td>\n",
       "      <td>0.116197</td>\n",
       "      <td>True</td>\n",
       "    </tr>\n",
       "  </tbody>\n",
       "</table>\n",
       "</div>"
      ],
      "text/plain": [
       "             tweet_id                                          jpg_url  \\\n",
       "0  666020888022790149  https://pbs.twimg.com/media/CT4udn0WwAA0aMy.jpg   \n",
       "1  666029285002620928  https://pbs.twimg.com/media/CT42GRgUYAA5iDo.jpg   \n",
       "2  666033412701032449  https://pbs.twimg.com/media/CT4521TWwAEvMyu.jpg   \n",
       "\n",
       "   img_num                      p1   p1_conf  p1_dog                  p2  \\\n",
       "0        1  Welsh_springer_spaniel  0.465074    True              collie   \n",
       "1        1                 redbone  0.506826    True  miniature_pinscher   \n",
       "2        1         German_shepherd  0.596461    True            malinois   \n",
       "\n",
       "    p2_conf  p2_dog                   p3   p3_conf  p3_dog  \n",
       "0  0.156665    True    Shetland_sheepdog  0.061428    True  \n",
       "1  0.074192    True  Rhodesian_ridgeback  0.072010    True  \n",
       "2  0.138584    True           bloodhound  0.116197    True  "
      ]
     },
     "execution_count": 2173,
     "metadata": {},
     "output_type": "execute_result"
    }
   ],
   "source": [
    "predictions_clean.head(3)"
   ]
  },
  {
   "cell_type": "code",
   "execution_count": 2174,
   "metadata": {},
   "outputs": [
    {
     "name": "stdout",
     "output_type": "stream",
     "text": [
      "['1']\n"
     ]
    }
   ],
   "source": [
    "# Create 3 columns: highest_conf, highest_conf_name (to log dog name) and highest_conf_dog (to log bool)\n",
    "predictions_clean['highest_conf'] = predictions_clean[['p1_conf','p2_conf','p3_conf']].max(axis=1)\n",
    "predictions_clean['highest_conf_name'] = predictions_clean[['p1_conf','p2_conf','p3_conf']].idxmax(axis=1)\n",
    "\n",
    "# Extract x in px_conf in `highest_conf_name`\n",
    "predictions_clean['highest_conf_name'] = predictions_clean['highest_conf_name'].str.extract(r'(\\d+)')\n",
    "\n",
    "# Validate the unique values of `highest_conf_name`\n",
    "print(predictions_clean['highest_conf_name'].unique())\n",
    "\n",
    "# We see that only p1 is the highest, now we drop all rows with p1 = False\n",
    "predictions_clean = predictions_clean[predictions_clean['p1_dog'] == True]"
   ]
  },
  {
   "cell_type": "code",
   "execution_count": 2175,
   "metadata": {},
   "outputs": [
    {
     "name": "stderr",
     "output_type": "stream",
     "text": [
      "/var/folders/vd/qsmzl1mx1p501xhk4zp5x8x40000gn/T/ipykernel_65976/2044800440.py:2: SettingWithCopyWarning: \n",
      "A value is trying to be set on a copy of a slice from a DataFrame.\n",
      "Try using .loc[row_indexer,col_indexer] = value instead\n",
      "\n",
      "See the caveats in the documentation: https://pandas.pydata.org/pandas-docs/stable/user_guide/indexing.html#returning-a-view-versus-a-copy\n",
      "  predictions_clean['breed'] = predictions_clean['p1']\n",
      "/var/folders/vd/qsmzl1mx1p501xhk4zp5x8x40000gn/T/ipykernel_65976/2044800440.py:5: SettingWithCopyWarning: \n",
      "A value is trying to be set on a copy of a slice from a DataFrame.\n",
      "Try using .loc[row_indexer,col_indexer] = value instead\n",
      "\n",
      "See the caveats in the documentation: https://pandas.pydata.org/pandas-docs/stable/user_guide/indexing.html#returning-a-view-versus-a-copy\n",
      "  predictions_clean['breed'] = predictions_clean['breed'].str.lower()\n"
     ]
    }
   ],
   "source": [
    "# Create new column `breed`\n",
    "predictions_clean['breed'] = predictions_clean['p1']\n",
    "\n",
    "# Update all values in `breed` to lowercases\n",
    "predictions_clean['breed'] = predictions_clean['breed'].str.lower()"
   ]
  },
  {
   "cell_type": "markdown",
   "metadata": {},
   "source": [
    "### `predictions`: `breed` should be added in `archive`\n",
    "###  `tweet`: `retweet_count` and `favorite_count` should be joined with `archive`"
   ]
  },
  {
   "cell_type": "markdown",
   "metadata": {},
   "source": [
    "**Define**\n",
    "\n",
    "These 2 issues should be cleaned together in 1 iteration\n",
    "\n",
    "Create column `breed`, `retweet_count` and `favorite_count` in `archive`. \n",
    "\n",
    "Assign the values of `breed`, `retweet_count` and `favorite_count` from `predictions` and `tweet` to `archive`"
   ]
  },
  {
   "cell_type": "code",
   "execution_count": 2176,
   "metadata": {},
   "outputs": [],
   "source": [
    "# Create new columns\n",
    "# archive_clean['breed'] = np.nan\n",
    "# archive_clean['retweet_count'] = np.nan\n",
    "# archive_clean['favorite_count'] = np.nan\n",
    "\n",
    "# Copy of tweet\n",
    "tweet_clean = tweet.copy()"
   ]
  },
  {
   "cell_type": "code",
   "execution_count": 2178,
   "metadata": {},
   "outputs": [
    {
     "data": {
      "text/html": [
       "<div>\n",
       "<style scoped>\n",
       "    .dataframe tbody tr th:only-of-type {\n",
       "        vertical-align: middle;\n",
       "    }\n",
       "\n",
       "    .dataframe tbody tr th {\n",
       "        vertical-align: top;\n",
       "    }\n",
       "\n",
       "    .dataframe thead th {\n",
       "        text-align: right;\n",
       "    }\n",
       "</style>\n",
       "<table border=\"1\" class=\"dataframe\">\n",
       "  <thead>\n",
       "    <tr style=\"text-align: right;\">\n",
       "      <th></th>\n",
       "      <th>tweet_id</th>\n",
       "      <th>in_reply_to_status_id</th>\n",
       "      <th>in_reply_to_user_id</th>\n",
       "      <th>timestamp</th>\n",
       "      <th>source</th>\n",
       "      <th>text</th>\n",
       "      <th>expanded_urls</th>\n",
       "      <th>rating_numerator</th>\n",
       "      <th>rating_denominator</th>\n",
       "      <th>name</th>\n",
       "      <th>doggo</th>\n",
       "      <th>floofer</th>\n",
       "      <th>pupper</th>\n",
       "      <th>puppo</th>\n",
       "      <th>counter</th>\n",
       "      <th>stage</th>\n",
       "      <th>retweet_count</th>\n",
       "      <th>favorite_count</th>\n",
       "      <th>breed</th>\n",
       "    </tr>\n",
       "  </thead>\n",
       "  <tbody>\n",
       "    <tr>\n",
       "      <th>0</th>\n",
       "      <td>892177421306343426</td>\n",
       "      <td>0</td>\n",
       "      <td>0</td>\n",
       "      <td>2017-08-01 00:17:27+00:00</td>\n",
       "      <td>Twitter for iPhone</td>\n",
       "      <td>This is Tilly. She's just checking pup on you. Hopes you're doing ok. If not, she's available for pats, snugs, boops, the whole bit. 13/10 https://t.co/0Xxu71qeIV</td>\n",
       "      <td>https://twitter.com/dog_rates/status/892177421306343426/photo/1</td>\n",
       "      <td>13.0</td>\n",
       "      <td>10</td>\n",
       "      <td>Tilly</td>\n",
       "      <td>NaN</td>\n",
       "      <td>NaN</td>\n",
       "      <td>NaN</td>\n",
       "      <td>NaN</td>\n",
       "      <td>0</td>\n",
       "      <td>NaN</td>\n",
       "      <td>6514</td>\n",
       "      <td>33819</td>\n",
       "      <td>chihuahua</td>\n",
       "    </tr>\n",
       "    <tr>\n",
       "      <th>1</th>\n",
       "      <td>891815181378084864</td>\n",
       "      <td>0</td>\n",
       "      <td>0</td>\n",
       "      <td>2017-07-31 00:18:03+00:00</td>\n",
       "      <td>Twitter for iPhone</td>\n",
       "      <td>This is Archie. He is a rare Norwegian Pouncing Corgo. Lives in the tall grass. You never know when one may strike. 12/10 https://t.co/wUnZnhtVJB</td>\n",
       "      <td>https://twitter.com/dog_rates/status/891815181378084864/photo/1</td>\n",
       "      <td>12.0</td>\n",
       "      <td>10</td>\n",
       "      <td>Archie</td>\n",
       "      <td>NaN</td>\n",
       "      <td>NaN</td>\n",
       "      <td>NaN</td>\n",
       "      <td>NaN</td>\n",
       "      <td>0</td>\n",
       "      <td>NaN</td>\n",
       "      <td>4328</td>\n",
       "      <td>25461</td>\n",
       "      <td>chihuahua</td>\n",
       "    </tr>\n",
       "    <tr>\n",
       "      <th>2</th>\n",
       "      <td>891689557279858688</td>\n",
       "      <td>0</td>\n",
       "      <td>0</td>\n",
       "      <td>2017-07-30 15:58:51+00:00</td>\n",
       "      <td>Twitter for iPhone</td>\n",
       "      <td>This is Darla. She commenced a snooze mid meal. 13/10 happens to the best of us https://t.co/tD36da7qLQ</td>\n",
       "      <td>https://twitter.com/dog_rates/status/891689557279858688/photo/1</td>\n",
       "      <td>13.0</td>\n",
       "      <td>10</td>\n",
       "      <td>Darla</td>\n",
       "      <td>NaN</td>\n",
       "      <td>NaN</td>\n",
       "      <td>NaN</td>\n",
       "      <td>NaN</td>\n",
       "      <td>0</td>\n",
       "      <td>NaN</td>\n",
       "      <td>8964</td>\n",
       "      <td>42908</td>\n",
       "      <td>NaN</td>\n",
       "    </tr>\n",
       "    <tr>\n",
       "      <th>3</th>\n",
       "      <td>891327558926688256</td>\n",
       "      <td>0</td>\n",
       "      <td>0</td>\n",
       "      <td>2017-07-29 16:00:24+00:00</td>\n",
       "      <td>Twitter for iPhone</td>\n",
       "      <td>This is Franklin. He would like you to stop calling him \"cute.\" He is a very fierce shark and should be respected as such. 12/10 #BarkWeek https://t.co/AtUZn91f7f</td>\n",
       "      <td>https://twitter.com/dog_rates/status/891327558926688256/photo/1,https://twitter.com/dog_rates/status/891327558926688256/photo/1</td>\n",
       "      <td>12.0</td>\n",
       "      <td>10</td>\n",
       "      <td>Franklin</td>\n",
       "      <td>NaN</td>\n",
       "      <td>NaN</td>\n",
       "      <td>NaN</td>\n",
       "      <td>NaN</td>\n",
       "      <td>0</td>\n",
       "      <td>NaN</td>\n",
       "      <td>9774</td>\n",
       "      <td>41048</td>\n",
       "      <td>basset</td>\n",
       "    </tr>\n",
       "    <tr>\n",
       "      <th>4</th>\n",
       "      <td>891087950875897856</td>\n",
       "      <td>0</td>\n",
       "      <td>0</td>\n",
       "      <td>2017-07-29 00:08:17+00:00</td>\n",
       "      <td>Twitter for iPhone</td>\n",
       "      <td>Here we have a majestic great white breaching off South Africa's coast. Absolutely h*ckin breathtaking. 13/10 (IG: tucker_marlo) #BarkWeek https://t.co/kQ04fDDRmh</td>\n",
       "      <td>https://twitter.com/dog_rates/status/891087950875897856/photo/1</td>\n",
       "      <td>13.0</td>\n",
       "      <td>10</td>\n",
       "      <td>NaN</td>\n",
       "      <td>NaN</td>\n",
       "      <td>NaN</td>\n",
       "      <td>NaN</td>\n",
       "      <td>NaN</td>\n",
       "      <td>0</td>\n",
       "      <td>NaN</td>\n",
       "      <td>3261</td>\n",
       "      <td>20562</td>\n",
       "      <td>chesapeake_bay_retriever</td>\n",
       "    </tr>\n",
       "  </tbody>\n",
       "</table>\n",
       "</div>"
      ],
      "text/plain": [
       "             tweet_id  in_reply_to_status_id  in_reply_to_user_id  \\\n",
       "0  892177421306343426                      0                    0   \n",
       "1  891815181378084864                      0                    0   \n",
       "2  891689557279858688                      0                    0   \n",
       "3  891327558926688256                      0                    0   \n",
       "4  891087950875897856                      0                    0   \n",
       "\n",
       "                  timestamp              source  \\\n",
       "0 2017-08-01 00:17:27+00:00  Twitter for iPhone   \n",
       "1 2017-07-31 00:18:03+00:00  Twitter for iPhone   \n",
       "2 2017-07-30 15:58:51+00:00  Twitter for iPhone   \n",
       "3 2017-07-29 16:00:24+00:00  Twitter for iPhone   \n",
       "4 2017-07-29 00:08:17+00:00  Twitter for iPhone   \n",
       "\n",
       "                                                                                                                                                                 text  \\\n",
       "0  This is Tilly. She's just checking pup on you. Hopes you're doing ok. If not, she's available for pats, snugs, boops, the whole bit. 13/10 https://t.co/0Xxu71qeIV   \n",
       "1                   This is Archie. He is a rare Norwegian Pouncing Corgo. Lives in the tall grass. You never know when one may strike. 12/10 https://t.co/wUnZnhtVJB   \n",
       "2                                                             This is Darla. She commenced a snooze mid meal. 13/10 happens to the best of us https://t.co/tD36da7qLQ   \n",
       "3  This is Franklin. He would like you to stop calling him \"cute.\" He is a very fierce shark and should be respected as such. 12/10 #BarkWeek https://t.co/AtUZn91f7f   \n",
       "4  Here we have a majestic great white breaching off South Africa's coast. Absolutely h*ckin breathtaking. 13/10 (IG: tucker_marlo) #BarkWeek https://t.co/kQ04fDDRmh   \n",
       "\n",
       "                                                                                                                     expanded_urls  \\\n",
       "0                                                                  https://twitter.com/dog_rates/status/892177421306343426/photo/1   \n",
       "1                                                                  https://twitter.com/dog_rates/status/891815181378084864/photo/1   \n",
       "2                                                                  https://twitter.com/dog_rates/status/891689557279858688/photo/1   \n",
       "3  https://twitter.com/dog_rates/status/891327558926688256/photo/1,https://twitter.com/dog_rates/status/891327558926688256/photo/1   \n",
       "4                                                                  https://twitter.com/dog_rates/status/891087950875897856/photo/1   \n",
       "\n",
       "   rating_numerator  rating_denominator      name doggo floofer pupper puppo  \\\n",
       "0              13.0                  10     Tilly   NaN     NaN    NaN   NaN   \n",
       "1              12.0                  10    Archie   NaN     NaN    NaN   NaN   \n",
       "2              13.0                  10     Darla   NaN     NaN    NaN   NaN   \n",
       "3              12.0                  10  Franklin   NaN     NaN    NaN   NaN   \n",
       "4              13.0                  10       NaN   NaN     NaN    NaN   NaN   \n",
       "\n",
       "   counter stage  retweet_count  favorite_count                     breed  \n",
       "0        0   NaN           6514           33819                 chihuahua  \n",
       "1        0   NaN           4328           25461                 chihuahua  \n",
       "2        0   NaN           8964           42908                       NaN  \n",
       "3        0   NaN           9774           41048                    basset  \n",
       "4        0   NaN           3261           20562  chesapeake_bay_retriever  "
      ]
     },
     "execution_count": 2178,
     "metadata": {},
     "output_type": "execute_result"
    }
   ],
   "source": [
    "# Mapping the columns to `archive`\n",
    "archive_clean = pd.merge(archive_clean, \n",
    "                            tweet_clean[['tweet_id','retweet_count','favorite_count']],\n",
    "                            how = 'left',\n",
    "                            on = 'tweet_id'\n",
    "                            )\n",
    "archive_clean = pd.merge(archive_clean,\n",
    "                            predictions_clean[['tweet_id','breed']],\n",
    "                            how='left',\n",
    "                            on='tweet_id'\n",
    "                            )\n",
    "archive_clean.head()"
   ]
  },
  {
   "cell_type": "markdown",
   "metadata": {},
   "source": [
    "**Test**"
   ]
  },
  {
   "cell_type": "code",
   "execution_count": 2181,
   "metadata": {},
   "outputs": [
    {
     "data": {
      "text/html": [
       "<div>\n",
       "<style scoped>\n",
       "    .dataframe tbody tr th:only-of-type {\n",
       "        vertical-align: middle;\n",
       "    }\n",
       "\n",
       "    .dataframe tbody tr th {\n",
       "        vertical-align: top;\n",
       "    }\n",
       "\n",
       "    .dataframe thead th {\n",
       "        text-align: right;\n",
       "    }\n",
       "</style>\n",
       "<table border=\"1\" class=\"dataframe\">\n",
       "  <thead>\n",
       "    <tr style=\"text-align: right;\">\n",
       "      <th></th>\n",
       "      <th>tweet_id</th>\n",
       "      <th>retweet_count</th>\n",
       "      <th>favorite_count</th>\n",
       "      <th>breed</th>\n",
       "    </tr>\n",
       "  </thead>\n",
       "  <tbody>\n",
       "    <tr>\n",
       "      <th>839</th>\n",
       "      <td>713900603437621249</td>\n",
       "      <td>829</td>\n",
       "      <td>3062</td>\n",
       "      <td>golden_retriever</td>\n",
       "    </tr>\n",
       "    <tr>\n",
       "      <th>1191</th>\n",
       "      <td>681193455364796417</td>\n",
       "      <td>1691</td>\n",
       "      <td>4077</td>\n",
       "      <td>pomeranian</td>\n",
       "    </tr>\n",
       "    <tr>\n",
       "      <th>1520</th>\n",
       "      <td>670040295598354432</td>\n",
       "      <td>118</td>\n",
       "      <td>801</td>\n",
       "      <td>NaN</td>\n",
       "    </tr>\n",
       "    <tr>\n",
       "      <th>274</th>\n",
       "      <td>823699002998870016</td>\n",
       "      <td>2772</td>\n",
       "      <td>13826</td>\n",
       "      <td>cairn</td>\n",
       "    </tr>\n",
       "    <tr>\n",
       "      <th>94</th>\n",
       "      <td>868552278524837888</td>\n",
       "      <td>2240</td>\n",
       "      <td>10539</td>\n",
       "      <td>whippet</td>\n",
       "    </tr>\n",
       "  </tbody>\n",
       "</table>\n",
       "</div>"
      ],
      "text/plain": [
       "                tweet_id  retweet_count  favorite_count             breed\n",
       "839   713900603437621249            829            3062  golden_retriever\n",
       "1191  681193455364796417           1691            4077        pomeranian\n",
       "1520  670040295598354432            118             801               NaN\n",
       "274   823699002998870016           2772           13826             cairn\n",
       "94    868552278524837888           2240           10539           whippet"
      ]
     },
     "execution_count": 2181,
     "metadata": {},
     "output_type": "execute_result"
    }
   ],
   "source": [
    "archive_clean[['tweet_id','retweet_count','favorite_count','breed']].sample(5)"
   ]
  },
  {
   "cell_type": "markdown",
   "metadata": {},
   "source": [
    "### Final tidiness: drop all unnecessary columns and data\n",
    "\n",
    "**Define**\n",
    "\n",
    "as mentioned. Do it for only `archive` because we only need that dataframe\n",
    "\n",
    "**Code**"
   ]
  },
  {
   "cell_type": "code",
   "execution_count": 2191,
   "metadata": {},
   "outputs": [
    {
     "name": "stdout",
     "output_type": "stream",
     "text": [
      "<class 'pandas.core.frame.DataFrame'>\n",
      "RangeIndex: 1685 entries, 0 to 1684\n",
      "Data columns (total 19 columns):\n",
      " #   Column                 Non-Null Count  Dtype              \n",
      "---  ------                 --------------  -----              \n",
      " 0   tweet_id               1685 non-null   int64              \n",
      " 1   in_reply_to_status_id  1685 non-null   int64              \n",
      " 2   in_reply_to_user_id    1685 non-null   int64              \n",
      " 3   timestamp              1685 non-null   datetime64[ns, UTC]\n",
      " 4   source                 1685 non-null   category           \n",
      " 5   text                   1685 non-null   object             \n",
      " 6   expanded_urls          1685 non-null   object             \n",
      " 7   rating_numerator       1685 non-null   float64            \n",
      " 8   rating_denominator     1685 non-null   int64              \n",
      " 9   name                   1183 non-null   object             \n",
      " 10  doggo                  64 non-null     object             \n",
      " 11  floofer                8 non-null      object             \n",
      " 12  pupper                 176 non-null    object             \n",
      " 13  puppo                  22 non-null     object             \n",
      " 14  counter                1685 non-null   int64              \n",
      " 15  stage                  253 non-null    category           \n",
      " 16  retweet_count          1685 non-null   int64              \n",
      " 17  favorite_count         1685 non-null   int64              \n",
      " 18  breed                  1476 non-null   object             \n",
      "dtypes: category(2), datetime64[ns, UTC](1), float64(1), int64(7), object(8)\n",
      "memory usage: 227.5+ KB\n"
     ]
    },
    {
     "data": {
      "text/html": [
       "<div>\n",
       "<style scoped>\n",
       "    .dataframe tbody tr th:only-of-type {\n",
       "        vertical-align: middle;\n",
       "    }\n",
       "\n",
       "    .dataframe tbody tr th {\n",
       "        vertical-align: top;\n",
       "    }\n",
       "\n",
       "    .dataframe thead th {\n",
       "        text-align: right;\n",
       "    }\n",
       "</style>\n",
       "<table border=\"1\" class=\"dataframe\">\n",
       "  <thead>\n",
       "    <tr style=\"text-align: right;\">\n",
       "      <th></th>\n",
       "      <th>tweet_id</th>\n",
       "      <th>in_reply_to_status_id</th>\n",
       "      <th>in_reply_to_user_id</th>\n",
       "      <th>timestamp</th>\n",
       "      <th>source</th>\n",
       "      <th>text</th>\n",
       "      <th>expanded_urls</th>\n",
       "      <th>rating_numerator</th>\n",
       "      <th>rating_denominator</th>\n",
       "      <th>name</th>\n",
       "      <th>doggo</th>\n",
       "      <th>floofer</th>\n",
       "      <th>pupper</th>\n",
       "      <th>puppo</th>\n",
       "      <th>counter</th>\n",
       "      <th>stage</th>\n",
       "      <th>retweet_count</th>\n",
       "      <th>favorite_count</th>\n",
       "      <th>breed</th>\n",
       "    </tr>\n",
       "  </thead>\n",
       "  <tbody>\n",
       "    <tr>\n",
       "      <th>0</th>\n",
       "      <td>892177421306343426</td>\n",
       "      <td>0</td>\n",
       "      <td>0</td>\n",
       "      <td>2017-08-01 00:17:27+00:00</td>\n",
       "      <td>Twitter for iPhone</td>\n",
       "      <td>This is Tilly. She's just checking pup on you. Hopes you're doing ok. If not, she's available for pats, snugs, boops, the whole bit. 13/10 https://t.co/0Xxu71qeIV</td>\n",
       "      <td>https://twitter.com/dog_rates/status/892177421306343426/photo/1</td>\n",
       "      <td>13.0</td>\n",
       "      <td>10</td>\n",
       "      <td>Tilly</td>\n",
       "      <td>NaN</td>\n",
       "      <td>NaN</td>\n",
       "      <td>NaN</td>\n",
       "      <td>NaN</td>\n",
       "      <td>0</td>\n",
       "      <td>NaN</td>\n",
       "      <td>6514</td>\n",
       "      <td>33819</td>\n",
       "      <td>chihuahua</td>\n",
       "    </tr>\n",
       "  </tbody>\n",
       "</table>\n",
       "</div>"
      ],
      "text/plain": [
       "             tweet_id  in_reply_to_status_id  in_reply_to_user_id  \\\n",
       "0  892177421306343426                      0                    0   \n",
       "\n",
       "                  timestamp              source  \\\n",
       "0 2017-08-01 00:17:27+00:00  Twitter for iPhone   \n",
       "\n",
       "                                                                                                                                                                 text  \\\n",
       "0  This is Tilly. She's just checking pup on you. Hopes you're doing ok. If not, she's available for pats, snugs, boops, the whole bit. 13/10 https://t.co/0Xxu71qeIV   \n",
       "\n",
       "                                                     expanded_urls  \\\n",
       "0  https://twitter.com/dog_rates/status/892177421306343426/photo/1   \n",
       "\n",
       "   rating_numerator  rating_denominator   name doggo floofer pupper puppo  \\\n",
       "0              13.0                  10  Tilly   NaN     NaN    NaN   NaN   \n",
       "\n",
       "   counter stage  retweet_count  favorite_count      breed  \n",
       "0        0   NaN           6514           33819  chihuahua  "
      ]
     },
     "execution_count": 2191,
     "metadata": {},
     "output_type": "execute_result"
    }
   ],
   "source": [
    "# archive\n",
    "archive_clean.info()\n",
    "archive_clean.head(1)"
   ]
  },
  {
   "cell_type": "code",
   "execution_count": 2192,
   "metadata": {},
   "outputs": [],
   "source": [
    "archive_clean.drop(columns= ['doggo','floofer','pupper','puppo','counter'], inplace=True)"
   ]
  },
  {
   "cell_type": "markdown",
   "metadata": {},
   "source": [
    "---"
   ]
  },
  {
   "cell_type": "markdown",
   "metadata": {},
   "source": [
    "# 4. Storing Data"
   ]
  },
  {
   "cell_type": "code",
   "execution_count": 2195,
   "metadata": {},
   "outputs": [],
   "source": [
    "archive_clean.to_csv('archive_master.csv', encoding='utf-8',index=False)"
   ]
  },
  {
   "cell_type": "markdown",
   "metadata": {},
   "source": [
    "---"
   ]
  },
  {
   "cell_type": "markdown",
   "metadata": {},
   "source": [
    "# 5. Analyzing Data"
   ]
  },
  {
   "cell_type": "code",
   "execution_count": 2196,
   "metadata": {},
   "outputs": [],
   "source": [
    "df = archive_clean.copy()"
   ]
  },
  {
   "cell_type": "markdown",
   "metadata": {},
   "source": [
    "### Question 1: What is WeRateDog's posting trend by month?"
   ]
  },
  {
   "cell_type": "code",
   "execution_count": 2203,
   "metadata": {},
   "outputs": [
    {
     "name": "stderr",
     "output_type": "stream",
     "text": [
      "/var/folders/vd/qsmzl1mx1p501xhk4zp5x8x40000gn/T/ipykernel_65976/2186961071.py:1: UserWarning: Converting to PeriodArray/Index representation will drop timezone information.\n",
      "  monthly_tweet_counts = archive_clean.groupby(archive_clean['timestamp'].dt.to_period('M'))['tweet_id'].count()\n"
     ]
    }
   ],
   "source": [
    "# Group by timestamp M/Y and count tweet_id\n",
    "monthly_tweet_counts = archive_clean.groupby(archive_clean['timestamp'].dt.to_period('M'))['tweet_id'].count()"
   ]
  },
  {
   "cell_type": "code",
   "execution_count": 2205,
   "metadata": {},
   "outputs": [
    {
     "data": {
      "text/plain": [
       "Text(0, 0.5, 'Number of posts')"
      ]
     },
     "execution_count": 2205,
     "metadata": {},
     "output_type": "execute_result"
    },
    {
     "data": {
      "image/png": "[encoded data removed]",
      "text/plain": [
       "<Figure size 640x480 with 1 Axes>"
      ]
     },
     "metadata": {},
     "output_type": "display_data"
    }
   ],
   "source": [
    "monthly_tweet_counts.plot()\n",
    "plt.title('# Tweet posts by Month')\n",
    "plt.xlabel('Month')\n",
    "plt.ylabel('Number of posts')"
   ]
  },
  {
   "cell_type": "markdown",
   "metadata": {},
   "source": [
    "<font color='blue'> The number of posts of this account has significantly decreased since the account was first started </font>"
   ]
  },
  {
   "cell_type": "markdown",
   "metadata": {},
   "source": [
    "### Question 2: What is the monthly trend of interactions with We Rate Dogs' posts?"
   ]
  },
  {
   "cell_type": "markdown",
   "metadata": {},
   "source": [
    "I define \"interactions\" = total retweets + favorites."
   ]
  },
  {
   "cell_type": "code",
   "execution_count": 2207,
   "metadata": {},
   "outputs": [
    {
     "name": "stderr",
     "output_type": "stream",
     "text": [
      "/var/folders/vd/qsmzl1mx1p501xhk4zp5x8x40000gn/T/ipykernel_65976/2259122778.py:5: UserWarning: Converting to PeriodArray/Index representation will drop timezone information.\n",
      "  monthly_interaction_counts = archive_clean.groupby(archive_clean['timestamp'].dt.to_period('M'))['interactions'].mean()\n"
     ]
    }
   ],
   "source": [
    "# Create new columns to sum the total interactions\n",
    "archive_clean['interactions'] = archive_clean['retweet_count'] + archive_clean['favorite_count']\n",
    "\n",
    "# Same as question 1, count -> mean\n",
    "monthly_interaction_counts = archive_clean.groupby(archive_clean['timestamp'].dt.to_period('M'))['interactions'].mean()"
   ]
  },
  {
   "cell_type": "code",
   "execution_count": 2208,
   "metadata": {},
   "outputs": [
    {
     "data": {
      "text/plain": [
       "Text(0, 0.5, 'Interactions')"
      ]
     },
     "execution_count": 2208,
     "metadata": {},
     "output_type": "execute_result"
    },
    {
     "data": {
      "image/png": "[encoded data removed]",
      "text/plain": [
       "<Figure size 640x480 with 1 Axes>"
      ]
     },
     "metadata": {},
     "output_type": "display_data"
    }
   ],
   "source": [
    "monthly_interaction_counts.plot()\n",
    "plt.title('Average interaction per tweet by Month')\n",
    "plt.xlabel('Month')\n",
    "plt.ylabel('Interactions')"
   ]
  },
  {
   "cell_type": "markdown",
   "metadata": {},
   "source": [
    "<font color='blue'> The interaction with WeRateDogs' posts has increased 7 times since the account was started </font> "
   ]
  },
  {
   "cell_type": "code",
   "execution_count": null,
   "metadata": {},
   "outputs": [],
   "source": []
  },
  {
   "cell_type": "code",
   "execution_count": null,
   "metadata": {},
   "outputs": [],
   "source": []
  },
  {
   "cell_type": "code",
   "execution_count": null,
   "metadata": {},
   "outputs": [],
   "source": []
  },
  {
   "cell_type": "code",
   "execution_count": null,
   "metadata": {},
   "outputs": [],
   "source": []
  },
  {
   "cell_type": "code",
   "execution_count": null,
   "metadata": {},
   "outputs": [],
   "source": []
  }
 ],
 "metadata": {
  "kernelspec": {
   "display_name": "Python 3",
   "language": "python",
   "name": "python3"
  },
  "language_info": {
   "codemirror_mode": {
    "name": "ipython",
    "version": 3
   },
   "file_extension": ".py",
   "mimetype": "text/x-python",
   "name": "python",
   "nbconvert_exporter": "python",
   "pygments_lexer": "ipython3",
   "version": "3.9.6"
  },
  "orig_nbformat": 4
 },
 "nbformat": 4,
 "nbformat_minor": 2
}
