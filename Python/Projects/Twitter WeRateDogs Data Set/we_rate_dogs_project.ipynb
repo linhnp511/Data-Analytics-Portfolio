{
 "cells": [
  {
   "cell_type": "markdown",
   "metadata": {},
   "source": [
    "# 0. Intro\n",
    "WeRateDogs is a Twitter account that posts and rates pictures of dogs. These ratings often are not serious and have numerators that are greater than the denominators. \n",
    "\n",
    "In the analysis, I will aim to (1) wrangle the data + (2) answer the following questions:\n",
    "\n",
    "1. What is WeRateDogs's posting trend by month?\n",
    "2. What is the monthly trend of interactions with WeRateDogs's posts?\n",
    "3. What are the most popular dog breeds based on number of posts, interactions by Twitter users, and ratings?\n",
    "4. Is there any correlation between WeRateDogs's ratings and the interactions by Twitter users?"
   ]
  },
  {
   "cell_type": "code",
   "execution_count": 2323,
   "metadata": {},
   "outputs": [
    {
     "name": "stdout",
     "output_type": "stream",
     "text": [
      "Defaulting to user installation because normal site-packages is not writeable\n",
      "Requirement already satisfied: seaborn in /Users/timtism/Library/Python/3.9/lib/python/site-packages (0.13.0)\n",
      "Requirement already satisfied: numpy!=1.24.0,>=1.20 in /Users/timtism/Library/Python/3.9/lib/python/site-packages (from seaborn) (1.26.0)\n",
      "Requirement already satisfied: pandas>=1.2 in /Users/timtism/Library/Python/3.9/lib/python/site-packages (from seaborn) (2.1.1)\n",
      "Requirement already satisfied: matplotlib!=3.6.1,>=3.3 in /Users/timtism/Library/Python/3.9/lib/python/site-packages (from seaborn) (3.8.0)\n",
      "Requirement already satisfied: contourpy>=1.0.1 in /Users/timtism/Library/Python/3.9/lib/python/site-packages (from matplotlib!=3.6.1,>=3.3->seaborn) (1.1.1)\n",
      "Requirement already satisfied: cycler>=0.10 in /Users/timtism/Library/Python/3.9/lib/python/site-packages (from matplotlib!=3.6.1,>=3.3->seaborn) (0.11.0)\n",
      "Requirement already satisfied: fonttools>=4.22.0 in /Users/timtism/Library/Python/3.9/lib/python/site-packages (from matplotlib!=3.6.1,>=3.3->seaborn) (4.42.1)\n",
      "Requirement already satisfied: kiwisolver>=1.0.1 in /Users/timtism/Library/Python/3.9/lib/python/site-packages (from matplotlib!=3.6.1,>=3.3->seaborn) (1.4.5)\n",
      "Requirement already satisfied: packaging>=20.0 in /Users/timtism/Library/Python/3.9/lib/python/site-packages (from matplotlib!=3.6.1,>=3.3->seaborn) (23.1)\n",
      "Requirement already satisfied: pillow>=6.2.0 in /Users/timtism/Library/Python/3.9/lib/python/site-packages (from matplotlib!=3.6.1,>=3.3->seaborn) (10.0.1)\n",
      "Requirement already satisfied: pyparsing>=2.3.1 in /Users/timtism/Library/Python/3.9/lib/python/site-packages (from matplotlib!=3.6.1,>=3.3->seaborn) (3.1.1)\n",
      "Requirement already satisfied: python-dateutil>=2.7 in /Users/timtism/Library/Python/3.9/lib/python/site-packages (from matplotlib!=3.6.1,>=3.3->seaborn) (2.8.2)\n",
      "Requirement already satisfied: importlib-resources>=3.2.0 in /Users/timtism/Library/Python/3.9/lib/python/site-packages (from matplotlib!=3.6.1,>=3.3->seaborn) (6.1.0)\n",
      "Requirement already satisfied: pytz>=2020.1 in /Users/timtism/Library/Python/3.9/lib/python/site-packages (from pandas>=1.2->seaborn) (2023.3.post1)\n",
      "Requirement already satisfied: tzdata>=2022.1 in /Users/timtism/Library/Python/3.9/lib/python/site-packages (from pandas>=1.2->seaborn) (2023.3)\n",
      "Requirement already satisfied: zipp>=3.1.0 in /Users/timtism/Library/Python/3.9/lib/python/site-packages (from importlib-resources>=3.2.0->matplotlib!=3.6.1,>=3.3->seaborn) (3.17.0)\n",
      "Requirement already satisfied: six>=1.5 in /Library/Developer/CommandLineTools/Library/Frameworks/Python3.framework/Versions/3.9/lib/python3.9/site-packages (from python-dateutil>=2.7->matplotlib!=3.6.1,>=3.3->seaborn) (1.15.0)\n"
     ]
    },
    {
     "name": "stdout",
     "output_type": "stream",
     "text": [
      "Defaulting to user installation because normal site-packages is not writeable\n",
      "Requirement already satisfied: scipy in /Users/timtism/Library/Python/3.9/lib/python/site-packages (1.11.3)\n",
      "Requirement already satisfied: numpy<1.28.0,>=1.21.6 in /Users/timtism/Library/Python/3.9/lib/python/site-packages (from scipy) (1.26.0)\n"
     ]
    }
   ],
   "source": [
    "!pip install seaborn\n",
    "!pip install scipy"
   ]
  },
  {
   "cell_type": "code",
   "execution_count": 2324,
   "metadata": {},
   "outputs": [],
   "source": [
    "import pandas as pd \n",
    "import numpy as np\n",
    "import matplotlib.pyplot as plt\n",
    "import seaborn as sb\n",
    "import os \n",
    "import json \n",
    "import re\n",
    "from scipy.stats import pearsonr\n",
    "%matplotlib inline\n",
    "pd.set_option('display.max_colwidth', None)"
   ]
  },
  {
   "cell_type": "markdown",
   "metadata": {},
   "source": [
    "# 1. Gathering Data"
   ]
  },
  {
   "cell_type": "code",
   "execution_count": 2325,
   "metadata": {},
   "outputs": [],
   "source": [
    "#1.  Archive file\n",
    "archive = pd.read_csv('/Users/timtism/Documents/Github Repo/Data Analytics Portfolio/Python/Projects/Twitter WeRateDogs Data Set/datasets/twitter-archive-enhanced.csv')\n",
    "#2. Image prediction file (URL)\n",
    "    # Predictions of dog breeds\n",
    "url_image_predictions = ('https://d17h27t6h515a5.cloudfront.net/topher/2017/August/'\n",
    "                         '599fd2ad_image-predictions/image-predictions.tsv')\n",
    "\n",
    "    # Create dataframe from TSV\n",
    "predictions = pd.read_csv(url_image_predictions, delimiter='\\t')\n",
    "\n",
    "#3. Tweets\n",
    "tweet = pd.read_json('/Users/timtism/Documents/Github Repo/Data Analytics Portfolio/Python/Projects/Twitter WeRateDogs Data Set/datasets/tweet-json.txt',  lines = True)"
   ]
  },
  {
   "cell_type": "markdown",
   "metadata": {},
   "source": [
    "---"
   ]
  },
  {
   "cell_type": "markdown",
   "metadata": {},
   "source": [
    "# 2. Assessing  Data"
   ]
  },
  {
   "cell_type": "markdown",
   "metadata": {},
   "source": [
    "### a. `archive`"
   ]
  },
  {
   "cell_type": "code",
   "execution_count": 2326,
   "metadata": {},
   "outputs": [
    {
     "name": "stdout",
     "output_type": "stream",
     "text": [
      "<class 'pandas.core.frame.DataFrame'>\n",
      "RangeIndex: 2356 entries, 0 to 2355\n",
      "Data columns (total 17 columns):\n",
      " #   Column                      Non-Null Count  Dtype  \n",
      "---  ------                      --------------  -----  \n",
      " 0   tweet_id                    2356 non-null   int64  \n",
      " 1   in_reply_to_status_id       78 non-null     float64\n",
      " 2   in_reply_to_user_id         78 non-null     float64\n",
      " 3   timestamp                   2356 non-null   object \n",
      " 4   source                      2356 non-null   object \n",
      " 5   text                        2356 non-null   object \n",
      " 6   retweeted_status_id         181 non-null    float64\n",
      " 7   retweeted_status_user_id    181 non-null    float64\n",
      " 8   retweeted_status_timestamp  181 non-null    object \n",
      " 9   expanded_urls               2297 non-null   object \n",
      " 10  rating_numerator            2356 non-null   int64  \n",
      " 11  rating_denominator          2356 non-null   int64  \n",
      " 12  name                        1611 non-null   object \n",
      " 13  doggo                       97 non-null     object \n",
      " 14  floofer                     10 non-null     object \n",
      " 15  pupper                      257 non-null    object \n",
      " 16  puppo                       30 non-null     object \n",
      "dtypes: float64(4), int64(3), object(10)\n",
      "memory usage: 313.0+ KB\n"
     ]
    },
    {
     "data": {
      "text/html": [
       "<div>\n",
       "<style scoped>\n",
       "    .dataframe tbody tr th:only-of-type {\n",
       "        vertical-align: middle;\n",
       "    }\n",
       "\n",
       "    .dataframe tbody tr th {\n",
       "        vertical-align: top;\n",
       "    }\n",
       "\n",
       "    .dataframe thead th {\n",
       "        text-align: right;\n",
       "    }\n",
       "</style>\n",
       "<table border=\"1\" class=\"dataframe\">\n",
       "  <thead>\n",
       "    <tr style=\"text-align: right;\">\n",
       "      <th></th>\n",
       "      <th>tweet_id</th>\n",
       "      <th>in_reply_to_status_id</th>\n",
       "      <th>in_reply_to_user_id</th>\n",
       "      <th>timestamp</th>\n",
       "      <th>source</th>\n",
       "      <th>text</th>\n",
       "      <th>retweeted_status_id</th>\n",
       "      <th>retweeted_status_user_id</th>\n",
       "      <th>retweeted_status_timestamp</th>\n",
       "      <th>expanded_urls</th>\n",
       "      <th>rating_numerator</th>\n",
       "      <th>rating_denominator</th>\n",
       "      <th>name</th>\n",
       "      <th>doggo</th>\n",
       "      <th>floofer</th>\n",
       "      <th>pupper</th>\n",
       "      <th>puppo</th>\n",
       "    </tr>\n",
       "  </thead>\n",
       "  <tbody>\n",
       "    <tr>\n",
       "      <th>1059</th>\n",
       "      <td>741743634094141440</td>\n",
       "      <td>NaN</td>\n",
       "      <td>NaN</td>\n",
       "      <td>2016-06-11 21:27:17 +0000</td>\n",
       "      <td>&lt;a href=\"http://twitter.com/download/iphone\" rel=\"nofollow\"&gt;Twitter for iPhone&lt;/a&gt;</td>\n",
       "      <td>Meet Aqua. She's a sandy pupper. Not sure how she feels about being so sandy. Radical tongue slip. 11/10 petable af https://t.co/rYxJ0UQtbE</td>\n",
       "      <td>NaN</td>\n",
       "      <td>NaN</td>\n",
       "      <td>NaN</td>\n",
       "      <td>https://twitter.com/dog_rates/status/741743634094141440/photo/1,https://twitter.com/dog_rates/status/741743634094141440/photo/1,https://twitter.com/dog_rates/status/741743634094141440/photo/1</td>\n",
       "      <td>11</td>\n",
       "      <td>10</td>\n",
       "      <td>Aqua</td>\n",
       "      <td>NaN</td>\n",
       "      <td>NaN</td>\n",
       "      <td>pupper</td>\n",
       "      <td>NaN</td>\n",
       "    </tr>\n",
       "    <tr>\n",
       "      <th>1354</th>\n",
       "      <td>703631701117943808</td>\n",
       "      <td>NaN</td>\n",
       "      <td>NaN</td>\n",
       "      <td>2016-02-27 17:24:05 +0000</td>\n",
       "      <td>&lt;a href=\"http://twitter.com/download/iphone\" rel=\"nofollow\"&gt;Twitter for iPhone&lt;/a&gt;</td>\n",
       "      <td>This is Bella. Based on this picture she's at least 8ft tall (wow)! Must be rare. 11/10 would pet on tippy toes https://t.co/XTVbSRdvcp</td>\n",
       "      <td>NaN</td>\n",
       "      <td>NaN</td>\n",
       "      <td>NaN</td>\n",
       "      <td>https://twitter.com/dog_rates/status/703631701117943808/photo/1,https://twitter.com/dog_rates/status/703631701117943808/photo/1,https://twitter.com/dog_rates/status/703631701117943808/photo/1,https://twitter.com/dog_rates/status/703631701117943808/photo/1</td>\n",
       "      <td>11</td>\n",
       "      <td>10</td>\n",
       "      <td>Bella</td>\n",
       "      <td>NaN</td>\n",
       "      <td>NaN</td>\n",
       "      <td>NaN</td>\n",
       "      <td>NaN</td>\n",
       "    </tr>\n",
       "    <tr>\n",
       "      <th>1317</th>\n",
       "      <td>706593038911545345</td>\n",
       "      <td>NaN</td>\n",
       "      <td>NaN</td>\n",
       "      <td>2016-03-06 21:31:22 +0000</td>\n",
       "      <td>&lt;a href=\"http://twitter.com/download/iphone\" rel=\"nofollow\"&gt;Twitter for iPhone&lt;/a&gt;</td>\n",
       "      <td>Here's a sneak peek of me on spring break. 10/10 so many tired pups these days https://t.co/6aJrjKfNqX</td>\n",
       "      <td>NaN</td>\n",
       "      <td>NaN</td>\n",
       "      <td>NaN</td>\n",
       "      <td>https://twitter.com/dog_rates/status/706593038911545345/photo/1</td>\n",
       "      <td>10</td>\n",
       "      <td>10</td>\n",
       "      <td>NaN</td>\n",
       "      <td>NaN</td>\n",
       "      <td>NaN</td>\n",
       "      <td>NaN</td>\n",
       "      <td>NaN</td>\n",
       "    </tr>\n",
       "    <tr>\n",
       "      <th>1537</th>\n",
       "      <td>689877686181715968</td>\n",
       "      <td>NaN</td>\n",
       "      <td>NaN</td>\n",
       "      <td>2016-01-20 18:30:32 +0000</td>\n",
       "      <td>&lt;a href=\"http://twitter.com/download/iphone\" rel=\"nofollow\"&gt;Twitter for iPhone&lt;/a&gt;</td>\n",
       "      <td>This is Durg. He's trying to conquer his fear of trampolines. 9/10 it's not working https://t.co/5iH08ltkoe</td>\n",
       "      <td>NaN</td>\n",
       "      <td>NaN</td>\n",
       "      <td>NaN</td>\n",
       "      <td>https://twitter.com/dog_rates/status/689877686181715968/photo/1</td>\n",
       "      <td>9</td>\n",
       "      <td>10</td>\n",
       "      <td>Durg</td>\n",
       "      <td>NaN</td>\n",
       "      <td>NaN</td>\n",
       "      <td>NaN</td>\n",
       "      <td>NaN</td>\n",
       "    </tr>\n",
       "    <tr>\n",
       "      <th>2205</th>\n",
       "      <td>668633411083464705</td>\n",
       "      <td>NaN</td>\n",
       "      <td>NaN</td>\n",
       "      <td>2015-11-23 03:33:22 +0000</td>\n",
       "      <td>&lt;a href=\"http://twitter.com/download/iphone\" rel=\"nofollow\"&gt;Twitter for iPhone&lt;/a&gt;</td>\n",
       "      <td>This is Churlie. He likes bagels. 10/10 https://t.co/k8P6FZlzAG</td>\n",
       "      <td>NaN</td>\n",
       "      <td>NaN</td>\n",
       "      <td>NaN</td>\n",
       "      <td>https://twitter.com/dog_rates/status/668633411083464705/photo/1,https://twitter.com/dog_rates/status/668633411083464705/photo/1</td>\n",
       "      <td>10</td>\n",
       "      <td>10</td>\n",
       "      <td>Churlie</td>\n",
       "      <td>NaN</td>\n",
       "      <td>NaN</td>\n",
       "      <td>NaN</td>\n",
       "      <td>NaN</td>\n",
       "    </tr>\n",
       "  </tbody>\n",
       "</table>\n",
       "</div>"
      ],
      "text/plain": [
       "                tweet_id  in_reply_to_status_id  in_reply_to_user_id  \\\n",
       "1059  741743634094141440                    NaN                  NaN   \n",
       "1354  703631701117943808                    NaN                  NaN   \n",
       "1317  706593038911545345                    NaN                  NaN   \n",
       "1537  689877686181715968                    NaN                  NaN   \n",
       "2205  668633411083464705                    NaN                  NaN   \n",
       "\n",
       "                      timestamp  \\\n",
       "1059  2016-06-11 21:27:17 +0000   \n",
       "1354  2016-02-27 17:24:05 +0000   \n",
       "1317  2016-03-06 21:31:22 +0000   \n",
       "1537  2016-01-20 18:30:32 +0000   \n",
       "2205  2015-11-23 03:33:22 +0000   \n",
       "\n",
       "                                                                                  source  \\\n",
       "1059  <a href=\"http://twitter.com/download/iphone\" rel=\"nofollow\">Twitter for iPhone</a>   \n",
       "1354  <a href=\"http://twitter.com/download/iphone\" rel=\"nofollow\">Twitter for iPhone</a>   \n",
       "1317  <a href=\"http://twitter.com/download/iphone\" rel=\"nofollow\">Twitter for iPhone</a>   \n",
       "1537  <a href=\"http://twitter.com/download/iphone\" rel=\"nofollow\">Twitter for iPhone</a>   \n",
       "2205  <a href=\"http://twitter.com/download/iphone\" rel=\"nofollow\">Twitter for iPhone</a>   \n",
       "\n",
       "                                                                                                                                             text  \\\n",
       "1059  Meet Aqua. She's a sandy pupper. Not sure how she feels about being so sandy. Radical tongue slip. 11/10 petable af https://t.co/rYxJ0UQtbE   \n",
       "1354      This is Bella. Based on this picture she's at least 8ft tall (wow)! Must be rare. 11/10 would pet on tippy toes https://t.co/XTVbSRdvcp   \n",
       "1317                                       Here's a sneak peek of me on spring break. 10/10 so many tired pups these days https://t.co/6aJrjKfNqX   \n",
       "1537                                  This is Durg. He's trying to conquer his fear of trampolines. 9/10 it's not working https://t.co/5iH08ltkoe   \n",
       "2205                                                                              This is Churlie. He likes bagels. 10/10 https://t.co/k8P6FZlzAG   \n",
       "\n",
       "      retweeted_status_id  retweeted_status_user_id  \\\n",
       "1059                  NaN                       NaN   \n",
       "1354                  NaN                       NaN   \n",
       "1317                  NaN                       NaN   \n",
       "1537                  NaN                       NaN   \n",
       "2205                  NaN                       NaN   \n",
       "\n",
       "     retweeted_status_timestamp  \\\n",
       "1059                        NaN   \n",
       "1354                        NaN   \n",
       "1317                        NaN   \n",
       "1537                        NaN   \n",
       "2205                        NaN   \n",
       "\n",
       "                                                                                                                                                                                                                                                        expanded_urls  \\\n",
       "1059                                                                  https://twitter.com/dog_rates/status/741743634094141440/photo/1,https://twitter.com/dog_rates/status/741743634094141440/photo/1,https://twitter.com/dog_rates/status/741743634094141440/photo/1   \n",
       "1354  https://twitter.com/dog_rates/status/703631701117943808/photo/1,https://twitter.com/dog_rates/status/703631701117943808/photo/1,https://twitter.com/dog_rates/status/703631701117943808/photo/1,https://twitter.com/dog_rates/status/703631701117943808/photo/1   \n",
       "1317                                                                                                                                                                                                  https://twitter.com/dog_rates/status/706593038911545345/photo/1   \n",
       "1537                                                                                                                                                                                                  https://twitter.com/dog_rates/status/689877686181715968/photo/1   \n",
       "2205                                                                                                                                  https://twitter.com/dog_rates/status/668633411083464705/photo/1,https://twitter.com/dog_rates/status/668633411083464705/photo/1   \n",
       "\n",
       "      rating_numerator  rating_denominator     name doggo floofer  pupper  \\\n",
       "1059                11                  10     Aqua   NaN     NaN  pupper   \n",
       "1354                11                  10    Bella   NaN     NaN     NaN   \n",
       "1317                10                  10      NaN   NaN     NaN     NaN   \n",
       "1537                 9                  10     Durg   NaN     NaN     NaN   \n",
       "2205                10                  10  Churlie   NaN     NaN     NaN   \n",
       "\n",
       "     puppo  \n",
       "1059   NaN  \n",
       "1354   NaN  \n",
       "1317   NaN  \n",
       "1537   NaN  \n",
       "2205   NaN  "
      ]
     },
     "execution_count": 2326,
     "metadata": {},
     "output_type": "execute_result"
    }
   ],
   "source": [
    "archive.info()\n",
    "archive.sample(5)"
   ]
  },
  {
   "cell_type": "markdown",
   "metadata": {},
   "source": [
    "`archive` columns:\n",
    "-  `tweet_id`: unique identifier for each tweet\n",
    "- `in_reply_to_status_id`: original tweet_id if the row is a **reply**. If not, null\n",
    "- `in_reply_to_user_id`: user id of the original tweet if the row  is a **reply**.  If not, null\n",
    "- `timestamp`: time when this tweet was created\n",
    "- `source`: HTML-formatted string of platform to post the tweet\n",
    "-  `text`: content of the tweet\n",
    "- `retweeted_status_id`: original tweet_id if the row is a **retweet**. If not, null\n",
    "- `retweeted_status_user_id`: user id of the original tweet if the row is a **retweet**.  If not, null\n",
    "- `expanded_urls`: tweet url\n",
    "- `rating_numerator`: numerator of the rating of the dog. Note: ratings almost always greater than 10\n",
    "- `rating_denominator`: denominator of the rating of the dog. Note: ratings always have a denominator of 10\n",
    "- `name`: dog names\n",
    "- `doggo` / `floofer` / `pupper` / `puppo`: one of the 4 dog stages"
   ]
  },
  {
   "cell_type": "code",
   "execution_count": 2327,
   "metadata": {},
   "outputs": [
    {
     "data": {
      "text/plain": [
       "281"
      ]
     },
     "execution_count": 2327,
     "metadata": {},
     "output_type": "execute_result"
    }
   ],
   "source": [
    "# From .info(), there are 181 retweets records (not null obs in retweeted_status_id)\n",
    "\n",
    "# Check if there are any records in `archive` whose corresponding record with same tweet_id is missing in `predictions`\n",
    "len(archive[~archive['tweet_id'].isin(predictions['tweet_id'])])"
   ]
  },
  {
   "cell_type": "code",
   "execution_count": 2328,
   "metadata": {},
   "outputs": [
    {
     "data": {
      "text/plain": [
       "rating_denominator\n",
       "0         1\n",
       "2         1\n",
       "7         1\n",
       "10     2333\n",
       "11        3\n",
       "15        1\n",
       "16        1\n",
       "20        2\n",
       "40        1\n",
       "50        3\n",
       "70        1\n",
       "80        2\n",
       "90        1\n",
       "110       1\n",
       "120       1\n",
       "130       1\n",
       "150       1\n",
       "170       1\n",
       "Name: count, dtype: int64"
      ]
     },
     "execution_count": 2328,
     "metadata": {},
     "output_type": "execute_result"
    }
   ],
   "source": [
    "# Check the `rating_denominator` values:\n",
    "archive['rating_denominator'].value_counts().sort_index()"
   ]
  },
  {
   "cell_type": "code",
   "execution_count": 2329,
   "metadata": {},
   "outputs": [
    {
     "data": {
      "text/plain": [
       "rating_numerator\n",
       "0         2\n",
       "1         9\n",
       "2         9\n",
       "3        19\n",
       "4        17\n",
       "5        37\n",
       "6        32\n",
       "7        55\n",
       "8       102\n",
       "9       158\n",
       "10      461\n",
       "11      464\n",
       "12      558\n",
       "13      351\n",
       "14       54\n",
       "15        2\n",
       "17        1\n",
       "20        1\n",
       "24        1\n",
       "26        1\n",
       "27        1\n",
       "44        1\n",
       "45        1\n",
       "50        1\n",
       "60        1\n",
       "75        2\n",
       "80        1\n",
       "84        1\n",
       "88        1\n",
       "99        1\n",
       "121       1\n",
       "143       1\n",
       "144       1\n",
       "165       1\n",
       "182       1\n",
       "204       1\n",
       "420       2\n",
       "666       1\n",
       "960       1\n",
       "1776      1\n",
       "Name: count, dtype: int64"
      ]
     },
     "execution_count": 2329,
     "metadata": {},
     "output_type": "execute_result"
    }
   ],
   "source": [
    "# Check the `rating_numerator` values:\n",
    "archive['rating_numerator'].value_counts().sort_index()"
   ]
  },
  {
   "cell_type": "code",
   "execution_count": 2330,
   "metadata": {},
   "outputs": [
    {
     "data": {
      "text/plain": [
       "name\n",
       "very            5\n",
       "unacceptable    1\n",
       "this            1\n",
       "the             8\n",
       "such            1\n",
       "               ..\n",
       "Aiden           1\n",
       "Adele           1\n",
       "Acro            1\n",
       "Ace             1\n",
       "Abby            2\n",
       "Name: count, Length: 956, dtype: int64"
      ]
     },
     "execution_count": 2330,
     "metadata": {},
     "output_type": "execute_result"
    }
   ],
   "source": [
    "# Check dog name\n",
    "archive['name'].value_counts().sort_index(ascending=False)"
   ]
  },
  {
   "cell_type": "code",
   "execution_count": 2331,
   "metadata": {},
   "outputs": [
    {
     "data": {
      "text/plain": [
       "puppo\n",
       "puppo    30\n",
       "Name: count, dtype: int64"
      ]
     },
     "execution_count": 2331,
     "metadata": {},
     "output_type": "execute_result"
    }
   ],
   "source": [
    "archive['puppo'].value_counts()"
   ]
  },
  {
   "cell_type": "code",
   "execution_count": 2332,
   "metadata": {},
   "outputs": [
    {
     "data": {
      "text/html": [
       "<div>\n",
       "<style scoped>\n",
       "    .dataframe tbody tr th:only-of-type {\n",
       "        vertical-align: middle;\n",
       "    }\n",
       "\n",
       "    .dataframe tbody tr th {\n",
       "        vertical-align: top;\n",
       "    }\n",
       "\n",
       "    .dataframe thead th {\n",
       "        text-align: right;\n",
       "    }\n",
       "</style>\n",
       "<table border=\"1\" class=\"dataframe\">\n",
       "  <thead>\n",
       "    <tr style=\"text-align: right;\">\n",
       "      <th></th>\n",
       "      <th>tweet_id</th>\n",
       "      <th>in_reply_to_status_id</th>\n",
       "      <th>in_reply_to_user_id</th>\n",
       "      <th>timestamp</th>\n",
       "      <th>source</th>\n",
       "      <th>text</th>\n",
       "      <th>retweeted_status_id</th>\n",
       "      <th>retweeted_status_user_id</th>\n",
       "      <th>retweeted_status_timestamp</th>\n",
       "      <th>expanded_urls</th>\n",
       "      <th>rating_numerator</th>\n",
       "      <th>rating_denominator</th>\n",
       "      <th>name</th>\n",
       "      <th>doggo</th>\n",
       "      <th>floofer</th>\n",
       "      <th>pupper</th>\n",
       "      <th>puppo</th>\n",
       "      <th>counter</th>\n",
       "    </tr>\n",
       "  </thead>\n",
       "  <tbody>\n",
       "    <tr>\n",
       "      <th>0</th>\n",
       "      <td>892420643555336193</td>\n",
       "      <td>NaN</td>\n",
       "      <td>NaN</td>\n",
       "      <td>2017-08-01 16:23:56 +0000</td>\n",
       "      <td>&lt;a href=\"http://twitter.com/download/iphone\" rel=\"nofollow\"&gt;Twitter for iPhone&lt;/a&gt;</td>\n",
       "      <td>This is Phineas. He's a mystical boy. Only ever appears in the hole of a donut. 13/10 https://t.co/MgUWQ76dJU</td>\n",
       "      <td>NaN</td>\n",
       "      <td>NaN</td>\n",
       "      <td>NaN</td>\n",
       "      <td>https://twitter.com/dog_rates/status/892420643555336193/photo/1</td>\n",
       "      <td>13</td>\n",
       "      <td>10</td>\n",
       "      <td>Phineas</td>\n",
       "      <td>NaN</td>\n",
       "      <td>NaN</td>\n",
       "      <td>NaN</td>\n",
       "      <td>NaN</td>\n",
       "      <td>0</td>\n",
       "    </tr>\n",
       "    <tr>\n",
       "      <th>1</th>\n",
       "      <td>892177421306343426</td>\n",
       "      <td>NaN</td>\n",
       "      <td>NaN</td>\n",
       "      <td>2017-08-01 00:17:27 +0000</td>\n",
       "      <td>&lt;a href=\"http://twitter.com/download/iphone\" rel=\"nofollow\"&gt;Twitter for iPhone&lt;/a&gt;</td>\n",
       "      <td>This is Tilly. She's just checking pup on you. Hopes you're doing ok. If not, she's available for pats, snugs, boops, the whole bit. 13/10 https://t.co/0Xxu71qeIV</td>\n",
       "      <td>NaN</td>\n",
       "      <td>NaN</td>\n",
       "      <td>NaN</td>\n",
       "      <td>https://twitter.com/dog_rates/status/892177421306343426/photo/1</td>\n",
       "      <td>13</td>\n",
       "      <td>10</td>\n",
       "      <td>Tilly</td>\n",
       "      <td>NaN</td>\n",
       "      <td>NaN</td>\n",
       "      <td>NaN</td>\n",
       "      <td>NaN</td>\n",
       "      <td>0</td>\n",
       "    </tr>\n",
       "    <tr>\n",
       "      <th>2</th>\n",
       "      <td>891815181378084864</td>\n",
       "      <td>NaN</td>\n",
       "      <td>NaN</td>\n",
       "      <td>2017-07-31 00:18:03 +0000</td>\n",
       "      <td>&lt;a href=\"http://twitter.com/download/iphone\" rel=\"nofollow\"&gt;Twitter for iPhone&lt;/a&gt;</td>\n",
       "      <td>This is Archie. He is a rare Norwegian Pouncing Corgo. Lives in the tall grass. You never know when one may strike. 12/10 https://t.co/wUnZnhtVJB</td>\n",
       "      <td>NaN</td>\n",
       "      <td>NaN</td>\n",
       "      <td>NaN</td>\n",
       "      <td>https://twitter.com/dog_rates/status/891815181378084864/photo/1</td>\n",
       "      <td>12</td>\n",
       "      <td>10</td>\n",
       "      <td>Archie</td>\n",
       "      <td>NaN</td>\n",
       "      <td>NaN</td>\n",
       "      <td>NaN</td>\n",
       "      <td>NaN</td>\n",
       "      <td>0</td>\n",
       "    </tr>\n",
       "    <tr>\n",
       "      <th>3</th>\n",
       "      <td>891689557279858688</td>\n",
       "      <td>NaN</td>\n",
       "      <td>NaN</td>\n",
       "      <td>2017-07-30 15:58:51 +0000</td>\n",
       "      <td>&lt;a href=\"http://twitter.com/download/iphone\" rel=\"nofollow\"&gt;Twitter for iPhone&lt;/a&gt;</td>\n",
       "      <td>This is Darla. She commenced a snooze mid meal. 13/10 happens to the best of us https://t.co/tD36da7qLQ</td>\n",
       "      <td>NaN</td>\n",
       "      <td>NaN</td>\n",
       "      <td>NaN</td>\n",
       "      <td>https://twitter.com/dog_rates/status/891689557279858688/photo/1</td>\n",
       "      <td>13</td>\n",
       "      <td>10</td>\n",
       "      <td>Darla</td>\n",
       "      <td>NaN</td>\n",
       "      <td>NaN</td>\n",
       "      <td>NaN</td>\n",
       "      <td>NaN</td>\n",
       "      <td>0</td>\n",
       "    </tr>\n",
       "    <tr>\n",
       "      <th>4</th>\n",
       "      <td>891327558926688256</td>\n",
       "      <td>NaN</td>\n",
       "      <td>NaN</td>\n",
       "      <td>2017-07-29 16:00:24 +0000</td>\n",
       "      <td>&lt;a href=\"http://twitter.com/download/iphone\" rel=\"nofollow\"&gt;Twitter for iPhone&lt;/a&gt;</td>\n",
       "      <td>This is Franklin. He would like you to stop calling him \"cute.\" He is a very fierce shark and should be respected as such. 12/10 #BarkWeek https://t.co/AtUZn91f7f</td>\n",
       "      <td>NaN</td>\n",
       "      <td>NaN</td>\n",
       "      <td>NaN</td>\n",
       "      <td>https://twitter.com/dog_rates/status/891327558926688256/photo/1,https://twitter.com/dog_rates/status/891327558926688256/photo/1</td>\n",
       "      <td>12</td>\n",
       "      <td>10</td>\n",
       "      <td>Franklin</td>\n",
       "      <td>NaN</td>\n",
       "      <td>NaN</td>\n",
       "      <td>NaN</td>\n",
       "      <td>NaN</td>\n",
       "      <td>0</td>\n",
       "    </tr>\n",
       "  </tbody>\n",
       "</table>\n",
       "</div>"
      ],
      "text/plain": [
       "             tweet_id  in_reply_to_status_id  in_reply_to_user_id  \\\n",
       "0  892420643555336193                    NaN                  NaN   \n",
       "1  892177421306343426                    NaN                  NaN   \n",
       "2  891815181378084864                    NaN                  NaN   \n",
       "3  891689557279858688                    NaN                  NaN   \n",
       "4  891327558926688256                    NaN                  NaN   \n",
       "\n",
       "                   timestamp  \\\n",
       "0  2017-08-01 16:23:56 +0000   \n",
       "1  2017-08-01 00:17:27 +0000   \n",
       "2  2017-07-31 00:18:03 +0000   \n",
       "3  2017-07-30 15:58:51 +0000   \n",
       "4  2017-07-29 16:00:24 +0000   \n",
       "\n",
       "                                                                               source  \\\n",
       "0  <a href=\"http://twitter.com/download/iphone\" rel=\"nofollow\">Twitter for iPhone</a>   \n",
       "1  <a href=\"http://twitter.com/download/iphone\" rel=\"nofollow\">Twitter for iPhone</a>   \n",
       "2  <a href=\"http://twitter.com/download/iphone\" rel=\"nofollow\">Twitter for iPhone</a>   \n",
       "3  <a href=\"http://twitter.com/download/iphone\" rel=\"nofollow\">Twitter for iPhone</a>   \n",
       "4  <a href=\"http://twitter.com/download/iphone\" rel=\"nofollow\">Twitter for iPhone</a>   \n",
       "\n",
       "                                                                                                                                                                 text  \\\n",
       "0                                                       This is Phineas. He's a mystical boy. Only ever appears in the hole of a donut. 13/10 https://t.co/MgUWQ76dJU   \n",
       "1  This is Tilly. She's just checking pup on you. Hopes you're doing ok. If not, she's available for pats, snugs, boops, the whole bit. 13/10 https://t.co/0Xxu71qeIV   \n",
       "2                   This is Archie. He is a rare Norwegian Pouncing Corgo. Lives in the tall grass. You never know when one may strike. 12/10 https://t.co/wUnZnhtVJB   \n",
       "3                                                             This is Darla. She commenced a snooze mid meal. 13/10 happens to the best of us https://t.co/tD36da7qLQ   \n",
       "4  This is Franklin. He would like you to stop calling him \"cute.\" He is a very fierce shark and should be respected as such. 12/10 #BarkWeek https://t.co/AtUZn91f7f   \n",
       "\n",
       "   retweeted_status_id  retweeted_status_user_id retweeted_status_timestamp  \\\n",
       "0                  NaN                       NaN                        NaN   \n",
       "1                  NaN                       NaN                        NaN   \n",
       "2                  NaN                       NaN                        NaN   \n",
       "3                  NaN                       NaN                        NaN   \n",
       "4                  NaN                       NaN                        NaN   \n",
       "\n",
       "                                                                                                                     expanded_urls  \\\n",
       "0                                                                  https://twitter.com/dog_rates/status/892420643555336193/photo/1   \n",
       "1                                                                  https://twitter.com/dog_rates/status/892177421306343426/photo/1   \n",
       "2                                                                  https://twitter.com/dog_rates/status/891815181378084864/photo/1   \n",
       "3                                                                  https://twitter.com/dog_rates/status/891689557279858688/photo/1   \n",
       "4  https://twitter.com/dog_rates/status/891327558926688256/photo/1,https://twitter.com/dog_rates/status/891327558926688256/photo/1   \n",
       "\n",
       "   rating_numerator  rating_denominator      name doggo floofer pupper puppo  \\\n",
       "0                13                  10   Phineas   NaN     NaN    NaN   NaN   \n",
       "1                13                  10     Tilly   NaN     NaN    NaN   NaN   \n",
       "2                12                  10    Archie   NaN     NaN    NaN   NaN   \n",
       "3                13                  10     Darla   NaN     NaN    NaN   NaN   \n",
       "4                12                  10  Franklin   NaN     NaN    NaN   NaN   \n",
       "\n",
       "   counter  \n",
       "0        0  \n",
       "1        0  \n",
       "2        0  \n",
       "3        0  \n",
       "4        0  "
      ]
     },
     "execution_count": 2332,
     "metadata": {},
     "output_type": "execute_result"
    }
   ],
   "source": [
    "# Create a column named `counter` that counts the number of dog stages each observation has\n",
    "\n",
    "dog_stage = ['doggo','floofer','pupper','puppo']\n",
    "archive['counter'] = 0\n",
    "\n",
    "archive['counter'] += archive.apply(lambda row: sum(1 for col in dog_stage if not pd.isna(row[col])), axis = 1)\n",
    "\n",
    "archive.head()\n",
    "\n"
   ]
  },
  {
   "cell_type": "code",
   "execution_count": 2333,
   "metadata": {},
   "outputs": [
    {
     "data": {
      "text/plain": [
       "counter\n",
       "0    1976\n",
       "1     366\n",
       "2      14\n",
       "Name: count, dtype: int64"
      ]
     },
     "execution_count": 2333,
     "metadata": {},
     "output_type": "execute_result"
    }
   ],
   "source": [
    "# Check how many dogs have multiple dog stages\n",
    "archive['counter'].value_counts() #-> 14 dogs"
   ]
  },
  {
   "cell_type": "markdown",
   "metadata": {},
   "source": [
    "### b. `predictions`"
   ]
  },
  {
   "cell_type": "code",
   "execution_count": 2334,
   "metadata": {},
   "outputs": [
    {
     "name": "stdout",
     "output_type": "stream",
     "text": [
      "<class 'pandas.core.frame.DataFrame'>\n",
      "RangeIndex: 2075 entries, 0 to 2074\n",
      "Data columns (total 12 columns):\n",
      " #   Column    Non-Null Count  Dtype  \n",
      "---  ------    --------------  -----  \n",
      " 0   tweet_id  2075 non-null   int64  \n",
      " 1   jpg_url   2075 non-null   object \n",
      " 2   img_num   2075 non-null   int64  \n",
      " 3   p1        2075 non-null   object \n",
      " 4   p1_conf   2075 non-null   float64\n",
      " 5   p1_dog    2075 non-null   bool   \n",
      " 6   p2        2075 non-null   object \n",
      " 7   p2_conf   2075 non-null   float64\n",
      " 8   p2_dog    2075 non-null   bool   \n",
      " 9   p3        2075 non-null   object \n",
      " 10  p3_conf   2075 non-null   float64\n",
      " 11  p3_dog    2075 non-null   bool   \n",
      "dtypes: bool(3), float64(3), int64(2), object(4)\n",
      "memory usage: 152.1+ KB\n"
     ]
    },
    {
     "data": {
      "text/html": [
       "<div>\n",
       "<style scoped>\n",
       "    .dataframe tbody tr th:only-of-type {\n",
       "        vertical-align: middle;\n",
       "    }\n",
       "\n",
       "    .dataframe tbody tr th {\n",
       "        vertical-align: top;\n",
       "    }\n",
       "\n",
       "    .dataframe thead th {\n",
       "        text-align: right;\n",
       "    }\n",
       "</style>\n",
       "<table border=\"1\" class=\"dataframe\">\n",
       "  <thead>\n",
       "    <tr style=\"text-align: right;\">\n",
       "      <th></th>\n",
       "      <th>tweet_id</th>\n",
       "      <th>jpg_url</th>\n",
       "      <th>img_num</th>\n",
       "      <th>p1</th>\n",
       "      <th>p1_conf</th>\n",
       "      <th>p1_dog</th>\n",
       "      <th>p2</th>\n",
       "      <th>p2_conf</th>\n",
       "      <th>p2_dog</th>\n",
       "      <th>p3</th>\n",
       "      <th>p3_conf</th>\n",
       "      <th>p3_dog</th>\n",
       "    </tr>\n",
       "  </thead>\n",
       "  <tbody>\n",
       "    <tr>\n",
       "      <th>493</th>\n",
       "      <td>675707330206547968</td>\n",
       "      <td>https://pbs.twimg.com/media/CWCYOqWUAAARmGr.jpg</td>\n",
       "      <td>1</td>\n",
       "      <td>bath_towel</td>\n",
       "      <td>0.721933</td>\n",
       "      <td>False</td>\n",
       "      <td>Staffordshire_bullterrier</td>\n",
       "      <td>0.059344</td>\n",
       "      <td>True</td>\n",
       "      <td>bagel</td>\n",
       "      <td>0.035702</td>\n",
       "      <td>False</td>\n",
       "    </tr>\n",
       "    <tr>\n",
       "      <th>1414</th>\n",
       "      <td>771014301343748096</td>\n",
       "      <td>https://pbs.twimg.com/media/CrMxZzgWIAQUxzx.jpg</td>\n",
       "      <td>1</td>\n",
       "      <td>meerkat</td>\n",
       "      <td>0.202335</td>\n",
       "      <td>False</td>\n",
       "      <td>doormat</td>\n",
       "      <td>0.111790</td>\n",
       "      <td>False</td>\n",
       "      <td>macaque</td>\n",
       "      <td>0.088925</td>\n",
       "      <td>False</td>\n",
       "    </tr>\n",
       "    <tr>\n",
       "      <th>68</th>\n",
       "      <td>667182792070062081</td>\n",
       "      <td>https://pbs.twimg.com/media/CUJPNjOWsAAZRqP.jpg</td>\n",
       "      <td>1</td>\n",
       "      <td>golden_retriever</td>\n",
       "      <td>0.949892</td>\n",
       "      <td>True</td>\n",
       "      <td>Irish_setter</td>\n",
       "      <td>0.010564</td>\n",
       "      <td>True</td>\n",
       "      <td>Chesapeake_Bay_retriever</td>\n",
       "      <td>0.005821</td>\n",
       "      <td>True</td>\n",
       "    </tr>\n",
       "    <tr>\n",
       "      <th>2004</th>\n",
       "      <td>877316821321428993</td>\n",
       "      <td>https://pbs.twimg.com/media/DCza_vtXkAQXGpC.jpg</td>\n",
       "      <td>1</td>\n",
       "      <td>Saluki</td>\n",
       "      <td>0.509967</td>\n",
       "      <td>True</td>\n",
       "      <td>Italian_greyhound</td>\n",
       "      <td>0.090497</td>\n",
       "      <td>True</td>\n",
       "      <td>golden_retriever</td>\n",
       "      <td>0.079406</td>\n",
       "      <td>True</td>\n",
       "    </tr>\n",
       "    <tr>\n",
       "      <th>1181</th>\n",
       "      <td>738184450748633089</td>\n",
       "      <td>https://pbs.twimg.com/media/Cj6O1G9UYAAIU-1.jpg</td>\n",
       "      <td>1</td>\n",
       "      <td>Bedlington_terrier</td>\n",
       "      <td>0.289471</td>\n",
       "      <td>True</td>\n",
       "      <td>standard_poodle</td>\n",
       "      <td>0.173685</td>\n",
       "      <td>True</td>\n",
       "      <td>Great_Pyrenees</td>\n",
       "      <td>0.157081</td>\n",
       "      <td>True</td>\n",
       "    </tr>\n",
       "  </tbody>\n",
       "</table>\n",
       "</div>"
      ],
      "text/plain": [
       "                tweet_id                                          jpg_url  \\\n",
       "493   675707330206547968  https://pbs.twimg.com/media/CWCYOqWUAAARmGr.jpg   \n",
       "1414  771014301343748096  https://pbs.twimg.com/media/CrMxZzgWIAQUxzx.jpg   \n",
       "68    667182792070062081  https://pbs.twimg.com/media/CUJPNjOWsAAZRqP.jpg   \n",
       "2004  877316821321428993  https://pbs.twimg.com/media/DCza_vtXkAQXGpC.jpg   \n",
       "1181  738184450748633089  https://pbs.twimg.com/media/Cj6O1G9UYAAIU-1.jpg   \n",
       "\n",
       "      img_num                  p1   p1_conf  p1_dog  \\\n",
       "493         1          bath_towel  0.721933   False   \n",
       "1414        1             meerkat  0.202335   False   \n",
       "68          1    golden_retriever  0.949892    True   \n",
       "2004        1              Saluki  0.509967    True   \n",
       "1181        1  Bedlington_terrier  0.289471    True   \n",
       "\n",
       "                             p2   p2_conf  p2_dog                        p3  \\\n",
       "493   Staffordshire_bullterrier  0.059344    True                     bagel   \n",
       "1414                    doormat  0.111790   False                   macaque   \n",
       "68                 Irish_setter  0.010564    True  Chesapeake_Bay_retriever   \n",
       "2004          Italian_greyhound  0.090497    True          golden_retriever   \n",
       "1181            standard_poodle  0.173685    True            Great_Pyrenees   \n",
       "\n",
       "       p3_conf  p3_dog  \n",
       "493   0.035702   False  \n",
       "1414  0.088925   False  \n",
       "68    0.005821    True  \n",
       "2004  0.079406    True  \n",
       "1181  0.157081    True  "
      ]
     },
     "execution_count": 2334,
     "metadata": {},
     "output_type": "execute_result"
    }
   ],
   "source": [
    "predictions.info()\n",
    "predictions.sample(5)"
   ]
  },
  {
   "cell_type": "markdown",
   "metadata": {},
   "source": [
    "`predictions` columns:\n",
    "- `tweet_id`: mentioned before\n",
    "- `jpg_url`: dogs' image url\n",
    "- `img_num`: the image number that corresponded to the most confident prediction (1 to 4, since tweets can have up to 4  images)\n",
    "- `p1` / `p2` / `p3`: result of dogs that the #x (pX) algorithm to predict the image in the tweet\n",
    "- `p1_conf` / `p2_conf` / `p3_conf`: how confident the algorithm is in its pX predictions\n",
    "- `p1_dog` / `p2_dog` / `p3_dog`: whether or not the #x prediction is that breed of dog"
   ]
  },
  {
   "cell_type": "code",
   "execution_count": 2335,
   "metadata": {},
   "outputs": [
    {
     "name": "stdout",
     "output_type": "stream",
     "text": [
      "0\n",
      "0\n",
      "66\n"
     ]
    }
   ],
   "source": [
    "# Check if there's any duplicated rows\n",
    "print(sum(predictions.duplicated()))\n",
    "\n",
    "# Check if there's any duplicated `tweet_id`\n",
    "print(sum(predictions.duplicated('tweet_id')))\n",
    "\n",
    "# Count number of duplicated `jpg_url` in predictions. (return True -> = 1, False = 0)\n",
    "print(sum(predictions.duplicated('jpg_url')))"
   ]
  },
  {
   "cell_type": "code",
   "execution_count": 2336,
   "metadata": {},
   "outputs": [
    {
     "data": {
      "text/plain": [
       "0"
      ]
     },
     "execution_count": 2336,
     "metadata": {},
     "output_type": "execute_result"
    }
   ],
   "source": [
    "# Check if duplications are related to retweet?\n",
    "sum(archive[archive['tweet_id'].isin(predictions[predictions.duplicated('jpg_url')]['tweet_id'])]['retweeted_status_id'].isna())\n",
    "#  -> all duplicated records have values in retweets (not null) => the duplications are indeed retweets\n"
   ]
  },
  {
   "cell_type": "code",
   "execution_count": 2337,
   "metadata": {},
   "outputs": [
    {
     "data": {
      "text/plain": [
       "0"
      ]
     },
     "execution_count": 2337,
     "metadata": {},
     "output_type": "execute_result"
    }
   ],
   "source": [
    "# Check if the value in `px_conf` is <= 1?\n",
    "sum(\n",
    "    (predictions['p1_conf'] >1) |\n",
    "    (predictions['p2_conf'] >1) |\n",
    "    (predictions['p3_conf'] >1)\n",
    "    )\n",
    "# => No -> reasonable"
   ]
  },
  {
   "cell_type": "markdown",
   "metadata": {},
   "source": [
    "### c. `tweet`"
   ]
  },
  {
   "cell_type": "code",
   "execution_count": 2338,
   "metadata": {},
   "outputs": [
    {
     "name": "stdout",
     "output_type": "stream",
     "text": [
      "<class 'pandas.core.frame.DataFrame'>\n",
      "RangeIndex: 2354 entries, 0 to 2353\n",
      "Data columns (total 31 columns):\n",
      " #   Column                         Non-Null Count  Dtype              \n",
      "---  ------                         --------------  -----              \n",
      " 0   created_at                     2354 non-null   datetime64[ns, UTC]\n",
      " 1   id                             2354 non-null   int64              \n",
      " 2   id_str                         2354 non-null   int64              \n",
      " 3   full_text                      2354 non-null   object             \n",
      " 4   truncated                      2354 non-null   bool               \n",
      " 5   display_text_range             2354 non-null   object             \n",
      " 6   entities                       2354 non-null   object             \n",
      " 7   extended_entities              2073 non-null   object             \n",
      " 8   source                         2354 non-null   object             \n",
      " 9   in_reply_to_status_id          78 non-null     float64            \n",
      " 10  in_reply_to_status_id_str      78 non-null     float64            \n",
      " 11  in_reply_to_user_id            78 non-null     float64            \n",
      " 12  in_reply_to_user_id_str        78 non-null     float64            \n",
      " 13  in_reply_to_screen_name        78 non-null     object             \n",
      " 14  user                           2354 non-null   object             \n",
      " 15  geo                            0 non-null      float64            \n",
      " 16  coordinates                    0 non-null      float64            \n",
      " 17  place                          1 non-null      object             \n",
      " 18  contributors                   0 non-null      float64            \n",
      " 19  is_quote_status                2354 non-null   bool               \n",
      " 20  retweet_count                  2354 non-null   int64              \n",
      " 21  favorite_count                 2354 non-null   int64              \n",
      " 22  favorited                      2354 non-null   bool               \n",
      " 23  retweeted                      2354 non-null   bool               \n",
      " 24  possibly_sensitive             2211 non-null   float64            \n",
      " 25  possibly_sensitive_appealable  2211 non-null   float64            \n",
      " 26  lang                           2354 non-null   object             \n",
      " 27  retweeted_status               179 non-null    object             \n",
      " 28  quoted_status_id               29 non-null     float64            \n",
      " 29  quoted_status_id_str           29 non-null     float64            \n",
      " 30  quoted_status                  28 non-null     object             \n",
      "dtypes: bool(4), datetime64[ns, UTC](1), float64(11), int64(4), object(11)\n",
      "memory usage: 505.9+ KB\n"
     ]
    }
   ],
   "source": [
    "tweet.info()"
   ]
  },
  {
   "cell_type": "code",
   "execution_count": 2401,
   "metadata": {},
   "outputs": [
    {
     "data": {
      "text/html": [
       "<div>\n",
       "<style scoped>\n",
       "    .dataframe tbody tr th:only-of-type {\n",
       "        vertical-align: middle;\n",
       "    }\n",
       "\n",
       "    .dataframe tbody tr th {\n",
       "        vertical-align: top;\n",
       "    }\n",
       "\n",
       "    .dataframe thead th {\n",
       "        text-align: right;\n",
       "    }\n",
       "</style>\n",
       "<table border=\"1\" class=\"dataframe\">\n",
       "  <thead>\n",
       "    <tr style=\"text-align: right;\">\n",
       "      <th></th>\n",
       "      <th>tweet_id</th>\n",
       "      <th>retweet_count</th>\n",
       "      <th>favorite_count</th>\n",
       "      <th>display_text_range</th>\n",
       "    </tr>\n",
       "  </thead>\n",
       "  <tbody>\n",
       "    <tr>\n",
       "      <th>2122</th>\n",
       "      <td>670374371102445568</td>\n",
       "      <td>295</td>\n",
       "      <td>785</td>\n",
       "      <td>[0, 140]</td>\n",
       "    </tr>\n",
       "  </tbody>\n",
       "</table>\n",
       "</div>"
      ],
      "text/plain": [
       "                tweet_id  retweet_count  favorite_count display_text_range\n",
       "2122  670374371102445568            295             785           [0, 140]"
      ]
     },
     "execution_count": 2401,
     "metadata": {},
     "output_type": "execute_result"
    }
   ],
   "source": [
    "tweet.sample(1)"
   ]
  },
  {
   "cell_type": "code",
   "execution_count": 2340,
   "metadata": {},
   "outputs": [],
   "source": [
    "# Change name for better mapping later\n",
    "new_column_names = {\n",
    "    'id': 'tweet_id'\n",
    "}\n",
    "\n",
    "tweet.rename(columns=new_column_names, inplace = True)\n",
    "# Minimize the dataset\n",
    "tweet = tweet[['tweet_id', 'retweet_count', 'favorite_count', 'display_text_range']]"
   ]
  },
  {
   "cell_type": "markdown",
   "metadata": {},
   "source": [
    "`tweet` columns:\n",
    "- `tweet_id`: as mentioned\n",
    "- `retweet_count`: number of times this tweet has been retweeted\n",
    "- `favourite_count`: how many times this tweet has been liked by twitter users\n",
    "- `display_text_range`: an array of 2 unicode code point, identifying the inclusive start and exclusive end of the displayable content of the tweet"
   ]
  },
  {
   "cell_type": "markdown",
   "metadata": {},
   "source": [
    "### About the quality\n",
    "`archive`:\n",
    "- contains retweets. We only care about unique posts -> this might be considered duplication\n",
    "- 281 records of tweet_id missing in `predictions`\n",
    "- error datatypes: `in_reply_to_status_id`,`in_reply_to_user_id`,`timestamp`\n",
    "- unnecessary html tags in `source` to differentiate utility name\n",
    "-  `rating_numerator` has values <10 as well as some very large numbers\n",
    "- `rating_denominator` has values other than 10\n",
    "- wrong dog names starting with lowercase characters and glibberish (eg: a,an,actually,by)\n",
    "- some records have more than one dog stages\n",
    "\n",
    "`predictions`:\n",
    "- After tidying, prediction number needs to have int type\n",
    "- Value in `px` are inconsistent in the first letter capitalization\n",
    "- Not all have dog-related prediction -> need to be dropped\n",
    "- Duplicated `jpg_url` which are related to retweets\n",
    "### About the tidiness\n",
    "- `archive` without any duplicates (i.e: retweets) will have empty `retweeted_status_id`,`retweeted_status_user_id`,`retweeted_status_timestamp`, which can be dropped \n",
    "- `doggo, floofer, pupper and puppo` should be merged into one column named `stage`\n",
    "- from 3 `px`, 1 should be picked then `breed` should be added in `archive`\n",
    "- `retweet_count` and `favorite_count` from `tweet` should be joined with `archive`"
   ]
  },
  {
   "cell_type": "markdown",
   "metadata": {},
   "source": [
    "# 3. Cleaning Data"
   ]
  },
  {
   "cell_type": "markdown",
   "metadata": {},
   "source": [
    "### a. `archive` contains retweets. We only care about unique posts -> this might be considered duplication"
   ]
  },
  {
   "cell_type": "markdown",
   "metadata": {},
   "source": [
    "**Define**\n",
    "\n",
    "Keep only original tweet (i.e: retweeted_status_id is null). Delete the rest"
   ]
  },
  {
   "cell_type": "markdown",
   "metadata": {},
   "source": [
    "**Code**"
   ]
  },
  {
   "cell_type": "code",
   "execution_count": 2341,
   "metadata": {},
   "outputs": [],
   "source": [
    "archive_clean =  archive.copy()\n",
    "archive_clean = archive[archive['retweeted_status_id'].isnull()]"
   ]
  },
  {
   "cell_type": "markdown",
   "metadata": {},
   "source": [
    "**Test**"
   ]
  },
  {
   "cell_type": "code",
   "execution_count": 2342,
   "metadata": {},
   "outputs": [
    {
     "name": "stdout",
     "output_type": "stream",
     "text": [
      "0\n"
     ]
    },
    {
     "data": {
      "text/plain": [
       "0"
      ]
     },
     "execution_count": 2342,
     "metadata": {},
     "output_type": "execute_result"
    }
   ],
   "source": [
    "# Check if there are any remaining not null records in retweeted_status_id\n",
    "print(len(archive_clean[archive_clean['retweeted_status_id'].isnull() == False]))\n",
    "\n",
    "# Check if there are any duplications of tweet_id \n",
    "sum(archive_clean.duplicated('tweet_id'))\n",
    "\n",
    "#Pass test"
   ]
  },
  {
   "cell_type": "markdown",
   "metadata": {},
   "source": [
    "### b. `prediction` Not all have dog-related prediction -> need to be dropped"
   ]
  },
  {
   "cell_type": "markdown",
   "metadata": {},
   "source": [
    "**Define**\n",
    "\n",
    "Only keep rows in which have at least 1 True value in `px_dog`"
   ]
  },
  {
   "cell_type": "markdown",
   "metadata": {},
   "source": [
    "**Code**"
   ]
  },
  {
   "cell_type": "code",
   "execution_count": 2343,
   "metadata": {},
   "outputs": [],
   "source": [
    "predictions_clean = predictions.copy()"
   ]
  },
  {
   "cell_type": "code",
   "execution_count": 2402,
   "metadata": {},
   "outputs": [
    {
     "data": {
      "text/html": [
       "<div>\n",
       "<style scoped>\n",
       "    .dataframe tbody tr th:only-of-type {\n",
       "        vertical-align: middle;\n",
       "    }\n",
       "\n",
       "    .dataframe tbody tr th {\n",
       "        vertical-align: top;\n",
       "    }\n",
       "\n",
       "    .dataframe thead th {\n",
       "        text-align: right;\n",
       "    }\n",
       "</style>\n",
       "<table border=\"1\" class=\"dataframe\">\n",
       "  <thead>\n",
       "    <tr style=\"text-align: right;\">\n",
       "      <th></th>\n",
       "      <th>tweet_id</th>\n",
       "      <th>jpg_url</th>\n",
       "      <th>img_num</th>\n",
       "      <th>p1</th>\n",
       "      <th>p1_conf</th>\n",
       "      <th>p1_dog</th>\n",
       "      <th>p2</th>\n",
       "      <th>p2_conf</th>\n",
       "      <th>p2_dog</th>\n",
       "      <th>p3</th>\n",
       "      <th>p3_conf</th>\n",
       "      <th>p3_dog</th>\n",
       "      <th>highest_conf</th>\n",
       "      <th>highest_conf_name</th>\n",
       "      <th>breed</th>\n",
       "    </tr>\n",
       "  </thead>\n",
       "  <tbody>\n",
       "    <tr>\n",
       "      <th>0</th>\n",
       "      <td>666020888022790149</td>\n",
       "      <td>https://pbs.twimg.com/media/CT4udn0WwAA0aMy.jpg</td>\n",
       "      <td>1</td>\n",
       "      <td>Welsh_springer_spaniel</td>\n",
       "      <td>0.465074</td>\n",
       "      <td>True</td>\n",
       "      <td>collie</td>\n",
       "      <td>0.156665</td>\n",
       "      <td>True</td>\n",
       "      <td>Shetland_sheepdog</td>\n",
       "      <td>0.061428</td>\n",
       "      <td>True</td>\n",
       "      <td>0.465074</td>\n",
       "      <td>1</td>\n",
       "      <td>welsh_springer_spaniel</td>\n",
       "    </tr>\n",
       "    <tr>\n",
       "      <th>1</th>\n",
       "      <td>666029285002620928</td>\n",
       "      <td>https://pbs.twimg.com/media/CT42GRgUYAA5iDo.jpg</td>\n",
       "      <td>1</td>\n",
       "      <td>redbone</td>\n",
       "      <td>0.506826</td>\n",
       "      <td>True</td>\n",
       "      <td>miniature_pinscher</td>\n",
       "      <td>0.074192</td>\n",
       "      <td>True</td>\n",
       "      <td>Rhodesian_ridgeback</td>\n",
       "      <td>0.072010</td>\n",
       "      <td>True</td>\n",
       "      <td>0.506826</td>\n",
       "      <td>1</td>\n",
       "      <td>redbone</td>\n",
       "    </tr>\n",
       "  </tbody>\n",
       "</table>\n",
       "</div>"
      ],
      "text/plain": [
       "             tweet_id                                          jpg_url  \\\n",
       "0  666020888022790149  https://pbs.twimg.com/media/CT4udn0WwAA0aMy.jpg   \n",
       "1  666029285002620928  https://pbs.twimg.com/media/CT42GRgUYAA5iDo.jpg   \n",
       "\n",
       "   img_num                      p1   p1_conf  p1_dog                  p2  \\\n",
       "0        1  Welsh_springer_spaniel  0.465074    True              collie   \n",
       "1        1                 redbone  0.506826    True  miniature_pinscher   \n",
       "\n",
       "    p2_conf  p2_dog                   p3   p3_conf  p3_dog  highest_conf  \\\n",
       "0  0.156665    True    Shetland_sheepdog  0.061428    True      0.465074   \n",
       "1  0.074192    True  Rhodesian_ridgeback  0.072010    True      0.506826   \n",
       "\n",
       "  highest_conf_name                   breed  \n",
       "0                 1  welsh_springer_spaniel  \n",
       "1                 1                 redbone  "
      ]
     },
     "execution_count": 2402,
     "metadata": {},
     "output_type": "execute_result"
    }
   ],
   "source": [
    "# Loop over px (x = 1,2,3) to check if at least 1 in 3 values is True\n",
    "    # Create a mask value that have the same length with `predictions` and full of False\n",
    "mask = pd.Series(False, index = predictions_clean.index)\n",
    "    # Create an array of 1,2,3\n",
    "num_columns = range(1,4,1)\n",
    "\n",
    "for num in num_columns:\n",
    "    column_name = f'p{num}_dog'\n",
    "        # mask = False. If any values in the right operators are True -> mask = True -> also the line that have at least 1 True value\n",
    "    mask |= predictions_clean[column_name] \n",
    "\n",
    "predictions_clean = predictions_clean[mask] # same as predictions_clean[mask == True]\n",
    "predictions_clean.head(2)"
   ]
  },
  {
   "cell_type": "markdown",
   "metadata": {},
   "source": [
    "**Test**"
   ]
  },
  {
   "cell_type": "code",
   "execution_count": 2345,
   "metadata": {},
   "outputs": [
    {
     "data": {
      "text/plain": [
       "0"
      ]
     },
     "execution_count": 2345,
     "metadata": {},
     "output_type": "execute_result"
    }
   ],
   "source": [
    "# Check if there're any rows that not have at least 1 True\n",
    "len(predictions_clean[\n",
    "    (predictions_clean['p1_dog'] == False) &\n",
    "    (predictions_clean['p2_dog'] == False) &\n",
    "    (predictions_clean['p3_dog'] == False)\n",
    "    ])\n",
    "\n",
    "# Pass test"
   ]
  },
  {
   "cell_type": "markdown",
   "metadata": {},
   "source": [
    "### c. 281 records of tweet_id missing in `predictions`"
   ]
  },
  {
   "cell_type": "markdown",
   "metadata": {},
   "source": [
    "**Define**\n",
    "\n",
    "Keep only records in `archive` that `tweet_id` exists in `predictions`"
   ]
  },
  {
   "cell_type": "markdown",
   "metadata": {},
   "source": [
    "**Code**"
   ]
  },
  {
   "cell_type": "code",
   "execution_count": 2346,
   "metadata": {},
   "outputs": [],
   "source": [
    "archive_clean = archive_clean[archive_clean['tweet_id'].isin(predictions_clean['tweet_id'])]"
   ]
  },
  {
   "cell_type": "markdown",
   "metadata": {},
   "source": [
    "**Test**"
   ]
  },
  {
   "cell_type": "code",
   "execution_count": 2347,
   "metadata": {},
   "outputs": [
    {
     "data": {
      "text/plain": [
       "0"
      ]
     },
     "execution_count": 2347,
     "metadata": {},
     "output_type": "execute_result"
    }
   ],
   "source": [
    "len(archive_clean[~archive_clean['tweet_id'].isin(predictions_clean['tweet_id'])])"
   ]
  },
  {
   "cell_type": "markdown",
   "metadata": {},
   "source": [
    "### d. `archive` without any duplicates (i.e: retweets) will have empty `retweeted_status_id`,`retweeted_status_user_id`,`retweeted_status_timestamp`. Those columns can be dropped "
   ]
  },
  {
   "cell_type": "markdown",
   "metadata": {},
   "source": [
    "**Define**\n",
    "\n",
    "Drop `retweeted_status_id`, `retweeted_status_user_id`,`retweeted_status_timestamp` from `archive`"
   ]
  },
  {
   "cell_type": "markdown",
   "metadata": {},
   "source": [
    "**Code**"
   ]
  },
  {
   "cell_type": "code",
   "execution_count": 2348,
   "metadata": {},
   "outputs": [
    {
     "name": "stdout",
     "output_type": "stream",
     "text": [
      "0\n",
      "0\n",
      "0\n"
     ]
    }
   ],
   "source": [
    "# Check if all values in those columns are empty\n",
    "print(sum(~archive_clean['retweeted_status_id'].isna()))\n",
    "print(sum(~archive_clean['retweeted_status_user_id'].isna()))\n",
    "print(sum(~archive_clean['retweeted_status_timestamp'].isna()))\n",
    "\n",
    "# Drop the columns\n",
    "archive_clean.drop(['retweeted_status_id','retweeted_status_user_id','retweeted_status_timestamp'], axis=1, inplace = True)"
   ]
  },
  {
   "cell_type": "markdown",
   "metadata": {},
   "source": [
    "**Test**"
   ]
  },
  {
   "cell_type": "code",
   "execution_count": 2349,
   "metadata": {},
   "outputs": [
    {
     "name": "stdout",
     "output_type": "stream",
     "text": [
      "<class 'pandas.core.frame.DataFrame'>\n",
      "Index: 1686 entries, 1 to 2355\n",
      "Data columns (total 15 columns):\n",
      " #   Column                 Non-Null Count  Dtype  \n",
      "---  ------                 --------------  -----  \n",
      " 0   tweet_id               1686 non-null   int64  \n",
      " 1   in_reply_to_status_id  20 non-null     float64\n",
      " 2   in_reply_to_user_id    20 non-null     float64\n",
      " 3   timestamp              1686 non-null   object \n",
      " 4   source                 1686 non-null   object \n",
      " 5   text                   1686 non-null   object \n",
      " 6   expanded_urls          1686 non-null   object \n",
      " 7   rating_numerator       1686 non-null   int64  \n",
      " 8   rating_denominator     1686 non-null   int64  \n",
      " 9   name                   1267 non-null   object \n",
      " 10  doggo                  64 non-null     object \n",
      " 11  floofer                8 non-null      object \n",
      " 12  pupper                 176 non-null    object \n",
      " 13  puppo                  22 non-null     object \n",
      " 14  counter                1686 non-null   int64  \n",
      "dtypes: float64(2), int64(4), object(9)\n",
      "memory usage: 210.8+ KB\n"
     ]
    }
   ],
   "source": [
    "archive_clean.info()"
   ]
  },
  {
   "cell_type": "markdown",
   "metadata": {},
   "source": [
    "### e. error datatypes: `in_reply_to_status_id`,`in_reply_to_user_id`,`timestamp`"
   ]
  },
  {
   "cell_type": "markdown",
   "metadata": {},
   "source": [
    "**Define**\n",
    "\n",
    "Convert `in_reply_to_status_id`,`in_reply_to_user_id` to integer\n",
    "\n",
    "Convert `timestamp` to datetime"
   ]
  },
  {
   "cell_type": "markdown",
   "metadata": {},
   "source": [
    "**Code**"
   ]
  },
  {
   "cell_type": "code",
   "execution_count": 2350,
   "metadata": {},
   "outputs": [],
   "source": [
    "columns_to_int_type = ['in_reply_to_status_id','in_reply_to_user_id']\n",
    "\n",
    "for column in columns_to_int_type:\n",
    "    archive_clean[column] = archive_clean[column].fillna(0).astype(int)\n",
    "\n",
    "archive_clean.timestamp = pd.to_datetime(archive_clean.timestamp)"
   ]
  },
  {
   "cell_type": "markdown",
   "metadata": {},
   "source": [
    "**Test**"
   ]
  },
  {
   "cell_type": "code",
   "execution_count": 2351,
   "metadata": {},
   "outputs": [
    {
     "name": "stdout",
     "output_type": "stream",
     "text": [
      "<class 'pandas.core.frame.DataFrame'>\n",
      "Index: 1686 entries, 1 to 2355\n",
      "Data columns (total 15 columns):\n",
      " #   Column                 Non-Null Count  Dtype              \n",
      "---  ------                 --------------  -----              \n",
      " 0   tweet_id               1686 non-null   int64              \n",
      " 1   in_reply_to_status_id  1686 non-null   int64              \n",
      " 2   in_reply_to_user_id    1686 non-null   int64              \n",
      " 3   timestamp              1686 non-null   datetime64[ns, UTC]\n",
      " 4   source                 1686 non-null   object             \n",
      " 5   text                   1686 non-null   object             \n",
      " 6   expanded_urls          1686 non-null   object             \n",
      " 7   rating_numerator       1686 non-null   int64              \n",
      " 8   rating_denominator     1686 non-null   int64              \n",
      " 9   name                   1267 non-null   object             \n",
      " 10  doggo                  64 non-null     object             \n",
      " 11  floofer                8 non-null      object             \n",
      " 12  pupper                 176 non-null    object             \n",
      " 13  puppo                  22 non-null     object             \n",
      " 14  counter                1686 non-null   int64              \n",
      "dtypes: datetime64[ns, UTC](1), int64(6), object(8)\n",
      "memory usage: 210.8+ KB\n"
     ]
    }
   ],
   "source": [
    "archive_clean.info()"
   ]
  },
  {
   "cell_type": "markdown",
   "metadata": {},
   "source": [
    "### f. `archive` unnecessary html tags in `source` to differentiate utility name"
   ]
  },
  {
   "cell_type": "markdown",
   "metadata": {},
   "source": [
    "**Define**\n",
    "\n",
    "Retain only the text between tags `<a...></a>`\n",
    "\n",
    "Convert data type to categorical"
   ]
  },
  {
   "cell_type": "markdown",
   "metadata": {},
   "source": [
    "**Code**"
   ]
  },
  {
   "cell_type": "code",
   "execution_count": 2352,
   "metadata": {},
   "outputs": [
    {
     "data": {
      "text/plain": [
       "array(['<a href=\"http://twitter.com/download/iphone\" rel=\"nofollow\">Twitter for iPhone</a>',\n",
       "       '<a href=\"http://twitter.com\" rel=\"nofollow\">Twitter Web Client</a>',\n",
       "       '<a href=\"https://about.twitter.com/products/tweetdeck\" rel=\"nofollow\">TweetDeck</a>'],\n",
       "      dtype=object)"
      ]
     },
     "execution_count": 2352,
     "metadata": {},
     "output_type": "execute_result"
    }
   ],
   "source": [
    "archive_clean.source.unique()"
   ]
  },
  {
   "cell_type": "code",
   "execution_count": 2353,
   "metadata": {},
   "outputs": [],
   "source": [
    "# Extract the string in <a></a>\n",
    "archive_clean.source = archive_clean.source.str.extract(r'<a[^>]*>(.*?)<\\/a>', expand=False)\n",
    "\n",
    "# Change type\n",
    "archive_clean.source = archive_clean.source.astype('category')"
   ]
  },
  {
   "cell_type": "markdown",
   "metadata": {},
   "source": [
    "**Test**"
   ]
  },
  {
   "cell_type": "code",
   "execution_count": 2354,
   "metadata": {},
   "outputs": [
    {
     "data": {
      "text/plain": [
       "source\n",
       "Twitter for iPhone    1655\n",
       "Twitter Web Client      22\n",
       "TweetDeck                9\n",
       "Name: count, dtype: int64"
      ]
     },
     "execution_count": 2354,
     "metadata": {},
     "output_type": "execute_result"
    }
   ],
   "source": [
    "archive_clean['source'].value_counts()"
   ]
  },
  {
   "cell_type": "markdown",
   "metadata": {},
   "source": [
    "### g. `archive`: `rating_denominator` has values other than 10"
   ]
  },
  {
   "cell_type": "markdown",
   "metadata": {},
   "source": [
    "**Define**\n",
    "\n",
    "Check if the numerator and denominator have been correctly extracted from text or not. If not, re-extract and update\n",
    "\n",
    "Check if after the update, the values of numerator and denominator are reasonable enough? (eg: denominator should be 10, and numerator should be >0 and not roughly higher than 10). If not, update"
   ]
  },
  {
   "cell_type": "markdown",
   "metadata": {},
   "source": [
    "**Code**"
   ]
  },
  {
   "cell_type": "code",
   "execution_count": 2355,
   "metadata": {},
   "outputs": [
    {
     "name": "stdout",
     "output_type": "stream",
     "text": [
      "23\n"
     ]
    },
    {
     "data": {
      "text/html": [
       "<div>\n",
       "<style scoped>\n",
       "    .dataframe tbody tr th:only-of-type {\n",
       "        vertical-align: middle;\n",
       "    }\n",
       "\n",
       "    .dataframe tbody tr th {\n",
       "        vertical-align: top;\n",
       "    }\n",
       "\n",
       "    .dataframe thead th {\n",
       "        text-align: right;\n",
       "    }\n",
       "</style>\n",
       "<table border=\"1\" class=\"dataframe\">\n",
       "  <thead>\n",
       "    <tr style=\"text-align: right;\">\n",
       "      <th></th>\n",
       "      <th>text</th>\n",
       "      <th>rating_numerator</th>\n",
       "      <th>rating_denominator</th>\n",
       "    </tr>\n",
       "  </thead>\n",
       "  <tbody>\n",
       "    <tr>\n",
       "      <th>313</th>\n",
       "      <td>@jonnysun @Lin_Manuel ok jomny I know you're excited but 960/00 isn't a valid rating, 13/10 is tho</td>\n",
       "      <td>960</td>\n",
       "      <td>0</td>\n",
       "    </tr>\n",
       "    <tr>\n",
       "      <th>342</th>\n",
       "      <td>@docmisterio account started on 11/15/15</td>\n",
       "      <td>11</td>\n",
       "      <td>15</td>\n",
       "    </tr>\n",
       "    <tr>\n",
       "      <th>433</th>\n",
       "      <td>The floofs have been released I repeat the floofs have been released. 84/70 https://t.co/NIYC820tmd</td>\n",
       "      <td>84</td>\n",
       "      <td>70</td>\n",
       "    </tr>\n",
       "    <tr>\n",
       "      <th>516</th>\n",
       "      <td>Meet Sam. She smiles 24/7 &amp;amp; secretly aspires to be a reindeer. \\nKeep Sam smiling by clicking and sharing this link:\\nhttps://t.co/98tB8y7y7t https://t.co/LouL5vdvxx</td>\n",
       "      <td>24</td>\n",
       "      <td>7</td>\n",
       "    </tr>\n",
       "    <tr>\n",
       "      <th>784</th>\n",
       "      <td>RT @dog_rates: After so many requests, this is Bretagne. She was the last surviving 9/11 search dog, and our second ever 14/10. RIP https:/…</td>\n",
       "      <td>9</td>\n",
       "      <td>11</td>\n",
       "    </tr>\n",
       "  </tbody>\n",
       "</table>\n",
       "</div>"
      ],
      "text/plain": [
       "                                                                                                                                                                          text  \\\n",
       "313                                                                         @jonnysun @Lin_Manuel ok jomny I know you're excited but 960/00 isn't a valid rating, 13/10 is tho   \n",
       "342                                                                                                                                   @docmisterio account started on 11/15/15   \n",
       "433                                                                        The floofs have been released I repeat the floofs have been released. 84/70 https://t.co/NIYC820tmd   \n",
       "516  Meet Sam. She smiles 24/7 &amp; secretly aspires to be a reindeer. \\nKeep Sam smiling by clicking and sharing this link:\\nhttps://t.co/98tB8y7y7t https://t.co/LouL5vdvxx   \n",
       "784                               RT @dog_rates: After so many requests, this is Bretagne. She was the last surviving 9/11 search dog, and our second ever 14/10. RIP https:/…   \n",
       "\n",
       "     rating_numerator  rating_denominator  \n",
       "313               960                   0  \n",
       "342                11                  15  \n",
       "433                84                  70  \n",
       "516                24                   7  \n",
       "784                 9                  11  "
      ]
     },
     "execution_count": 2355,
     "metadata": {},
     "output_type": "execute_result"
    }
   ],
   "source": [
    "# Count and check the alignment between fractions in `text` and the numerator/denominator\n",
    "print(len(archive[archive['rating_denominator'] != 10]))\n",
    "archive[archive['rating_denominator'] != 10][['text','rating_numerator', 'rating_denominator']].head()\n",
    "\n",
    "# As shown in result, some fractions are not correctly extracted, therefore we need to update"
   ]
  },
  {
   "cell_type": "code",
   "execution_count": 2356,
   "metadata": {},
   "outputs": [
    {
     "data": {
      "text/html": [
       "<div>\n",
       "<style scoped>\n",
       "    .dataframe tbody tr th:only-of-type {\n",
       "        vertical-align: middle;\n",
       "    }\n",
       "\n",
       "    .dataframe tbody tr th {\n",
       "        vertical-align: top;\n",
       "    }\n",
       "\n",
       "    .dataframe thead th {\n",
       "        text-align: right;\n",
       "    }\n",
       "</style>\n",
       "<table border=\"1\" class=\"dataframe\">\n",
       "  <thead>\n",
       "    <tr style=\"text-align: right;\">\n",
       "      <th></th>\n",
       "      <th>tweet_id</th>\n",
       "      <th>in_reply_to_status_id</th>\n",
       "      <th>in_reply_to_user_id</th>\n",
       "      <th>timestamp</th>\n",
       "      <th>source</th>\n",
       "      <th>text</th>\n",
       "      <th>expanded_urls</th>\n",
       "      <th>rating_numerator</th>\n",
       "      <th>rating_denominator</th>\n",
       "      <th>name</th>\n",
       "      <th>doggo</th>\n",
       "      <th>floofer</th>\n",
       "      <th>pupper</th>\n",
       "      <th>puppo</th>\n",
       "      <th>counter</th>\n",
       "      <th>correct_numerator</th>\n",
       "      <th>correct_denominator</th>\n",
       "    </tr>\n",
       "  </thead>\n",
       "  <tbody>\n",
       "    <tr>\n",
       "      <th>1</th>\n",
       "      <td>892177421306343426</td>\n",
       "      <td>0</td>\n",
       "      <td>0</td>\n",
       "      <td>2017-08-01 00:17:27+00:00</td>\n",
       "      <td>Twitter for iPhone</td>\n",
       "      <td>This is Tilly. She's just checking pup on you. Hopes you're doing ok. If not, she's available for pats, snugs, boops, the whole bit. 13/10 https://t.co/0Xxu71qeIV</td>\n",
       "      <td>https://twitter.com/dog_rates/status/892177421306343426/photo/1</td>\n",
       "      <td>13</td>\n",
       "      <td>10</td>\n",
       "      <td>Tilly</td>\n",
       "      <td>NaN</td>\n",
       "      <td>NaN</td>\n",
       "      <td>NaN</td>\n",
       "      <td>NaN</td>\n",
       "      <td>0</td>\n",
       "      <td>13.0</td>\n",
       "      <td>10.0</td>\n",
       "    </tr>\n",
       "    <tr>\n",
       "      <th>2</th>\n",
       "      <td>891815181378084864</td>\n",
       "      <td>0</td>\n",
       "      <td>0</td>\n",
       "      <td>2017-07-31 00:18:03+00:00</td>\n",
       "      <td>Twitter for iPhone</td>\n",
       "      <td>This is Archie. He is a rare Norwegian Pouncing Corgo. Lives in the tall grass. You never know when one may strike. 12/10 https://t.co/wUnZnhtVJB</td>\n",
       "      <td>https://twitter.com/dog_rates/status/891815181378084864/photo/1</td>\n",
       "      <td>12</td>\n",
       "      <td>10</td>\n",
       "      <td>Archie</td>\n",
       "      <td>NaN</td>\n",
       "      <td>NaN</td>\n",
       "      <td>NaN</td>\n",
       "      <td>NaN</td>\n",
       "      <td>0</td>\n",
       "      <td>12.0</td>\n",
       "      <td>10.0</td>\n",
       "    </tr>\n",
       "    <tr>\n",
       "      <th>3</th>\n",
       "      <td>891689557279858688</td>\n",
       "      <td>0</td>\n",
       "      <td>0</td>\n",
       "      <td>2017-07-30 15:58:51+00:00</td>\n",
       "      <td>Twitter for iPhone</td>\n",
       "      <td>This is Darla. She commenced a snooze mid meal. 13/10 happens to the best of us https://t.co/tD36da7qLQ</td>\n",
       "      <td>https://twitter.com/dog_rates/status/891689557279858688/photo/1</td>\n",
       "      <td>13</td>\n",
       "      <td>10</td>\n",
       "      <td>Darla</td>\n",
       "      <td>NaN</td>\n",
       "      <td>NaN</td>\n",
       "      <td>NaN</td>\n",
       "      <td>NaN</td>\n",
       "      <td>0</td>\n",
       "      <td>13.0</td>\n",
       "      <td>10.0</td>\n",
       "    </tr>\n",
       "    <tr>\n",
       "      <th>4</th>\n",
       "      <td>891327558926688256</td>\n",
       "      <td>0</td>\n",
       "      <td>0</td>\n",
       "      <td>2017-07-29 16:00:24+00:00</td>\n",
       "      <td>Twitter for iPhone</td>\n",
       "      <td>This is Franklin. He would like you to stop calling him \"cute.\" He is a very fierce shark and should be respected as such. 12/10 #BarkWeek https://t.co/AtUZn91f7f</td>\n",
       "      <td>https://twitter.com/dog_rates/status/891327558926688256/photo/1,https://twitter.com/dog_rates/status/891327558926688256/photo/1</td>\n",
       "      <td>12</td>\n",
       "      <td>10</td>\n",
       "      <td>Franklin</td>\n",
       "      <td>NaN</td>\n",
       "      <td>NaN</td>\n",
       "      <td>NaN</td>\n",
       "      <td>NaN</td>\n",
       "      <td>0</td>\n",
       "      <td>12.0</td>\n",
       "      <td>10.0</td>\n",
       "    </tr>\n",
       "    <tr>\n",
       "      <th>5</th>\n",
       "      <td>891087950875897856</td>\n",
       "      <td>0</td>\n",
       "      <td>0</td>\n",
       "      <td>2017-07-29 00:08:17+00:00</td>\n",
       "      <td>Twitter for iPhone</td>\n",
       "      <td>Here we have a majestic great white breaching off South Africa's coast. Absolutely h*ckin breathtaking. 13/10 (IG: tucker_marlo) #BarkWeek https://t.co/kQ04fDDRmh</td>\n",
       "      <td>https://twitter.com/dog_rates/status/891087950875897856/photo/1</td>\n",
       "      <td>13</td>\n",
       "      <td>10</td>\n",
       "      <td>NaN</td>\n",
       "      <td>NaN</td>\n",
       "      <td>NaN</td>\n",
       "      <td>NaN</td>\n",
       "      <td>NaN</td>\n",
       "      <td>0</td>\n",
       "      <td>13.0</td>\n",
       "      <td>10.0</td>\n",
       "    </tr>\n",
       "  </tbody>\n",
       "</table>\n",
       "</div>"
      ],
      "text/plain": [
       "             tweet_id  in_reply_to_status_id  in_reply_to_user_id  \\\n",
       "1  892177421306343426                      0                    0   \n",
       "2  891815181378084864                      0                    0   \n",
       "3  891689557279858688                      0                    0   \n",
       "4  891327558926688256                      0                    0   \n",
       "5  891087950875897856                      0                    0   \n",
       "\n",
       "                  timestamp              source  \\\n",
       "1 2017-08-01 00:17:27+00:00  Twitter for iPhone   \n",
       "2 2017-07-31 00:18:03+00:00  Twitter for iPhone   \n",
       "3 2017-07-30 15:58:51+00:00  Twitter for iPhone   \n",
       "4 2017-07-29 16:00:24+00:00  Twitter for iPhone   \n",
       "5 2017-07-29 00:08:17+00:00  Twitter for iPhone   \n",
       "\n",
       "                                                                                                                                                                 text  \\\n",
       "1  This is Tilly. She's just checking pup on you. Hopes you're doing ok. If not, she's available for pats, snugs, boops, the whole bit. 13/10 https://t.co/0Xxu71qeIV   \n",
       "2                   This is Archie. He is a rare Norwegian Pouncing Corgo. Lives in the tall grass. You never know when one may strike. 12/10 https://t.co/wUnZnhtVJB   \n",
       "3                                                             This is Darla. She commenced a snooze mid meal. 13/10 happens to the best of us https://t.co/tD36da7qLQ   \n",
       "4  This is Franklin. He would like you to stop calling him \"cute.\" He is a very fierce shark and should be respected as such. 12/10 #BarkWeek https://t.co/AtUZn91f7f   \n",
       "5  Here we have a majestic great white breaching off South Africa's coast. Absolutely h*ckin breathtaking. 13/10 (IG: tucker_marlo) #BarkWeek https://t.co/kQ04fDDRmh   \n",
       "\n",
       "                                                                                                                     expanded_urls  \\\n",
       "1                                                                  https://twitter.com/dog_rates/status/892177421306343426/photo/1   \n",
       "2                                                                  https://twitter.com/dog_rates/status/891815181378084864/photo/1   \n",
       "3                                                                  https://twitter.com/dog_rates/status/891689557279858688/photo/1   \n",
       "4  https://twitter.com/dog_rates/status/891327558926688256/photo/1,https://twitter.com/dog_rates/status/891327558926688256/photo/1   \n",
       "5                                                                  https://twitter.com/dog_rates/status/891087950875897856/photo/1   \n",
       "\n",
       "   rating_numerator  rating_denominator      name doggo floofer pupper puppo  \\\n",
       "1                13                  10     Tilly   NaN     NaN    NaN   NaN   \n",
       "2                12                  10    Archie   NaN     NaN    NaN   NaN   \n",
       "3                13                  10     Darla   NaN     NaN    NaN   NaN   \n",
       "4                12                  10  Franklin   NaN     NaN    NaN   NaN   \n",
       "5                13                  10       NaN   NaN     NaN    NaN   NaN   \n",
       "\n",
       "   counter  correct_numerator  correct_denominator  \n",
       "1        0               13.0                 10.0  \n",
       "2        0               12.0                 10.0  \n",
       "3        0               13.0                 10.0  \n",
       "4        0               12.0                 10.0  \n",
       "5        0               13.0                 10.0  "
      ]
     },
     "execution_count": 2356,
     "metadata": {},
     "output_type": "execute_result"
    }
   ],
   "source": [
    "# Skimming through the above table, many values in `text` has more than 1 fraction, and the current is taking the 1st one, which is often not the correct fraction.\n",
    "# The correct fraction often the last one. So we will re-extract and update\n",
    "# Define a function to extract the last fraction from a text\n",
    "def extract_last_fraction(text):\n",
    "    fraction_pattern = r'(\\d+\\.?\\d*)/(\\d+\\.?\\d*)'\n",
    "    matches = re.findall(fraction_pattern,text) \n",
    "    if matches:\n",
    "        last_match = matches[-1] #take the last fraction\n",
    "        numerator = float(last_match[0])\n",
    "        denominator = float(last_match[1])\n",
    "        return numerator, denominator\n",
    "    \n",
    "# Apply the function to `text` and create new columns `correct_numerator` and `correct_denominator`\n",
    "archive_clean['correct_numerator'], archive_clean['correct_denominator'] = zip(*archive_clean['text'].apply(extract_last_fraction))\n",
    "  \n",
    "archive_clean.head()"
   ]
  },
  {
   "cell_type": "code",
   "execution_count": 2357,
   "metadata": {},
   "outputs": [
    {
     "name": "stdout",
     "output_type": "stream",
     "text": [
      "rating_denominator\n",
      "10    1669\n",
      "Name: count, dtype: int64\n",
      "correct_denominator\n",
      "10.0    1674\n",
      "Name: count, dtype: int64\n"
     ]
    },
    {
     "data": {
      "text/plain": [
       "12"
      ]
     },
     "execution_count": 2357,
     "metadata": {},
     "output_type": "execute_result"
    }
   ],
   "source": [
    "# Check if the correct denominator is more reasonable\n",
    "print(archive_clean[archive_clean['rating_denominator'] == 10]['rating_denominator'].value_counts())\n",
    "print(archive_clean[archive_clean['correct_denominator'] == 10]['correct_denominator'].value_counts())\n",
    "len(archive_clean)\n",
    "\n",
    "#So there are still x records not reasonable. \n",
    "# x=12\n",
    "len(archive_clean)-len(archive_clean[archive_clean['correct_denominator'] == 10])"
   ]
  },
  {
   "cell_type": "code",
   "execution_count": 2358,
   "metadata": {},
   "outputs": [
    {
     "data": {
      "text/html": [
       "<div>\n",
       "<style scoped>\n",
       "    .dataframe tbody tr th:only-of-type {\n",
       "        vertical-align: middle;\n",
       "    }\n",
       "\n",
       "    .dataframe tbody tr th {\n",
       "        vertical-align: top;\n",
       "    }\n",
       "\n",
       "    .dataframe thead th {\n",
       "        text-align: right;\n",
       "    }\n",
       "</style>\n",
       "<table border=\"1\" class=\"dataframe\">\n",
       "  <thead>\n",
       "    <tr style=\"text-align: right;\">\n",
       "      <th></th>\n",
       "      <th>text</th>\n",
       "      <th>correct_numerator</th>\n",
       "      <th>correct_denominator</th>\n",
       "    </tr>\n",
       "  </thead>\n",
       "  <tbody>\n",
       "    <tr>\n",
       "      <th>433</th>\n",
       "      <td>The floofs have been released I repeat the floofs have been released. 84/70 https://t.co/NIYC820tmd</td>\n",
       "      <td>84.0</td>\n",
       "      <td>70.0</td>\n",
       "    </tr>\n",
       "    <tr>\n",
       "      <th>516</th>\n",
       "      <td>Meet Sam. She smiles 24/7 &amp;amp; secretly aspires to be a reindeer. \\nKeep Sam smiling by clicking and sharing this link:\\nhttps://t.co/98tB8y7y7t https://t.co/LouL5vdvxx</td>\n",
       "      <td>24.0</td>\n",
       "      <td>7.0</td>\n",
       "    </tr>\n",
       "    <tr>\n",
       "      <th>902</th>\n",
       "      <td>Why does this never happen at my front door... 165/150 https://t.co/HmwrdfEfUE</td>\n",
       "      <td>165.0</td>\n",
       "      <td>150.0</td>\n",
       "    </tr>\n",
       "    <tr>\n",
       "      <th>1228</th>\n",
       "      <td>Happy Saturday here's 9 puppers on a bench. 99/90 good work everybody https://t.co/mpvaVxKmc1</td>\n",
       "      <td>99.0</td>\n",
       "      <td>90.0</td>\n",
       "    </tr>\n",
       "    <tr>\n",
       "      <th>1254</th>\n",
       "      <td>Here's a brigade of puppers. All look very prepared for whatever happens next. 80/80 https://t.co/0eb7R1Om12</td>\n",
       "      <td>80.0</td>\n",
       "      <td>80.0</td>\n",
       "    </tr>\n",
       "    <tr>\n",
       "      <th>1274</th>\n",
       "      <td>From left to right:\\nCletus, Jerome, Alejandro, Burp, &amp;amp; Titson\\nNone know where camera is. 45/50 would hug all at once https://t.co/sedre1ivTK</td>\n",
       "      <td>45.0</td>\n",
       "      <td>50.0</td>\n",
       "    </tr>\n",
       "    <tr>\n",
       "      <th>1351</th>\n",
       "      <td>Here is a whole flock of puppers.  60/50 I'll take the lot https://t.co/9dpcw6MdWa</td>\n",
       "      <td>60.0</td>\n",
       "      <td>50.0</td>\n",
       "    </tr>\n",
       "    <tr>\n",
       "      <th>1433</th>\n",
       "      <td>Happy Wednesday here's a bucket of pups. 44/40 would pet all at once https://t.co/HppvrYuamZ</td>\n",
       "      <td>44.0</td>\n",
       "      <td>40.0</td>\n",
       "    </tr>\n",
       "    <tr>\n",
       "      <th>1634</th>\n",
       "      <td>Two sneaky puppers were not initially seen, moving the rating to 143/130. Please forgive us. Thank you https://t.co/kRK51Y5ac3</td>\n",
       "      <td>143.0</td>\n",
       "      <td>130.0</td>\n",
       "    </tr>\n",
       "    <tr>\n",
       "      <th>1635</th>\n",
       "      <td>Someone help the girl is being mugged. Several are distracting her while two steal her shoes. Clever puppers 121/110 https://t.co/1zfnTJLt55</td>\n",
       "      <td>121.0</td>\n",
       "      <td>110.0</td>\n",
       "    </tr>\n",
       "    <tr>\n",
       "      <th>1779</th>\n",
       "      <td>IT'S PUPPERGEDDON. Total of 144/120 ...I think https://t.co/ZanVtAtvIq</td>\n",
       "      <td>144.0</td>\n",
       "      <td>120.0</td>\n",
       "    </tr>\n",
       "    <tr>\n",
       "      <th>1843</th>\n",
       "      <td>Here we have an entire platoon of puppers. Total score: 88/80 would pet all at once https://t.co/y93p6FLvVw</td>\n",
       "      <td>88.0</td>\n",
       "      <td>80.0</td>\n",
       "    </tr>\n",
       "  </tbody>\n",
       "</table>\n",
       "</div>"
      ],
      "text/plain": [
       "                                                                                                                                                                           text  \\\n",
       "433                                                                         The floofs have been released I repeat the floofs have been released. 84/70 https://t.co/NIYC820tmd   \n",
       "516   Meet Sam. She smiles 24/7 &amp; secretly aspires to be a reindeer. \\nKeep Sam smiling by clicking and sharing this link:\\nhttps://t.co/98tB8y7y7t https://t.co/LouL5vdvxx   \n",
       "902                                                                                              Why does this never happen at my front door... 165/150 https://t.co/HmwrdfEfUE   \n",
       "1228                                                                              Happy Saturday here's 9 puppers on a bench. 99/90 good work everybody https://t.co/mpvaVxKmc1   \n",
       "1254                                                               Here's a brigade of puppers. All look very prepared for whatever happens next. 80/80 https://t.co/0eb7R1Om12   \n",
       "1274                         From left to right:\\nCletus, Jerome, Alejandro, Burp, &amp; Titson\\nNone know where camera is. 45/50 would hug all at once https://t.co/sedre1ivTK   \n",
       "1351                                                                                         Here is a whole flock of puppers.  60/50 I'll take the lot https://t.co/9dpcw6MdWa   \n",
       "1433                                                                               Happy Wednesday here's a bucket of pups. 44/40 would pet all at once https://t.co/HppvrYuamZ   \n",
       "1634                                             Two sneaky puppers were not initially seen, moving the rating to 143/130. Please forgive us. Thank you https://t.co/kRK51Y5ac3   \n",
       "1635                               Someone help the girl is being mugged. Several are distracting her while two steal her shoes. Clever puppers 121/110 https://t.co/1zfnTJLt55   \n",
       "1779                                                                                                     IT'S PUPPERGEDDON. Total of 144/120 ...I think https://t.co/ZanVtAtvIq   \n",
       "1843                                                                Here we have an entire platoon of puppers. Total score: 88/80 would pet all at once https://t.co/y93p6FLvVw   \n",
       "\n",
       "      correct_numerator  correct_denominator  \n",
       "433                84.0                 70.0  \n",
       "516                24.0                  7.0  \n",
       "902               165.0                150.0  \n",
       "1228               99.0                 90.0  \n",
       "1254               80.0                 80.0  \n",
       "1274               45.0                 50.0  \n",
       "1351               60.0                 50.0  \n",
       "1433               44.0                 40.0  \n",
       "1634              143.0                130.0  \n",
       "1635              121.0                110.0  \n",
       "1779              144.0                120.0  \n",
       "1843               88.0                 80.0  "
      ]
     },
     "metadata": {},
     "output_type": "display_data"
    }
   ],
   "source": [
    "# Display the 12 not reasonable records:\n",
    "with pd.option_context('display.max_colwidth', None):\n",
    "    display(archive_clean[archive_clean['correct_denominator'] !=10][['text','correct_numerator','correct_denominator']])"
   ]
  },
  {
   "cell_type": "code",
   "execution_count": 2359,
   "metadata": {},
   "outputs": [
    {
     "data": {
      "text/plain": [
       "1686"
      ]
     },
     "execution_count": 2359,
     "metadata": {},
     "output_type": "execute_result"
    }
   ],
   "source": [
    "len(archive_clean['correct_denominator'] == 0)"
   ]
  },
  {
   "cell_type": "code",
   "execution_count": 2360,
   "metadata": {},
   "outputs": [],
   "source": [
    "# Manually assessing, the fraction values in row 516 is not valid -> drop this row.\n",
    "archive_clean.drop(index = 516, inplace=True)\n",
    "# Also, all of the remaining fractions should be updated to the denominator equals to 10\n",
    "archive_clean['rating_numerator'] = 10*archive_clean['correct_numerator']/archive_clean['correct_denominator']\n",
    "archive_clean['rating_denominator'] = 10"
   ]
  },
  {
   "cell_type": "markdown",
   "metadata": {},
   "source": [
    "**Test**"
   ]
  },
  {
   "cell_type": "code",
   "execution_count": 2361,
   "metadata": {},
   "outputs": [],
   "source": [
    "# Check if the fraction or numerator/denominator is equal to correct_numerator/correct_denominator\n",
    "sum(archive_clean['rating_numerator']/archive_clean['rating_denominator'] != (archive_clean['correct_numerator']/archive_clean['correct_denominator']))\n",
    "\n",
    "# -> all are equal\n",
    "\n",
    "#Drop the `correct_numerator` and `correct_denominator` columns\n",
    "archive_clean.drop(columns=['correct_numerator','correct_denominator'], inplace=True)"
   ]
  },
  {
   "cell_type": "markdown",
   "metadata": {},
   "source": [
    "### h. `archive`: wrong dog names starting with lowercase characters and glibberish (eg: a,an,actually,by)"
   ]
  },
  {
   "cell_type": "markdown",
   "metadata": {},
   "source": [
    "**Define**\n",
    "\n",
    "Replace all lowercase values in `name` with None\n"
   ]
  },
  {
   "cell_type": "markdown",
   "metadata": {},
   "source": [
    "**Code**"
   ]
  },
  {
   "cell_type": "code",
   "execution_count": 2362,
   "metadata": {},
   "outputs": [],
   "source": [
    "# Only keep records starts with uppercase and followed by at least 1 lowercase. Other mark as NaN\n",
    "archive_clean['name'] = archive_clean['name'].apply(lambda row: row if pd.notna(row) and re.match(r'[A-Z][a-z]+', row) else np.nan)"
   ]
  },
  {
   "cell_type": "markdown",
   "metadata": {},
   "source": [
    "**Test**"
   ]
  },
  {
   "cell_type": "code",
   "execution_count": 2363,
   "metadata": {},
   "outputs": [
    {
     "name": "stdout",
     "output_type": "stream",
     "text": [
      "['Tilly' 'Archie' 'Darla' 'Franklin' nan 'Jax' 'Zoey' 'Cassie' 'Koda'\n",
      " 'Bruno' 'Ted' 'Stuart' 'Oliver' 'Jim' 'Zeke' 'Ralphus' 'Gerald' 'Jeffrey'\n",
      " 'Canela' 'Maya' 'Mingus' 'Roscoe' 'Waffles' 'Jimbo' 'Maisey' 'Earl'\n",
      " 'Lola' 'Kevin' 'Yogi' 'Noah' 'Bella' 'Grizzwald' 'Rusty' 'Gus' 'Stanley'\n",
      " 'Alfy' 'Koko' 'Rey' 'Gary' 'Jesse' 'Romeo' 'Bailey' 'Duddles' 'Jack'\n",
      " 'Beau' 'Snoopy' 'Shadow' 'Emmy' 'Aja' 'Penny' 'Dante' 'Nelly' 'Ginger'\n",
      " 'Benedict' 'Venti' 'Goose' 'Nugget' 'Cash' 'Jed' 'Sebastian' 'Sierra'\n",
      " 'Monkey' 'Harry' 'Kody' 'Lassie' 'Rover' 'Napolean' 'Boomer' 'Cody'\n",
      " 'Rumble' 'Dewey' 'Scout' 'Gizmo' 'Walter' 'Cooper' 'Harold' 'Shikha'\n",
      " 'Lili' 'Jamesy' 'Coco' 'Sammy' 'Meatball' 'Paisley' 'Neptune' 'Belle'\n",
      " 'Quinn' 'Zooey' 'Dave' 'Hobbes' 'Burt' 'Lorenzo' 'Carl' 'Milky' 'Trooper'\n",
      " 'Sophie' 'Wyatt' 'Rosie' 'Thor' 'Oscar' 'Callie' 'Cermet' 'Marlee' 'Arya'\n",
      " 'Einstein' 'Alice' 'Benny' 'Aspen' 'Jarod' 'Sailor' 'Snoop' 'Kyle' 'Leo'\n",
      " 'Riley' 'Noosh' 'Odin' 'Jerry' 'Rontu' 'Cannon' 'Furzey' 'Daisy' 'Tuck'\n",
      " 'Barney' 'Vixen' 'Jarvis' 'Mimosa' 'Pickles' 'Brady' 'Luna' 'Margo'\n",
      " 'Sadie' 'Hank' 'Tycho' 'Charlie' 'Indie' 'Winnie' 'George' 'Bentley'\n",
      " 'Max' 'Dawn' 'Maddie' 'Monty' 'Sojourner' 'Winston' 'Odie' 'Arlo'\n",
      " 'Vincent' 'Lucy' 'Clark' 'Mookie' 'Meera' 'Eli' 'Ash' 'Tucker' 'Tobi'\n",
      " 'Chester' 'Wilson' 'Lipton' 'Bronte' 'Poppy' 'Gidget' 'Rhino' 'Willow'\n",
      " 'Orion' 'Eevee' 'Smiley' 'Miguel' 'Emanuel' 'Kuyu' 'Dutch' 'Pete'\n",
      " 'Scooter' 'Reggie' 'Lilly' 'Samson' 'Mia' 'Astrid' 'Malcolm' 'Dexter'\n",
      " 'Alfie' 'Fiona' 'Mutt' 'Bear' 'Doobert' 'Beebop' 'Alexander' 'Brutus'\n",
      " 'Kona' 'Boots' 'Ralphie' 'Loki' 'Cupid' 'Pawnd' 'Pilot' 'Ike' 'Toby'\n",
      " 'Sweet' 'Pablo' 'Crawford' 'Albus' 'Gabe' 'Jimison' 'Duchess' 'Harlso'\n",
      " 'Sundance' 'Luca' 'Flash' 'Sunny' 'Howie' 'Jazzy' 'Anna' 'Finn' 'Bo'\n",
      " 'Wafer' 'Tom' 'Florence' 'Autumn' 'Buddy' 'Dido' 'Eugene' 'Ken' 'Strudel'\n",
      " 'Tebow' 'Chloe' 'Timber' 'Binky' 'Dudley' 'Comet' 'Akumi' 'Titan'\n",
      " 'Olivia' 'Alf' 'Oshie' 'Chubbs' 'Sky' 'Atlas' 'Eleanor' 'Layla' 'Rocky'\n",
      " 'Baron' 'Tyr' 'Bauer' 'Swagger' 'Brandi' 'Mary' 'Moe' 'Halo' 'Augie'\n",
      " 'Craig' 'Hunter' 'Pavlov' 'Phil' 'Kyro' 'Wallace' 'Ito' 'Ollie' 'Stephan'\n",
      " 'Lennon' 'Major' 'Duke' 'Shooter' 'Django' 'Diogi' 'Marley' 'Ronnie'\n",
      " 'Milo' 'Bones' 'Mauve' 'Chef' 'Doc' 'Peaches' 'Sobe' 'Longfellow'\n",
      " 'Mister' 'Iroh' 'Pancake' 'Snicku' 'Ruby' 'Brody' 'Mack' 'Nimbus'\n",
      " 'Maximus' 'Dobby' 'Moreton' 'Juno' 'Maude' 'Lily' 'Newt' 'Benji' 'Nida'\n",
      " 'Robin' 'Monster' 'BeBe' 'Remus' 'Levi' 'Mabel' 'Misty' 'Betty' 'Mosby'\n",
      " 'Maggie' 'Bruce' 'Happy' 'Brownie' 'Rizzy' 'Stella' 'Butter' 'Frank'\n",
      " 'Tonks' 'Moose' 'Lincoln' 'Rory' 'Logan' 'Dale' 'Rizzo' 'Mattie' 'Dallas'\n",
      " 'Hero' 'Frankie' 'Stormy' 'Mairi' 'Loomis' 'Godi' 'Cali' 'Deacon' 'Timmy'\n",
      " 'Sampson' 'Oakley' 'Dash' 'Hercules' 'Jay' 'Mya' 'Strider' 'Nala'\n",
      " 'Wesley' 'Derek' 'Solomon' 'Huck' 'Blue' 'Finley' 'Sprinkles' 'Heinrich'\n",
      " 'Shakespeare' 'Chelsea' 'Bungalo' 'Chip' 'Grey' 'Roosevelt' 'Willem'\n",
      " 'Davey' 'Dakota' 'Fizz' 'Dixie' 'Al' 'Jackson' 'Carbon' 'Klein' 'DonDon'\n",
      " 'Kirby' 'Lou' 'Chevy' 'Philbert' 'Louie' 'Rupert' 'Rufus' 'Brudge'\n",
      " 'Shadoe' 'Angel' 'Brat' 'Tove' 'Gromit' 'Aubie' 'Kota' 'Leela' 'Glenn'\n",
      " 'Shelby' 'Sephie' 'Bonaparte' 'Albert' 'Wishes' 'Rose' 'Rocco' 'Emma'\n",
      " 'Spencer' 'Lilli' 'Boston' 'Brandonald' 'Corey' 'Leonard' 'Beckham'\n",
      " 'Devón' 'Gert' 'Watson' 'Dex' 'Ace' 'Tayzie' 'Grizzie' 'Gilbert' 'Meyer'\n",
      " 'Arnie' 'Zoe' 'Stewie' 'Calvin' 'Lilah' 'Spanky' 'Jameson' 'Piper' 'Blu'\n",
      " 'Dietrich' 'Divine' 'Tripp' 'Cora' 'Huxley' 'Bookstore' 'Atticus' 'Abby'\n",
      " 'Shiloh' 'Gustav' 'Arlen' 'Percy' 'Lenox' 'Harvey' 'Blanket' 'Geno'\n",
      " 'Stark' 'Kilo' 'Kayla' 'Bell' 'Edmund' 'Aqua' 'Theodore' 'Baloo' 'Chase'\n",
      " 'Nollie' 'Rorie' 'Simba' 'Charles' 'Bayley' 'Axel' 'Storkson' 'Remy'\n",
      " 'Chadrick' 'Maxaroni' 'Kellogg' 'Buckley' 'Livvie' 'Terry' 'Hermione'\n",
      " 'Ralpher' 'Aldrick' 'Larry' 'Rooney' 'Crystal' 'Ziva' 'Stefan' 'Pupcasso'\n",
      " 'Puff' 'Flurpson' 'Enchilada' 'Raymond' 'Rueben' 'Cilantro' 'Karll'\n",
      " 'Sprout' 'Blitz' 'Bloop' 'Colby' 'Lillie' 'Fred' 'Ashleigh' 'Kreggory'\n",
      " 'Sarge' 'Luther' 'Sugar' 'Reginald' 'Ivar' 'Jangle' 'Schnitzel' 'Panda'\n",
      " 'Berkeley' 'Ralphé' 'Charleson' 'Harnold' 'Sid' 'Pippa' 'Otis' 'Carper'\n",
      " 'Bowie' 'Alexanderson' 'Suki' 'Barclay' 'Ebby' 'Flávio' 'Smokey' 'Link'\n",
      " 'Jennifur' 'Bluebert' 'Stephanus' 'Bubbles' 'Zeus' 'Nico'\n",
      " 'Michelangelope' 'Siba' 'Calbert' 'Curtis' 'Travis' 'Thumas' 'Kanu'\n",
      " 'Lance' 'Opie' 'Stubert' 'Kane' 'Olive' 'Chuckles' 'Staniel' 'Sora'\n",
      " 'Beemo' 'Gunner' 'Lacy' 'Tater' 'Olaf' 'Cecil' 'Vince' 'Karma' 'Billy'\n",
      " 'Walker' 'Rodney' 'Klevin' 'Malikai' 'Bobble' 'River' 'Jebberson'\n",
      " 'Remington' 'Harper' 'Keurig' 'Clarkus' 'Finnegus' 'Cupcake' 'Kathmandu'\n",
      " 'Ellie' 'Katie' 'Kara' 'Adele' 'Zara' 'Ambrose' 'Jimothy' 'Bode'\n",
      " 'Terrenth' 'Reese' 'Lucia' 'Bisquick' 'Ralphson' 'Socks' 'Rambo' 'Sansa'\n",
      " 'Fiji' 'Rilo' 'Bilbo' 'Coopson' 'Yoda' 'Millie' 'Chet' 'Crouton' 'Kaia'\n",
      " 'Murphy' 'Dotsy' 'Coops' 'Fillup' 'Miley' 'Reagan' 'CeCe' 'Cuddles'\n",
      " 'Claude' 'Jessiga' 'Doug' 'Ole' 'Reptar' 'Trevith' 'Berb' 'Bob' 'Colin'\n",
      " 'Brian' 'Oliviér' 'Grady' 'Kobe' 'Freddery' 'Bodie' 'Dunkin' 'Wally'\n",
      " 'Tupawc' 'Amber' 'Edgar' 'Kingsley' 'Richie' 'Molly' 'Vinscent' 'Cedrick'\n",
      " 'Hazel' 'Lolo' 'Eriq' 'Phred' 'Geoff' 'Covach' 'Durg' 'Fynn' 'Chipson'\n",
      " 'Herald' 'Lucky' 'Trip' 'Brad' 'Pubert' 'Frönq' 'Louis' 'Blakely' 'Opal'\n",
      " 'Marq' 'Kramer' 'Tyrone' 'Gordon' 'Baxter' 'Mona' 'Horace' 'Crimson'\n",
      " 'Birf' 'Lorelei' 'Brooks' 'Petrick' 'Hubertson' 'Gerbald' 'Oreo'\n",
      " 'Bruiser' 'Perry' 'Jeph' 'Obi' 'Tino' 'Kulet' 'Lupe' 'Tiger' 'Jiminy'\n",
      " 'Griffin' 'Banjo' 'Brandy' 'Lulu' 'Darrel' 'Taco' 'Joey' 'Kreg' 'Todo'\n",
      " 'Ulysses' 'Toffee' 'Apollo' 'Carly' 'Asher' 'Glacier' 'Ozzie' 'Griswold'\n",
      " 'Cheesy' 'Hector' 'Goliath' 'Kawhi' 'Ozzy' 'Emmie' 'Willie' 'Rinna'\n",
      " 'Mike' 'William' 'Evy' 'Hurley' 'Rubio' 'Chompsky' 'Linda' 'Tug' 'Tango'\n",
      " 'Grizz' 'Jerome' 'Crumpet' 'Jessifer' 'Ralph' 'Humphrey' 'Tassy'\n",
      " 'Juckson' 'Tyrus' 'Godzilla' 'Vinnie' 'Kenneth' 'Bert' 'Striker' 'Donny'\n",
      " 'Pepper' 'Bernie' 'Buddah' 'Lenny' 'Arnold' 'Mollie' 'Laela' 'Tedders'\n",
      " 'Superpup' 'Rufio' 'Jeb' 'Ava' 'Jonah' 'Kenny' 'Bobbay' 'Mitch' 'Kaiya'\n",
      " 'Acro' 'Aiden' 'Obie' 'Dot' 'Shnuggles' 'Kendall' 'Jeffri' 'Sandy'\n",
      " 'Steve' 'Eve' 'Mac' 'Kenzie' 'Pumpkin' 'Schnozz' 'Gustaf' 'Ed' 'Leonidas'\n",
      " 'Scott' 'Taz' 'Darby' 'Jackie' 'Jazz' 'Franq' 'Pippin' 'Rolf' 'Snickers'\n",
      " 'Ridley' 'Cal' 'Bradley' 'Bubba' 'Tuco' 'Patch' 'Mojo' 'Dylan'\n",
      " 'Alejandro' 'Scruffers' 'Penelope' 'Sparky' 'Holly' 'Clarence' 'Jett'\n",
      " 'Amy' 'Sage' 'Andy' 'Mason' 'Trigger' 'Antony' 'Creg' 'Traviss' 'Gin'\n",
      " 'Danny' 'Ester' 'Pluto' 'Bloo' 'Paull' 'Sam' 'Willy' 'Herb' 'Nigel'\n",
      " 'Butters' 'Sandra' 'Liam' 'Ben' 'Raphael' 'Julio' 'Andru' 'Kloey'\n",
      " 'Shawwn' 'Skye' 'Kollin' 'Ronduh' 'Billl' 'Saydee' 'Dug' 'Tessa' 'Kirk'\n",
      " 'Ralf' 'Clarq' 'Samsom' 'Terrance' 'Chaz' 'Jeremy' 'Jaycob' 'Lambeau'\n",
      " 'Ruffles' 'Amélie' 'Bobb' 'Banditt' 'Kevon' 'Winifred' 'Hanz' 'Churlie'\n",
      " 'Zeek' 'Timofy' 'Maks' 'Jomathan' 'Marvin' 'Spark' 'Jo' 'DayZ' 'Jareld'\n",
      " 'Torque' 'Ron' 'Skittles' 'Cleopatricia' 'Erik' 'Stu' 'Tedrick' 'Filup'\n",
      " 'Kial' 'Naphaniel' 'Dook' 'Hall' 'Philippe' 'Biden' 'Fwed' 'Genevieve'\n",
      " 'Joshwa' 'Timison' 'Bradlay' 'Pipsy' 'Clybe' 'Keet' 'Carll' 'Jockson'\n",
      " 'Josep' 'Lugan' 'Christoper']\n"
     ]
    },
    {
     "data": {
      "text/plain": [
       "False"
      ]
     },
     "execution_count": 2363,
     "metadata": {},
     "output_type": "execute_result"
    }
   ],
   "source": [
    "print(archive_clean['name'].unique())\n",
    "\n",
    "archive_clean['name'].to_string().islower()\n",
    "\n",
    "# All the names seem to be correct"
   ]
  },
  {
   "cell_type": "markdown",
   "metadata": {},
   "source": [
    "### i. `archive`: some records have more than one dog stage"
   ]
  },
  {
   "cell_type": "markdown",
   "metadata": {},
   "source": [
    "**Define**\n",
    "\n",
    "Check out the reason why and correct to only 1 stage. If can't, update the stages column\n",
    "\n",
    "Create a `stage` column to migrate all 4 stage columns into 1."
   ]
  },
  {
   "cell_type": "code",
   "execution_count": 2364,
   "metadata": {},
   "outputs": [
    {
     "data": {
      "text/html": [
       "<div>\n",
       "<style scoped>\n",
       "    .dataframe tbody tr th:only-of-type {\n",
       "        vertical-align: middle;\n",
       "    }\n",
       "\n",
       "    .dataframe tbody tr th {\n",
       "        vertical-align: top;\n",
       "    }\n",
       "\n",
       "    .dataframe thead th {\n",
       "        text-align: right;\n",
       "    }\n",
       "</style>\n",
       "<table border=\"1\" class=\"dataframe\">\n",
       "  <thead>\n",
       "    <tr style=\"text-align: right;\">\n",
       "      <th></th>\n",
       "      <th>text</th>\n",
       "      <th>counter</th>\n",
       "    </tr>\n",
       "  </thead>\n",
       "  <tbody>\n",
       "    <tr>\n",
       "      <th>191</th>\n",
       "      <td>Here's a puppo participating in the #ScienceMarch. Cleverly disguising her own doggo agenda. 13/10 would keep the planet habitable for https://t.co/cMhq16isel</td>\n",
       "      <td>2</td>\n",
       "    </tr>\n",
       "    <tr>\n",
       "      <th>200</th>\n",
       "      <td>At first I thought this was a shy doggo, but it's actually a Rare Canadian Floofer Owl. Amateurs would confuse the two. 11/10 only send dogs https://t.co/TXdT3tmuYk</td>\n",
       "      <td>2</td>\n",
       "    </tr>\n",
       "    <tr>\n",
       "      <th>460</th>\n",
       "      <td>This is Dido. She's playing the lead role in \"Pupper Stops to Catch Snow Before Resuming Shadow Box with Dried Apple.\" 13/10 (IG: didodoggo) https://t.co/m7isZrOBX7</td>\n",
       "      <td>2</td>\n",
       "    </tr>\n",
       "    <tr>\n",
       "      <th>531</th>\n",
       "      <td>Here we have Burke (pupper) and Dexter (doggo). Pupper wants to be exactly like doggo. Both 12/10 would pet at same time https://t.co/ANBpEYHaho</td>\n",
       "      <td>2</td>\n",
       "    </tr>\n",
       "    <tr>\n",
       "      <th>565</th>\n",
       "      <td>Like doggo, like pupper version 2. Both 11/10 https://t.co/9IxWAXFqze</td>\n",
       "      <td>2</td>\n",
       "    </tr>\n",
       "    <tr>\n",
       "      <th>575</th>\n",
       "      <td>This is Bones. He's being haunted by another doggo of roughly the same size. 12/10 deep breaths pupper everything's fine https://t.co/55Dqe0SJNj</td>\n",
       "      <td>2</td>\n",
       "    </tr>\n",
       "    <tr>\n",
       "      <th>889</th>\n",
       "      <td>Meet Maggie &amp;amp; Lila. Maggie is the doggo, Lila is the pupper. They are sisters. Both 12/10 would pet at the same time https://t.co/MYwR4DQKll</td>\n",
       "      <td>2</td>\n",
       "    </tr>\n",
       "    <tr>\n",
       "      <th>956</th>\n",
       "      <td>Please stop sending it pictures that don't even have a doggo or pupper in them. Churlish af. 5/10 neat couch tho https://t.co/u2c9c7qSg8</td>\n",
       "      <td>2</td>\n",
       "    </tr>\n",
       "    <tr>\n",
       "      <th>1063</th>\n",
       "      <td>This is just downright precious af. 12/10 for both pupper and doggo https://t.co/o5J479bZUC</td>\n",
       "      <td>2</td>\n",
       "    </tr>\n",
       "    <tr>\n",
       "      <th>1113</th>\n",
       "      <td>Like father (doggo), like son (pupper). Both 12/10 https://t.co/pG2inLaOda</td>\n",
       "      <td>2</td>\n",
       "    </tr>\n",
       "  </tbody>\n",
       "</table>\n",
       "</div>"
      ],
      "text/plain": [
       "                                                                                                                                                                      text  \\\n",
       "191         Here's a puppo participating in the #ScienceMarch. Cleverly disguising her own doggo agenda. 13/10 would keep the planet habitable for https://t.co/cMhq16isel   \n",
       "200   At first I thought this was a shy doggo, but it's actually a Rare Canadian Floofer Owl. Amateurs would confuse the two. 11/10 only send dogs https://t.co/TXdT3tmuYk   \n",
       "460   This is Dido. She's playing the lead role in \"Pupper Stops to Catch Snow Before Resuming Shadow Box with Dried Apple.\" 13/10 (IG: didodoggo) https://t.co/m7isZrOBX7   \n",
       "531                       Here we have Burke (pupper) and Dexter (doggo). Pupper wants to be exactly like doggo. Both 12/10 would pet at same time https://t.co/ANBpEYHaho   \n",
       "565                                                                                                  Like doggo, like pupper version 2. Both 11/10 https://t.co/9IxWAXFqze   \n",
       "575                       This is Bones. He's being haunted by another doggo of roughly the same size. 12/10 deep breaths pupper everything's fine https://t.co/55Dqe0SJNj   \n",
       "889                       Meet Maggie &amp; Lila. Maggie is the doggo, Lila is the pupper. They are sisters. Both 12/10 would pet at the same time https://t.co/MYwR4DQKll   \n",
       "956                               Please stop sending it pictures that don't even have a doggo or pupper in them. Churlish af. 5/10 neat couch tho https://t.co/u2c9c7qSg8   \n",
       "1063                                                                           This is just downright precious af. 12/10 for both pupper and doggo https://t.co/o5J479bZUC   \n",
       "1113                                                                                            Like father (doggo), like son (pupper). Both 12/10 https://t.co/pG2inLaOda   \n",
       "\n",
       "      counter  \n",
       "191         2  \n",
       "200         2  \n",
       "460         2  \n",
       "531         2  \n",
       "565         2  \n",
       "575         2  \n",
       "889         2  \n",
       "956         2  \n",
       "1063        2  \n",
       "1113        2  "
      ]
     },
     "execution_count": 2364,
     "metadata": {},
     "output_type": "execute_result"
    }
   ],
   "source": [
    "# From the above, we already separated number of stage in each row with the column `counter`.\n",
    "# Display only records with multiple stages\n",
    "archive_clean[archive_clean['counter'] == 2][['text','counter']]\n",
    "\n",
    "# Will deal with this later after creating `stage`"
   ]
  },
  {
   "cell_type": "code",
   "execution_count": 2365,
   "metadata": {},
   "outputs": [
    {
     "name": "stdout",
     "output_type": "stream",
     "text": [
      "[nan 'doggo'] [nan 'floofer'] [nan 'pupper'] [nan 'puppo']\n"
     ]
    },
    {
     "data": {
      "text/html": [
       "<div>\n",
       "<style scoped>\n",
       "    .dataframe tbody tr th:only-of-type {\n",
       "        vertical-align: middle;\n",
       "    }\n",
       "\n",
       "    .dataframe tbody tr th {\n",
       "        vertical-align: top;\n",
       "    }\n",
       "\n",
       "    .dataframe thead th {\n",
       "        text-align: right;\n",
       "    }\n",
       "</style>\n",
       "<table border=\"1\" class=\"dataframe\">\n",
       "  <thead>\n",
       "    <tr style=\"text-align: right;\">\n",
       "      <th></th>\n",
       "      <th>tweet_id</th>\n",
       "      <th>stage</th>\n",
       "    </tr>\n",
       "  </thead>\n",
       "  <tbody>\n",
       "    <tr>\n",
       "      <th>8</th>\n",
       "      <td>890240255349198849</td>\n",
       "      <td>doggo</td>\n",
       "    </tr>\n",
       "    <tr>\n",
       "      <th>34</th>\n",
       "      <td>884162670584377345</td>\n",
       "      <td>doggo</td>\n",
       "    </tr>\n",
       "    <tr>\n",
       "      <th>75</th>\n",
       "      <td>872967104147763200</td>\n",
       "      <td>doggo</td>\n",
       "    </tr>\n",
       "  </tbody>\n",
       "</table>\n",
       "</div>"
      ],
      "text/plain": [
       "              tweet_id  stage\n",
       "8   890240255349198849  doggo\n",
       "34  884162670584377345  doggo\n",
       "75  872967104147763200  doggo"
      ]
     },
     "execution_count": 2365,
     "metadata": {},
     "output_type": "execute_result"
    }
   ],
   "source": [
    "# Check if there's any glibberish values in 4 columns\n",
    "print(\n",
    "    archive_clean['doggo'].unique(),\n",
    "    archive_clean['floofer'].unique(),\n",
    "    archive_clean['pupper'].unique(),\n",
    "    archive_clean['puppo'].unique()\n",
    "    )\n",
    "# -> No\n",
    "\n",
    "# Create a `stage` column\n",
    "    # Melt the df, create a new df with stage of dogs for each tweet_id\n",
    "dog_stage = pd.melt(archive_clean,\n",
    "                    id_vars='tweet_id',\n",
    "                    value_vars=['doggo','floofer','pupper','puppo'],\n",
    "                    var_name='stage_name',\n",
    "                    value_name='stage')\n",
    "    # In the new df, if `value_name` = NaN -> that tweet_id dog is not in that stage -> should drop\n",
    "dog_stage.dropna(subset='stage', inplace=True)\n",
    "dog_stage.drop('stage_name', axis='columns', inplace=True)\n",
    "dog_stage.head(3)"
   ]
  },
  {
   "cell_type": "code",
   "execution_count": 2366,
   "metadata": {},
   "outputs": [],
   "source": [
    "# Before finishing, back to cases with multiple stages. That will be represented in `stage` in `dog_stage` (`tweet_id` with more than 1 stage)\n",
    "multiple_stage_tweet_id = dog_stage[dog_stage['tweet_id'].duplicated()]['tweet_id'].astype(int).to_list()\n",
    "multiple_stage_value = ['puppo',\n",
    "                        np.nan,\n",
    "                        'pupper',\n",
    "                        np.nan,\n",
    "                        np.nan,\n",
    "                        'pupper',\n",
    "                        np.nan,\n",
    "                        np.nan,\n",
    "                        np.nan,\n",
    "                        np.nan]\n",
    "# Drop NaN in `tweet_id` in `archive`, convert to int type\n",
    "archive_clean.dropna(subset='tweet_id', inplace=True)\n",
    "archive_clean['tweet_id'] = archive_clean['tweet_id'].astype(int)\n",
    "\n",
    "# Manually update stage in `archive`\n",
    "archive_clean['stage'] = np.nan\n",
    "archive_clean['stage']=archive_clean['stage'].astype('object')\n",
    "for i in range(len(multiple_stage_tweet_id)):\n",
    "    archive_clean.loc[archive_clean['tweet_id'] == multiple_stage_tweet_id[i], 'stage'] = multiple_stage_value[i]"
   ]
  },
  {
   "cell_type": "code",
   "execution_count": 2367,
   "metadata": {},
   "outputs": [
    {
     "data": {
      "text/html": [
       "<div>\n",
       "<style scoped>\n",
       "    .dataframe tbody tr th:only-of-type {\n",
       "        vertical-align: middle;\n",
       "    }\n",
       "\n",
       "    .dataframe tbody tr th {\n",
       "        vertical-align: top;\n",
       "    }\n",
       "\n",
       "    .dataframe thead th {\n",
       "        text-align: right;\n",
       "    }\n",
       "</style>\n",
       "<table border=\"1\" class=\"dataframe\">\n",
       "  <thead>\n",
       "    <tr style=\"text-align: right;\">\n",
       "      <th></th>\n",
       "      <th>tweet_id</th>\n",
       "      <th>counter</th>\n",
       "      <th>stage</th>\n",
       "    </tr>\n",
       "  </thead>\n",
       "  <tbody>\n",
       "    <tr>\n",
       "      <th>191</th>\n",
       "      <td>855851453814013952</td>\n",
       "      <td>2</td>\n",
       "      <td>NaN</td>\n",
       "    </tr>\n",
       "    <tr>\n",
       "      <th>200</th>\n",
       "      <td>854010172552949760</td>\n",
       "      <td>2</td>\n",
       "      <td>puppo</td>\n",
       "    </tr>\n",
       "    <tr>\n",
       "      <th>460</th>\n",
       "      <td>817777686764523521</td>\n",
       "      <td>2</td>\n",
       "      <td>NaN</td>\n",
       "    </tr>\n",
       "    <tr>\n",
       "      <th>531</th>\n",
       "      <td>808106460588765185</td>\n",
       "      <td>2</td>\n",
       "      <td>pupper</td>\n",
       "    </tr>\n",
       "    <tr>\n",
       "      <th>565</th>\n",
       "      <td>802265048156610565</td>\n",
       "      <td>2</td>\n",
       "      <td>NaN</td>\n",
       "    </tr>\n",
       "    <tr>\n",
       "      <th>575</th>\n",
       "      <td>801115127852503040</td>\n",
       "      <td>2</td>\n",
       "      <td>NaN</td>\n",
       "    </tr>\n",
       "    <tr>\n",
       "      <th>889</th>\n",
       "      <td>759793422261743616</td>\n",
       "      <td>2</td>\n",
       "      <td>pupper</td>\n",
       "    </tr>\n",
       "    <tr>\n",
       "      <th>956</th>\n",
       "      <td>751583847268179968</td>\n",
       "      <td>2</td>\n",
       "      <td>NaN</td>\n",
       "    </tr>\n",
       "    <tr>\n",
       "      <th>1063</th>\n",
       "      <td>741067306818797568</td>\n",
       "      <td>2</td>\n",
       "      <td>NaN</td>\n",
       "    </tr>\n",
       "    <tr>\n",
       "      <th>1113</th>\n",
       "      <td>733109485275860992</td>\n",
       "      <td>2</td>\n",
       "      <td>NaN</td>\n",
       "    </tr>\n",
       "  </tbody>\n",
       "</table>\n",
       "</div>"
      ],
      "text/plain": [
       "                tweet_id  counter   stage\n",
       "191   855851453814013952        2     NaN\n",
       "200   854010172552949760        2   puppo\n",
       "460   817777686764523521        2     NaN\n",
       "531   808106460588765185        2  pupper\n",
       "565   802265048156610565        2     NaN\n",
       "575   801115127852503040        2     NaN\n",
       "889   759793422261743616        2  pupper\n",
       "956   751583847268179968        2     NaN\n",
       "1063  741067306818797568        2     NaN\n",
       "1113  733109485275860992        2     NaN"
      ]
     },
     "execution_count": 2367,
     "metadata": {},
     "output_type": "execute_result"
    }
   ],
   "source": [
    "# Test case multiple -> Pass\n",
    "archive_clean[archive_clean['counter'] == 2][['tweet_id','counter','stage']]"
   ]
  },
  {
   "cell_type": "code",
   "execution_count": 2368,
   "metadata": {},
   "outputs": [
    {
     "data": {
      "text/html": [
       "<div>\n",
       "<style scoped>\n",
       "    .dataframe tbody tr th:only-of-type {\n",
       "        vertical-align: middle;\n",
       "    }\n",
       "\n",
       "    .dataframe tbody tr th {\n",
       "        vertical-align: top;\n",
       "    }\n",
       "\n",
       "    .dataframe thead th {\n",
       "        text-align: right;\n",
       "    }\n",
       "</style>\n",
       "<table border=\"1\" class=\"dataframe\">\n",
       "  <thead>\n",
       "    <tr style=\"text-align: right;\">\n",
       "      <th></th>\n",
       "      <th>tweet_id</th>\n",
       "      <th>in_reply_to_status_id</th>\n",
       "      <th>in_reply_to_user_id</th>\n",
       "      <th>timestamp</th>\n",
       "      <th>source</th>\n",
       "      <th>text</th>\n",
       "      <th>expanded_urls</th>\n",
       "      <th>rating_numerator</th>\n",
       "      <th>rating_denominator</th>\n",
       "      <th>name</th>\n",
       "      <th>doggo</th>\n",
       "      <th>floofer</th>\n",
       "      <th>pupper</th>\n",
       "      <th>puppo</th>\n",
       "      <th>counter</th>\n",
       "      <th>stage_x</th>\n",
       "      <th>stage_y</th>\n",
       "    </tr>\n",
       "  </thead>\n",
       "  <tbody>\n",
       "    <tr>\n",
       "      <th>1212</th>\n",
       "      <td>679862121895714818</td>\n",
       "      <td>0</td>\n",
       "      <td>0</td>\n",
       "      <td>2015-12-24 03:12:15+00:00</td>\n",
       "      <td>Twitter for iPhone</td>\n",
       "      <td>\"Dammit hooman I'm jus trynna lik the fler\" 11/10 https://t.co/eRZRI8OTj7</td>\n",
       "      <td>https://twitter.com/dog_rates/status/679862121895714818/photo/1</td>\n",
       "      <td>11.0</td>\n",
       "      <td>10</td>\n",
       "      <td>NaN</td>\n",
       "      <td>NaN</td>\n",
       "      <td>NaN</td>\n",
       "      <td>NaN</td>\n",
       "      <td>NaN</td>\n",
       "      <td>0</td>\n",
       "      <td>NaN</td>\n",
       "      <td>NaN</td>\n",
       "    </tr>\n",
       "    <tr>\n",
       "      <th>186</th>\n",
       "      <td>841077006473256960</td>\n",
       "      <td>0</td>\n",
       "      <td>0</td>\n",
       "      <td>2017-03-13 00:02:39+00:00</td>\n",
       "      <td>Twitter for iPhone</td>\n",
       "      <td>This is Dawn. She's just checking pup on you. Making sure you're doing okay. 12/10 she's here if you need her https://t.co/XKJrmO4fAQ</td>\n",
       "      <td>https://twitter.com/dog_rates/status/841077006473256960/photo/1</td>\n",
       "      <td>12.0</td>\n",
       "      <td>10</td>\n",
       "      <td>Dawn</td>\n",
       "      <td>NaN</td>\n",
       "      <td>NaN</td>\n",
       "      <td>NaN</td>\n",
       "      <td>NaN</td>\n",
       "      <td>0</td>\n",
       "      <td>NaN</td>\n",
       "      <td>NaN</td>\n",
       "    </tr>\n",
       "    <tr>\n",
       "      <th>1000</th>\n",
       "      <td>697575480820686848</td>\n",
       "      <td>0</td>\n",
       "      <td>0</td>\n",
       "      <td>2016-02-11 00:18:49+00:00</td>\n",
       "      <td>Twitter for iPhone</td>\n",
       "      <td>This is Ole. He's not sure how to gravity. 8/10 https://t.co/PsqqotpBBQ</td>\n",
       "      <td>https://twitter.com/dog_rates/status/697575480820686848/photo/1</td>\n",
       "      <td>8.0</td>\n",
       "      <td>10</td>\n",
       "      <td>Ole</td>\n",
       "      <td>NaN</td>\n",
       "      <td>NaN</td>\n",
       "      <td>NaN</td>\n",
       "      <td>NaN</td>\n",
       "      <td>0</td>\n",
       "      <td>NaN</td>\n",
       "      <td>NaN</td>\n",
       "    </tr>\n",
       "  </tbody>\n",
       "</table>\n",
       "</div>"
      ],
      "text/plain": [
       "                tweet_id  in_reply_to_status_id  in_reply_to_user_id  \\\n",
       "1212  679862121895714818                      0                    0   \n",
       "186   841077006473256960                      0                    0   \n",
       "1000  697575480820686848                      0                    0   \n",
       "\n",
       "                     timestamp              source  \\\n",
       "1212 2015-12-24 03:12:15+00:00  Twitter for iPhone   \n",
       "186  2017-03-13 00:02:39+00:00  Twitter for iPhone   \n",
       "1000 2016-02-11 00:18:49+00:00  Twitter for iPhone   \n",
       "\n",
       "                                                                                                                                       text  \\\n",
       "1212                                                              \"Dammit hooman I'm jus trynna lik the fler\" 11/10 https://t.co/eRZRI8OTj7   \n",
       "186   This is Dawn. She's just checking pup on you. Making sure you're doing okay. 12/10 she's here if you need her https://t.co/XKJrmO4fAQ   \n",
       "1000                                                                This is Ole. He's not sure how to gravity. 8/10 https://t.co/PsqqotpBBQ   \n",
       "\n",
       "                                                        expanded_urls  \\\n",
       "1212  https://twitter.com/dog_rates/status/679862121895714818/photo/1   \n",
       "186   https://twitter.com/dog_rates/status/841077006473256960/photo/1   \n",
       "1000  https://twitter.com/dog_rates/status/697575480820686848/photo/1   \n",
       "\n",
       "      rating_numerator  rating_denominator  name doggo floofer pupper puppo  \\\n",
       "1212              11.0                  10   NaN   NaN     NaN    NaN   NaN   \n",
       "186               12.0                  10  Dawn   NaN     NaN    NaN   NaN   \n",
       "1000               8.0                  10   Ole   NaN     NaN    NaN   NaN   \n",
       "\n",
       "      counter stage_x stage_y  \n",
       "1212        0     NaN     NaN  \n",
       "186         0     NaN     NaN  \n",
       "1000        0     NaN     NaN  "
      ]
     },
     "execution_count": 2368,
     "metadata": {},
     "output_type": "execute_result"
    }
   ],
   "source": [
    "# For case single stage:\n",
    "# Drop duplicate tweet_id (case multiple) then merge `dog_stage` into `archive`\n",
    "single_stage = dog_stage[~dog_stage['tweet_id'].isin(multiple_stage_tweet_id)]\n",
    "\n",
    "archive_clean = pd.merge(archive_clean,single_stage,how='left',on='tweet_id')\n",
    "archive_clean.sample(3)"
   ]
  },
  {
   "cell_type": "code",
   "execution_count": 2369,
   "metadata": {},
   "outputs": [],
   "source": [
    "# Replace NaN value of `stage_y` that have values in `stage_x`\n",
    "archive_clean['stage_y'].fillna(archive_clean['stage_x'],inplace=True)\n",
    "# Drop `stage_x` and rename `stage_y` to `stage`\n",
    "archive_clean.drop('stage_x',axis='columns',inplace=True)\n",
    "archive_clean.rename(columns={'stage_y':'stage'}, inplace=True) \n",
    "\n",
    "# Convert data type into categorical\n",
    "archive_clean.stage = archive_clean.stage.astype('category')"
   ]
  },
  {
   "cell_type": "markdown",
   "metadata": {},
   "source": [
    "**Test**"
   ]
  },
  {
   "cell_type": "code",
   "execution_count": 2370,
   "metadata": {},
   "outputs": [
    {
     "data": {
      "text/plain": [
       "stage\n",
       "pupper     170\n",
       "doggo       54\n",
       "puppo       22\n",
       "floofer      7\n",
       "Name: count, dtype: int64"
      ]
     },
     "execution_count": 2370,
     "metadata": {},
     "output_type": "execute_result"
    }
   ],
   "source": [
    "archive_clean.stage.value_counts()"
   ]
  },
  {
   "cell_type": "code",
   "execution_count": 2371,
   "metadata": {},
   "outputs": [
    {
     "name": "stdout",
     "output_type": "stream",
     "text": [
      "<class 'pandas.core.frame.DataFrame'>\n",
      "RangeIndex: 1685 entries, 0 to 1684\n",
      "Data columns (total 16 columns):\n",
      " #   Column                 Non-Null Count  Dtype              \n",
      "---  ------                 --------------  -----              \n",
      " 0   tweet_id               1685 non-null   int64              \n",
      " 1   in_reply_to_status_id  1685 non-null   int64              \n",
      " 2   in_reply_to_user_id    1685 non-null   int64              \n",
      " 3   timestamp              1685 non-null   datetime64[ns, UTC]\n",
      " 4   source                 1685 non-null   category           \n",
      " 5   text                   1685 non-null   object             \n",
      " 6   expanded_urls          1685 non-null   object             \n",
      " 7   rating_numerator       1685 non-null   float64            \n",
      " 8   rating_denominator     1685 non-null   int64              \n",
      " 9   name                   1183 non-null   object             \n",
      " 10  doggo                  64 non-null     object             \n",
      " 11  floofer                8 non-null      object             \n",
      " 12  pupper                 176 non-null    object             \n",
      " 13  puppo                  22 non-null     object             \n",
      " 14  counter                1685 non-null   int64              \n",
      " 15  stage                  253 non-null    category           \n",
      "dtypes: category(2), datetime64[ns, UTC](1), float64(1), int64(5), object(7)\n",
      "memory usage: 188.0+ KB\n"
     ]
    }
   ],
   "source": [
    "archive_clean.info()"
   ]
  },
  {
   "cell_type": "markdown",
   "metadata": {},
   "source": [
    "### k. `predictions` should be tidied from 9 columns to 4 columns: predictions_num, px_name, px_conf, px_dog\n",
    "\n",
    "(This part is optional since I found it's quicker to just keep the old format df)"
   ]
  },
  {
   "cell_type": "markdown",
   "metadata": {},
   "source": [
    "**Define**\n",
    "\n",
    "Melt the df for each variable (px,px_conf,px_dog) then merge together"
   ]
  },
  {
   "cell_type": "markdown",
   "metadata": {},
   "source": [
    "**Code**"
   ]
  },
  {
   "cell_type": "code",
   "execution_count": 2372,
   "metadata": {},
   "outputs": [],
   "source": [
    "# predictions_clean.head(1)"
   ]
  },
  {
   "cell_type": "code",
   "execution_count": 2373,
   "metadata": {},
   "outputs": [],
   "source": [
    "# # Define a function to melt the df\n",
    "# def melt_predictions(p1,p2,p3,value_name):\n",
    "#     '''\n",
    "#     INPUT:\n",
    "#     p1 (str) - column related to the first prediction\n",
    "#     p2 (str) - column related to the second prediction\n",
    "#     p3 (str) - column related to the third prediction\n",
    "#     value_name (str) - name of the column that holds the values from the predictions\n",
    "    \n",
    "#     OUTPUT:\n",
    "#     df (DataFrame) - dataframe with unpivoted prediction data\n",
    "    \n",
    "#     Unpivot dataframe for prediction columns.\n",
    "#     '''\n",
    "#     df = predictions_clean[['tweet_id','jpg_url','img_num',p1,p2,p3]]\n",
    "#     # Change column names so that they do not have to be extracted later\n",
    "#     df.rename(columns={\n",
    "#         p1:1,\n",
    "#         p2:2,\n",
    "#         p3:3\n",
    "#     }, inplace=True)\n",
    "#     df = pd.melt(\n",
    "#         df,\n",
    "#         id_vars=['tweet_id','jpg_url','img_num'],\n",
    "#         value_vars=[1,2,3],\n",
    "#         var_name='predictions_num',\n",
    "#         value_name=value_name\n",
    "#         )\n",
    "#     return df"
   ]
  },
  {
   "cell_type": "code",
   "execution_count": 2374,
   "metadata": {},
   "outputs": [],
   "source": [
    "# # Construct 3 df \n",
    "# px = melt_predictions('p1', 'p2', 'p3', 'px')\n",
    "# px_conf = melt_predictions('p1_conf', 'p2_conf', 'p3_conf', 'px_conf')\n",
    "# px_dog = melt_predictions('p1_dog', 'p2_dog', 'p3_dog', 'px_dog')"
   ]
  },
  {
   "cell_type": "code",
   "execution_count": 2375,
   "metadata": {},
   "outputs": [],
   "source": [
    "# # Merge together the three melted df\n",
    "# predictions_clean = px.merge(\n",
    "#     px_conf,\n",
    "#     how = 'inner',\n",
    "#     on = ['tweet_id', 'jpg_url','img_num','predictions_num']\n",
    "# ).merge(\n",
    "#     px_dog,\n",
    "#     how='inner',\n",
    "#     on = ['tweet_id', 'jpg_url','img_num','predictions_num']\n",
    "# )"
   ]
  },
  {
   "cell_type": "code",
   "execution_count": 2376,
   "metadata": {},
   "outputs": [],
   "source": [
    "# predictions_clean.head()"
   ]
  },
  {
   "cell_type": "markdown",
   "metadata": {},
   "source": [
    "### l. `predictions`: from 3 `predictions_num`, 1 should be picked as the correct breed then `breed` should be added in `archive`"
   ]
  },
  {
   "cell_type": "markdown",
   "metadata": {},
   "source": [
    "**Define**\n",
    "\n",
    "If the highest px_conf among the 3 has its `px_dog` is True then update the breed value\n",
    "\n",
    "Else np.nan"
   ]
  },
  {
   "cell_type": "markdown",
   "metadata": {},
   "source": [
    "**Code**"
   ]
  },
  {
   "cell_type": "code",
   "execution_count": 2377,
   "metadata": {},
   "outputs": [
    {
     "data": {
      "text/html": [
       "<div>\n",
       "<style scoped>\n",
       "    .dataframe tbody tr th:only-of-type {\n",
       "        vertical-align: middle;\n",
       "    }\n",
       "\n",
       "    .dataframe tbody tr th {\n",
       "        vertical-align: top;\n",
       "    }\n",
       "\n",
       "    .dataframe thead th {\n",
       "        text-align: right;\n",
       "    }\n",
       "</style>\n",
       "<table border=\"1\" class=\"dataframe\">\n",
       "  <thead>\n",
       "    <tr style=\"text-align: right;\">\n",
       "      <th></th>\n",
       "      <th>tweet_id</th>\n",
       "      <th>jpg_url</th>\n",
       "      <th>img_num</th>\n",
       "      <th>p1</th>\n",
       "      <th>p1_conf</th>\n",
       "      <th>p1_dog</th>\n",
       "      <th>p2</th>\n",
       "      <th>p2_conf</th>\n",
       "      <th>p2_dog</th>\n",
       "      <th>p3</th>\n",
       "      <th>p3_conf</th>\n",
       "      <th>p3_dog</th>\n",
       "    </tr>\n",
       "  </thead>\n",
       "  <tbody>\n",
       "    <tr>\n",
       "      <th>0</th>\n",
       "      <td>666020888022790149</td>\n",
       "      <td>https://pbs.twimg.com/media/CT4udn0WwAA0aMy.jpg</td>\n",
       "      <td>1</td>\n",
       "      <td>Welsh_springer_spaniel</td>\n",
       "      <td>0.465074</td>\n",
       "      <td>True</td>\n",
       "      <td>collie</td>\n",
       "      <td>0.156665</td>\n",
       "      <td>True</td>\n",
       "      <td>Shetland_sheepdog</td>\n",
       "      <td>0.061428</td>\n",
       "      <td>True</td>\n",
       "    </tr>\n",
       "    <tr>\n",
       "      <th>1</th>\n",
       "      <td>666029285002620928</td>\n",
       "      <td>https://pbs.twimg.com/media/CT42GRgUYAA5iDo.jpg</td>\n",
       "      <td>1</td>\n",
       "      <td>redbone</td>\n",
       "      <td>0.506826</td>\n",
       "      <td>True</td>\n",
       "      <td>miniature_pinscher</td>\n",
       "      <td>0.074192</td>\n",
       "      <td>True</td>\n",
       "      <td>Rhodesian_ridgeback</td>\n",
       "      <td>0.072010</td>\n",
       "      <td>True</td>\n",
       "    </tr>\n",
       "    <tr>\n",
       "      <th>2</th>\n",
       "      <td>666033412701032449</td>\n",
       "      <td>https://pbs.twimg.com/media/CT4521TWwAEvMyu.jpg</td>\n",
       "      <td>1</td>\n",
       "      <td>German_shepherd</td>\n",
       "      <td>0.596461</td>\n",
       "      <td>True</td>\n",
       "      <td>malinois</td>\n",
       "      <td>0.138584</td>\n",
       "      <td>True</td>\n",
       "      <td>bloodhound</td>\n",
       "      <td>0.116197</td>\n",
       "      <td>True</td>\n",
       "    </tr>\n",
       "  </tbody>\n",
       "</table>\n",
       "</div>"
      ],
      "text/plain": [
       "             tweet_id                                          jpg_url  \\\n",
       "0  666020888022790149  https://pbs.twimg.com/media/CT4udn0WwAA0aMy.jpg   \n",
       "1  666029285002620928  https://pbs.twimg.com/media/CT42GRgUYAA5iDo.jpg   \n",
       "2  666033412701032449  https://pbs.twimg.com/media/CT4521TWwAEvMyu.jpg   \n",
       "\n",
       "   img_num                      p1   p1_conf  p1_dog                  p2  \\\n",
       "0        1  Welsh_springer_spaniel  0.465074    True              collie   \n",
       "1        1                 redbone  0.506826    True  miniature_pinscher   \n",
       "2        1         German_shepherd  0.596461    True            malinois   \n",
       "\n",
       "    p2_conf  p2_dog                   p3   p3_conf  p3_dog  \n",
       "0  0.156665    True    Shetland_sheepdog  0.061428    True  \n",
       "1  0.074192    True  Rhodesian_ridgeback  0.072010    True  \n",
       "2  0.138584    True           bloodhound  0.116197    True  "
      ]
     },
     "execution_count": 2377,
     "metadata": {},
     "output_type": "execute_result"
    }
   ],
   "source": [
    "predictions_clean.head(3)"
   ]
  },
  {
   "cell_type": "code",
   "execution_count": 2378,
   "metadata": {},
   "outputs": [
    {
     "name": "stdout",
     "output_type": "stream",
     "text": [
      "['1']\n"
     ]
    }
   ],
   "source": [
    "# Create 3 columns: highest_conf, highest_conf_name (to log dog name) and highest_conf_dog (to log bool)\n",
    "predictions_clean['highest_conf'] = predictions_clean[['p1_conf','p2_conf','p3_conf']].max(axis=1)\n",
    "predictions_clean['highest_conf_name'] = predictions_clean[['p1_conf','p2_conf','p3_conf']].idxmax(axis=1)\n",
    "\n",
    "# Extract x in px_conf in `highest_conf_name`\n",
    "predictions_clean['highest_conf_name'] = predictions_clean['highest_conf_name'].str.extract(r'(\\d+)')\n",
    "\n",
    "# Validate the unique values of `highest_conf_name`\n",
    "print(predictions_clean['highest_conf_name'].unique())\n",
    "\n",
    "# We see that only p1 is the highest, now we drop all rows with p1 = False\n",
    "predictions_clean = predictions_clean[predictions_clean['p1_dog'] == True]"
   ]
  },
  {
   "cell_type": "code",
   "execution_count": 2379,
   "metadata": {},
   "outputs": [
    {
     "name": "stderr",
     "output_type": "stream",
     "text": [
      "/var/folders/vd/qsmzl1mx1p501xhk4zp5x8x40000gn/T/ipykernel_65976/2044800440.py:2: SettingWithCopyWarning: \n",
      "A value is trying to be set on a copy of a slice from a DataFrame.\n",
      "Try using .loc[row_indexer,col_indexer] = value instead\n",
      "\n",
      "See the caveats in the documentation: https://pandas.pydata.org/pandas-docs/stable/user_guide/indexing.html#returning-a-view-versus-a-copy\n",
      "  predictions_clean['breed'] = predictions_clean['p1']\n",
      "/var/folders/vd/qsmzl1mx1p501xhk4zp5x8x40000gn/T/ipykernel_65976/2044800440.py:5: SettingWithCopyWarning: \n",
      "A value is trying to be set on a copy of a slice from a DataFrame.\n",
      "Try using .loc[row_indexer,col_indexer] = value instead\n",
      "\n",
      "See the caveats in the documentation: https://pandas.pydata.org/pandas-docs/stable/user_guide/indexing.html#returning-a-view-versus-a-copy\n",
      "  predictions_clean['breed'] = predictions_clean['breed'].str.lower()\n"
     ]
    }
   ],
   "source": [
    "# Create new column `breed`\n",
    "predictions_clean['breed'] = predictions_clean['p1']\n",
    "\n",
    "# Update all values in `breed` to lowercases\n",
    "predictions_clean['breed'] = predictions_clean['breed'].str.lower()"
   ]
  },
  {
   "cell_type": "markdown",
   "metadata": {},
   "source": [
    "### m. `predictions`: `breed` should be added in `archive`\n",
    "###  `tweet`: `retweet_count` and `favorite_count` should be joined with `archive`"
   ]
  },
  {
   "cell_type": "markdown",
   "metadata": {},
   "source": [
    "**Define**\n",
    "\n",
    "These 2 issues should be cleaned together in 1 iteration\n",
    "\n",
    "Create column `breed`, `retweet_count` and `favorite_count` in `archive`. \n",
    "\n",
    "Assign the values of `breed`, `retweet_count` and `favorite_count` from `predictions` and `tweet` to `archive`"
   ]
  },
  {
   "cell_type": "code",
   "execution_count": 2380,
   "metadata": {},
   "outputs": [],
   "source": [
    "# Create new columns\n",
    "# archive_clean['breed'] = np.nan\n",
    "# archive_clean['retweet_count'] = np.nan\n",
    "# archive_clean['favorite_count'] = np.nan\n",
    "\n",
    "# Copy of tweet\n",
    "tweet_clean = tweet.copy()"
   ]
  },
  {
   "cell_type": "code",
   "execution_count": 2381,
   "metadata": {},
   "outputs": [
    {
     "data": {
      "text/html": [
       "<div>\n",
       "<style scoped>\n",
       "    .dataframe tbody tr th:only-of-type {\n",
       "        vertical-align: middle;\n",
       "    }\n",
       "\n",
       "    .dataframe tbody tr th {\n",
       "        vertical-align: top;\n",
       "    }\n",
       "\n",
       "    .dataframe thead th {\n",
       "        text-align: right;\n",
       "    }\n",
       "</style>\n",
       "<table border=\"1\" class=\"dataframe\">\n",
       "  <thead>\n",
       "    <tr style=\"text-align: right;\">\n",
       "      <th></th>\n",
       "      <th>tweet_id</th>\n",
       "      <th>in_reply_to_status_id</th>\n",
       "      <th>in_reply_to_user_id</th>\n",
       "      <th>timestamp</th>\n",
       "      <th>source</th>\n",
       "      <th>text</th>\n",
       "      <th>expanded_urls</th>\n",
       "      <th>rating_numerator</th>\n",
       "      <th>rating_denominator</th>\n",
       "      <th>name</th>\n",
       "      <th>doggo</th>\n",
       "      <th>floofer</th>\n",
       "      <th>pupper</th>\n",
       "      <th>puppo</th>\n",
       "      <th>counter</th>\n",
       "      <th>stage</th>\n",
       "      <th>retweet_count</th>\n",
       "      <th>favorite_count</th>\n",
       "      <th>breed</th>\n",
       "    </tr>\n",
       "  </thead>\n",
       "  <tbody>\n",
       "    <tr>\n",
       "      <th>0</th>\n",
       "      <td>892177421306343426</td>\n",
       "      <td>0</td>\n",
       "      <td>0</td>\n",
       "      <td>2017-08-01 00:17:27+00:00</td>\n",
       "      <td>Twitter for iPhone</td>\n",
       "      <td>This is Tilly. She's just checking pup on you. Hopes you're doing ok. If not, she's available for pats, snugs, boops, the whole bit. 13/10 https://t.co/0Xxu71qeIV</td>\n",
       "      <td>https://twitter.com/dog_rates/status/892177421306343426/photo/1</td>\n",
       "      <td>13.0</td>\n",
       "      <td>10</td>\n",
       "      <td>Tilly</td>\n",
       "      <td>NaN</td>\n",
       "      <td>NaN</td>\n",
       "      <td>NaN</td>\n",
       "      <td>NaN</td>\n",
       "      <td>0</td>\n",
       "      <td>NaN</td>\n",
       "      <td>6514</td>\n",
       "      <td>33819</td>\n",
       "      <td>chihuahua</td>\n",
       "    </tr>\n",
       "    <tr>\n",
       "      <th>1</th>\n",
       "      <td>891815181378084864</td>\n",
       "      <td>0</td>\n",
       "      <td>0</td>\n",
       "      <td>2017-07-31 00:18:03+00:00</td>\n",
       "      <td>Twitter for iPhone</td>\n",
       "      <td>This is Archie. He is a rare Norwegian Pouncing Corgo. Lives in the tall grass. You never know when one may strike. 12/10 https://t.co/wUnZnhtVJB</td>\n",
       "      <td>https://twitter.com/dog_rates/status/891815181378084864/photo/1</td>\n",
       "      <td>12.0</td>\n",
       "      <td>10</td>\n",
       "      <td>Archie</td>\n",
       "      <td>NaN</td>\n",
       "      <td>NaN</td>\n",
       "      <td>NaN</td>\n",
       "      <td>NaN</td>\n",
       "      <td>0</td>\n",
       "      <td>NaN</td>\n",
       "      <td>4328</td>\n",
       "      <td>25461</td>\n",
       "      <td>chihuahua</td>\n",
       "    </tr>\n",
       "    <tr>\n",
       "      <th>2</th>\n",
       "      <td>891689557279858688</td>\n",
       "      <td>0</td>\n",
       "      <td>0</td>\n",
       "      <td>2017-07-30 15:58:51+00:00</td>\n",
       "      <td>Twitter for iPhone</td>\n",
       "      <td>This is Darla. She commenced a snooze mid meal. 13/10 happens to the best of us https://t.co/tD36da7qLQ</td>\n",
       "      <td>https://twitter.com/dog_rates/status/891689557279858688/photo/1</td>\n",
       "      <td>13.0</td>\n",
       "      <td>10</td>\n",
       "      <td>Darla</td>\n",
       "      <td>NaN</td>\n",
       "      <td>NaN</td>\n",
       "      <td>NaN</td>\n",
       "      <td>NaN</td>\n",
       "      <td>0</td>\n",
       "      <td>NaN</td>\n",
       "      <td>8964</td>\n",
       "      <td>42908</td>\n",
       "      <td>NaN</td>\n",
       "    </tr>\n",
       "    <tr>\n",
       "      <th>3</th>\n",
       "      <td>891327558926688256</td>\n",
       "      <td>0</td>\n",
       "      <td>0</td>\n",
       "      <td>2017-07-29 16:00:24+00:00</td>\n",
       "      <td>Twitter for iPhone</td>\n",
       "      <td>This is Franklin. He would like you to stop calling him \"cute.\" He is a very fierce shark and should be respected as such. 12/10 #BarkWeek https://t.co/AtUZn91f7f</td>\n",
       "      <td>https://twitter.com/dog_rates/status/891327558926688256/photo/1,https://twitter.com/dog_rates/status/891327558926688256/photo/1</td>\n",
       "      <td>12.0</td>\n",
       "      <td>10</td>\n",
       "      <td>Franklin</td>\n",
       "      <td>NaN</td>\n",
       "      <td>NaN</td>\n",
       "      <td>NaN</td>\n",
       "      <td>NaN</td>\n",
       "      <td>0</td>\n",
       "      <td>NaN</td>\n",
       "      <td>9774</td>\n",
       "      <td>41048</td>\n",
       "      <td>basset</td>\n",
       "    </tr>\n",
       "    <tr>\n",
       "      <th>4</th>\n",
       "      <td>891087950875897856</td>\n",
       "      <td>0</td>\n",
       "      <td>0</td>\n",
       "      <td>2017-07-29 00:08:17+00:00</td>\n",
       "      <td>Twitter for iPhone</td>\n",
       "      <td>Here we have a majestic great white breaching off South Africa's coast. Absolutely h*ckin breathtaking. 13/10 (IG: tucker_marlo) #BarkWeek https://t.co/kQ04fDDRmh</td>\n",
       "      <td>https://twitter.com/dog_rates/status/891087950875897856/photo/1</td>\n",
       "      <td>13.0</td>\n",
       "      <td>10</td>\n",
       "      <td>NaN</td>\n",
       "      <td>NaN</td>\n",
       "      <td>NaN</td>\n",
       "      <td>NaN</td>\n",
       "      <td>NaN</td>\n",
       "      <td>0</td>\n",
       "      <td>NaN</td>\n",
       "      <td>3261</td>\n",
       "      <td>20562</td>\n",
       "      <td>chesapeake_bay_retriever</td>\n",
       "    </tr>\n",
       "  </tbody>\n",
       "</table>\n",
       "</div>"
      ],
      "text/plain": [
       "             tweet_id  in_reply_to_status_id  in_reply_to_user_id  \\\n",
       "0  892177421306343426                      0                    0   \n",
       "1  891815181378084864                      0                    0   \n",
       "2  891689557279858688                      0                    0   \n",
       "3  891327558926688256                      0                    0   \n",
       "4  891087950875897856                      0                    0   \n",
       "\n",
       "                  timestamp              source  \\\n",
       "0 2017-08-01 00:17:27+00:00  Twitter for iPhone   \n",
       "1 2017-07-31 00:18:03+00:00  Twitter for iPhone   \n",
       "2 2017-07-30 15:58:51+00:00  Twitter for iPhone   \n",
       "3 2017-07-29 16:00:24+00:00  Twitter for iPhone   \n",
       "4 2017-07-29 00:08:17+00:00  Twitter for iPhone   \n",
       "\n",
       "                                                                                                                                                                 text  \\\n",
       "0  This is Tilly. She's just checking pup on you. Hopes you're doing ok. If not, she's available for pats, snugs, boops, the whole bit. 13/10 https://t.co/0Xxu71qeIV   \n",
       "1                   This is Archie. He is a rare Norwegian Pouncing Corgo. Lives in the tall grass. You never know when one may strike. 12/10 https://t.co/wUnZnhtVJB   \n",
       "2                                                             This is Darla. She commenced a snooze mid meal. 13/10 happens to the best of us https://t.co/tD36da7qLQ   \n",
       "3  This is Franklin. He would like you to stop calling him \"cute.\" He is a very fierce shark and should be respected as such. 12/10 #BarkWeek https://t.co/AtUZn91f7f   \n",
       "4  Here we have a majestic great white breaching off South Africa's coast. Absolutely h*ckin breathtaking. 13/10 (IG: tucker_marlo) #BarkWeek https://t.co/kQ04fDDRmh   \n",
       "\n",
       "                                                                                                                     expanded_urls  \\\n",
       "0                                                                  https://twitter.com/dog_rates/status/892177421306343426/photo/1   \n",
       "1                                                                  https://twitter.com/dog_rates/status/891815181378084864/photo/1   \n",
       "2                                                                  https://twitter.com/dog_rates/status/891689557279858688/photo/1   \n",
       "3  https://twitter.com/dog_rates/status/891327558926688256/photo/1,https://twitter.com/dog_rates/status/891327558926688256/photo/1   \n",
       "4                                                                  https://twitter.com/dog_rates/status/891087950875897856/photo/1   \n",
       "\n",
       "   rating_numerator  rating_denominator      name doggo floofer pupper puppo  \\\n",
       "0              13.0                  10     Tilly   NaN     NaN    NaN   NaN   \n",
       "1              12.0                  10    Archie   NaN     NaN    NaN   NaN   \n",
       "2              13.0                  10     Darla   NaN     NaN    NaN   NaN   \n",
       "3              12.0                  10  Franklin   NaN     NaN    NaN   NaN   \n",
       "4              13.0                  10       NaN   NaN     NaN    NaN   NaN   \n",
       "\n",
       "   counter stage  retweet_count  favorite_count                     breed  \n",
       "0        0   NaN           6514           33819                 chihuahua  \n",
       "1        0   NaN           4328           25461                 chihuahua  \n",
       "2        0   NaN           8964           42908                       NaN  \n",
       "3        0   NaN           9774           41048                    basset  \n",
       "4        0   NaN           3261           20562  chesapeake_bay_retriever  "
      ]
     },
     "execution_count": 2381,
     "metadata": {},
     "output_type": "execute_result"
    }
   ],
   "source": [
    "# Mapping the columns to `archive`\n",
    "archive_clean = pd.merge(archive_clean, \n",
    "                            tweet_clean[['tweet_id','retweet_count','favorite_count']],\n",
    "                            how = 'left',\n",
    "                            on = 'tweet_id'\n",
    "                            )\n",
    "archive_clean = pd.merge(archive_clean,\n",
    "                            predictions_clean[['tweet_id','breed']],\n",
    "                            how='left',\n",
    "                            on='tweet_id'\n",
    "                            )\n",
    "archive_clean.head()"
   ]
  },
  {
   "cell_type": "markdown",
   "metadata": {},
   "source": [
    "**Test**"
   ]
  },
  {
   "cell_type": "code",
   "execution_count": 2382,
   "metadata": {},
   "outputs": [
    {
     "data": {
      "text/html": [
       "<div>\n",
       "<style scoped>\n",
       "    .dataframe tbody tr th:only-of-type {\n",
       "        vertical-align: middle;\n",
       "    }\n",
       "\n",
       "    .dataframe tbody tr th {\n",
       "        vertical-align: top;\n",
       "    }\n",
       "\n",
       "    .dataframe thead th {\n",
       "        text-align: right;\n",
       "    }\n",
       "</style>\n",
       "<table border=\"1\" class=\"dataframe\">\n",
       "  <thead>\n",
       "    <tr style=\"text-align: right;\">\n",
       "      <th></th>\n",
       "      <th>tweet_id</th>\n",
       "      <th>retweet_count</th>\n",
       "      <th>favorite_count</th>\n",
       "      <th>breed</th>\n",
       "    </tr>\n",
       "  </thead>\n",
       "  <tbody>\n",
       "    <tr>\n",
       "      <th>12</th>\n",
       "      <td>889638837579907072</td>\n",
       "      <td>4735</td>\n",
       "      <td>27672</td>\n",
       "      <td>french_bulldog</td>\n",
       "    </tr>\n",
       "    <tr>\n",
       "      <th>1168</th>\n",
       "      <td>682962037429899265</td>\n",
       "      <td>15043</td>\n",
       "      <td>26239</td>\n",
       "      <td>NaN</td>\n",
       "    </tr>\n",
       "    <tr>\n",
       "      <th>775</th>\n",
       "      <td>726828223124897792</td>\n",
       "      <td>1124</td>\n",
       "      <td>3882</td>\n",
       "      <td>miniature_pinscher</td>\n",
       "    </tr>\n",
       "    <tr>\n",
       "      <th>169</th>\n",
       "      <td>845397057150107648</td>\n",
       "      <td>2072</td>\n",
       "      <td>8241</td>\n",
       "      <td>dandie_dinmont</td>\n",
       "    </tr>\n",
       "    <tr>\n",
       "      <th>1559</th>\n",
       "      <td>668902994700836864</td>\n",
       "      <td>107</td>\n",
       "      <td>338</td>\n",
       "      <td>brittany_spaniel</td>\n",
       "    </tr>\n",
       "  </tbody>\n",
       "</table>\n",
       "</div>"
      ],
      "text/plain": [
       "                tweet_id  retweet_count  favorite_count               breed\n",
       "12    889638837579907072           4735           27672      french_bulldog\n",
       "1168  682962037429899265          15043           26239                 NaN\n",
       "775   726828223124897792           1124            3882  miniature_pinscher\n",
       "169   845397057150107648           2072            8241      dandie_dinmont\n",
       "1559  668902994700836864            107             338    brittany_spaniel"
      ]
     },
     "execution_count": 2382,
     "metadata": {},
     "output_type": "execute_result"
    }
   ],
   "source": [
    "archive_clean[['tweet_id','retweet_count','favorite_count','breed']].sample(5)"
   ]
  },
  {
   "cell_type": "markdown",
   "metadata": {},
   "source": [
    "### Final tidiness: drop all unnecessary columns and data\n",
    "\n",
    "**Define**\n",
    "\n",
    "as mentioned. Do it for only `archive` because we only need that dataframe\n",
    "\n",
    "**Code**"
   ]
  },
  {
   "cell_type": "code",
   "execution_count": 2383,
   "metadata": {},
   "outputs": [
    {
     "name": "stdout",
     "output_type": "stream",
     "text": [
      "<class 'pandas.core.frame.DataFrame'>\n",
      "RangeIndex: 1685 entries, 0 to 1684\n",
      "Data columns (total 19 columns):\n",
      " #   Column                 Non-Null Count  Dtype              \n",
      "---  ------                 --------------  -----              \n",
      " 0   tweet_id               1685 non-null   int64              \n",
      " 1   in_reply_to_status_id  1685 non-null   int64              \n",
      " 2   in_reply_to_user_id    1685 non-null   int64              \n",
      " 3   timestamp              1685 non-null   datetime64[ns, UTC]\n",
      " 4   source                 1685 non-null   category           \n",
      " 5   text                   1685 non-null   object             \n",
      " 6   expanded_urls          1685 non-null   object             \n",
      " 7   rating_numerator       1685 non-null   float64            \n",
      " 8   rating_denominator     1685 non-null   int64              \n",
      " 9   name                   1183 non-null   object             \n",
      " 10  doggo                  64 non-null     object             \n",
      " 11  floofer                8 non-null      object             \n",
      " 12  pupper                 176 non-null    object             \n",
      " 13  puppo                  22 non-null     object             \n",
      " 14  counter                1685 non-null   int64              \n",
      " 15  stage                  253 non-null    category           \n",
      " 16  retweet_count          1685 non-null   int64              \n",
      " 17  favorite_count         1685 non-null   int64              \n",
      " 18  breed                  1476 non-null   object             \n",
      "dtypes: category(2), datetime64[ns, UTC](1), float64(1), int64(7), object(8)\n",
      "memory usage: 227.5+ KB\n"
     ]
    },
    {
     "data": {
      "text/html": [
       "<div>\n",
       "<style scoped>\n",
       "    .dataframe tbody tr th:only-of-type {\n",
       "        vertical-align: middle;\n",
       "    }\n",
       "\n",
       "    .dataframe tbody tr th {\n",
       "        vertical-align: top;\n",
       "    }\n",
       "\n",
       "    .dataframe thead th {\n",
       "        text-align: right;\n",
       "    }\n",
       "</style>\n",
       "<table border=\"1\" class=\"dataframe\">\n",
       "  <thead>\n",
       "    <tr style=\"text-align: right;\">\n",
       "      <th></th>\n",
       "      <th>tweet_id</th>\n",
       "      <th>in_reply_to_status_id</th>\n",
       "      <th>in_reply_to_user_id</th>\n",
       "      <th>timestamp</th>\n",
       "      <th>source</th>\n",
       "      <th>text</th>\n",
       "      <th>expanded_urls</th>\n",
       "      <th>rating_numerator</th>\n",
       "      <th>rating_denominator</th>\n",
       "      <th>name</th>\n",
       "      <th>doggo</th>\n",
       "      <th>floofer</th>\n",
       "      <th>pupper</th>\n",
       "      <th>puppo</th>\n",
       "      <th>counter</th>\n",
       "      <th>stage</th>\n",
       "      <th>retweet_count</th>\n",
       "      <th>favorite_count</th>\n",
       "      <th>breed</th>\n",
       "    </tr>\n",
       "  </thead>\n",
       "  <tbody>\n",
       "    <tr>\n",
       "      <th>0</th>\n",
       "      <td>892177421306343426</td>\n",
       "      <td>0</td>\n",
       "      <td>0</td>\n",
       "      <td>2017-08-01 00:17:27+00:00</td>\n",
       "      <td>Twitter for iPhone</td>\n",
       "      <td>This is Tilly. She's just checking pup on you. Hopes you're doing ok. If not, she's available for pats, snugs, boops, the whole bit. 13/10 https://t.co/0Xxu71qeIV</td>\n",
       "      <td>https://twitter.com/dog_rates/status/892177421306343426/photo/1</td>\n",
       "      <td>13.0</td>\n",
       "      <td>10</td>\n",
       "      <td>Tilly</td>\n",
       "      <td>NaN</td>\n",
       "      <td>NaN</td>\n",
       "      <td>NaN</td>\n",
       "      <td>NaN</td>\n",
       "      <td>0</td>\n",
       "      <td>NaN</td>\n",
       "      <td>6514</td>\n",
       "      <td>33819</td>\n",
       "      <td>chihuahua</td>\n",
       "    </tr>\n",
       "  </tbody>\n",
       "</table>\n",
       "</div>"
      ],
      "text/plain": [
       "             tweet_id  in_reply_to_status_id  in_reply_to_user_id  \\\n",
       "0  892177421306343426                      0                    0   \n",
       "\n",
       "                  timestamp              source  \\\n",
       "0 2017-08-01 00:17:27+00:00  Twitter for iPhone   \n",
       "\n",
       "                                                                                                                                                                 text  \\\n",
       "0  This is Tilly. She's just checking pup on you. Hopes you're doing ok. If not, she's available for pats, snugs, boops, the whole bit. 13/10 https://t.co/0Xxu71qeIV   \n",
       "\n",
       "                                                     expanded_urls  \\\n",
       "0  https://twitter.com/dog_rates/status/892177421306343426/photo/1   \n",
       "\n",
       "   rating_numerator  rating_denominator   name doggo floofer pupper puppo  \\\n",
       "0              13.0                  10  Tilly   NaN     NaN    NaN   NaN   \n",
       "\n",
       "   counter stage  retweet_count  favorite_count      breed  \n",
       "0        0   NaN           6514           33819  chihuahua  "
      ]
     },
     "execution_count": 2383,
     "metadata": {},
     "output_type": "execute_result"
    }
   ],
   "source": [
    "# archive\n",
    "archive_clean.info()\n",
    "archive_clean.head(1)"
   ]
  },
  {
   "cell_type": "code",
   "execution_count": 2384,
   "metadata": {},
   "outputs": [],
   "source": [
    "archive_clean.drop(columns= ['doggo','floofer','pupper','puppo','counter'], inplace=True)"
   ]
  },
  {
   "cell_type": "markdown",
   "metadata": {},
   "source": [
    "---"
   ]
  },
  {
   "cell_type": "markdown",
   "metadata": {},
   "source": [
    "# 4. Storing Data"
   ]
  },
  {
   "cell_type": "code",
   "execution_count": 2385,
   "metadata": {},
   "outputs": [],
   "source": [
    "archive_clean.to_csv('archive_master.csv', encoding='utf-8',index=False)"
   ]
  },
  {
   "cell_type": "markdown",
   "metadata": {},
   "source": [
    "---"
   ]
  },
  {
   "cell_type": "markdown",
   "metadata": {},
   "source": [
    "# 5. Analyzing Data"
   ]
  },
  {
   "cell_type": "code",
   "execution_count": 2386,
   "metadata": {},
   "outputs": [],
   "source": [
    "df = archive_clean.copy()"
   ]
  },
  {
   "cell_type": "markdown",
   "metadata": {},
   "source": [
    "### Question 1: What is WeRateDog's posting trend by month?"
   ]
  },
  {
   "cell_type": "code",
   "execution_count": 2387,
   "metadata": {},
   "outputs": [
    {
     "name": "stderr",
     "output_type": "stream",
     "text": [
      "/var/folders/vd/qsmzl1mx1p501xhk4zp5x8x40000gn/T/ipykernel_65976/203247301.py:2: UserWarning: Converting to PeriodArray/Index representation will drop timezone information.\n",
      "  monthly_tweet_counts = archive_clean.groupby(archive_clean['timestamp'].dt.to_period('M'))['tweet_id'].count()\n"
     ]
    }
   ],
   "source": [
    "# Group by timestamp M/Y and count tweet_id\n",
    "monthly_tweet_counts = archive_clean.groupby(archive_clean['timestamp'].dt.to_period('M'))['tweet_id'].count()"
   ]
  },
  {
   "cell_type": "code",
   "execution_count": 2388,
   "metadata": {},
   "outputs": [
    {
     "data": {
      "text/plain": [
       "Text(0, 0.5, 'Number of posts')"
      ]
     },
     "execution_count": 2388,
     "metadata": {},
     "output_type": "execute_result"
    },
    {
     "data": {
      "image/png": "[encoded data removed]",
      "text/plain": [
       "<Figure size 640x480 with 1 Axes>"
      ]
     },
     "metadata": {},
     "output_type": "display_data"
    }
   ],
   "source": [
    "monthly_tweet_counts.plot()\n",
    "plt.title('# Tweet posts by Month')\n",
    "plt.xlabel('Month')\n",
    "plt.ylabel('Number of posts')"
   ]
  },
  {
   "cell_type": "markdown",
   "metadata": {},
   "source": [
    "=> **The number of posts of this account has significantly decreased since the account was first started**"
   ]
  },
  {
   "cell_type": "markdown",
   "metadata": {},
   "source": [
    "### Question 2: What is the monthly trend of interactions with We Rate Dogs' posts?"
   ]
  },
  {
   "cell_type": "markdown",
   "metadata": {},
   "source": [
    "I define \"interactions\" = total retweets + favorites."
   ]
  },
  {
   "cell_type": "code",
   "execution_count": 2389,
   "metadata": {},
   "outputs": [
    {
     "name": "stderr",
     "output_type": "stream",
     "text": [
      "/var/folders/vd/qsmzl1mx1p501xhk4zp5x8x40000gn/T/ipykernel_65976/2966691573.py:5: UserWarning: Converting to PeriodArray/Index representation will drop timezone information.\n",
      "  monthly_interaction_mean = archive_clean.groupby(archive_clean['timestamp'].dt.to_period('M'))['interactions'].mean()\n"
     ]
    }
   ],
   "source": [
    "# Create new columns to sum the total interactions\n",
    "archive_clean['interactions'] = archive_clean['retweet_count'] + archive_clean['favorite_count']\n",
    "\n",
    "# Same as question 1, count -> mean\n",
    "monthly_interaction_mean = archive_clean.groupby(archive_clean['timestamp'].dt.to_period('M'))['interactions'].mean()"
   ]
  },
  {
   "cell_type": "code",
   "execution_count": 2390,
   "metadata": {},
   "outputs": [
    {
     "data": {
      "text/plain": [
       "Text(0, 0.5, 'Interactions')"
      ]
     },
     "execution_count": 2390,
     "metadata": {},
     "output_type": "execute_result"
    },
    {
     "data": {
      "image/png": "[encoded data removed]",
      "text/plain": [
       "<Figure size 640x480 with 1 Axes>"
      ]
     },
     "metadata": {},
     "output_type": "display_data"
    }
   ],
   "source": [
    "monthly_interaction_mean.plot()\n",
    "plt.title('Average interaction per tweet by Month')\n",
    "plt.xlabel('Month')\n",
    "plt.ylabel('Interactions')"
   ]
  },
  {
   "cell_type": "markdown",
   "metadata": {},
   "source": [
    "=> **The interaction with WeRateDogs' posts has increased 7 times since the account was started**"
   ]
  },
  {
   "cell_type": "markdown",
   "metadata": {},
   "source": [
    "### Question 3: What are the most popular dog breeds based on (1) number of posts, (2) interactions by Twitter users, and (3) ratings?"
   ]
  },
  {
   "cell_type": "markdown",
   "metadata": {},
   "source": [
    "(1) Number of tweets"
   ]
  },
  {
   "cell_type": "code",
   "execution_count": 2391,
   "metadata": {},
   "outputs": [
    {
     "data": {
      "text/plain": [
       "Text(0, 0.5, 'Breed')"
      ]
     },
     "execution_count": 2391,
     "metadata": {},
     "output_type": "execute_result"
    },
    {
     "data": {
      "image/png": "[encoded data removed]",
      "text/plain": [
       "<Figure size 640x480 with 1 Axes>"
      ]
     },
     "metadata": {},
     "output_type": "display_data"
    }
   ],
   "source": [
    "top10_dog = archive_clean['breed'].value_counts().head(10)\n",
    "\n",
    "sb.countplot(data=archive_clean, y='breed',order=top10_dog.index)\n",
    "plt.title('Most Popular Dog Breeds by Tweet Count')\n",
    "plt.xlabel('Number of Tweets')\n",
    "plt.ylabel('Breed')\n"
   ]
  },
  {
   "cell_type": "code",
   "execution_count": 2392,
   "metadata": {},
   "outputs": [
    {
     "data": {
      "text/plain": [
       "breed\n",
       "golden_retriever      0.093496\n",
       "labrador_retriever    0.064363\n",
       "pembroke              0.059621\n",
       "chihuahua             0.053523\n",
       "pug                   0.036585\n",
       "Name: proportion, dtype: float64"
      ]
     },
     "execution_count": 2392,
     "metadata": {},
     "output_type": "execute_result"
    }
   ],
   "source": [
    "archive_clean['breed'].value_counts(normalize=True).head(5)"
   ]
  },
  {
   "cell_type": "markdown",
   "metadata": {},
   "source": [
    "=> **Golden retrievers are by far the most commonly rated breed, followed by labrador, pembrokes and chihuahua**\n",
    "\n",
    "(2) Interactions"
   ]
  },
  {
   "cell_type": "code",
   "execution_count": 2393,
   "metadata": {},
   "outputs": [
    {
     "data": {
      "text/html": [
       "<div>\n",
       "<style scoped>\n",
       "    .dataframe tbody tr th:only-of-type {\n",
       "        vertical-align: middle;\n",
       "    }\n",
       "\n",
       "    .dataframe tbody tr th {\n",
       "        vertical-align: top;\n",
       "    }\n",
       "\n",
       "    .dataframe thead th {\n",
       "        text-align: right;\n",
       "    }\n",
       "</style>\n",
       "<table border=\"1\" class=\"dataframe\">\n",
       "  <thead>\n",
       "    <tr style=\"text-align: right;\">\n",
       "      <th></th>\n",
       "      <th>tweet_id</th>\n",
       "      <th>in_reply_to_status_id</th>\n",
       "      <th>in_reply_to_user_id</th>\n",
       "      <th>timestamp</th>\n",
       "      <th>source</th>\n",
       "      <th>text</th>\n",
       "      <th>expanded_urls</th>\n",
       "      <th>rating_numerator</th>\n",
       "      <th>rating_denominator</th>\n",
       "      <th>name</th>\n",
       "      <th>stage</th>\n",
       "      <th>retweet_count</th>\n",
       "      <th>favorite_count</th>\n",
       "      <th>breed</th>\n",
       "      <th>interactions</th>\n",
       "    </tr>\n",
       "  </thead>\n",
       "  <tbody>\n",
       "    <tr>\n",
       "      <th>0</th>\n",
       "      <td>892177421306343426</td>\n",
       "      <td>0</td>\n",
       "      <td>0</td>\n",
       "      <td>2017-08-01 00:17:27+00:00</td>\n",
       "      <td>Twitter for iPhone</td>\n",
       "      <td>This is Tilly. She's just checking pup on you. Hopes you're doing ok. If not, she's available for pats, snugs, boops, the whole bit. 13/10 https://t.co/0Xxu71qeIV</td>\n",
       "      <td>https://twitter.com/dog_rates/status/892177421306343426/photo/1</td>\n",
       "      <td>13.0</td>\n",
       "      <td>10</td>\n",
       "      <td>Tilly</td>\n",
       "      <td>NaN</td>\n",
       "      <td>6514</td>\n",
       "      <td>33819</td>\n",
       "      <td>chihuahua</td>\n",
       "      <td>40333</td>\n",
       "    </tr>\n",
       "  </tbody>\n",
       "</table>\n",
       "</div>"
      ],
      "text/plain": [
       "             tweet_id  in_reply_to_status_id  in_reply_to_user_id  \\\n",
       "0  892177421306343426                      0                    0   \n",
       "\n",
       "                  timestamp              source  \\\n",
       "0 2017-08-01 00:17:27+00:00  Twitter for iPhone   \n",
       "\n",
       "                                                                                                                                                                 text  \\\n",
       "0  This is Tilly. She's just checking pup on you. Hopes you're doing ok. If not, she's available for pats, snugs, boops, the whole bit. 13/10 https://t.co/0Xxu71qeIV   \n",
       "\n",
       "                                                     expanded_urls  \\\n",
       "0  https://twitter.com/dog_rates/status/892177421306343426/photo/1   \n",
       "\n",
       "   rating_numerator  rating_denominator   name stage  retweet_count  \\\n",
       "0              13.0                  10  Tilly   NaN           6514   \n",
       "\n",
       "   favorite_count      breed  interactions  \n",
       "0           33819  chihuahua         40333  "
      ]
     },
     "execution_count": 2393,
     "metadata": {},
     "output_type": "execute_result"
    }
   ],
   "source": [
    "archive_clean.head(1)"
   ]
  },
  {
   "cell_type": "code",
   "execution_count": 2394,
   "metadata": {},
   "outputs": [
    {
     "data": {
      "text/plain": [
       "Text(0, 0.5, 'Breed')"
      ]
     },
     "execution_count": 2394,
     "metadata": {},
     "output_type": "execute_result"
    },
    {
     "data": {
      "image/png": "[encoded data removed]",
      "text/plain": [
       "<Figure size 640x480 with 1 Axes>"
      ]
     },
     "metadata": {},
     "output_type": "display_data"
    }
   ],
   "source": [
    "top_interaction_by_breed = pd.DataFrame(archive_clean.groupby(archive_clean['breed'])['interactions'].mean().sort_values(ascending=False).head(10))\n",
    "sb.barplot(data=top_interaction_by_breed,x='interactions',y='breed')\n",
    "plt.title('Most Popular Dog Breed by Average Interactions')\n",
    "plt.xlabel('Interactions')\n",
    "plt.ylabel('Breed')"
   ]
  },
  {
   "cell_type": "markdown",
   "metadata": {},
   "source": [
    "=> **Saluki, afghan hound and french bulldog are breeds that often received highest number of interactions on average**\n",
    "\n",
    "(3) Ratings"
   ]
  },
  {
   "cell_type": "code",
   "execution_count": 2395,
   "metadata": {},
   "outputs": [
    {
     "data": {
      "text/plain": [
       "0"
      ]
     },
     "execution_count": 2395,
     "metadata": {},
     "output_type": "execute_result"
    },
    {
     "data": {
      "image/png": "[encoded data removed]",
      "text/plain": [
       "<Figure size 640x480 with 1 Axes>"
      ]
     },
     "metadata": {},
     "output_type": "display_data"
    }
   ],
   "source": [
    "# Calculate ratings, and check if there is any outlier\n",
    "archive_clean['ratings'] = archive_clean['rating_numerator']/archive_clean['rating_denominator']\n",
    "plt.hist(data=archive_clean,x='ratings')\n",
    "plt.title('Rating Histogram')\n",
    "plt.xlabel('Rating')\n",
    "\n",
    "sum(archive_clean['ratings'] > 10)"
   ]
  },
  {
   "cell_type": "code",
   "execution_count": 2396,
   "metadata": {},
   "outputs": [
    {
     "data": {
      "image/png": "[encoded data removed]",
      "text/plain": [
       "<Figure size 640x480 with 1 Axes>"
      ]
     },
     "metadata": {},
     "output_type": "display_data"
    }
   ],
   "source": [
    "# No outliers -> analyze through the same process\n",
    "top_ratings_by_breed = pd.DataFrame(archive_clean.groupby('breed')['ratings'].mean().sort_values(ascending=False).head(10))\n",
    "sb.barplot(data=top_ratings_by_breed,x='ratings',y='breed')\n",
    "plt.title('Most Popular Dog Breeds by Average Ratings')\n",
    "plt.xlabel('Average Ratings')\n",
    "plt.ylabel('Breed');"
   ]
  },
  {
   "cell_type": "markdown",
   "metadata": {},
   "source": [
    "=> **Not much different between the top 10 dog breeds by average ratings, which brings me to the 4th questions:**\n",
    "\n",
    "### Question 4: Is there any correlation between ratings and interactions?"
   ]
  },
  {
   "cell_type": "code",
   "execution_count": 2397,
   "metadata": {},
   "outputs": [
    {
     "data": {
      "image/png": "[encoded data removed]",
      "text/plain": [
       "<Figure size 640x480 with 1 Axes>"
      ]
     },
     "metadata": {},
     "output_type": "display_data"
    }
   ],
   "source": [
    "# Create another df for full mean of interactions and ratings by breed\n",
    "int_and_rat_by_breed = pd.DataFrame(archive_clean.groupby(archive_clean['breed'])[['interactions','ratings']].mean())\n",
    "\n",
    "# Plot x = interactions and y = ratings on a scatterplot to see if there's any correlation\n",
    "plt.scatter(int_and_rat_by_breed['ratings'],\n",
    "            int_and_rat_by_breed['interactions']\n",
    "            );\n",
    "plt.title('Average interactions vs. ratings by breed')\n",
    "plt.xlabel('Ratings')\n",
    "plt.ylabel('Interactions')\n",
    "plt.show()"
   ]
  },
  {
   "cell_type": "markdown",
   "metadata": {},
   "source": [
    "=> **There appears to be a positive correlation between these 2 variables. I check for Pearson correlation coefficient to see how strong this correlation**"
   ]
  },
  {
   "cell_type": "code",
   "execution_count": 2398,
   "metadata": {},
   "outputs": [
    {
     "data": {
      "text/plain": [
       "PearsonRResult(statistic=0.4829769526369525, pvalue=7.931961272217375e-08)"
      ]
     },
     "execution_count": 2398,
     "metadata": {},
     "output_type": "execute_result"
    }
   ],
   "source": [
    "pearsonr(int_and_rat_by_breed['ratings'],\n",
    "            int_and_rat_by_breed['interactions'])"
   ]
  },
  {
   "cell_type": "markdown",
   "metadata": {},
   "source": [
    "=> **r=0.48 -> the correlation is moderately positive, with the very low p-value (<<0.05) indicates that the correlation is statistically significant**"
   ]
  },
  {
   "cell_type": "markdown",
   "metadata": {},
   "source": [
    "---"
   ]
  },
  {
   "cell_type": "markdown",
   "metadata": {},
   "source": [
    "# 6. Conclusion\n",
    "\n",
    "A final report can be found [here](https://github.com/linhnp511/Data-Analytics-Portfolio/blob/master/Python/Projects/Twitter%20WeRateDogs%20Data%20Set/we_rate_dogs_report.ipynb)"
   ]
  }
 ],
 "metadata": {
  "kernelspec": {
   "display_name": "Python 3",
   "language": "python",
   "name": "python3"
  },
  "language_info": {
   "codemirror_mode": {
    "name": "ipython",
    "version": 3
   },
   "file_extension": ".py",
   "mimetype": "text/x-python",
   "name": "python",
   "nbconvert_exporter": "python",
   "pygments_lexer": "ipython3",
   "version": "3.9.6"
  },
  "orig_nbformat": 4
 },
 "nbformat": 4,
 "nbformat_minor": 2
}
